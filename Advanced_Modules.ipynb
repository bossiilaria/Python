{
 "cells": [
  {
   "cell_type": "markdown",
   "metadata": {},
   "source": [
    "Collections Modules"
   ]
  },
  {
   "cell_type": "markdown",
   "metadata": {},
   "source": [
    "The first object from the Collection Modules we will cover is the Counter"
   ]
  },
  {
   "cell_type": "code",
   "execution_count": 5,
   "metadata": {},
   "outputs": [],
   "source": [
    "#Let's have a list of numbers with a few repeats. Say you want to count how many times the same number appears.\n",
    "#You could do with a dictionary,\n",
    "#a for loop a counter that starts at zero etc. Counter already does all the work for you!\n",
    "from collections import Counter\n",
    "\n",
    "my_list = [1, 1, 1, 1, 2, 2, 2,3, 4, 4]"
   ]
  },
  {
   "cell_type": "code",
   "execution_count": 7,
   "metadata": {},
   "outputs": [
    {
     "data": {
      "text/plain": [
       "Counter({1: 4, 2: 3, 3: 1, 4: 2})"
      ]
     },
     "execution_count": 7,
     "metadata": {},
     "output_type": "execute_result"
    }
   ],
   "source": [
    "#With Counter you immediately see that 1 appears 4 times, 2 3 times, 3 1 time and 4 twotime\n",
    "Counter(my_list)\n",
    "\n"
   ]
  },
  {
   "cell_type": "code",
   "execution_count": 8,
   "metadata": {},
   "outputs": [],
   "source": [
    "#Counter works with strings too!\n",
    "st_list = ['Shiva', 'Vishnu', 'Shiva', 2, 2, 3, 3, 3]"
   ]
  },
  {
   "cell_type": "code",
   "execution_count": 9,
   "metadata": {},
   "outputs": [
    {
     "data": {
      "text/plain": [
       "Counter({'Shiva': 2, 'Vishnu': 1, 2: 2, 3: 3})"
      ]
     },
     "execution_count": 9,
     "metadata": {},
     "output_type": "execute_result"
    }
   ],
   "source": [
    "Counter(st_list)"
   ]
  },
  {
   "cell_type": "code",
   "execution_count": 16,
   "metadata": {},
   "outputs": [],
   "source": [
    "#Interestingly, if we assign a list to a variable then apply counter we get the same thing as above:\n",
    "one_string_list = [\"Shhhhhhiiiiiivvvvvaaa!\"]"
   ]
  },
  {
   "cell_type": "code",
   "execution_count": 17,
   "metadata": {},
   "outputs": [
    {
     "data": {
      "text/plain": [
       "Counter({'Shhhhhhiiiiiivvvvvaaa!': 1})"
      ]
     },
     "execution_count": 17,
     "metadata": {},
     "output_type": "execute_result"
    }
   ],
   "source": [
    "Counter(one_string_list)"
   ]
  },
  {
   "cell_type": "code",
   "execution_count": 18,
   "metadata": {},
   "outputs": [
    {
     "data": {
      "text/plain": [
       "Counter({'S': 1, 'h': 6, 'i': 6, 'v': 5, 'a': 3, '!': 1})"
      ]
     },
     "execution_count": 18,
     "metadata": {},
     "output_type": "execute_result"
    }
   ],
   "source": [
    "#If our intention instead is to count the letters in the string we need to pass in the string\n",
    "Counter(\"Shhhhhhiiiiiivvvvvaaa!\")"
   ]
  },
  {
   "cell_type": "code",
   "execution_count": 19,
   "metadata": {},
   "outputs": [],
   "source": [
    "#How about sentences?\n",
    "sentence = \"What if we fired a different neuron, thought a different thought, take a different action today, for a change???\""
   ]
  },
  {
   "cell_type": "code",
   "execution_count": 22,
   "metadata": {},
   "outputs": [],
   "source": [
    "#Let's split the sentence\n",
    "ss = sentence.split()"
   ]
  },
  {
   "cell_type": "code",
   "execution_count": 23,
   "metadata": {},
   "outputs": [
    {
     "data": {
      "text/plain": [
       "Counter({'What': 1,\n",
       "         'if': 1,\n",
       "         'we': 1,\n",
       "         'fired': 1,\n",
       "         'a': 4,\n",
       "         'different': 3,\n",
       "         'neuron,': 1,\n",
       "         'thought': 1,\n",
       "         'thought,': 1,\n",
       "         'take': 1,\n",
       "         'action': 1,\n",
       "         'today,': 1,\n",
       "         'for': 1,\n",
       "         'change???': 1})"
      ]
     },
     "execution_count": 23,
     "metadata": {},
     "output_type": "execute_result"
    }
   ],
   "source": [
    "#Since the above is a list, I can now aplly Counter to the list!\n",
    "Counter(ss)"
   ]
  },
  {
   "cell_type": "code",
   "execution_count": 24,
   "metadata": {},
   "outputs": [],
   "source": [
    "#There is a cool method we can use called most_common:\n",
    "c = Counter(\"Shhhhhhiiiiiivvvvvaaa!\")"
   ]
  },
  {
   "cell_type": "code",
   "execution_count": 26,
   "metadata": {},
   "outputs": [
    {
     "data": {
      "text/plain": [
       "[('h', 6), ('i', 6), ('v', 5), ('a', 3), ('S', 1), ('!', 1)]"
      ]
     },
     "execution_count": 26,
     "metadata": {},
     "output_type": "execute_result"
    }
   ],
   "source": [
    "c.most_common()"
   ]
  },
  {
   "cell_type": "code",
   "execution_count": 28,
   "metadata": {},
   "outputs": [
    {
     "data": {
      "text/plain": [
       "[('h', 6), ('i', 6), ('v', 5)]"
      ]
     },
     "execution_count": 28,
     "metadata": {},
     "output_type": "execute_result"
    }
   ],
   "source": [
    "#You can also ask for the three most common:\n",
    "c.most_common(3)"
   ]
  },
  {
   "cell_type": "code",
   "execution_count": 29,
   "metadata": {},
   "outputs": [
    {
     "data": {
      "text/plain": [
       "['S', 'h', 'i', 'v', 'a', '!']"
      ]
     },
     "execution_count": 29,
     "metadata": {},
     "output_type": "execute_result"
    }
   ],
   "source": [
    "list(c)"
   ]
  },
  {
   "cell_type": "markdown",
   "metadata": {},
   "source": [
    "The second object from Collections that we will be learning about today is the defaultdict"
   ]
  },
  {
   "cell_type": "code",
   "execution_count": 30,
   "metadata": {},
   "outputs": [],
   "source": [
    "from collections import defaultdict"
   ]
  },
  {
   "cell_type": "code",
   "execution_count": 31,
   "metadata": {},
   "outputs": [],
   "source": [
    "#Let's create a normal dictionary\n",
    "d = {'1': 'a'}"
   ]
  },
  {
   "cell_type": "code",
   "execution_count": 33,
   "metadata": {},
   "outputs": [
    {
     "data": {
      "text/plain": [
       "{'1': 'a'}"
      ]
     },
     "execution_count": 33,
     "metadata": {},
     "output_type": "execute_result"
    }
   ],
   "source": [
    "d"
   ]
  },
  {
   "cell_type": "code",
   "execution_count": 34,
   "metadata": {},
   "outputs": [
    {
     "data": {
      "text/plain": [
       "'a'"
      ]
     },
     "execution_count": 34,
     "metadata": {},
     "output_type": "execute_result"
    }
   ],
   "source": [
    "d['1']"
   ]
  },
  {
   "cell_type": "code",
   "execution_count": 35,
   "metadata": {},
   "outputs": [
    {
     "ename": "KeyError",
     "evalue": "'WRONG!'",
     "output_type": "error",
     "traceback": [
      "\u001b[1;31m---------------------------------------------------------------------------\u001b[0m",
      "\u001b[1;31mKeyError\u001b[0m                                  Traceback (most recent call last)",
      "\u001b[1;32m<ipython-input-35-2d8f0a6877e0>\u001b[0m in \u001b[0;36m<module>\u001b[1;34m\u001b[0m\n\u001b[0;32m      1\u001b[0m \u001b[1;31m#With a normal dictionary if I call the wrong key I get an error:\u001b[0m\u001b[1;33m\u001b[0m\u001b[1;33m\u001b[0m\u001b[1;33m\u001b[0m\u001b[0m\n\u001b[1;32m----> 2\u001b[1;33m \u001b[0md\u001b[0m\u001b[1;33m[\u001b[0m\u001b[1;34m'WRONG!'\u001b[0m\u001b[1;33m]\u001b[0m\u001b[1;33m\u001b[0m\u001b[1;33m\u001b[0m\u001b[0m\n\u001b[0m",
      "\u001b[1;31mKeyError\u001b[0m: 'WRONG!'"
     ]
    }
   ],
   "source": [
    "#With a normal dictionary if I call the wrong key I get an error:\n",
    "d['WRONG!']"
   ]
  },
  {
   "cell_type": "code",
   "execution_count": 36,
   "metadata": {},
   "outputs": [],
   "source": [
    "#With the defaultdict if we call from the wrong key we get a default value. We do that using the lambda expression\n",
    "d = defaultdict(lambda: 0)"
   ]
  },
  {
   "cell_type": "code",
   "execution_count": 37,
   "metadata": {},
   "outputs": [
    {
     "data": {
      "text/plain": [
       "0"
      ]
     },
     "execution_count": 37,
     "metadata": {},
     "output_type": "execute_result"
    }
   ],
   "source": [
    "d['WRONG!']"
   ]
  },
  {
   "cell_type": "code",
   "execution_count": 38,
   "metadata": {},
   "outputs": [
    {
     "data": {
      "text/plain": [
       "defaultdict(<function __main__.<lambda>()>, {'WRONG!': 0})"
      ]
     },
     "execution_count": 38,
     "metadata": {},
     "output_type": "execute_result"
    }
   ],
   "source": [
    "d"
   ]
  },
  {
   "cell_type": "markdown",
   "metadata": {},
   "source": [
    "The last object of the collections module is the named tuple"
   ]
  },
  {
   "cell_type": "code",
   "execution_count": 41,
   "metadata": {},
   "outputs": [],
   "source": [
    "my_tuple = (10, 20, 30)"
   ]
  },
  {
   "cell_type": "code",
   "execution_count": 46,
   "metadata": {},
   "outputs": [
    {
     "data": {
      "text/plain": [
       "10"
      ]
     },
     "execution_count": 46,
     "metadata": {},
     "output_type": "execute_result"
    }
   ],
   "source": [
    "my_tuple[0]"
   ]
  },
  {
   "cell_type": "code",
   "execution_count": 47,
   "metadata": {},
   "outputs": [],
   "source": [
    "#What if I have a very large tuple?\n",
    "from collections import namedtuple"
   ]
  },
  {
   "cell_type": "code",
   "execution_count": 64,
   "metadata": {},
   "outputs": [],
   "source": [
    "#Now if Shiva was infitely long it would be nice o access it's value quickly using keys and indexes. For example let's create a God!\n",
    "God = namedtuple('God', ['age', 'country', 'name'])"
   ]
  },
  {
   "cell_type": "code",
   "execution_count": 65,
   "metadata": {},
   "outputs": [],
   "source": [
    "Shiva = God(age = 5000, country = 'India', name = 'Shiva')"
   ]
  },
  {
   "cell_type": "code",
   "execution_count": 66,
   "metadata": {},
   "outputs": [
    {
     "data": {
      "text/plain": [
       "__main__.God"
      ]
     },
     "execution_count": 66,
     "metadata": {},
     "output_type": "execute_result"
    }
   ],
   "source": [
    "type(Shiva)"
   ]
  },
  {
   "cell_type": "code",
   "execution_count": 67,
   "metadata": {},
   "outputs": [
    {
     "data": {
      "text/plain": [
       "God(age=5000, country='India', name='Shiva')"
      ]
     },
     "execution_count": 67,
     "metadata": {},
     "output_type": "execute_result"
    }
   ],
   "source": [
    "Shiva"
   ]
  },
  {
   "cell_type": "code",
   "execution_count": 68,
   "metadata": {},
   "outputs": [
    {
     "data": {
      "text/plain": [
       "5000"
      ]
     },
     "execution_count": 68,
     "metadata": {},
     "output_type": "execute_result"
    }
   ],
   "source": [
    "Shiva.age"
   ]
  },
  {
   "cell_type": "code",
   "execution_count": 69,
   "metadata": {},
   "outputs": [
    {
     "data": {
      "text/plain": [
       "'India'"
      ]
     },
     "execution_count": 69,
     "metadata": {},
     "output_type": "execute_result"
    }
   ],
   "source": [
    "Shiva.country"
   ]
  },
  {
   "cell_type": "code",
   "execution_count": 70,
   "metadata": {},
   "outputs": [
    {
     "data": {
      "text/plain": [
       "5000"
      ]
     },
     "execution_count": 70,
     "metadata": {},
     "output_type": "execute_result"
    }
   ],
   "source": [
    "Shiva[0]"
   ]
  },
  {
   "cell_type": "markdown",
   "metadata": {},
   "source": [
    "Next let's learn how to navigate directories, open files and write into these files "
   ]
  },
  {
   "cell_type": "code",
   "execution_count": 5,
   "metadata": {},
   "outputs": [
    {
     "ename": "NameError",
     "evalue": "name 'pwd' is not defined",
     "output_type": "error",
     "traceback": [
      "\u001b[1;31m---------------------------------------------------------------------------\u001b[0m",
      "\u001b[1;31mNameError\u001b[0m                                 Traceback (most recent call last)",
      "\u001b[1;32m<ipython-input-5-828e79f1d74c>\u001b[0m in \u001b[0;36m<module>\u001b[1;34m\u001b[0m\n\u001b[0;32m      1\u001b[0m \u001b[1;31m#one way to see where you are if you are in a Jupyter notebook is by typing pwd -\u001b[0m\u001b[1;33m\u001b[0m\u001b[1;33m\u001b[0m\u001b[1;33m\u001b[0m\u001b[0m\n\u001b[0;32m      2\u001b[0m \u001b[1;31m#not sure why sometimes it work, others it doesn't\u001b[0m\u001b[1;33m\u001b[0m\u001b[1;33m\u001b[0m\u001b[1;33m\u001b[0m\u001b[0m\n\u001b[1;32m----> 3\u001b[1;33m \u001b[0mpwd\u001b[0m\u001b[1;33m\u001b[0m\u001b[1;33m\u001b[0m\u001b[0m\n\u001b[0m",
      "\u001b[1;31mNameError\u001b[0m: name 'pwd' is not defined"
     ]
    }
   ],
   "source": [
    "#one way to see where you are if you are in a Jupyter notebook is by typing pwd -\n",
    "#not sure why sometimes it work, others it doesn't\n",
    "pwd"
   ]
  },
  {
   "cell_type": "code",
   "execution_count": 3,
   "metadata": {},
   "outputs": [
    {
     "data": {
      "text/plain": [
       "'C:\\\\Users\\\\i.b.ossi\\\\Python'"
      ]
     },
     "execution_count": 3,
     "metadata": {},
     "output_type": "execute_result"
    }
   ],
   "source": [
    "#one way to see where you are if you are in a Jupyter notebook is by typing \n",
    "pwd"
   ]
  },
  {
   "cell_type": "code",
   "execution_count": 6,
   "metadata": {},
   "outputs": [],
   "source": [
    "#Now let's create a test file\n",
    "f = open('practice.text', 'w+')\n",
    "f.write('This is a test string')\n",
    "f.close()"
   ]
  },
  {
   "cell_type": "code",
   "execution_count": 7,
   "metadata": {},
   "outputs": [],
   "source": [
    "#The OS module allows us to see all the files in a directory, navigate directories and perform other operations on the files\n",
    "#First we need to import it\n",
    "import os"
   ]
  },
  {
   "cell_type": "code",
   "execution_count": 8,
   "metadata": {},
   "outputs": [
    {
     "data": {
      "text/plain": [
       "'C:\\\\Users\\\\i.b.ossi\\\\Python'"
      ]
     },
     "execution_count": 8,
     "metadata": {},
     "output_type": "execute_result"
    }
   ],
   "source": [
    "#To see my current directory use\n",
    "os.getcwd()"
   ]
  },
  {
   "cell_type": "code",
   "execution_count": 9,
   "metadata": {},
   "outputs": [
    {
     "data": {
      "text/plain": [
       "['.git',\n",
       " '.ipynb_checkpoints',\n",
       " 'BlackJack.ipynb',\n",
       " 'Dataclasses.ipynb',\n",
       " 'Decorators.ipynb',\n",
       " 'Error_And_Exception_Handling.ipynb',\n",
       " 'Generators.ipynb',\n",
       " 'Methods_Functions.ipynb',\n",
       " 'Modules.ipynb',\n",
       " 'Modules_And_Packages.ipynb',\n",
       " 'ObjectOrientedProgramming(OOP).ipynb',\n",
       " 'practice.text',\n",
       " 'Python_Bootcamp_Functions_Challenging_Problems.ipynb',\n",
       " 'Python_Bootcamp_Functions_Level2_Problems.ipynb',\n",
       " 'README.md',\n",
       " 'testfile',\n",
       " 'TicTacToe_Board.ipynb']"
      ]
     },
     "execution_count": 9,
     "metadata": {},
     "output_type": "execute_result"
    }
   ],
   "source": [
    "#What if I want to list items in a directory?\n",
    "os.listdir()"
   ]
  },
  {
   "cell_type": "code",
   "execution_count": 11,
   "metadata": {},
   "outputs": [
    {
     "data": {
      "text/plain": [
       "['.conda',\n",
       " '.condarc',\n",
       " '.config',\n",
       " '.gitconfig',\n",
       " '.ipython',\n",
       " '.jupyter',\n",
       " '.octave_hist',\n",
       " '.pylint.d',\n",
       " '.python_history',\n",
       " '.ssh',\n",
       " '.viminfo',\n",
       " '3D Objects',\n",
       " 'Anaconda3',\n",
       " 'AppData',\n",
       " 'Application Data',\n",
       " 'Contacts',\n",
       " 'Cookies',\n",
       " 'Default Directory',\n",
       " 'Desktop',\n",
       " 'Documents',\n",
       " 'Downloads',\n",
       " 'Favorites',\n",
       " 'Intel',\n",
       " 'IntelGraphicsProfiles',\n",
       " 'Links',\n",
       " 'Local Settings',\n",
       " 'MicrosoftEdgeBackups',\n",
       " 'Music',\n",
       " 'My Documents',\n",
       " 'NetHood',\n",
       " 'NTUSER.DAT',\n",
       " 'ntuser.dat.LOG1',\n",
       " 'ntuser.dat.LOG2',\n",
       " 'NTUSER.DAT{fba28adf-025b-11ea-af40-ef2d855a0e05}.TM.blf',\n",
       " 'NTUSER.DAT{fba28adf-025b-11ea-af40-ef2d855a0e05}.TMContainer00000000000000000001.regtrans-ms',\n",
       " 'NTUSER.DAT{fba28adf-025b-11ea-af40-ef2d855a0e05}.TMContainer00000000000000000002.regtrans-ms',\n",
       " 'ntuser.ini',\n",
       " 'ntuser.pol',\n",
       " 'OneDrive',\n",
       " 'OneDrive - Default Directory',\n",
       " 'Pictures',\n",
       " 'PrintHood',\n",
       " 'Python',\n",
       " 'Recent',\n",
       " 'Roaming',\n",
       " 'Saved Games',\n",
       " 'Searches',\n",
       " 'SendTo',\n",
       " 'Start Menu',\n",
       " 'Templates',\n",
       " 'Videos']"
      ]
     },
     "execution_count": 11,
     "metadata": {},
     "output_type": "execute_result"
    }
   ],
   "source": [
    "#I can also check out what's in other directories\n",
    "os.listdir('C:\\\\Users\\\\i.b.ossi\\\\')"
   ]
  },
  {
   "cell_type": "code",
   "execution_count": 27,
   "metadata": {},
   "outputs": [],
   "source": [
    "#This is really cool! \n",
    "#Now let's see how to move files around\n",
    "import shutil"
   ]
  },
  {
   "cell_type": "code",
   "execution_count": null,
   "metadata": {},
   "outputs": [],
   "source": []
  },
  {
   "cell_type": "code",
   "execution_count": 18,
   "metadata": {},
   "outputs": [
    {
     "data": {
      "text/plain": [
       "'C:\\\\Users\\\\i.b.ossi\\\\Python'"
      ]
     },
     "execution_count": 18,
     "metadata": {},
     "output_type": "execute_result"
    }
   ],
   "source": [
    "pwd"
   ]
  },
  {
   "cell_type": "code",
   "execution_count": 19,
   "metadata": {},
   "outputs": [
    {
     "data": {
      "text/plain": [
       "['.git',\n",
       " '.ipynb_checkpoints',\n",
       " 'BlackJack.ipynb',\n",
       " 'Dataclasses.ipynb',\n",
       " 'Decorators.ipynb',\n",
       " 'Error_And_Exception_Handling.ipynb',\n",
       " 'Generators.ipynb',\n",
       " 'Methods_Functions.ipynb',\n",
       " 'Modules.ipynb',\n",
       " 'Modules_And_Packages.ipynb',\n",
       " 'ObjectOrientedProgramming(OOP).ipynb',\n",
       " 'practice.text',\n",
       " 'Python_Bootcamp_Functions_Challenging_Problems.ipynb',\n",
       " 'Python_Bootcamp_Functions_Level2_Problems.ipynb',\n",
       " 'README.md',\n",
       " 'testfile',\n",
       " 'TicTacToe_Board.ipynb']"
      ]
     },
     "execution_count": 19,
     "metadata": {},
     "output_type": "execute_result"
    }
   ],
   "source": [
    "os.listdir('C:\\\\Users\\\\i.b.ossi\\\\Python')"
   ]
  },
  {
   "cell_type": "code",
   "execution_count": 33,
   "metadata": {},
   "outputs": [
    {
     "data": {
      "text/plain": [
       "'C:\\\\Users\\\\i.b.ossi\\\\Python'"
      ]
     },
     "execution_count": 33,
     "metadata": {},
     "output_type": "execute_result"
    }
   ],
   "source": [
    "pwd\n"
   ]
  },
  {
   "cell_type": "code",
   "execution_count": 43,
   "metadata": {},
   "outputs": [
    {
     "data": {
      "text/plain": [
       "['.conda',\n",
       " '.condarc',\n",
       " '.config',\n",
       " '.gitconfig',\n",
       " '.ipython',\n",
       " '.jupyter',\n",
       " '.octave_hist',\n",
       " '.pylint.d',\n",
       " '.python_history',\n",
       " '.ssh',\n",
       " '.viminfo',\n",
       " '3D Objects',\n",
       " 'Anaconda3',\n",
       " 'AppData',\n",
       " 'Application Data',\n",
       " 'Contacts',\n",
       " 'Cookies',\n",
       " 'Default Directory',\n",
       " 'Desktop',\n",
       " 'Documents',\n",
       " 'Downloads',\n",
       " 'Favorites',\n",
       " 'Intel',\n",
       " 'IntelGraphicsProfiles',\n",
       " 'Links',\n",
       " 'Local Settings',\n",
       " 'MicrosoftEdgeBackups',\n",
       " 'Music',\n",
       " 'My Documents',\n",
       " 'NetHood',\n",
       " 'NTUSER.DAT',\n",
       " 'ntuser.dat.LOG1',\n",
       " 'ntuser.dat.LOG2',\n",
       " 'NTUSER.DAT{fba28adf-025b-11ea-af40-ef2d855a0e05}.TM.blf',\n",
       " 'NTUSER.DAT{fba28adf-025b-11ea-af40-ef2d855a0e05}.TMContainer00000000000000000001.regtrans-ms',\n",
       " 'NTUSER.DAT{fba28adf-025b-11ea-af40-ef2d855a0e05}.TMContainer00000000000000000002.regtrans-ms',\n",
       " 'ntuser.ini',\n",
       " 'ntuser.pol',\n",
       " 'OneDrive',\n",
       " 'OneDrive - Default Directory',\n",
       " 'Pictures',\n",
       " 'practice.text',\n",
       " 'PrintHood',\n",
       " 'Python',\n",
       " 'Recent',\n",
       " 'Roaming',\n",
       " 'Saved Games',\n",
       " 'Searches',\n",
       " 'SendTo',\n",
       " 'Start Menu',\n",
       " 'Templates',\n",
       " 'Videos']"
      ]
     },
     "execution_count": 43,
     "metadata": {},
     "output_type": "execute_result"
    }
   ],
   "source": [
    "os.listdir('C:\\\\Users\\\\i.b.ossi\\\\')"
   ]
  },
  {
   "cell_type": "code",
   "execution_count": 45,
   "metadata": {},
   "outputs": [
    {
     "ename": "FileNotFoundError",
     "evalue": "[Errno 2] No such file or directory: 'practice.text'",
     "output_type": "error",
     "traceback": [
      "\u001b[1;31m---------------------------------------------------------------------------\u001b[0m",
      "\u001b[1;31mFileNotFoundError\u001b[0m                         Traceback (most recent call last)",
      "\u001b[1;32m~\\Anaconda3\\lib\\shutil.py\u001b[0m in \u001b[0;36mmove\u001b[1;34m(src, dst, copy_function)\u001b[0m\n\u001b[0;32m    787\u001b[0m     \u001b[1;32mtry\u001b[0m\u001b[1;33m:\u001b[0m\u001b[1;33m\u001b[0m\u001b[1;33m\u001b[0m\u001b[0m\n\u001b[1;32m--> 788\u001b[1;33m         \u001b[0mos\u001b[0m\u001b[1;33m.\u001b[0m\u001b[0mrename\u001b[0m\u001b[1;33m(\u001b[0m\u001b[0msrc\u001b[0m\u001b[1;33m,\u001b[0m \u001b[0mreal_dst\u001b[0m\u001b[1;33m)\u001b[0m\u001b[1;33m\u001b[0m\u001b[1;33m\u001b[0m\u001b[0m\n\u001b[0m\u001b[0;32m    789\u001b[0m     \u001b[1;32mexcept\u001b[0m \u001b[0mOSError\u001b[0m\u001b[1;33m:\u001b[0m\u001b[1;33m\u001b[0m\u001b[1;33m\u001b[0m\u001b[0m\n",
      "\u001b[1;31mFileNotFoundError\u001b[0m: [WinError 2] The system cannot find the file specified: 'practice.text' -> 'C:\\\\Users\\\\practice.text'",
      "\nDuring handling of the above exception, another exception occurred:\n",
      "\u001b[1;31mFileNotFoundError\u001b[0m                         Traceback (most recent call last)",
      "\u001b[1;32m<ipython-input-45-9697c4340653>\u001b[0m in \u001b[0;36m<module>\u001b[1;34m\u001b[0m\n\u001b[0;32m      1\u001b[0m \u001b[1;31m#I am now moving my practice file to the Users directory\u001b[0m\u001b[1;33m\u001b[0m\u001b[1;33m\u001b[0m\u001b[1;33m\u001b[0m\u001b[0m\n\u001b[1;32m----> 2\u001b[1;33m \u001b[0mshutil\u001b[0m\u001b[1;33m.\u001b[0m\u001b[0mmove\u001b[0m\u001b[1;33m(\u001b[0m\u001b[1;34m'practice.text'\u001b[0m\u001b[1;33m,\u001b[0m \u001b[1;34m'C:\\\\Users'\u001b[0m\u001b[1;33m)\u001b[0m\u001b[1;33m\u001b[0m\u001b[1;33m\u001b[0m\u001b[0m\n\u001b[0m",
      "\u001b[1;32m~\\Anaconda3\\lib\\shutil.py\u001b[0m in \u001b[0;36mmove\u001b[1;34m(src, dst, copy_function)\u001b[0m\n\u001b[0;32m    800\u001b[0m             \u001b[0mrmtree\u001b[0m\u001b[1;33m(\u001b[0m\u001b[0msrc\u001b[0m\u001b[1;33m)\u001b[0m\u001b[1;33m\u001b[0m\u001b[1;33m\u001b[0m\u001b[0m\n\u001b[0;32m    801\u001b[0m         \u001b[1;32melse\u001b[0m\u001b[1;33m:\u001b[0m\u001b[1;33m\u001b[0m\u001b[1;33m\u001b[0m\u001b[0m\n\u001b[1;32m--> 802\u001b[1;33m             \u001b[0mcopy_function\u001b[0m\u001b[1;33m(\u001b[0m\u001b[0msrc\u001b[0m\u001b[1;33m,\u001b[0m \u001b[0mreal_dst\u001b[0m\u001b[1;33m)\u001b[0m\u001b[1;33m\u001b[0m\u001b[1;33m\u001b[0m\u001b[0m\n\u001b[0m\u001b[0;32m    803\u001b[0m             \u001b[0mos\u001b[0m\u001b[1;33m.\u001b[0m\u001b[0munlink\u001b[0m\u001b[1;33m(\u001b[0m\u001b[0msrc\u001b[0m\u001b[1;33m)\u001b[0m\u001b[1;33m\u001b[0m\u001b[1;33m\u001b[0m\u001b[0m\n\u001b[0;32m    804\u001b[0m     \u001b[1;32mreturn\u001b[0m \u001b[0mreal_dst\u001b[0m\u001b[1;33m\u001b[0m\u001b[1;33m\u001b[0m\u001b[0m\n",
      "\u001b[1;32m~\\Anaconda3\\lib\\shutil.py\u001b[0m in \u001b[0;36mcopy2\u001b[1;34m(src, dst, follow_symlinks)\u001b[0m\n\u001b[0;32m    430\u001b[0m     \u001b[1;32mif\u001b[0m \u001b[0mos\u001b[0m\u001b[1;33m.\u001b[0m\u001b[0mpath\u001b[0m\u001b[1;33m.\u001b[0m\u001b[0misdir\u001b[0m\u001b[1;33m(\u001b[0m\u001b[0mdst\u001b[0m\u001b[1;33m)\u001b[0m\u001b[1;33m:\u001b[0m\u001b[1;33m\u001b[0m\u001b[1;33m\u001b[0m\u001b[0m\n\u001b[0;32m    431\u001b[0m         \u001b[0mdst\u001b[0m \u001b[1;33m=\u001b[0m \u001b[0mos\u001b[0m\u001b[1;33m.\u001b[0m\u001b[0mpath\u001b[0m\u001b[1;33m.\u001b[0m\u001b[0mjoin\u001b[0m\u001b[1;33m(\u001b[0m\u001b[0mdst\u001b[0m\u001b[1;33m,\u001b[0m \u001b[0mos\u001b[0m\u001b[1;33m.\u001b[0m\u001b[0mpath\u001b[0m\u001b[1;33m.\u001b[0m\u001b[0mbasename\u001b[0m\u001b[1;33m(\u001b[0m\u001b[0msrc\u001b[0m\u001b[1;33m)\u001b[0m\u001b[1;33m)\u001b[0m\u001b[1;33m\u001b[0m\u001b[1;33m\u001b[0m\u001b[0m\n\u001b[1;32m--> 432\u001b[1;33m     \u001b[0mcopyfile\u001b[0m\u001b[1;33m(\u001b[0m\u001b[0msrc\u001b[0m\u001b[1;33m,\u001b[0m \u001b[0mdst\u001b[0m\u001b[1;33m,\u001b[0m \u001b[0mfollow_symlinks\u001b[0m\u001b[1;33m=\u001b[0m\u001b[0mfollow_symlinks\u001b[0m\u001b[1;33m)\u001b[0m\u001b[1;33m\u001b[0m\u001b[1;33m\u001b[0m\u001b[0m\n\u001b[0m\u001b[0;32m    433\u001b[0m     \u001b[0mcopystat\u001b[0m\u001b[1;33m(\u001b[0m\u001b[0msrc\u001b[0m\u001b[1;33m,\u001b[0m \u001b[0mdst\u001b[0m\u001b[1;33m,\u001b[0m \u001b[0mfollow_symlinks\u001b[0m\u001b[1;33m=\u001b[0m\u001b[0mfollow_symlinks\u001b[0m\u001b[1;33m)\u001b[0m\u001b[1;33m\u001b[0m\u001b[1;33m\u001b[0m\u001b[0m\n\u001b[0;32m    434\u001b[0m     \u001b[1;32mreturn\u001b[0m \u001b[0mdst\u001b[0m\u001b[1;33m\u001b[0m\u001b[1;33m\u001b[0m\u001b[0m\n",
      "\u001b[1;32m~\\Anaconda3\\lib\\shutil.py\u001b[0m in \u001b[0;36mcopyfile\u001b[1;34m(src, dst, follow_symlinks)\u001b[0m\n\u001b[0;32m    259\u001b[0m         \u001b[0mos\u001b[0m\u001b[1;33m.\u001b[0m\u001b[0msymlink\u001b[0m\u001b[1;33m(\u001b[0m\u001b[0mos\u001b[0m\u001b[1;33m.\u001b[0m\u001b[0mreadlink\u001b[0m\u001b[1;33m(\u001b[0m\u001b[0msrc\u001b[0m\u001b[1;33m)\u001b[0m\u001b[1;33m,\u001b[0m \u001b[0mdst\u001b[0m\u001b[1;33m)\u001b[0m\u001b[1;33m\u001b[0m\u001b[1;33m\u001b[0m\u001b[0m\n\u001b[0;32m    260\u001b[0m     \u001b[1;32melse\u001b[0m\u001b[1;33m:\u001b[0m\u001b[1;33m\u001b[0m\u001b[1;33m\u001b[0m\u001b[0m\n\u001b[1;32m--> 261\u001b[1;33m         \u001b[1;32mwith\u001b[0m \u001b[0mopen\u001b[0m\u001b[1;33m(\u001b[0m\u001b[0msrc\u001b[0m\u001b[1;33m,\u001b[0m \u001b[1;34m'rb'\u001b[0m\u001b[1;33m)\u001b[0m \u001b[1;32mas\u001b[0m \u001b[0mfsrc\u001b[0m\u001b[1;33m,\u001b[0m \u001b[0mopen\u001b[0m\u001b[1;33m(\u001b[0m\u001b[0mdst\u001b[0m\u001b[1;33m,\u001b[0m \u001b[1;34m'wb'\u001b[0m\u001b[1;33m)\u001b[0m \u001b[1;32mas\u001b[0m \u001b[0mfdst\u001b[0m\u001b[1;33m:\u001b[0m\u001b[1;33m\u001b[0m\u001b[1;33m\u001b[0m\u001b[0m\n\u001b[0m\u001b[0;32m    262\u001b[0m             \u001b[1;31m# macOS\u001b[0m\u001b[1;33m\u001b[0m\u001b[1;33m\u001b[0m\u001b[1;33m\u001b[0m\u001b[0m\n\u001b[0;32m    263\u001b[0m             \u001b[1;32mif\u001b[0m \u001b[0m_HAS_FCOPYFILE\u001b[0m\u001b[1;33m:\u001b[0m\u001b[1;33m\u001b[0m\u001b[1;33m\u001b[0m\u001b[0m\n",
      "\u001b[1;31mFileNotFoundError\u001b[0m: [Errno 2] No such file or directory: 'practice.text'"
     ]
    }
   ],
   "source": [
    "#I am now moving my practice file to the Users directory\n",
    "shutil.move('practice.text', 'C:\\\\Users')"
   ]
  },
  {
   "cell_type": "code",
   "execution_count": 46,
   "metadata": {},
   "outputs": [
    {
     "data": {
      "text/plain": [
       "'C:\\\\Users\\\\i.b.ossi\\\\Python'"
      ]
     },
     "execution_count": 46,
     "metadata": {},
     "output_type": "execute_result"
    }
   ],
   "source": [
    "pwd"
   ]
  },
  {
   "cell_type": "code",
   "execution_count": 47,
   "metadata": {},
   "outputs": [
    {
     "data": {
      "text/plain": [
       "'C:\\\\Users\\\\i.b.ossi\\\\Python'"
      ]
     },
     "execution_count": 47,
     "metadata": {},
     "output_type": "execute_result"
    }
   ],
   "source": [
    "os.getcwd()"
   ]
  },
  {
   "cell_type": "code",
   "execution_count": 48,
   "metadata": {},
   "outputs": [
    {
     "data": {
      "text/plain": [
       "['.git',\n",
       " '.ipynb_checkpoints',\n",
       " 'BlackJack.ipynb',\n",
       " 'Dataclasses.ipynb',\n",
       " 'Decorators.ipynb',\n",
       " 'Error_And_Exception_Handling.ipynb',\n",
       " 'Generators.ipynb',\n",
       " 'Methods_Functions.ipynb',\n",
       " 'Modules.ipynb',\n",
       " 'Modules_And_Packages.ipynb',\n",
       " 'ObjectOrientedProgramming(OOP).ipynb',\n",
       " 'Python_Bootcamp_Functions_Challenging_Problems.ipynb',\n",
       " 'Python_Bootcamp_Functions_Level2_Problems.ipynb',\n",
       " 'README.md',\n",
       " 'testfile',\n",
       " 'TicTacToe_Board.ipynb']"
      ]
     },
     "execution_count": 48,
     "metadata": {},
     "output_type": "execute_result"
    }
   ],
   "source": [
    "os.listdir()"
   ]
  },
  {
   "cell_type": "code",
   "execution_count": 49,
   "metadata": {},
   "outputs": [],
   "source": [
    "f = open('practice2.txt', 'w+')\n",
    "f.write(\"Let's try again!\")\n",
    "f.close()"
   ]
  },
  {
   "cell_type": "code",
   "execution_count": 50,
   "metadata": {},
   "outputs": [
    {
     "data": {
      "text/plain": [
       "['.git',\n",
       " '.ipynb_checkpoints',\n",
       " 'BlackJack.ipynb',\n",
       " 'Dataclasses.ipynb',\n",
       " 'Decorators.ipynb',\n",
       " 'Error_And_Exception_Handling.ipynb',\n",
       " 'Generators.ipynb',\n",
       " 'Methods_Functions.ipynb',\n",
       " 'Modules.ipynb',\n",
       " 'Modules_And_Packages.ipynb',\n",
       " 'ObjectOrientedProgramming(OOP).ipynb',\n",
       " 'practice2.txt',\n",
       " 'Python_Bootcamp_Functions_Challenging_Problems.ipynb',\n",
       " 'Python_Bootcamp_Functions_Level2_Problems.ipynb',\n",
       " 'README.md',\n",
       " 'testfile',\n",
       " 'TicTacToe_Board.ipynb']"
      ]
     },
     "execution_count": 50,
     "metadata": {},
     "output_type": "execute_result"
    }
   ],
   "source": [
    "os.listdir()"
   ]
  },
  {
   "cell_type": "code",
   "execution_count": 51,
   "metadata": {},
   "outputs": [],
   "source": [
    "#Let's move the practice2.txt to trash\n",
    "send2trash.send2trash('practice2.txt')"
   ]
  },
  {
   "cell_type": "code",
   "execution_count": 52,
   "metadata": {},
   "outputs": [
    {
     "data": {
      "text/plain": [
       "['.git',\n",
       " '.ipynb_checkpoints',\n",
       " 'BlackJack.ipynb',\n",
       " 'Dataclasses.ipynb',\n",
       " 'Decorators.ipynb',\n",
       " 'Error_And_Exception_Handling.ipynb',\n",
       " 'Generators.ipynb',\n",
       " 'Methods_Functions.ipynb',\n",
       " 'Modules.ipynb',\n",
       " 'Modules_And_Packages.ipynb',\n",
       " 'ObjectOrientedProgramming(OOP).ipynb',\n",
       " 'Python_Bootcamp_Functions_Challenging_Problems.ipynb',\n",
       " 'Python_Bootcamp_Functions_Level2_Problems.ipynb',\n",
       " 'README.md',\n",
       " 'testfile',\n",
       " 'TicTacToe_Board.ipynb']"
      ]
     },
     "execution_count": 52,
     "metadata": {},
     "output_type": "execute_result"
    }
   ],
   "source": [
    "os.listdir()"
   ]
  },
  {
   "cell_type": "code",
   "execution_count": 53,
   "metadata": {},
   "outputs": [],
   "source": [
    "#Let's now explote os.walk. Grab the current directory\n",
    "file_path = 'C:\\\\Users\\\\i.b.ossi\\\\Python'\n"
   ]
  },
  {
   "cell_type": "code",
   "execution_count": 57,
   "metadata": {},
   "outputs": [
    {
     "name": "stdout",
     "output_type": "stream",
     "text": [
      "Currently looking at {folder}\n",
      "n\n",
      "The subfolders are:\n",
      "Subfolder: .git\n",
      "Subfolder: .ipynb_checkpoints\n",
      "\n",
      "\n",
      "The subfolders are:\n",
      "File: BlackJack.ipynb\n",
      "File: Dataclasses.ipynb\n",
      "File: Decorators.ipynb\n",
      "File: Error_And_Exception_Handling.ipynb\n",
      "File: Generators.ipynb\n",
      "File: Methods_Functions.ipynb\n",
      "File: Modules.ipynb\n",
      "File: Modules_And_Packages.ipynb\n",
      "File: ObjectOrientedProgramming(OOP).ipynb\n",
      "File: Python_Bootcamp_Functions_Challenging_Problems.ipynb\n",
      "File: Python_Bootcamp_Functions_Level2_Problems.ipynb\n",
      "File: README.md\n",
      "File: testfile\n",
      "File: TicTacToe_Board.ipynb\n",
      "\n",
      "\n",
      "Currently looking at {folder}\n",
      "n\n",
      "The subfolders are:\n",
      "Subfolder: hooks\n",
      "Subfolder: info\n",
      "Subfolder: logs\n",
      "Subfolder: objects\n",
      "Subfolder: refs\n",
      "\n",
      "\n",
      "The subfolders are:\n",
      "File: .COMMIT_EDITMSG.swo\n",
      "File: .COMMIT_EDITMSG.swp\n",
      "File: COMMIT_EDITMSG\n",
      "File: config\n",
      "File: description\n",
      "File: FETCH_HEAD\n",
      "File: HEAD\n",
      "File: index\n",
      "File: ORIG_HEAD\n",
      "File: packed-refs\n",
      "\n",
      "\n",
      "Currently looking at {folder}\n",
      "n\n",
      "The subfolders are:\n",
      "\n",
      "\n",
      "The subfolders are:\n",
      "File: applypatch-msg.sample\n",
      "File: commit-msg.sample\n",
      "File: fsmonitor-watchman.sample\n",
      "File: post-update.sample\n",
      "File: pre-applypatch.sample\n",
      "File: pre-commit.sample\n",
      "File: pre-merge-commit.sample\n",
      "File: pre-push.sample\n",
      "File: pre-rebase.sample\n",
      "File: pre-receive.sample\n",
      "File: prepare-commit-msg.sample\n",
      "File: push-to-checkout.sample\n",
      "File: update.sample\n",
      "\n",
      "\n",
      "Currently looking at {folder}\n",
      "n\n",
      "The subfolders are:\n",
      "\n",
      "\n",
      "The subfolders are:\n",
      "File: exclude\n",
      "\n",
      "\n",
      "Currently looking at {folder}\n",
      "n\n",
      "The subfolders are:\n",
      "Subfolder: refs\n",
      "\n",
      "\n",
      "The subfolders are:\n",
      "File: HEAD\n",
      "\n",
      "\n",
      "Currently looking at {folder}\n",
      "n\n",
      "The subfolders are:\n",
      "Subfolder: heads\n",
      "Subfolder: remotes\n",
      "\n",
      "\n",
      "The subfolders are:\n",
      "\n",
      "\n",
      "Currently looking at {folder}\n",
      "n\n",
      "The subfolders are:\n",
      "\n",
      "\n",
      "The subfolders are:\n",
      "File: main\n",
      "\n",
      "\n",
      "Currently looking at {folder}\n",
      "n\n",
      "The subfolders are:\n",
      "Subfolder: origin\n",
      "\n",
      "\n",
      "The subfolders are:\n",
      "\n",
      "\n",
      "Currently looking at {folder}\n",
      "n\n",
      "The subfolders are:\n",
      "\n",
      "\n",
      "The subfolders are:\n",
      "File: HEAD\n",
      "File: main\n",
      "\n",
      "\n",
      "Currently looking at {folder}\n",
      "n\n",
      "The subfolders are:\n",
      "Subfolder: 02\n",
      "Subfolder: 03\n",
      "Subfolder: 07\n",
      "Subfolder: 09\n",
      "Subfolder: 0a\n",
      "Subfolder: 0b\n",
      "Subfolder: 0e\n",
      "Subfolder: 11\n",
      "Subfolder: 17\n",
      "Subfolder: 1a\n",
      "Subfolder: 1d\n",
      "Subfolder: 1f\n",
      "Subfolder: 20\n",
      "Subfolder: 24\n",
      "Subfolder: 27\n",
      "Subfolder: 29\n",
      "Subfolder: 2a\n",
      "Subfolder: 2c\n",
      "Subfolder: 2e\n",
      "Subfolder: 2f\n",
      "Subfolder: 30\n",
      "Subfolder: 31\n",
      "Subfolder: 33\n",
      "Subfolder: 34\n",
      "Subfolder: 36\n",
      "Subfolder: 38\n",
      "Subfolder: 3c\n",
      "Subfolder: 3d\n",
      "Subfolder: 3e\n",
      "Subfolder: 40\n",
      "Subfolder: 44\n",
      "Subfolder: 48\n",
      "Subfolder: 4d\n",
      "Subfolder: 4f\n",
      "Subfolder: 52\n",
      "Subfolder: 53\n",
      "Subfolder: 54\n",
      "Subfolder: 59\n",
      "Subfolder: 5a\n",
      "Subfolder: 5b\n",
      "Subfolder: 5c\n",
      "Subfolder: 5e\n",
      "Subfolder: 5f\n",
      "Subfolder: 60\n",
      "Subfolder: 61\n",
      "Subfolder: 63\n",
      "Subfolder: 68\n",
      "Subfolder: 69\n",
      "Subfolder: 6b\n",
      "Subfolder: 6c\n",
      "Subfolder: 6e\n",
      "Subfolder: 6f\n",
      "Subfolder: 74\n",
      "Subfolder: 77\n",
      "Subfolder: 7b\n",
      "Subfolder: 7c\n",
      "Subfolder: 7e\n",
      "Subfolder: 80\n",
      "Subfolder: 81\n",
      "Subfolder: 82\n",
      "Subfolder: 83\n",
      "Subfolder: 87\n",
      "Subfolder: 88\n",
      "Subfolder: 8b\n",
      "Subfolder: 8c\n",
      "Subfolder: 90\n",
      "Subfolder: 91\n",
      "Subfolder: 95\n",
      "Subfolder: 96\n",
      "Subfolder: 97\n",
      "Subfolder: 9a\n",
      "Subfolder: 9b\n",
      "Subfolder: 9d\n",
      "Subfolder: 9f\n",
      "Subfolder: a1\n",
      "Subfolder: a2\n",
      "Subfolder: a5\n",
      "Subfolder: a6\n",
      "Subfolder: a8\n",
      "Subfolder: aa\n",
      "Subfolder: ad\n",
      "Subfolder: ae\n",
      "Subfolder: b0\n",
      "Subfolder: b1\n",
      "Subfolder: b2\n",
      "Subfolder: b3\n",
      "Subfolder: b7\n",
      "Subfolder: bc\n",
      "Subfolder: bd\n",
      "Subfolder: c0\n",
      "Subfolder: c2\n",
      "Subfolder: c4\n",
      "Subfolder: c5\n",
      "Subfolder: c6\n",
      "Subfolder: c7\n",
      "Subfolder: c8\n",
      "Subfolder: cc\n",
      "Subfolder: cd\n",
      "Subfolder: ce\n",
      "Subfolder: d0\n",
      "Subfolder: d1\n",
      "Subfolder: d3\n",
      "Subfolder: d4\n",
      "Subfolder: d5\n",
      "Subfolder: da\n",
      "Subfolder: dc\n",
      "Subfolder: dd\n",
      "Subfolder: de\n",
      "Subfolder: e3\n",
      "Subfolder: e6\n",
      "Subfolder: e8\n",
      "Subfolder: ea\n",
      "Subfolder: eb\n",
      "Subfolder: ed\n",
      "Subfolder: f2\n",
      "Subfolder: f5\n",
      "Subfolder: f8\n",
      "Subfolder: f9\n",
      "Subfolder: fa\n",
      "Subfolder: fb\n",
      "Subfolder: info\n",
      "Subfolder: pack\n",
      "\n",
      "\n",
      "The subfolders are:\n",
      "\n",
      "\n",
      "Currently looking at {folder}\n",
      "n\n",
      "The subfolders are:\n",
      "\n",
      "\n",
      "The subfolders are:\n",
      "File: 0b9c1dd4581831cb291606d815466f3b5a9930\n",
      "File: b3f433d5bbbf316edc92f59e8302ced180ccb5\n",
      "\n",
      "\n",
      "Currently looking at {folder}\n",
      "n\n",
      "The subfolders are:\n",
      "\n",
      "\n",
      "The subfolders are:\n",
      "File: 7e5610af95217aa64f87890bf75b7ade6a6330\n",
      "File: f8663e93b28e352b57cf8a0f8efd6e96ae5639\n",
      "\n",
      "\n",
      "Currently looking at {folder}\n",
      "n\n",
      "The subfolders are:\n",
      "\n",
      "\n",
      "The subfolders are:\n",
      "File: 07b4e3df20052ac229f32e3b74e4928f91ee7e\n",
      "\n",
      "\n",
      "Currently looking at {folder}\n",
      "n\n",
      "The subfolders are:\n",
      "\n",
      "\n",
      "The subfolders are:\n",
      "File: 5de063b3ebd2eed9f85491b1908cb0c620da45\n",
      "\n",
      "\n",
      "Currently looking at {folder}\n",
      "n\n",
      "The subfolders are:\n",
      "\n",
      "\n",
      "The subfolders are:\n",
      "File: 0a9915b689ee4bea4ea9c1c57fcaaa6063c662\n",
      "File: 537369c27dee63ac28e5c6c5f0ef359fb08d0e\n",
      "\n",
      "\n",
      "Currently looking at {folder}\n",
      "n\n",
      "The subfolders are:\n",
      "\n",
      "\n",
      "The subfolders are:\n",
      "File: 241b6287153627d8a83d6db4eb0c5f6594201c\n",
      "\n",
      "\n",
      "Currently looking at {folder}\n",
      "n\n",
      "The subfolders are:\n",
      "\n",
      "\n",
      "The subfolders are:\n",
      "File: a729a6626e55d2a67770fbae4e89ef4818fc09\n",
      "File: e629ccb52a1a2f83653b2f306a9d06f6973625\n",
      "\n",
      "\n",
      "Currently looking at {folder}\n",
      "n\n",
      "The subfolders are:\n",
      "\n",
      "\n",
      "The subfolders are:\n",
      "File: 5d559e26d9c3392ca554f6c8cd81d2eb269500\n",
      "File: 9956d577f7ae0cf1ff3cc670929d89e885c287\n",
      "File: cade3e432010b3fd69f68acf99d3eda81e68b3\n",
      "\n",
      "\n",
      "Currently looking at {folder}\n",
      "n\n",
      "The subfolders are:\n",
      "\n",
      "\n",
      "The subfolders are:\n",
      "File: 71ef75294df3348f7b3e4c387194621b9a3172\n",
      "\n",
      "\n",
      "Currently looking at {folder}\n",
      "n\n",
      "The subfolders are:\n",
      "\n",
      "\n",
      "The subfolders are:\n",
      "File: 81fd5759f64fad69e5f5d4e6e3159641d8e692\n",
      "\n",
      "\n",
      "Currently looking at {folder}\n",
      "n\n",
      "The subfolders are:\n",
      "\n",
      "\n",
      "The subfolders are:\n",
      "File: ce7b9e0be76dfc51aff3f2a2f32aa88a6a0088\n",
      "\n",
      "\n",
      "Currently looking at {folder}\n",
      "n\n",
      "The subfolders are:\n",
      "\n",
      "\n",
      "The subfolders are:\n",
      "File: ffc452af284225f1e2bd842fe99d390565f773\n",
      "\n",
      "\n",
      "Currently looking at {folder}\n",
      "n\n",
      "The subfolders are:\n",
      "\n",
      "\n",
      "The subfolders are:\n",
      "File: 28bb091403fe9ee3e9f72802219016ad59152d\n",
      "\n",
      "\n",
      "Currently looking at {folder}\n",
      "n\n",
      "The subfolders are:\n",
      "\n",
      "\n",
      "The subfolders are:\n",
      "File: 29e555135056b17a56b0fd9993ad3846ef48a8\n",
      "\n",
      "\n",
      "Currently looking at {folder}\n",
      "n\n",
      "The subfolders are:\n",
      "\n",
      "\n",
      "The subfolders are:\n",
      "File: b86bae082ba0c13e7c39b81b01f233272a35c2\n",
      "\n",
      "\n",
      "Currently looking at {folder}\n",
      "n\n",
      "The subfolders are:\n",
      "\n",
      "\n",
      "The subfolders are:\n",
      "File: 34e00460b4eb2735497cecadd2e411b1a4b7ea\n",
      "\n",
      "\n",
      "Currently looking at {folder}\n",
      "n\n",
      "The subfolders are:\n",
      "\n",
      "\n",
      "The subfolders are:\n",
      "File: 5d4160cb82e6cccd0ce757006a139fb9ee41f4\n",
      "\n",
      "\n",
      "Currently looking at {folder}\n",
      "n\n",
      "The subfolders are:\n",
      "\n",
      "\n",
      "The subfolders are:\n",
      "File: 770d4a9c20c91fd735cdac1eb366555a8a716c\n",
      "\n",
      "\n",
      "Currently looking at {folder}\n",
      "n\n",
      "The subfolders are:\n",
      "\n",
      "\n",
      "The subfolders are:\n",
      "File: e9e119c2d79e706932af777a8bf49852bbada6\n",
      "\n",
      "\n",
      "Currently looking at {folder}\n",
      "n\n",
      "The subfolders are:\n",
      "\n",
      "\n",
      "The subfolders are:\n",
      "File: b1aa335087b5b46b1de469dbcf6ffe3e74adb0\n",
      "\n",
      "\n",
      "Currently looking at {folder}\n",
      "n\n",
      "The subfolders are:\n",
      "\n",
      "\n",
      "The subfolders are:\n",
      "File: aed7e357ca6f33a687e9488929950bab6a969f\n",
      "\n",
      "\n",
      "Currently looking at {folder}\n",
      "n\n",
      "The subfolders are:\n",
      "\n",
      "\n",
      "The subfolders are:\n",
      "File: ace8ef158da969fd2303621f94e4407f12c8fc\n",
      "\n",
      "\n",
      "Currently looking at {folder}\n",
      "n\n",
      "The subfolders are:\n",
      "\n",
      "\n",
      "The subfolders are:\n",
      "File: c204f582b302a8b0c664a9818eb32259380847\n",
      "\n",
      "\n",
      "Currently looking at {folder}\n",
      "n\n",
      "The subfolders are:\n",
      "\n",
      "\n",
      "The subfolders are:\n",
      "File: 960ed14cbbe216ac2fa4f05ed4d89b5b2be148\n",
      "File: ac917731dfd9cfb1e868b4f1dbb5669b2b6311\n",
      "\n",
      "\n",
      "Currently looking at {folder}\n",
      "n\n",
      "The subfolders are:\n",
      "\n",
      "\n",
      "The subfolders are:\n",
      "File: 2e613456376bcc9567ee95dea3b780ea4bbfee\n",
      "\n",
      "\n",
      "Currently looking at {folder}\n",
      "n\n",
      "The subfolders are:\n",
      "\n",
      "\n",
      "The subfolders are:\n",
      "File: 937b7bbab0f58c837574b3f28222d7d57e08f1\n",
      "\n",
      "\n",
      "Currently looking at {folder}\n",
      "n\n",
      "The subfolders are:\n",
      "\n",
      "\n",
      "The subfolders are:\n",
      "File: 5bd158da6ffa98ff5782da6f8336c900268929\n",
      "\n",
      "\n",
      "Currently looking at {folder}\n",
      "n\n",
      "The subfolders are:\n",
      "\n",
      "\n",
      "The subfolders are:\n",
      "File: 3527cc936d74786ec597cbceb81fa260fd459e\n",
      "\n",
      "\n",
      "Currently looking at {folder}\n",
      "n\n",
      "The subfolders are:\n",
      "\n",
      "\n",
      "The subfolders are:\n",
      "File: 4211f86ed5b1843a7baa5ba8548b51e5840fc6\n",
      "\n",
      "\n",
      "Currently looking at {folder}\n",
      "n\n",
      "The subfolders are:\n",
      "\n",
      "\n",
      "The subfolders are:\n",
      "File: 2b333c1aaab275b1ed8216522467749dbd1d26\n",
      "File: 4f292b491bc487ef445bd299099b0e911ab345\n",
      "File: 61ef42fb51f5936e88f5094f7df796212b165e\n",
      "\n",
      "\n",
      "Currently looking at {folder}\n",
      "n\n",
      "The subfolders are:\n",
      "\n",
      "\n",
      "The subfolders are:\n",
      "File: 9b450e4fe9935432db7a91c526c7441f1fa8cd\n",
      "\n",
      "\n",
      "Currently looking at {folder}\n",
      "n\n",
      "The subfolders are:\n",
      "\n",
      "\n",
      "The subfolders are:\n",
      "File: 47626016a9239d4fa8a732ee439794be233cae\n",
      "\n",
      "\n",
      "Currently looking at {folder}\n",
      "n\n",
      "The subfolders are:\n",
      "\n",
      "\n",
      "The subfolders are:\n",
      "File: 8b4cee17d4a011ab6923e91dfa10fb03726b7a\n",
      "File: ab05167f9fc071781681f839fe3e897989f9df\n",
      "\n",
      "\n",
      "Currently looking at {folder}\n",
      "n\n",
      "The subfolders are:\n",
      "\n",
      "\n",
      "The subfolders are:\n",
      "File: bb5d8dec6bbdfae816ab6bfc673bd986ffafc4\n",
      "\n",
      "\n",
      "Currently looking at {folder}\n",
      "n\n",
      "The subfolders are:\n",
      "\n",
      "\n",
      "The subfolders are:\n",
      "File: 1c4ad549e255f951a764621bf3e21dcfb0b174\n",
      "\n",
      "\n",
      "Currently looking at {folder}\n",
      "n\n",
      "The subfolders are:\n",
      "\n",
      "\n",
      "The subfolders are:\n",
      "File: 4332ccd326ce412579a6b7e111652cce373c2c\n",
      "\n",
      "\n",
      "Currently looking at {folder}\n",
      "n\n",
      "The subfolders are:\n",
      "\n",
      "\n",
      "The subfolders are:\n",
      "File: 88988e2b8744f85740301db45f64bcff59dff4\n",
      "\n",
      "\n",
      "Currently looking at {folder}\n",
      "n\n",
      "The subfolders are:\n",
      "\n",
      "\n",
      "The subfolders are:\n",
      "File: 54cc646a2fe1f8ab187ba30604bdd3f47e9ff2\n",
      "\n",
      "\n",
      "Currently looking at {folder}\n",
      "n\n",
      "The subfolders are:\n",
      "\n",
      "\n",
      "The subfolders are:\n",
      "File: 7fdd66ea4e6e20fbd5f8535151f80acfae6c0a\n",
      "File: dd77b8608f4e03938947789f7fce588b7506f7\n",
      "\n",
      "\n",
      "Currently looking at {folder}\n",
      "n\n",
      "The subfolders are:\n",
      "\n",
      "\n",
      "The subfolders are:\n",
      "File: 99ccebf3be75e0061ee4e24823e5476fcc4e19\n",
      "\n",
      "\n"
     ]
    },
    {
     "name": "stdout",
     "output_type": "stream",
     "text": [
      "Currently looking at {folder}\n",
      "n\n",
      "The subfolders are:\n",
      "\n",
      "\n",
      "The subfolders are:\n",
      "File: 304e060ca6ad1ad3cc4c13e1e3833295c70836\n",
      "\n",
      "\n",
      "Currently looking at {folder}\n",
      "n\n",
      "The subfolders are:\n",
      "\n",
      "\n",
      "The subfolders are:\n",
      "File: 82284782ed9ab170617e4db8bdee290cf8257c\n",
      "\n",
      "\n",
      "Currently looking at {folder}\n",
      "n\n",
      "The subfolders are:\n",
      "\n",
      "\n",
      "The subfolders are:\n",
      "File: 31d6b11daa16328297efb9289bd729814a3e7c\n",
      "File: 711ca542da8b25526441741f79c8068c8040ab\n",
      "\n",
      "\n",
      "Currently looking at {folder}\n",
      "n\n",
      "The subfolders are:\n",
      "\n",
      "\n",
      "The subfolders are:\n",
      "File: 1c92af4027ad37f5654c904eefd5d0bf8b2cd2\n",
      "\n",
      "\n",
      "Currently looking at {folder}\n",
      "n\n",
      "The subfolders are:\n",
      "\n",
      "\n",
      "The subfolders are:\n",
      "File: 57aaa1e71cf362b99fbe9952040bc42ee25550\n",
      "\n",
      "\n",
      "Currently looking at {folder}\n",
      "n\n",
      "The subfolders are:\n",
      "\n",
      "\n",
      "The subfolders are:\n",
      "File: 2efa15a6085b73eb202926517f50ad35e7d356\n",
      "\n",
      "\n",
      "Currently looking at {folder}\n",
      "n\n",
      "The subfolders are:\n",
      "\n",
      "\n",
      "The subfolders are:\n",
      "File: d3dc1e4664dbad668d3cd3ec4e77b1eed54398\n",
      "\n",
      "\n",
      "Currently looking at {folder}\n",
      "n\n",
      "The subfolders are:\n",
      "\n",
      "\n",
      "The subfolders are:\n",
      "File: becb4458e4d02a907cd4794acb3f911bd43456\n",
      "\n",
      "\n",
      "Currently looking at {folder}\n",
      "n\n",
      "The subfolders are:\n",
      "\n",
      "\n",
      "The subfolders are:\n",
      "File: 064f0fd8a05df4ed3b86b5475bddce097e5c87\n",
      "\n",
      "\n",
      "Currently looking at {folder}\n",
      "n\n",
      "The subfolders are:\n",
      "\n",
      "\n",
      "The subfolders are:\n",
      "File: 15b43a1f31206dd91b9f4c7aab1f51c4f19e58\n",
      "\n",
      "\n",
      "Currently looking at {folder}\n",
      "n\n",
      "The subfolders are:\n",
      "\n",
      "\n",
      "The subfolders are:\n",
      "File: ae860019ef3d53a8e900bc804b4ecacab03105\n",
      "\n",
      "\n",
      "Currently looking at {folder}\n",
      "n\n",
      "The subfolders are:\n",
      "\n",
      "\n",
      "The subfolders are:\n",
      "File: 0d0063576e4a1e39a061777c384a30e7206c54\n",
      "\n",
      "\n",
      "Currently looking at {folder}\n",
      "n\n",
      "The subfolders are:\n",
      "\n",
      "\n",
      "The subfolders are:\n",
      "File: 805c34eea09ecfd1d19ffea369023836f3cfdc\n",
      "\n",
      "\n",
      "Currently looking at {folder}\n",
      "n\n",
      "The subfolders are:\n",
      "\n",
      "\n",
      "The subfolders are:\n",
      "File: a5d5f5f01d9a58bcdf45afe8edcda19b074212\n",
      "File: c41dd32e8a1823cdc5cbec2b9a2e0d49715070\n",
      "\n",
      "\n",
      "Currently looking at {folder}\n",
      "n\n",
      "The subfolders are:\n",
      "\n",
      "\n",
      "The subfolders are:\n",
      "File: 4bd21b72c3637c1170027c1befc4be832dacbe\n",
      "\n",
      "\n",
      "Currently looking at {folder}\n",
      "n\n",
      "The subfolders are:\n",
      "\n",
      "\n",
      "The subfolders are:\n",
      "File: 6a41198aa6f0d5bc530335bebd53c02de3497b\n",
      "File: b6aaa9dad62970282859740da76de16e23e3de\n",
      "\n",
      "\n",
      "Currently looking at {folder}\n",
      "n\n",
      "The subfolders are:\n",
      "\n",
      "\n",
      "The subfolders are:\n",
      "File: 7c8c6680010650fc007d036b5de92e6e69cbb2\n",
      "File: 8964880a59cffbf43de0125d2be3c43fa7d173\n",
      "File: b0682c3444b1482b341d91e2ea5ecef6797e6a\n",
      "\n",
      "\n",
      "Currently looking at {folder}\n",
      "n\n",
      "The subfolders are:\n",
      "\n",
      "\n",
      "The subfolders are:\n",
      "File: 589022de07a471677d777c8db4c93263d06316\n",
      "\n",
      "\n",
      "Currently looking at {folder}\n",
      "n\n",
      "The subfolders are:\n",
      "\n",
      "\n",
      "The subfolders are:\n",
      "File: 038ac76638a09db1163d81bc962d10e40d067a\n",
      "\n",
      "\n",
      "Currently looking at {folder}\n",
      "n\n",
      "The subfolders are:\n",
      "\n",
      "\n",
      "The subfolders are:\n",
      "File: 007a068ca43487b247af940bfe3bcd55573bf1\n",
      "File: 140c13a631e7e1ff91c4108d460d4449b8a2a8\n",
      "\n",
      "\n",
      "Currently looking at {folder}\n",
      "n\n",
      "The subfolders are:\n",
      "\n",
      "\n",
      "The subfolders are:\n",
      "File: 33eabec29733011922719fd70ceac3e414f7e1\n",
      "\n",
      "\n",
      "Currently looking at {folder}\n",
      "n\n",
      "The subfolders are:\n",
      "\n",
      "\n",
      "The subfolders are:\n",
      "File: ce1f10e17976ca09c6cf6e8d9a1ed1ed8590dc\n",
      "\n",
      "\n",
      "Currently looking at {folder}\n",
      "n\n",
      "The subfolders are:\n",
      "\n",
      "\n",
      "The subfolders are:\n",
      "File: b891fbf214d63951582ba8da37a8aab31c118c\n",
      "\n",
      "\n",
      "Currently looking at {folder}\n",
      "n\n",
      "The subfolders are:\n",
      "\n",
      "\n",
      "The subfolders are:\n",
      "File: d7e77161cdd4e636d09d2c792c8dc2d9149b47\n",
      "\n",
      "\n",
      "Currently looking at {folder}\n",
      "n\n",
      "The subfolders are:\n",
      "\n",
      "\n",
      "The subfolders are:\n",
      "File: 3f95c9c262c84962813e3255f8431dedda74fe\n",
      "\n",
      "\n",
      "Currently looking at {folder}\n",
      "n\n",
      "The subfolders are:\n",
      "\n",
      "\n",
      "The subfolders are:\n",
      "File: aad0d8aacd585062ba1de2e18924e0e64f8a41\n",
      "\n",
      "\n",
      "Currently looking at {folder}\n",
      "n\n",
      "The subfolders are:\n",
      "\n",
      "\n",
      "The subfolders are:\n",
      "File: 1dcb99f0323be82cac2ab4d78c348ad45ac926\n",
      "\n",
      "\n",
      "Currently looking at {folder}\n",
      "n\n",
      "The subfolders are:\n",
      "\n",
      "\n",
      "The subfolders are:\n",
      "File: 17fda8ce35520eeceecfc6b34083879d77da8e\n",
      "File: 7e3eba66b358052d4c95f61bae913e3d787739\n",
      "File: fc7a528ed89f68af2ff619ce8be05a5f0c8f78\n",
      "\n",
      "\n",
      "Currently looking at {folder}\n",
      "n\n",
      "The subfolders are:\n",
      "\n",
      "\n",
      "The subfolders are:\n",
      "File: 1355d94d0be86e4a449f318be7ebb9461212e0\n",
      "File: 2f0fe5e31801f2a831f628b14d75e6a19d9c4d\n",
      "File: 8b70621380d6c5fd256efa6e3de77cbc713835\n",
      "\n",
      "\n",
      "Currently looking at {folder}\n",
      "n\n",
      "The subfolders are:\n",
      "\n",
      "\n",
      "The subfolders are:\n",
      "File: b231f3c87e48f68cee5344202897d15856db6d\n",
      "\n",
      "\n",
      "Currently looking at {folder}\n",
      "n\n",
      "The subfolders are:\n",
      "\n",
      "\n",
      "The subfolders are:\n",
      "File: 504e2ad9459f74666fce51c20ce7b3530d2afc\n",
      "File: 897d7de13f211633f497562e32fa9102040fac\n",
      "\n",
      "\n",
      "Currently looking at {folder}\n",
      "n\n",
      "The subfolders are:\n",
      "\n",
      "\n",
      "The subfolders are:\n",
      "File: c8f45b22d0650b1bb2770187a8c4250d03aef0\n",
      "\n",
      "\n",
      "Currently looking at {folder}\n",
      "n\n",
      "The subfolders are:\n",
      "\n",
      "\n",
      "The subfolders are:\n",
      "File: 004cfe74738631c8229470493892282d4cd43b\n",
      "\n",
      "\n",
      "Currently looking at {folder}\n",
      "n\n",
      "The subfolders are:\n",
      "\n",
      "\n",
      "The subfolders are:\n",
      "File: 90d1c168eae64125911e60868d5667fa9e90cf\n",
      "\n",
      "\n",
      "Currently looking at {folder}\n",
      "n\n",
      "The subfolders are:\n",
      "\n",
      "\n",
      "The subfolders are:\n",
      "File: 7447de146c3f48c2bb3d09f72df8ba635e657a\n",
      "\n",
      "\n",
      "Currently looking at {folder}\n",
      "n\n",
      "The subfolders are:\n",
      "\n",
      "\n",
      "The subfolders are:\n",
      "File: e8d899f6d257e9efa1171902038d05162d575c\n",
      "File: ef8f8a86d0782dbb13f5ed13ee12e9bc8d6430\n",
      "\n",
      "\n",
      "Currently looking at {folder}\n",
      "n\n",
      "The subfolders are:\n",
      "\n",
      "\n",
      "The subfolders are:\n",
      "File: 453584f047a2099e7525420f2822bc9fbe8de7\n",
      "File: 8911375d66d3dd0105d921af3d2b425d946acb\n",
      "\n",
      "\n",
      "Currently looking at {folder}\n",
      "n\n",
      "The subfolders are:\n",
      "\n",
      "\n",
      "The subfolders are:\n",
      "File: 3eb9196b28c233f16a38592c04d9745fb10172\n",
      "\n",
      "\n",
      "Currently looking at {folder}\n",
      "n\n",
      "The subfolders are:\n",
      "\n",
      "\n",
      "The subfolders are:\n",
      "File: f99921ed4b5614b5a796ace6f2e8dcb37b27ec\n",
      "\n",
      "\n",
      "Currently looking at {folder}\n",
      "n\n",
      "The subfolders are:\n",
      "\n",
      "\n",
      "The subfolders are:\n",
      "File: 497855bd8cd195d484ab159b6a444bd39ce9ca\n",
      "File: 55cc955afa1bcb1a31518e6a1ca9fe1280d468\n",
      "\n",
      "\n",
      "Currently looking at {folder}\n",
      "n\n",
      "The subfolders are:\n",
      "\n",
      "\n",
      "The subfolders are:\n",
      "File: bc5ad96d84a1fed5a86fed04687c2202e3deb7\n",
      "\n",
      "\n",
      "Currently looking at {folder}\n",
      "n\n",
      "The subfolders are:\n",
      "\n",
      "\n",
      "The subfolders are:\n",
      "File: c015a6e5f21dba40467d193deea1b8e72aa66e\n",
      "\n",
      "\n",
      "Currently looking at {folder}\n",
      "n\n",
      "The subfolders are:\n",
      "\n",
      "\n",
      "The subfolders are:\n",
      "File: 35fbb94001be3d822e3aef259ca854f7abe8d5\n",
      "\n",
      "\n",
      "Currently looking at {folder}\n",
      "n\n",
      "The subfolders are:\n",
      "\n",
      "\n",
      "The subfolders are:\n",
      "File: dfbeccde386c8515ebacdae1b31792c761c965\n",
      "\n",
      "\n",
      "Currently looking at {folder}\n",
      "n\n",
      "The subfolders are:\n",
      "\n",
      "\n",
      "The subfolders are:\n",
      "File: dd352ef7d31c1108a63fa5c03dbd481c85dad2\n",
      "\n",
      "\n",
      "Currently looking at {folder}\n",
      "n\n",
      "The subfolders are:\n",
      "\n",
      "\n",
      "The subfolders are:\n",
      "File: 9eedc4b56e0bde5c366d4f35f33626f72791ed\n",
      "\n",
      "\n",
      "Currently looking at {folder}\n",
      "n\n",
      "The subfolders are:\n",
      "\n",
      "\n",
      "The subfolders are:\n",
      "File: 070381d2ec5cedc90bf1fb82ea8bd250fee8c4\n",
      "File: 7544de93c9ba38dce43d9b1910c1f0a0f2e3bc\n",
      "\n",
      "\n",
      "Currently looking at {folder}\n",
      "n\n",
      "The subfolders are:\n",
      "\n",
      "\n",
      "The subfolders are:\n",
      "File: 047c0a9a0189d1076f9b07af2ba4ea0423e094\n",
      "\n",
      "\n",
      "Currently looking at {folder}\n",
      "n\n",
      "The subfolders are:\n",
      "\n",
      "\n",
      "The subfolders are:\n",
      "File: f043f14ce05d2508063cda843b2207c29dd427\n",
      "\n",
      "\n",
      "Currently looking at {folder}\n",
      "n\n",
      "The subfolders are:\n",
      "\n",
      "\n",
      "The subfolders are:\n",
      "File: 2566b5a376929e9adf7d516ca90655ac4dfdd6\n",
      "\n",
      "\n",
      "Currently looking at {folder}\n",
      "n\n",
      "The subfolders are:\n",
      "\n",
      "\n",
      "The subfolders are:\n",
      "File: 1e2fa11b41d09a05534f18527b1a7f1c3fe9c8\n",
      "File: e9adfb344f533c9ecfae2ac5f399c11a7f5cee\n",
      "\n",
      "\n",
      "Currently looking at {folder}\n",
      "n\n",
      "The subfolders are:\n",
      "\n",
      "\n",
      "The subfolders are:\n",
      "File: 69b787c875963d413e747d76c4ef7c42f3d3cf\n",
      "\n",
      "\n",
      "Currently looking at {folder}\n",
      "n\n",
      "The subfolders are:\n",
      "\n",
      "\n",
      "The subfolders are:\n",
      "File: 12b238063d3bfb9d8981327759a880be5fa245\n",
      "\n",
      "\n",
      "Currently looking at {folder}\n",
      "n\n",
      "The subfolders are:\n",
      "\n",
      "\n",
      "The subfolders are:\n",
      "File: 942e60e58e220bf6d4e9162a9cf5d3f866e089\n",
      "\n",
      "\n",
      "Currently looking at {folder}\n",
      "n\n",
      "The subfolders are:\n",
      "\n",
      "\n",
      "The subfolders are:\n",
      "File: 2389e9f7d5df36092b75bdc1309ca7d0c1c8c8\n",
      "File: ee49b52b0a7ecaf1fba718e14c36c707951bc2\n",
      "\n",
      "\n",
      "Currently looking at {folder}\n",
      "n\n",
      "The subfolders are:\n",
      "\n",
      "\n",
      "The subfolders are:\n",
      "File: fc8bb49fc2c3d317d898490bc10523c210207e\n",
      "\n",
      "\n",
      "Currently looking at {folder}\n",
      "n\n",
      "The subfolders are:\n",
      "\n",
      "\n",
      "The subfolders are:\n",
      "File: 90407c2c5646166fef7b04e09dc3c15eaf4751\n",
      "\n",
      "\n",
      "Currently looking at {folder}\n",
      "n\n",
      "The subfolders are:\n",
      "\n",
      "\n",
      "The subfolders are:\n",
      "File: 3d232c4d3cf6b6415c8ab34b8acce707ac566a\n",
      "\n",
      "\n",
      "Currently looking at {folder}\n",
      "n\n",
      "The subfolders are:\n",
      "\n",
      "\n",
      "The subfolders are:\n",
      "File: 0e27c44461bed08e9d0d4717988fb476d536d5\n",
      "\n",
      "\n",
      "Currently looking at {folder}\n",
      "n\n",
      "The subfolders are:\n",
      "\n",
      "\n",
      "The subfolders are:\n",
      "File: 85f1fb9e1953877baba8441256849a69a3e3d3\n",
      "\n",
      "\n",
      "Currently looking at {folder}\n",
      "n\n",
      "The subfolders are:\n",
      "\n",
      "\n",
      "The subfolders are:\n",
      "File: 5dd08eaa3bac34493025bf3630bc2dd19f78ab\n",
      "File: b8ad289afcc784c386d5c3eb757fc54007f20f\n",
      "\n",
      "\n",
      "Currently looking at {folder}\n",
      "n\n",
      "The subfolders are:\n",
      "\n",
      "\n",
      "The subfolders are:\n",
      "File: 1130cab53d4a6d0d98f2410f14899bb29b1295\n",
      "File: 29a43f77babe3bae27f190c14cef0db5417763\n",
      "File: eb6a06ea75dc5973b91c92c0311a795f074ee0\n",
      "\n",
      "\n",
      "Currently looking at {folder}\n",
      "n\n",
      "The subfolders are:\n",
      "\n",
      "\n",
      "The subfolders are:\n",
      "File: 84f7783c674b50ff0420c6d8c554e03aeef105\n",
      "\n",
      "\n",
      "Currently looking at {folder}\n",
      "n\n",
      "The subfolders are:\n",
      "\n",
      "\n",
      "The subfolders are:\n",
      "File: 23a23656c45bcd391bc9081316f8db08042d21\n",
      "\n",
      "\n",
      "Currently looking at {folder}\n",
      "n\n",
      "The subfolders are:\n",
      "\n",
      "\n",
      "The subfolders are:\n",
      "File: faf819b65fbed2dc72b7567337b98973d71deb\n",
      "\n",
      "\n",
      "Currently looking at {folder}\n",
      "n\n",
      "The subfolders are:\n",
      "\n",
      "\n",
      "The subfolders are:\n",
      "File: baacc37b211e2f48fd9a0eaa92dfd46ed2d896\n",
      "File: f1ed5be0de1dbb1b516211f405a15be7d8704c\n",
      "\n",
      "\n",
      "Currently looking at {folder}\n",
      "n\n",
      "The subfolders are:\n",
      "\n",
      "\n",
      "The subfolders are:\n",
      "File: 200bfe4c447c2b0ec405322043d03ee2b77144\n",
      "File: c6a56a53b39895cb39cea798ddc4b20f4b69ff\n",
      "\n",
      "\n",
      "Currently looking at {folder}\n",
      "n\n",
      "The subfolders are:\n",
      "\n",
      "\n",
      "The subfolders are:\n",
      "File: 4b56f74c9dd1ac66764f54d35525bebdf81c89\n",
      "File: 90750e7f7f6ef1d9128547a7f5901ead43dd3f\n",
      "\n",
      "\n",
      "Currently looking at {folder}\n",
      "n\n",
      "The subfolders are:\n",
      "\n",
      "\n",
      "The subfolders are:\n",
      "File: b420509b2f8d37813e1997427b8dba402aef9e\n",
      "\n",
      "\n",
      "Currently looking at {folder}\n",
      "n\n",
      "The subfolders are:\n",
      "\n",
      "\n",
      "The subfolders are:\n",
      "File: 09fe7ff6c43255fa68820c48e6d981f22f498f\n",
      "\n",
      "\n",
      "Currently looking at {folder}\n",
      "n\n",
      "The subfolders are:\n",
      "\n",
      "\n",
      "The subfolders are:\n",
      "File: 67abd0d0bc73dcbcee6b62719c0074843e4555\n",
      "File: c38bce5c2b8e84d9f2b8d6d00f7af34d28820c\n",
      "\n",
      "\n",
      "Currently looking at {folder}\n",
      "n\n",
      "The subfolders are:\n",
      "\n",
      "\n",
      "The subfolders are:\n",
      "File: 90544d09f138f0282cb9d06716edfd694490ff\n",
      "\n",
      "\n",
      "Currently looking at {folder}\n",
      "n\n",
      "The subfolders are:\n",
      "\n",
      "\n",
      "The subfolders are:\n",
      "File: 51af1bf67bc420cf424a9cf9a978aa511edbab\n",
      "\n",
      "\n",
      "Currently looking at {folder}\n",
      "n\n",
      "The subfolders are:\n",
      "\n",
      "\n",
      "The subfolders are:\n",
      "File: 675430b5f15ec8a60fded4efa34712585fd52f\n",
      "\n",
      "\n",
      "Currently looking at {folder}\n",
      "n\n",
      "The subfolders are:\n",
      "\n",
      "\n",
      "The subfolders are:\n",
      "File: 11837c3a0f4a484d052d600b62ac13f1c813f8\n",
      "\n",
      "\n",
      "Currently looking at {folder}\n",
      "n\n",
      "The subfolders are:\n",
      "\n",
      "\n",
      "The subfolders are:\n",
      "File: 71ee801fc920fbe85235312dcfda88f10febcf\n",
      "\n",
      "\n",
      "Currently looking at {folder}\n",
      "n\n",
      "The subfolders are:\n",
      "\n",
      "\n",
      "The subfolders are:\n",
      "File: 1a55330b63aa0e6b24195ddf44788c147b81d7\n",
      "\n",
      "\n",
      "Currently looking at {folder}\n",
      "n\n",
      "The subfolders are:\n",
      "\n",
      "\n",
      "The subfolders are:\n",
      "File: edeb0f548984f46165203c82c3e26f5e6f0e68\n",
      "\n",
      "\n",
      "Currently looking at {folder}\n",
      "n\n",
      "The subfolders are:\n",
      "\n",
      "\n",
      "The subfolders are:\n",
      "File: 0c32f7a475495c49a1396ceb5ac03b81370dba\n",
      "File: c28dd192908200940cfd5a4d1756e46ae269de\n",
      "\n",
      "\n",
      "Currently looking at {folder}\n",
      "n\n",
      "The subfolders are:\n",
      "\n",
      "\n",
      "The subfolders are:\n",
      "File: 8eba52d51614036366c1b8f9e5401b89f0f6ac\n",
      "File: f313d7e7db261c1796eb539624ddfe49d4edb3\n",
      "\n",
      "\n",
      "Currently looking at {folder}\n",
      "n\n",
      "The subfolders are:\n",
      "\n",
      "\n",
      "The subfolders are:\n",
      "\n",
      "\n",
      "Currently looking at {folder}\n",
      "n\n",
      "The subfolders are:\n",
      "\n",
      "\n",
      "The subfolders are:\n",
      "File: pack-e6018403bc6db4e53cecdafa1842cf498e995649.idx\n",
      "File: pack-e6018403bc6db4e53cecdafa1842cf498e995649.pack\n",
      "\n",
      "\n",
      "Currently looking at {folder}\n",
      "n\n",
      "The subfolders are:\n",
      "Subfolder: heads\n",
      "Subfolder: remotes\n",
      "Subfolder: tags\n",
      "\n",
      "\n",
      "The subfolders are:\n",
      "\n",
      "\n",
      "Currently looking at {folder}\n",
      "n\n",
      "The subfolders are:\n",
      "\n",
      "\n",
      "The subfolders are:\n",
      "File: main\n",
      "\n",
      "\n",
      "Currently looking at {folder}\n",
      "n\n",
      "The subfolders are:\n",
      "Subfolder: origin\n",
      "\n",
      "\n",
      "The subfolders are:\n",
      "\n",
      "\n",
      "Currently looking at {folder}\n",
      "n\n",
      "The subfolders are:\n",
      "\n",
      "\n",
      "The subfolders are:\n",
      "File: HEAD\n",
      "File: main\n",
      "\n",
      "\n",
      "Currently looking at {folder}\n",
      "n\n",
      "The subfolders are:\n",
      "\n",
      "\n",
      "The subfolders are:\n",
      "\n",
      "\n",
      "Currently looking at {folder}\n",
      "n\n",
      "The subfolders are:\n",
      "\n",
      "\n",
      "The subfolders are:\n",
      "File: BlackJack-checkpoint.ipynb\n",
      "File: Dataclasses-checkpoint.ipynb\n",
      "File: Decorators-checkpoint.ipynb\n",
      "File: Error_And_Exception_Handling-checkpoint.ipynb\n",
      "File: Generators-checkpoint.ipynb\n",
      "File: Lambda&Map-checkpoint.ipynb\n",
      "File: Methods_Functions-checkpoint.ipynb\n",
      "File: Modules-checkpoint.ipynb\n",
      "File: Modules_And_Packages-checkpoint.ipynb\n",
      "File: NestedStatements-checkpoint.ipynb\n",
      "File: Object Oriented Programming (OOP)-checkpoint.ipynb\n",
      "File: ObjectOrientedProgramming(OOP)-checkpoint.ipynb\n",
      "File: Python_Bootcamp_Functions_Challenging_Problems-checkpoint.ipynb\n",
      "File: Python_Bootcamp_Functions_Level2_Problems-checkpoint.ipynb\n",
      "File: TicTacToe_Board-checkpoint.ipynb\n",
      "\n",
      "\n"
     ]
    }
   ],
   "source": [
    "for folder, sub_folders, files in os.walk(file_path):\n",
    "    print(\"Currently looking at {folder}\")\n",
    "    print('n')\n",
    "    print(\"The subfolders are:\")\n",
    "    for sub_fold in sub_folders:\n",
    "        print(f'Subfolder: {sub_fold}')\n",
    "              \n",
    "    print('\\n')\n",
    "    print(\"The subfolders are:\")\n",
    "    for f in files:\n",
    "        print(f'File: {f}')\n",
    "    print('\\n')"
   ]
  },
  {
   "cell_type": "code",
   "execution_count": 58,
   "metadata": {},
   "outputs": [
    {
     "data": {
      "text/plain": [
       "'C:\\\\Users\\\\i.b.ossi\\\\Python'"
      ]
     },
     "execution_count": 58,
     "metadata": {},
     "output_type": "execute_result"
    }
   ],
   "source": [
    "pwd"
   ]
  },
  {
   "cell_type": "code",
   "execution_count": 59,
   "metadata": {},
   "outputs": [],
   "source": [
    "os.chdir('C:\\\\Users\\\\i.b.ossi\\\\Pictures')"
   ]
  },
  {
   "cell_type": "code",
   "execution_count": 60,
   "metadata": {},
   "outputs": [
    {
     "data": {
      "text/plain": [
       "'C:\\\\Users\\\\i.b.ossi\\\\Pictures'"
      ]
     },
     "execution_count": 60,
     "metadata": {},
     "output_type": "execute_result"
    }
   ],
   "source": [
    "pwd"
   ]
  },
  {
   "cell_type": "code",
   "execution_count": 61,
   "metadata": {},
   "outputs": [
    {
     "data": {
      "text/plain": [
       "['52.png',\n",
       " 'Bank.PNG',\n",
       " 'Bool.PNG',\n",
       " 'Camera Roll',\n",
       " 'CGuo.PNG',\n",
       " 'Chips.PNG',\n",
       " 'Circle.PNG',\n",
       " 'Cy.PNG',\n",
       " 'desktop.ini',\n",
       " 'finally.PNG',\n",
       " 'guo.PNG',\n",
       " 'Hand.PNG',\n",
       " 'last.PNG',\n",
       " 'Loop.PNG',\n",
       " 'magic.PNG',\n",
       " 'Packages.PNG',\n",
       " 'peace.PNG',\n",
       " 'Play.PNG',\n",
       " 'Saved Pictures',\n",
       " 'Shiva.png',\n",
       " 'Shiva2.jpg',\n",
       " 'Snw.PNG',\n",
       " 'Step 8.PNG',\n",
       " 'Stuck.PNG',\n",
       " 'Try.PNG']"
      ]
     },
     "execution_count": 61,
     "metadata": {},
     "output_type": "execute_result"
    }
   ],
   "source": [
    "os.listdir()"
   ]
  },
  {
   "cell_type": "code",
   "execution_count": 63,
   "metadata": {},
   "outputs": [],
   "source": [
    "send2trash.send2trash('52.png')"
   ]
  },
  {
   "cell_type": "raw",
   "metadata": {},
   "source": [
    "os.listdir()"
   ]
  },
  {
   "cell_type": "code",
   "execution_count": 64,
   "metadata": {},
   "outputs": [
    {
     "data": {
      "text/plain": [
       "['Bank.PNG',\n",
       " 'Bool.PNG',\n",
       " 'Camera Roll',\n",
       " 'CGuo.PNG',\n",
       " 'Chips.PNG',\n",
       " 'Circle.PNG',\n",
       " 'Cy.PNG',\n",
       " 'desktop.ini',\n",
       " 'finally.PNG',\n",
       " 'guo.PNG',\n",
       " 'Hand.PNG',\n",
       " 'last.PNG',\n",
       " 'Loop.PNG',\n",
       " 'magic.PNG',\n",
       " 'Packages.PNG',\n",
       " 'peace.PNG',\n",
       " 'Play.PNG',\n",
       " 'Saved Pictures',\n",
       " 'Shiva.png',\n",
       " 'Shiva2.jpg',\n",
       " 'Snw.PNG',\n",
       " 'Step 8.PNG',\n",
       " 'Stuck.PNG',\n",
       " 'Try.PNG']"
      ]
     },
     "execution_count": 64,
     "metadata": {},
     "output_type": "execute_result"
    }
   ],
   "source": [
    "os.listdir()"
   ]
  },
  {
   "cell_type": "code",
   "execution_count": 65,
   "metadata": {},
   "outputs": [],
   "source": [
    "send2trash.send2trash('Bank.PNG')"
   ]
  },
  {
   "cell_type": "code",
   "execution_count": 66,
   "metadata": {},
   "outputs": [
    {
     "data": {
      "text/plain": [
       "['Bool.PNG',\n",
       " 'Camera Roll',\n",
       " 'CGuo.PNG',\n",
       " 'Chips.PNG',\n",
       " 'Circle.PNG',\n",
       " 'Cy.PNG',\n",
       " 'desktop.ini',\n",
       " 'finally.PNG',\n",
       " 'guo.PNG',\n",
       " 'Hand.PNG',\n",
       " 'last.PNG',\n",
       " 'Loop.PNG',\n",
       " 'magic.PNG',\n",
       " 'Packages.PNG',\n",
       " 'peace.PNG',\n",
       " 'Play.PNG',\n",
       " 'Saved Pictures',\n",
       " 'Shiva.png',\n",
       " 'Shiva2.jpg',\n",
       " 'Snw.PNG',\n",
       " 'Step 8.PNG',\n",
       " 'Stuck.PNG',\n",
       " 'Try.PNG']"
      ]
     },
     "execution_count": 66,
     "metadata": {},
     "output_type": "execute_result"
    }
   ],
   "source": [
    "os.listdir()"
   ]
  },
  {
   "cell_type": "code",
   "execution_count": 67,
   "metadata": {},
   "outputs": [
    {
     "name": "stdout",
     "output_type": "stream",
     "text": [
      "deleted :  C:\\Users\\i.b.ossi\\Pictures\\Bool.PNG\n",
      "deleted :  C:\\Users\\i.b.ossi\\Pictures\\CGuo.PNG\n",
      "deleted :  C:\\Users\\i.b.ossi\\Pictures\\Chips.PNG\n",
      "deleted :  C:\\Users\\i.b.ossi\\Pictures\\Circle.PNG\n",
      "deleted :  C:\\Users\\i.b.ossi\\Pictures\\Cy.PNG\n",
      "deleted :  C:\\Users\\i.b.ossi\\Pictures\\finally.PNG\n",
      "deleted :  C:\\Users\\i.b.ossi\\Pictures\\guo.PNG\n",
      "deleted :  C:\\Users\\i.b.ossi\\Pictures\\Hand.PNG\n",
      "deleted :  C:\\Users\\i.b.ossi\\Pictures\\last.PNG\n",
      "deleted :  C:\\Users\\i.b.ossi\\Pictures\\Loop.PNG\n",
      "deleted :  C:\\Users\\i.b.ossi\\Pictures\\magic.PNG\n",
      "deleted :  C:\\Users\\i.b.ossi\\Pictures\\Packages.PNG\n",
      "deleted :  C:\\Users\\i.b.ossi\\Pictures\\peace.PNG\n",
      "deleted :  C:\\Users\\i.b.ossi\\Pictures\\Play.PNG\n",
      "deleted :  C:\\Users\\i.b.ossi\\Pictures\\Snw.PNG\n",
      "deleted :  C:\\Users\\i.b.ossi\\Pictures\\Step 8.PNG\n",
      "deleted :  C:\\Users\\i.b.ossi\\Pictures\\Stuck.PNG\n",
      "deleted :  C:\\Users\\i.b.ossi\\Pictures\\Try.PNG\n"
     ]
    }
   ],
   "source": [
    "for folder, subfolders, files in os.walk('C:\\\\Users\\\\i.b.ossi\\\\Pictures'): \n",
    "      \n",
    "    for file in files: \n",
    "        \n",
    "        # checking if file is \n",
    "        # of .txt type \n",
    "        if file.endswith('.PNG'): \n",
    "            path = os.path.join(folder, file) \n",
    "              \n",
    "            # printing the path of the file \n",
    "            # to be deleted \n",
    "            print('deleted : ', path ) \n",
    "              \n",
    "            # deleting the file \n",
    "            send2trash.send2trash(path)"
   ]
  },
  {
   "cell_type": "code",
   "execution_count": 68,
   "metadata": {},
   "outputs": [
    {
     "data": {
      "text/plain": [
       "['Camera Roll', 'desktop.ini', 'Saved Pictures', 'Shiva.png', 'Shiva2.jpg']"
      ]
     },
     "execution_count": 68,
     "metadata": {},
     "output_type": "execute_result"
    }
   ],
   "source": [
    "os.listdir()"
   ]
  },
  {
   "cell_type": "code",
   "execution_count": 69,
   "metadata": {},
   "outputs": [],
   "source": [
    "os.chdir('C:\\\\Users\\\\i.b.ossi\\\\Downloads')"
   ]
  },
  {
   "cell_type": "code",
   "execution_count": 70,
   "metadata": {},
   "outputs": [
    {
     "data": {
      "text/plain": [
       "['001.tif',\n",
       " '030721_Ilaria_Bossi_Business Analyst.docx',\n",
       " '030721_Ilaria_Bossi_Business Analyst.pdf',\n",
       " '2018 Acronym List.xlsx',\n",
       " '2020AuditCommittee (1).pdf',\n",
       " '2020AuditCommittee.pdf',\n",
       " '5 year Strategy & Vision Aug2020.pdf',\n",
       " '7216 Consent Form 08B General Disclosure - Group Evergreen Letter  (Albert) Glenn  Albert to sign.pdf',\n",
       " '@FORM - FP NDA 2020-Q2.docx',\n",
       " 'A07 - Fareportal Rep Letter (1).docx',\n",
       " 'A07 - Fareportal Rep Letter (1).pdf',\n",
       " 'Adrian_Ghisa_resume.pdf',\n",
       " 'Amit Bedi CV.doc',\n",
       " 'Amit_Bedi.pdf',\n",
       " 'Annual Performance Review 2020 - Glenn C.pdf',\n",
       " 'Annual Performance Review 2020 - Rahul K.pdf',\n",
       " 'Annual Performance Review 2020 - Rajiv M.pdf',\n",
       " 'Annual Performance Review 2020 - Werner K.pdf',\n",
       " 'Approval_-_Data_Intensity_-_Renewal_and_Rate_Increase (1).zip',\n",
       " 'Approval_-_Data_Intensity_-_Renewal_and_Rate_Increase.zip',\n",
       " 'Approval_-_Dell_-_EMC_-_HW_SW_Support_and_Maintenance.zip',\n",
       " 'Approval_request_-_Cisco_Smartnet_Support_Renewal.zip',\n",
       " 'Audit Committee Minutes 11.14.19 (1).pdf',\n",
       " 'Audit Committee Minutes 11.14.19.pdf',\n",
       " 'Audit Committee Minutes 2.11.21.docx',\n",
       " 'Bank account change request.docx',\n",
       " 'Bank account change request_AUS.docx',\n",
       " 'Bank account change request_AUS.pdf',\n",
       " 'Bank account change request_Australia (1).docx',\n",
       " 'Bank account change request_Australia.docx',\n",
       " 'Bank account change request_HK.docx',\n",
       " 'Bank account change request_Singapore.docx',\n",
       " 'Bio (Updated Oct 28, 2020).docx',\n",
       " 'Cambay Consulting - General Terms  Conditions - Chetan Patil - FP 20210212 - Signed.pdf',\n",
       " 'Dawn_B_DeSantis_122.docx',\n",
       " 'Derry _ Payroll Resume.docx',\n",
       " \"Duke's Court Travel Ltd Colombo Agreement.pdf\",\n",
       " 'EPSON002.PDF',\n",
       " 'Fareportal 12.31.20_Equity Valuation Proposal_CVA (1).pdf',\n",
       " 'Fareportal 12.31.20_Equity Valuation Proposal_CVA.pdf',\n",
       " 'fareportal dec 2020.pdf',\n",
       " 'Fareportal Expense Report.xlsx',\n",
       " 'Fareportal Inc 58336392 - Y2 Trueup - 20210216.pdf',\n",
       " 'Fareportal MNDA.pdf',\n",
       " 'FHI_State Registrations-DRAFT.xlsx',\n",
       " 'Finance Nominations for Q4 2020.xlsx',\n",
       " 'FP_Overview_201221 (1).pptx',\n",
       " 'FP_Overview_201221 (2).pptx',\n",
       " 'FP_Overview_201221.pptx',\n",
       " 'Frontier Airlines Strategic Partner Conference_October 2021 (1).pdf',\n",
       " 'Frontier Airlines Strategic Partner Conference_October 2021.pdf',\n",
       " 'FW__Approval_-_Fortinet_Maintenance_&_Support_Renewal.zip',\n",
       " 'FW__Approval_-_Proofpoint_-_Renewal_for_Security_Software (1).zip',\n",
       " 'FW__Approval_-_Proofpoint_-_Renewal_for_Security_Software.zip',\n",
       " 'FW__Fareportal_Travelong_Nexus_Study,_Updated_Returns,_and_S_Election.zip',\n",
       " 'FW__Income_Tax_Assessment_2016-2017_-_TP_Order.zip',\n",
       " 'FW__Interview_Availability____Amit_Bedi_(VP_Finance_-_Bain_&_Company)____VP_Finance_Role(Confidential)_____GGN (1).zip',\n",
       " 'FW__Interview_Availability____Amit_Bedi_(VP_Finance_-_Bain_&_Company)____VP_Finance_Role(Confidential)_____GGN.zip',\n",
       " 'Fw__Winston_Flowers_Invoice_-_2020_Holiday_Gifts.zip',\n",
       " 'FW__[E]_Verizon_Escrow_Documents_(Reference__NCS-1049526).zip',\n",
       " 'Giya_Diwaan (1).pdf',\n",
       " 'Giya_Diwaan.pdf',\n",
       " 'Google Search Advertising Overcharge Claims - Executive Summary (PDF).pdf',\n",
       " 'Invoice 313510 (Baskits - Canada Suppliers).pdf',\n",
       " 'Juhi Sinha_ Legal Head.docx',\n",
       " 'Juniper Support - Myriad360 - 115070.v2.10 - 20210217.pdf',\n",
       " 'Kristina Davis Resume CCO.pdf',\n",
       " 'Loyalty_2021.xlsx',\n",
       " 'Max Gruvman Resume  2021 .pdf',\n",
       " 'Payroll Manager_Fareportal NYC.docx',\n",
       " 'Rob Brown Resume CCO.pdf',\n",
       " 'Roberto Cuesta Resumes CCO.docx',\n",
       " 'Sherpa_-_Approval_and_Signature_request.zip',\n",
       " 'SkiftDistributionSummit_TopcsDiscussion_Rev3.docx',\n",
       " 'skift_Streamyard_HowTo (1).docx',\n",
       " 'skift_Streamyard_HowTo (2).docx',\n",
       " 'skift_Streamyard_HowTo (3).docx',\n",
       " 'skift_Streamyard_HowTo.docx',\n",
       " 'Sublime Text Build 3211 Setup.exe',\n",
       " 'Summary - 10 Feb 2021.pdf',\n",
       " 'Test AC recording-20210211_095705-Meeting Recording.mp4',\n",
       " 'Travelong FP Letter Head.docx']"
      ]
     },
     "execution_count": 70,
     "metadata": {},
     "output_type": "execute_result"
    }
   ],
   "source": [
    "os.listdir()"
   ]
  },
  {
   "cell_type": "code",
   "execution_count": 73,
   "metadata": {},
   "outputs": [
    {
     "name": "stdout",
     "output_type": "stream",
     "text": [
      "deleted :  C:\\Users\\i.b.ossi\\Downloads\\030721_Ilaria_Bossi_Business Analyst.pdf\n",
      "deleted :  C:\\Users\\i.b.ossi\\Downloads\\2020AuditCommittee (1).pdf\n",
      "deleted :  C:\\Users\\i.b.ossi\\Downloads\\2020AuditCommittee.pdf\n",
      "deleted :  C:\\Users\\i.b.ossi\\Downloads\\5 year Strategy & Vision Aug2020.pdf\n",
      "deleted :  C:\\Users\\i.b.ossi\\Downloads\\7216 Consent Form 08B General Disclosure - Group Evergreen Letter  (Albert) Glenn  Albert to sign.pdf\n",
      "deleted :  C:\\Users\\i.b.ossi\\Downloads\\A07 - Fareportal Rep Letter (1).pdf\n",
      "deleted :  C:\\Users\\i.b.ossi\\Downloads\\Adrian_Ghisa_resume.pdf\n",
      "deleted :  C:\\Users\\i.b.ossi\\Downloads\\Amit_Bedi.pdf\n",
      "deleted :  C:\\Users\\i.b.ossi\\Downloads\\Annual Performance Review 2020 - Glenn C.pdf\n",
      "deleted :  C:\\Users\\i.b.ossi\\Downloads\\Annual Performance Review 2020 - Rahul K.pdf\n",
      "deleted :  C:\\Users\\i.b.ossi\\Downloads\\Annual Performance Review 2020 - Rajiv M.pdf\n",
      "deleted :  C:\\Users\\i.b.ossi\\Downloads\\Annual Performance Review 2020 - Werner K.pdf\n",
      "deleted :  C:\\Users\\i.b.ossi\\Downloads\\Audit Committee Minutes 11.14.19 (1).pdf\n",
      "deleted :  C:\\Users\\i.b.ossi\\Downloads\\Audit Committee Minutes 11.14.19.pdf\n",
      "deleted :  C:\\Users\\i.b.ossi\\Downloads\\Bank account change request_AUS.pdf\n",
      "deleted :  C:\\Users\\i.b.ossi\\Downloads\\Cambay Consulting - General Terms  Conditions - Chetan Patil - FP 20210212 - Signed.pdf\n",
      "deleted :  C:\\Users\\i.b.ossi\\Downloads\\Duke's Court Travel Ltd Colombo Agreement.pdf\n",
      "deleted :  C:\\Users\\i.b.ossi\\Downloads\\Fareportal 12.31.20_Equity Valuation Proposal_CVA (1).pdf\n",
      "deleted :  C:\\Users\\i.b.ossi\\Downloads\\Fareportal 12.31.20_Equity Valuation Proposal_CVA.pdf\n",
      "deleted :  C:\\Users\\i.b.ossi\\Downloads\\fareportal dec 2020.pdf\n",
      "deleted :  C:\\Users\\i.b.ossi\\Downloads\\Fareportal Inc 58336392 - Y2 Trueup - 20210216.pdf\n",
      "deleted :  C:\\Users\\i.b.ossi\\Downloads\\Fareportal MNDA.pdf\n",
      "deleted :  C:\\Users\\i.b.ossi\\Downloads\\Frontier Airlines Strategic Partner Conference_October 2021 (1).pdf\n",
      "deleted :  C:\\Users\\i.b.ossi\\Downloads\\Frontier Airlines Strategic Partner Conference_October 2021.pdf\n",
      "deleted :  C:\\Users\\i.b.ossi\\Downloads\\Giya_Diwaan (1).pdf\n",
      "deleted :  C:\\Users\\i.b.ossi\\Downloads\\Giya_Diwaan.pdf\n",
      "deleted :  C:\\Users\\i.b.ossi\\Downloads\\Google Search Advertising Overcharge Claims - Executive Summary (PDF).pdf\n",
      "deleted :  C:\\Users\\i.b.ossi\\Downloads\\Invoice 313510 (Baskits - Canada Suppliers).pdf\n",
      "deleted :  C:\\Users\\i.b.ossi\\Downloads\\Juniper Support - Myriad360 - 115070.v2.10 - 20210217.pdf\n",
      "deleted :  C:\\Users\\i.b.ossi\\Downloads\\Kristina Davis Resume CCO.pdf\n",
      "deleted :  C:\\Users\\i.b.ossi\\Downloads\\Max Gruvman Resume  2021 .pdf\n",
      "deleted :  C:\\Users\\i.b.ossi\\Downloads\\Rob Brown Resume CCO.pdf\n",
      "deleted :  C:\\Users\\i.b.ossi\\Downloads\\Summary - 10 Feb 2021.pdf\n"
     ]
    }
   ],
   "source": [
    "for folder, subfolders, files in os.walk('C:\\\\Users\\\\i.b.ossi\\\\Downloads'): \n",
    "      \n",
    "    for file in files: \n",
    "        \n",
    "        # checking if file is \n",
    "        # of .txt type \n",
    "        if file.endswith('.pdf'): \n",
    "            path = os.path.join(folder, file) \n",
    "              \n",
    "            # printing the path of the file \n",
    "            # to be deleted \n",
    "            print('deleted : ', path ) \n",
    "              \n",
    "            # deleting the file \n",
    "            send2trash.send2trash(path)"
   ]
  },
  {
   "cell_type": "code",
   "execution_count": 74,
   "metadata": {},
   "outputs": [
    {
     "data": {
      "text/plain": [
       "['001.tif',\n",
       " '030721_Ilaria_Bossi_Business Analyst.docx',\n",
       " '2018 Acronym List.xlsx',\n",
       " '@FORM - FP NDA 2020-Q2.docx',\n",
       " 'A07 - Fareportal Rep Letter (1).docx',\n",
       " 'Amit Bedi CV.doc',\n",
       " 'Approval_-_Data_Intensity_-_Renewal_and_Rate_Increase (1).zip',\n",
       " 'Approval_-_Data_Intensity_-_Renewal_and_Rate_Increase.zip',\n",
       " 'Approval_-_Dell_-_EMC_-_HW_SW_Support_and_Maintenance.zip',\n",
       " 'Approval_request_-_Cisco_Smartnet_Support_Renewal.zip',\n",
       " 'Audit Committee Minutes 2.11.21.docx',\n",
       " 'Bank account change request.docx',\n",
       " 'Bank account change request_AUS.docx',\n",
       " 'Bank account change request_Australia (1).docx',\n",
       " 'Bank account change request_Australia.docx',\n",
       " 'Bank account change request_HK.docx',\n",
       " 'Bank account change request_Singapore.docx',\n",
       " 'Bio (Updated Oct 28, 2020).docx',\n",
       " 'Dawn_B_DeSantis_122.docx',\n",
       " 'Derry _ Payroll Resume.docx',\n",
       " 'EPSON002.PDF',\n",
       " 'Fareportal Expense Report.xlsx',\n",
       " 'FHI_State Registrations-DRAFT.xlsx',\n",
       " 'Finance Nominations for Q4 2020.xlsx',\n",
       " 'FP_Overview_201221 (1).pptx',\n",
       " 'FP_Overview_201221 (2).pptx',\n",
       " 'FP_Overview_201221.pptx',\n",
       " 'FW__Approval_-_Fortinet_Maintenance_&_Support_Renewal.zip',\n",
       " 'FW__Approval_-_Proofpoint_-_Renewal_for_Security_Software (1).zip',\n",
       " 'FW__Approval_-_Proofpoint_-_Renewal_for_Security_Software.zip',\n",
       " 'FW__Fareportal_Travelong_Nexus_Study,_Updated_Returns,_and_S_Election.zip',\n",
       " 'FW__Income_Tax_Assessment_2016-2017_-_TP_Order.zip',\n",
       " 'FW__Interview_Availability____Amit_Bedi_(VP_Finance_-_Bain_&_Company)____VP_Finance_Role(Confidential)_____GGN (1).zip',\n",
       " 'FW__Interview_Availability____Amit_Bedi_(VP_Finance_-_Bain_&_Company)____VP_Finance_Role(Confidential)_____GGN.zip',\n",
       " 'Fw__Winston_Flowers_Invoice_-_2020_Holiday_Gifts.zip',\n",
       " 'FW__[E]_Verizon_Escrow_Documents_(Reference__NCS-1049526).zip',\n",
       " 'Juhi Sinha_ Legal Head.docx',\n",
       " 'Loyalty_2021.xlsx',\n",
       " 'Payroll Manager_Fareportal NYC.docx',\n",
       " 'Roberto Cuesta Resumes CCO.docx',\n",
       " 'Sherpa_-_Approval_and_Signature_request.zip',\n",
       " 'SkiftDistributionSummit_TopcsDiscussion_Rev3.docx',\n",
       " 'skift_Streamyard_HowTo (1).docx',\n",
       " 'skift_Streamyard_HowTo (2).docx',\n",
       " 'skift_Streamyard_HowTo (3).docx',\n",
       " 'skift_Streamyard_HowTo.docx',\n",
       " 'Sublime Text Build 3211 Setup.exe',\n",
       " 'Test AC recording-20210211_095705-Meeting Recording.mp4',\n",
       " 'Travelong FP Letter Head.docx']"
      ]
     },
     "execution_count": 74,
     "metadata": {},
     "output_type": "execute_result"
    }
   ],
   "source": [
    "os.listdir()"
   ]
  },
  {
   "cell_type": "code",
   "execution_count": 75,
   "metadata": {},
   "outputs": [
    {
     "name": "stdout",
     "output_type": "stream",
     "text": [
      "deleted :  C:\\Users\\i.b.ossi\\Downloads\\Approval_-_Data_Intensity_-_Renewal_and_Rate_Increase (1).zip\n",
      "deleted :  C:\\Users\\i.b.ossi\\Downloads\\Approval_-_Data_Intensity_-_Renewal_and_Rate_Increase.zip\n",
      "deleted :  C:\\Users\\i.b.ossi\\Downloads\\Approval_-_Dell_-_EMC_-_HW_SW_Support_and_Maintenance.zip\n",
      "deleted :  C:\\Users\\i.b.ossi\\Downloads\\Approval_request_-_Cisco_Smartnet_Support_Renewal.zip\n",
      "deleted :  C:\\Users\\i.b.ossi\\Downloads\\FW__Approval_-_Fortinet_Maintenance_&_Support_Renewal.zip\n",
      "deleted :  C:\\Users\\i.b.ossi\\Downloads\\FW__Approval_-_Proofpoint_-_Renewal_for_Security_Software (1).zip\n",
      "deleted :  C:\\Users\\i.b.ossi\\Downloads\\FW__Approval_-_Proofpoint_-_Renewal_for_Security_Software.zip\n",
      "deleted :  C:\\Users\\i.b.ossi\\Downloads\\FW__Fareportal_Travelong_Nexus_Study,_Updated_Returns,_and_S_Election.zip\n",
      "deleted :  C:\\Users\\i.b.ossi\\Downloads\\FW__Income_Tax_Assessment_2016-2017_-_TP_Order.zip\n",
      "deleted :  C:\\Users\\i.b.ossi\\Downloads\\FW__Interview_Availability____Amit_Bedi_(VP_Finance_-_Bain_&_Company)____VP_Finance_Role(Confidential)_____GGN (1).zip\n",
      "deleted :  C:\\Users\\i.b.ossi\\Downloads\\FW__Interview_Availability____Amit_Bedi_(VP_Finance_-_Bain_&_Company)____VP_Finance_Role(Confidential)_____GGN.zip\n",
      "deleted :  C:\\Users\\i.b.ossi\\Downloads\\Fw__Winston_Flowers_Invoice_-_2020_Holiday_Gifts.zip\n",
      "deleted :  C:\\Users\\i.b.ossi\\Downloads\\FW__[E]_Verizon_Escrow_Documents_(Reference__NCS-1049526).zip\n",
      "deleted :  C:\\Users\\i.b.ossi\\Downloads\\Sherpa_-_Approval_and_Signature_request.zip\n"
     ]
    }
   ],
   "source": [
    "for folder, subfolders, files in os.walk('C:\\\\Users\\\\i.b.ossi\\\\Downloads'): \n",
    "      \n",
    "    for file in files: \n",
    "        \n",
    "        # checking if file is \n",
    "        # of .txt type \n",
    "        if file.endswith('.zip'): \n",
    "            path = os.path.join(folder, file) \n",
    "              \n",
    "            # printing the path of the file \n",
    "            # to be deleted \n",
    "            print('deleted : ', path ) \n",
    "              \n",
    "            # deleting the file \n",
    "            send2trash.send2trash(path)"
   ]
  },
  {
   "cell_type": "code",
   "execution_count": 76,
   "metadata": {},
   "outputs": [
    {
     "data": {
      "text/plain": [
       "['001.tif',\n",
       " '030721_Ilaria_Bossi_Business Analyst.docx',\n",
       " '2018 Acronym List.xlsx',\n",
       " '@FORM - FP NDA 2020-Q2.docx',\n",
       " 'A07 - Fareportal Rep Letter (1).docx',\n",
       " 'Amit Bedi CV.doc',\n",
       " 'Audit Committee Minutes 2.11.21.docx',\n",
       " 'Bank account change request.docx',\n",
       " 'Bank account change request_AUS.docx',\n",
       " 'Bank account change request_Australia (1).docx',\n",
       " 'Bank account change request_Australia.docx',\n",
       " 'Bank account change request_HK.docx',\n",
       " 'Bank account change request_Singapore.docx',\n",
       " 'Bio (Updated Oct 28, 2020).docx',\n",
       " 'Dawn_B_DeSantis_122.docx',\n",
       " 'Derry _ Payroll Resume.docx',\n",
       " 'EPSON002.PDF',\n",
       " 'Fareportal Expense Report.xlsx',\n",
       " 'FHI_State Registrations-DRAFT.xlsx',\n",
       " 'Finance Nominations for Q4 2020.xlsx',\n",
       " 'FP_Overview_201221 (1).pptx',\n",
       " 'FP_Overview_201221 (2).pptx',\n",
       " 'FP_Overview_201221.pptx',\n",
       " 'Juhi Sinha_ Legal Head.docx',\n",
       " 'Loyalty_2021.xlsx',\n",
       " 'Payroll Manager_Fareportal NYC.docx',\n",
       " 'Roberto Cuesta Resumes CCO.docx',\n",
       " 'SkiftDistributionSummit_TopcsDiscussion_Rev3.docx',\n",
       " 'skift_Streamyard_HowTo (1).docx',\n",
       " 'skift_Streamyard_HowTo (2).docx',\n",
       " 'skift_Streamyard_HowTo (3).docx',\n",
       " 'skift_Streamyard_HowTo.docx',\n",
       " 'Sublime Text Build 3211 Setup.exe',\n",
       " 'Test AC recording-20210211_095705-Meeting Recording.mp4',\n",
       " 'Travelong FP Letter Head.docx']"
      ]
     },
     "execution_count": 76,
     "metadata": {},
     "output_type": "execute_result"
    }
   ],
   "source": [
    "os.listdir()"
   ]
  },
  {
   "cell_type": "markdown",
   "metadata": {},
   "source": [
    "Datetime Module"
   ]
  },
  {
   "cell_type": "code",
   "execution_count": 77,
   "metadata": {},
   "outputs": [],
   "source": [
    "import datetime"
   ]
  },
  {
   "cell_type": "code",
   "execution_count": 78,
   "metadata": {},
   "outputs": [],
   "source": [
    "my_time = datetime.time(2, 20)"
   ]
  },
  {
   "cell_type": "code",
   "execution_count": 79,
   "metadata": {},
   "outputs": [
    {
     "data": {
      "text/plain": [
       "20"
      ]
     },
     "execution_count": 79,
     "metadata": {},
     "output_type": "execute_result"
    }
   ],
   "source": [
    "my_time.minute"
   ]
  },
  {
   "cell_type": "code",
   "execution_count": 80,
   "metadata": {},
   "outputs": [
    {
     "data": {
      "text/plain": [
       "2"
      ]
     },
     "execution_count": 80,
     "metadata": {},
     "output_type": "execute_result"
    }
   ],
   "source": [
    "my_time.hour"
   ]
  },
  {
   "cell_type": "code",
   "execution_count": 81,
   "metadata": {},
   "outputs": [
    {
     "name": "stdout",
     "output_type": "stream",
     "text": [
      "02:20:00\n"
     ]
    }
   ],
   "source": [
    "print(my_time)"
   ]
  },
  {
   "cell_type": "code",
   "execution_count": 83,
   "metadata": {},
   "outputs": [],
   "source": [
    "#my_time objects only holds time information. This is how we can check out the date\n",
    "today = datetime.date.today()"
   ]
  },
  {
   "cell_type": "code",
   "execution_count": 86,
   "metadata": {},
   "outputs": [
    {
     "name": "stdout",
     "output_type": "stream",
     "text": [
      "2021-03-13\n"
     ]
    }
   ],
   "source": [
    "print(today)"
   ]
  },
  {
   "cell_type": "code",
   "execution_count": 87,
   "metadata": {},
   "outputs": [
    {
     "data": {
      "text/plain": [
       "2021"
      ]
     },
     "execution_count": 87,
     "metadata": {},
     "output_type": "execute_result"
    }
   ],
   "source": [
    "today.year"
   ]
  },
  {
   "cell_type": "code",
   "execution_count": 88,
   "metadata": {},
   "outputs": [
    {
     "data": {
      "text/plain": [
       "3"
      ]
     },
     "execution_count": 88,
     "metadata": {},
     "output_type": "execute_result"
    }
   ],
   "source": [
    "today.month"
   ]
  },
  {
   "cell_type": "code",
   "execution_count": 89,
   "metadata": {},
   "outputs": [
    {
     "data": {
      "text/plain": [
       "13"
      ]
     },
     "execution_count": 89,
     "metadata": {},
     "output_type": "execute_result"
    }
   ],
   "source": [
    "today.day"
   ]
  },
  {
   "cell_type": "code",
   "execution_count": 90,
   "metadata": {},
   "outputs": [
    {
     "data": {
      "text/plain": [
       "'Sat Mar 13 00:00:00 2021'"
      ]
     },
     "execution_count": 90,
     "metadata": {},
     "output_type": "execute_result"
    }
   ],
   "source": [
    "today.ctime()"
   ]
  },
  {
   "cell_type": "code",
   "execution_count": 91,
   "metadata": {},
   "outputs": [],
   "source": [
    "from datetime import datetime"
   ]
  },
  {
   "cell_type": "code",
   "execution_count": 94,
   "metadata": {},
   "outputs": [],
   "source": [
    "my_datetime = datetime(2021, 3, 13, 4, 50)"
   ]
  },
  {
   "cell_type": "code",
   "execution_count": 95,
   "metadata": {},
   "outputs": [
    {
     "name": "stdout",
     "output_type": "stream",
     "text": [
      "2021-03-13 04:50:00\n"
     ]
    }
   ],
   "source": [
    "print(my_datetime)"
   ]
  },
  {
   "cell_type": "code",
   "execution_count": 96,
   "metadata": {},
   "outputs": [],
   "source": [
    "my_datetime = my_datetime.replace(year = 2020)"
   ]
  },
  {
   "cell_type": "code",
   "execution_count": 97,
   "metadata": {},
   "outputs": [
    {
     "name": "stdout",
     "output_type": "stream",
     "text": [
      "2020-03-13 04:50:00\n"
     ]
    }
   ],
   "source": [
    "print(my_datetime)"
   ]
  },
  {
   "cell_type": "code",
   "execution_count": 99,
   "metadata": {},
   "outputs": [],
   "source": [
    "#DATES. Let's create 2 dates - You can perform all sorts of calculations this way\n",
    "from datetime import date\n",
    "date1 = date(2021, 10, 4)\n",
    "date2 = date(2020, 8, 3)"
   ]
  },
  {
   "cell_type": "code",
   "execution_count": 100,
   "metadata": {},
   "outputs": [],
   "source": [
    "result = date1 - date2"
   ]
  },
  {
   "cell_type": "code",
   "execution_count": 101,
   "metadata": {},
   "outputs": [
    {
     "name": "stdout",
     "output_type": "stream",
     "text": [
      "427 days, 0:00:00\n"
     ]
    }
   ],
   "source": [
    "print(result)"
   ]
  },
  {
   "cell_type": "code",
   "execution_count": 103,
   "metadata": {},
   "outputs": [
    {
     "data": {
      "text/plain": [
       "427"
      ]
     },
     "execution_count": 103,
     "metadata": {},
     "output_type": "execute_result"
    }
   ],
   "source": [
    "result.days"
   ]
  },
  {
   "cell_type": "markdown",
   "metadata": {},
   "source": [
    "MATH AND RANDOM MODULES"
   ]
  },
  {
   "cell_type": "code",
   "execution_count": 105,
   "metadata": {},
   "outputs": [
    {
     "name": "stdout",
     "output_type": "stream",
     "text": [
      "Help on built-in module math:\n",
      "\n",
      "NAME\n",
      "    math\n",
      "\n",
      "DESCRIPTION\n",
      "    This module provides access to the mathematical functions\n",
      "    defined by the C standard.\n",
      "\n",
      "FUNCTIONS\n",
      "    acos(x, /)\n",
      "        Return the arc cosine (measured in radians) of x.\n",
      "    \n",
      "    acosh(x, /)\n",
      "        Return the inverse hyperbolic cosine of x.\n",
      "    \n",
      "    asin(x, /)\n",
      "        Return the arc sine (measured in radians) of x.\n",
      "    \n",
      "    asinh(x, /)\n",
      "        Return the inverse hyperbolic sine of x.\n",
      "    \n",
      "    atan(x, /)\n",
      "        Return the arc tangent (measured in radians) of x.\n",
      "    \n",
      "    atan2(y, x, /)\n",
      "        Return the arc tangent (measured in radians) of y/x.\n",
      "        \n",
      "        Unlike atan(y/x), the signs of both x and y are considered.\n",
      "    \n",
      "    atanh(x, /)\n",
      "        Return the inverse hyperbolic tangent of x.\n",
      "    \n",
      "    ceil(x, /)\n",
      "        Return the ceiling of x as an Integral.\n",
      "        \n",
      "        This is the smallest integer >= x.\n",
      "    \n",
      "    comb(n, k, /)\n",
      "        Number of ways to choose k items from n items without repetition and without order.\n",
      "        \n",
      "        Evaluates to n! / (k! * (n - k)!) when k <= n and evaluates\n",
      "        to zero when k > n.\n",
      "        \n",
      "        Also called the binomial coefficient because it is equivalent\n",
      "        to the coefficient of k-th term in polynomial expansion of the\n",
      "        expression (1 + x)**n.\n",
      "        \n",
      "        Raises TypeError if either of the arguments are not integers.\n",
      "        Raises ValueError if either of the arguments are negative.\n",
      "    \n",
      "    copysign(x, y, /)\n",
      "        Return a float with the magnitude (absolute value) of x but the sign of y.\n",
      "        \n",
      "        On platforms that support signed zeros, copysign(1.0, -0.0)\n",
      "        returns -1.0.\n",
      "    \n",
      "    cos(x, /)\n",
      "        Return the cosine of x (measured in radians).\n",
      "    \n",
      "    cosh(x, /)\n",
      "        Return the hyperbolic cosine of x.\n",
      "    \n",
      "    degrees(x, /)\n",
      "        Convert angle x from radians to degrees.\n",
      "    \n",
      "    dist(p, q, /)\n",
      "        Return the Euclidean distance between two points p and q.\n",
      "        \n",
      "        The points should be specified as sequences (or iterables) of\n",
      "        coordinates.  Both inputs must have the same dimension.\n",
      "        \n",
      "        Roughly equivalent to:\n",
      "            sqrt(sum((px - qx) ** 2.0 for px, qx in zip(p, q)))\n",
      "    \n",
      "    erf(x, /)\n",
      "        Error function at x.\n",
      "    \n",
      "    erfc(x, /)\n",
      "        Complementary error function at x.\n",
      "    \n",
      "    exp(x, /)\n",
      "        Return e raised to the power of x.\n",
      "    \n",
      "    expm1(x, /)\n",
      "        Return exp(x)-1.\n",
      "        \n",
      "        This function avoids the loss of precision involved in the direct evaluation of exp(x)-1 for small x.\n",
      "    \n",
      "    fabs(x, /)\n",
      "        Return the absolute value of the float x.\n",
      "    \n",
      "    factorial(x, /)\n",
      "        Find x!.\n",
      "        \n",
      "        Raise a ValueError if x is negative or non-integral.\n",
      "    \n",
      "    floor(x, /)\n",
      "        Return the floor of x as an Integral.\n",
      "        \n",
      "        This is the largest integer <= x.\n",
      "    \n",
      "    fmod(x, y, /)\n",
      "        Return fmod(x, y), according to platform C.\n",
      "        \n",
      "        x % y may differ.\n",
      "    \n",
      "    frexp(x, /)\n",
      "        Return the mantissa and exponent of x, as pair (m, e).\n",
      "        \n",
      "        m is a float and e is an int, such that x = m * 2.**e.\n",
      "        If x is 0, m and e are both 0.  Else 0.5 <= abs(m) < 1.0.\n",
      "    \n",
      "    fsum(seq, /)\n",
      "        Return an accurate floating point sum of values in the iterable seq.\n",
      "        \n",
      "        Assumes IEEE-754 floating point arithmetic.\n",
      "    \n",
      "    gamma(x, /)\n",
      "        Gamma function at x.\n",
      "    \n",
      "    gcd(x, y, /)\n",
      "        greatest common divisor of x and y\n",
      "    \n",
      "    hypot(...)\n",
      "        hypot(*coordinates) -> value\n",
      "        \n",
      "        Multidimensional Euclidean distance from the origin to a point.\n",
      "        \n",
      "        Roughly equivalent to:\n",
      "            sqrt(sum(x**2 for x in coordinates))\n",
      "        \n",
      "        For a two dimensional point (x, y), gives the hypotenuse\n",
      "        using the Pythagorean theorem:  sqrt(x*x + y*y).\n",
      "        \n",
      "        For example, the hypotenuse of a 3/4/5 right triangle is:\n",
      "        \n",
      "            >>> hypot(3.0, 4.0)\n",
      "            5.0\n",
      "    \n",
      "    isclose(a, b, *, rel_tol=1e-09, abs_tol=0.0)\n",
      "        Determine whether two floating point numbers are close in value.\n",
      "        \n",
      "          rel_tol\n",
      "            maximum difference for being considered \"close\", relative to the\n",
      "            magnitude of the input values\n",
      "          abs_tol\n",
      "            maximum difference for being considered \"close\", regardless of the\n",
      "            magnitude of the input values\n",
      "        \n",
      "        Return True if a is close in value to b, and False otherwise.\n",
      "        \n",
      "        For the values to be considered close, the difference between them\n",
      "        must be smaller than at least one of the tolerances.\n",
      "        \n",
      "        -inf, inf and NaN behave similarly to the IEEE 754 Standard.  That\n",
      "        is, NaN is not close to anything, even itself.  inf and -inf are\n",
      "        only close to themselves.\n",
      "    \n",
      "    isfinite(x, /)\n",
      "        Return True if x is neither an infinity nor a NaN, and False otherwise.\n",
      "    \n",
      "    isinf(x, /)\n",
      "        Return True if x is a positive or negative infinity, and False otherwise.\n",
      "    \n",
      "    isnan(x, /)\n",
      "        Return True if x is a NaN (not a number), and False otherwise.\n",
      "    \n",
      "    isqrt(n, /)\n",
      "        Return the integer part of the square root of the input.\n",
      "    \n",
      "    ldexp(x, i, /)\n",
      "        Return x * (2**i).\n",
      "        \n",
      "        This is essentially the inverse of frexp().\n",
      "    \n",
      "    lgamma(x, /)\n",
      "        Natural logarithm of absolute value of Gamma function at x.\n",
      "    \n",
      "    log(...)\n",
      "        log(x, [base=math.e])\n",
      "        Return the logarithm of x to the given base.\n",
      "        \n",
      "        If the base not specified, returns the natural logarithm (base e) of x.\n",
      "    \n",
      "    log10(x, /)\n",
      "        Return the base 10 logarithm of x.\n",
      "    \n",
      "    log1p(x, /)\n",
      "        Return the natural logarithm of 1+x (base e).\n",
      "        \n",
      "        The result is computed in a way which is accurate for x near zero.\n",
      "    \n",
      "    log2(x, /)\n",
      "        Return the base 2 logarithm of x.\n",
      "    \n",
      "    modf(x, /)\n",
      "        Return the fractional and integer parts of x.\n",
      "        \n",
      "        Both results carry the sign of x and are floats.\n",
      "    \n",
      "    perm(n, k=None, /)\n",
      "        Number of ways to choose k items from n items without repetition and with order.\n",
      "        \n",
      "        Evaluates to n! / (n - k)! when k <= n and evaluates\n",
      "        to zero when k > n.\n",
      "        \n",
      "        If k is not specified or is None, then k defaults to n\n",
      "        and the function returns n!.\n",
      "        \n",
      "        Raises TypeError if either of the arguments are not integers.\n",
      "        Raises ValueError if either of the arguments are negative.\n",
      "    \n",
      "    pow(x, y, /)\n",
      "        Return x**y (x to the power of y).\n",
      "    \n",
      "    prod(iterable, /, *, start=1)\n",
      "        Calculate the product of all the elements in the input iterable.\n",
      "        \n",
      "        The default start value for the product is 1.\n",
      "        \n",
      "        When the iterable is empty, return the start value.  This function is\n",
      "        intended specifically for use with numeric values and may reject\n",
      "        non-numeric types.\n",
      "    \n",
      "    radians(x, /)\n",
      "        Convert angle x from degrees to radians.\n",
      "    \n",
      "    remainder(x, y, /)\n",
      "        Difference between x and the closest integer multiple of y.\n",
      "        \n",
      "        Return x - n*y where n*y is the closest integer multiple of y.\n",
      "        In the case where x is exactly halfway between two multiples of\n",
      "        y, the nearest even value of n is used. The result is always exact.\n",
      "    \n",
      "    sin(x, /)\n",
      "        Return the sine of x (measured in radians).\n",
      "    \n",
      "    sinh(x, /)\n",
      "        Return the hyperbolic sine of x.\n",
      "    \n",
      "    sqrt(x, /)\n",
      "        Return the square root of x.\n",
      "    \n",
      "    tan(x, /)\n",
      "        Return the tangent of x (measured in radians).\n",
      "    \n",
      "    tanh(x, /)\n",
      "        Return the hyperbolic tangent of x.\n",
      "    \n",
      "    trunc(x, /)\n",
      "        Truncates the Real x to the nearest Integral toward 0.\n",
      "        \n",
      "        Uses the __trunc__ magic method.\n",
      "\n",
      "DATA\n",
      "    e = 2.718281828459045\n",
      "    inf = inf\n",
      "    nan = nan\n",
      "    pi = 3.141592653589793\n",
      "    tau = 6.283185307179586\n",
      "\n",
      "FILE\n",
      "    (built-in)\n",
      "\n",
      "\n"
     ]
    }
   ],
   "source": [
    "#MATH\n",
    "\n",
    "#See all math operations we can fo in Python like so:\n",
    "import math\n",
    "help(math)"
   ]
  },
  {
   "cell_type": "code",
   "execution_count": 106,
   "metadata": {},
   "outputs": [],
   "source": [
    "value= 4.5\n"
   ]
  },
  {
   "cell_type": "code",
   "execution_count": 108,
   "metadata": {},
   "outputs": [
    {
     "data": {
      "text/plain": [
       "4"
      ]
     },
     "execution_count": 108,
     "metadata": {},
     "output_type": "execute_result"
    }
   ],
   "source": [
    "#We can see the floor:\n",
    "math.floor(value)"
   ]
  },
  {
   "cell_type": "code",
   "execution_count": 109,
   "metadata": {},
   "outputs": [
    {
     "data": {
      "text/plain": [
       "4"
      ]
     },
     "execution_count": 109,
     "metadata": {},
     "output_type": "execute_result"
    }
   ],
   "source": [
    "#We can round\n",
    "round(value)"
   ]
  },
  {
   "cell_type": "code",
   "execution_count": 110,
   "metadata": {},
   "outputs": [
    {
     "data": {
      "text/plain": [
       "4"
      ]
     },
     "execution_count": 110,
     "metadata": {},
     "output_type": "execute_result"
    }
   ],
   "source": [
    "round(4.5)"
   ]
  },
  {
   "cell_type": "code",
   "execution_count": 112,
   "metadata": {},
   "outputs": [
    {
     "data": {
      "text/plain": [
       "3.141592653589793"
      ]
     },
     "execution_count": 112,
     "metadata": {},
     "output_type": "execute_result"
    }
   ],
   "source": [
    "math.pi"
   ]
  },
  {
   "cell_type": "code",
   "execution_count": 113,
   "metadata": {},
   "outputs": [
    {
     "data": {
      "text/plain": [
       "2.718281828459045"
      ]
     },
     "execution_count": 113,
     "metadata": {},
     "output_type": "execute_result"
    }
   ],
   "source": [
    "math.e"
   ]
  },
  {
   "cell_type": "code",
   "execution_count": 114,
   "metadata": {},
   "outputs": [
    {
     "data": {
      "text/plain": [
       "inf"
      ]
     },
     "execution_count": 114,
     "metadata": {},
     "output_type": "execute_result"
    }
   ],
   "source": [
    "math.inf"
   ]
  },
  {
   "cell_type": "code",
   "execution_count": 115,
   "metadata": {},
   "outputs": [
    {
     "data": {
      "text/plain": [
       "nan"
      ]
     },
     "execution_count": 115,
     "metadata": {},
     "output_type": "execute_result"
    }
   ],
   "source": [
    "math.nan"
   ]
  },
  {
   "cell_type": "code",
   "execution_count": 116,
   "metadata": {},
   "outputs": [
    {
     "data": {
      "text/plain": [
       "2.718281828459045"
      ]
     },
     "execution_count": 116,
     "metadata": {},
     "output_type": "execute_result"
    }
   ],
   "source": [
    "math.e"
   ]
  },
  {
   "cell_type": "code",
   "execution_count": 118,
   "metadata": {},
   "outputs": [
    {
     "data": {
      "text/plain": [
       "1.0"
      ]
     },
     "execution_count": 118,
     "metadata": {},
     "output_type": "execute_result"
    }
   ],
   "source": [
    "math.log(math.e)"
   ]
  },
  {
   "cell_type": "code",
   "execution_count": 119,
   "metadata": {},
   "outputs": [
    {
     "data": {
      "text/plain": [
       "2.0"
      ]
     },
     "execution_count": 119,
     "metadata": {},
     "output_type": "execute_result"
    }
   ],
   "source": [
    "#What number do I need to take to elevate 10 to to get 100? 2\n",
    "math.log(100, 10)"
   ]
  },
  {
   "cell_type": "code",
   "execution_count": 120,
   "metadata": {},
   "outputs": [
    {
     "data": {
      "text/plain": [
       "-0.5440211108893698"
      ]
     },
     "execution_count": 120,
     "metadata": {},
     "output_type": "execute_result"
    }
   ],
   "source": [
    "#We can do trigonometry:\n",
    "math.sin(10)"
   ]
  },
  {
   "cell_type": "code",
   "execution_count": 121,
   "metadata": {},
   "outputs": [],
   "source": [
    "#RANDOM\n",
    "import random"
   ]
  },
  {
   "cell_type": "code",
   "execution_count": 124,
   "metadata": {},
   "outputs": [
    {
     "data": {
      "text/plain": [
       "51"
      ]
     },
     "execution_count": 124,
     "metadata": {},
     "output_type": "execute_result"
    }
   ],
   "source": [
    "#We have used this function before\n",
    "random.randint(0, 100)"
   ]
  },
  {
   "cell_type": "code",
   "execution_count": 125,
   "metadata": {},
   "outputs": [
    {
     "data": {
      "text/plain": [
       "74"
      ]
     },
     "execution_count": 125,
     "metadata": {},
     "output_type": "execute_result"
    }
   ],
   "source": [
    "#Let's understand the SEED. Use an arbitrary number\n",
    "random.seed(101)\n",
    "random.randint(0, 100)"
   ]
  },
  {
   "cell_type": "code",
   "execution_count": 126,
   "metadata": {},
   "outputs": [
    {
     "data": {
      "text/plain": [
       "24"
      ]
     },
     "execution_count": 126,
     "metadata": {},
     "output_type": "execute_result"
    }
   ],
   "source": [
    "random.randint(0, 100)"
   ]
  },
  {
   "cell_type": "code",
   "execution_count": 128,
   "metadata": {},
   "outputs": [
    {
     "name": "stdout",
     "output_type": "stream",
     "text": [
      "74\n",
      "24\n",
      "69\n",
      "45\n"
     ]
    }
   ],
   "source": [
    "#We set a seed for any sequence of infinite random numbers\n",
    "random.seed(101)\n",
    "print(random.randint(0, 100)) #I expect this to produce 74 per the above\n",
    "print(random.randint(0, 100)) #I expect this to produce 24 per the above\n",
    "print(random.randint(0, 100))\n",
    "print(random.randint(0, 100))"
   ]
  },
  {
   "cell_type": "code",
   "execution_count": 129,
   "metadata": {},
   "outputs": [],
   "source": [
    "my_list = list(range(0, 20))"
   ]
  },
  {
   "cell_type": "code",
   "execution_count": 130,
   "metadata": {},
   "outputs": [
    {
     "data": {
      "text/plain": [
       "[0, 1, 2, 3, 4, 5, 6, 7, 8, 9, 10, 11, 12, 13, 14, 15, 16, 17, 18, 19]"
      ]
     },
     "execution_count": 130,
     "metadata": {},
     "output_type": "execute_result"
    }
   ],
   "source": [
    "my_list\n"
   ]
  },
  {
   "cell_type": "code",
   "execution_count": 131,
   "metadata": {},
   "outputs": [
    {
     "data": {
      "text/plain": [
       "14"
      ]
     },
     "execution_count": 131,
     "metadata": {},
     "output_type": "execute_result"
    }
   ],
   "source": [
    "random.choice(my_list)"
   ]
  },
  {
   "cell_type": "code",
   "execution_count": 132,
   "metadata": {},
   "outputs": [
    {
     "data": {
      "text/plain": [
       "[0, 1, 2, 3, 4, 5, 6, 7, 8, 9, 10, 11, 12, 13, 14, 15, 16, 17, 18, 19]"
      ]
     },
     "execution_count": 132,
     "metadata": {},
     "output_type": "execute_result"
    }
   ],
   "source": [
    "my_list"
   ]
  },
  {
   "cell_type": "code",
   "execution_count": 133,
   "metadata": {},
   "outputs": [
    {
     "data": {
      "text/plain": [
       "[0, 10, 12, 18, 9, 15, 6, 8, 5, 3]"
      ]
     },
     "execution_count": 133,
     "metadata": {},
     "output_type": "execute_result"
    }
   ],
   "source": [
    "#SAMPLE WITH REPLACEMENT. Take any random 10 numbers from my list\n",
    "random.choices(population = my_list, k =10)"
   ]
  },
  {
   "cell_type": "code",
   "execution_count": 134,
   "metadata": {},
   "outputs": [
    {
     "data": {
      "text/plain": [
       "[0, 1, 2, 3, 4, 5, 6, 7, 8, 9, 10, 11, 12, 13, 14, 15, 16, 17, 18, 19]"
      ]
     },
     "execution_count": 134,
     "metadata": {},
     "output_type": "execute_result"
    }
   ],
   "source": [
    "my_list"
   ]
  },
  {
   "cell_type": "code",
   "execution_count": 135,
   "metadata": {},
   "outputs": [],
   "source": [
    "#We can shuffle the list\n",
    "random.shuffle(my_list)"
   ]
  },
  {
   "cell_type": "code",
   "execution_count": 136,
   "metadata": {},
   "outputs": [
    {
     "data": {
      "text/plain": [
       "[4, 13, 0, 7, 2, 9, 8, 1, 19, 18, 16, 10, 3, 5, 12, 15, 6, 11, 17, 14]"
      ]
     },
     "execution_count": 136,
     "metadata": {},
     "output_type": "execute_result"
    }
   ],
   "source": [
    "my_list"
   ]
  },
  {
   "cell_type": "code",
   "execution_count": 137,
   "metadata": {},
   "outputs": [
    {
     "data": {
      "text/plain": [
       "69.83120022191412"
      ]
     },
     "execution_count": 137,
     "metadata": {},
     "output_type": "execute_result"
    }
   ],
   "source": [
    "random.uniform(a=10, b = 100)"
   ]
  },
  {
   "cell_type": "code",
   "execution_count": 138,
   "metadata": {},
   "outputs": [],
   "source": [
    "x = [1, 2, 3]\n",
    "y = 2\n",
    "z = 3\n",
    "\n",
    "result = y + z"
   ]
  },
  {
   "cell_type": "code",
   "execution_count": 139,
   "metadata": {},
   "outputs": [
    {
     "data": {
      "text/plain": [
       "5"
      ]
     },
     "execution_count": 139,
     "metadata": {},
     "output_type": "execute_result"
    }
   ],
   "source": [
    "result"
   ]
  },
  {
   "cell_type": "code",
   "execution_count": 140,
   "metadata": {},
   "outputs": [
    {
     "ename": "TypeError",
     "evalue": "can only concatenate list (not \"int\") to list",
     "output_type": "error",
     "traceback": [
      "\u001b[1;31m---------------------------------------------------------------------------\u001b[0m",
      "\u001b[1;31mTypeError\u001b[0m                                 Traceback (most recent call last)",
      "\u001b[1;32m<ipython-input-140-4747bbdad870>\u001b[0m in \u001b[0;36m<module>\u001b[1;34m\u001b[0m\n\u001b[1;32m----> 1\u001b[1;33m \u001b[0mresult2\u001b[0m \u001b[1;33m=\u001b[0m \u001b[0mx\u001b[0m \u001b[1;33m+\u001b[0m \u001b[0my\u001b[0m\u001b[1;33m\u001b[0m\u001b[1;33m\u001b[0m\u001b[0m\n\u001b[0m",
      "\u001b[1;31mTypeError\u001b[0m: can only concatenate list (not \"int\") to list"
     ]
    }
   ],
   "source": [
    "#If I do this I see this error\n",
    "result2 = x + y"
   ]
  },
  {
   "cell_type": "code",
   "execution_count": 141,
   "metadata": {},
   "outputs": [],
   "source": [
    "#We can use the PYTHOON DEBUGGER in cases like this\n",
    "import pdb"
   ]
  },
  {
   "cell_type": "code",
   "execution_count": 142,
   "metadata": {},
   "outputs": [
    {
     "ename": "TypeError",
     "evalue": "can only concatenate list (not \"int\") to list",
     "output_type": "error",
     "traceback": [
      "\u001b[1;31m---------------------------------------------------------------------------\u001b[0m",
      "\u001b[1;31mTypeError\u001b[0m                                 Traceback (most recent call last)",
      "\u001b[1;32m<ipython-input-142-eb7189d1ba9d>\u001b[0m in \u001b[0;36m<module>\u001b[1;34m\u001b[0m\n\u001b[0;32m      4\u001b[0m \u001b[1;33m\u001b[0m\u001b[0m\n\u001b[0;32m      5\u001b[0m \u001b[0mresult\u001b[0m \u001b[1;33m=\u001b[0m \u001b[0my\u001b[0m \u001b[1;33m+\u001b[0m \u001b[0mz\u001b[0m\u001b[1;33m\u001b[0m\u001b[1;33m\u001b[0m\u001b[0m\n\u001b[1;32m----> 6\u001b[1;33m \u001b[0mresult2\u001b[0m \u001b[1;33m=\u001b[0m \u001b[0mx\u001b[0m \u001b[1;33m+\u001b[0m \u001b[0my\u001b[0m\u001b[1;33m\u001b[0m\u001b[1;33m\u001b[0m\u001b[0m\n\u001b[0m",
      "\u001b[1;31mTypeError\u001b[0m: can only concatenate list (not \"int\") to list"
     ]
    }
   ],
   "source": [
    "#We still get the same error\n",
    "x = [1, 2, 3]\n",
    "y = 2\n",
    "z = 3\n",
    "\n",
    "result1 = y + z\n",
    "result2 = x + y"
   ]
  },
  {
   "cell_type": "code",
   "execution_count": 143,
   "metadata": {},
   "outputs": [
    {
     "name": "stdout",
     "output_type": "stream",
     "text": [
      "--Return--\n",
      "None\n",
      "> \u001b[1;32m<ipython-input-143-6b686ca68a5b>\u001b[0m(8)\u001b[0;36m<module>\u001b[1;34m()\u001b[0m\n",
      "\u001b[1;32m      5 \u001b[1;33m\u001b[0mz\u001b[0m \u001b[1;33m=\u001b[0m \u001b[1;36m3\u001b[0m\u001b[1;33m\u001b[0m\u001b[1;33m\u001b[0m\u001b[0m\n",
      "\u001b[0m\u001b[1;32m      6 \u001b[1;33m\u001b[1;33m\u001b[0m\u001b[0m\n",
      "\u001b[0m\u001b[1;32m      7 \u001b[1;33m\u001b[0mresult1\u001b[0m \u001b[1;33m=\u001b[0m \u001b[0my\u001b[0m \u001b[1;33m+\u001b[0m \u001b[0mz\u001b[0m\u001b[1;33m\u001b[0m\u001b[1;33m\u001b[0m\u001b[0m\n",
      "\u001b[0m\u001b[1;32m----> 8 \u001b[1;33m\u001b[0mpdb\u001b[0m\u001b[1;33m.\u001b[0m\u001b[0mset_trace\u001b[0m\u001b[1;33m(\u001b[0m\u001b[1;33m)\u001b[0m\u001b[1;33m\u001b[0m\u001b[1;33m\u001b[0m\u001b[0m\n",
      "\u001b[0m\u001b[1;32m      9 \u001b[1;33m\u001b[0mresult2\u001b[0m \u001b[1;33m=\u001b[0m \u001b[0mx\u001b[0m \u001b[1;33m+\u001b[0m \u001b[0my\u001b[0m\u001b[1;33m\u001b[0m\u001b[1;33m\u001b[0m\u001b[0m\n",
      "\u001b[0m\n",
      "ipdb> x\n",
      "[1, 2, 3]\n",
      "ipdb> y\n",
      "2\n",
      "ipdb> q\n"
     ]
    },
    {
     "ename": "BdbQuit",
     "evalue": "",
     "output_type": "error",
     "traceback": [
      "\u001b[1;31m---------------------------------------------------------------------------\u001b[0m",
      "\u001b[1;31mBdbQuit\u001b[0m                                   Traceback (most recent call last)",
      "\u001b[1;32m<ipython-input-143-6b686ca68a5b>\u001b[0m in \u001b[0;36m<module>\u001b[1;34m\u001b[0m\n\u001b[0;32m      6\u001b[0m \u001b[1;33m\u001b[0m\u001b[0m\n\u001b[0;32m      7\u001b[0m \u001b[0mresult1\u001b[0m \u001b[1;33m=\u001b[0m \u001b[0my\u001b[0m \u001b[1;33m+\u001b[0m \u001b[0mz\u001b[0m\u001b[1;33m\u001b[0m\u001b[1;33m\u001b[0m\u001b[0m\n\u001b[1;32m----> 8\u001b[1;33m \u001b[0mpdb\u001b[0m\u001b[1;33m.\u001b[0m\u001b[0mset_trace\u001b[0m\u001b[1;33m(\u001b[0m\u001b[1;33m)\u001b[0m\u001b[1;33m\u001b[0m\u001b[1;33m\u001b[0m\u001b[0m\n\u001b[0m\u001b[0;32m      9\u001b[0m \u001b[0mresult2\u001b[0m \u001b[1;33m=\u001b[0m \u001b[0mx\u001b[0m \u001b[1;33m+\u001b[0m \u001b[0my\u001b[0m\u001b[1;33m\u001b[0m\u001b[1;33m\u001b[0m\u001b[0m\n",
      "\u001b[1;32m~\\Anaconda3\\lib\\bdb.py\u001b[0m in \u001b[0;36mtrace_dispatch\u001b[1;34m(self, frame, event, arg)\u001b[0m\n\u001b[0;32m     90\u001b[0m             \u001b[1;32mreturn\u001b[0m \u001b[0mself\u001b[0m\u001b[1;33m.\u001b[0m\u001b[0mdispatch_call\u001b[0m\u001b[1;33m(\u001b[0m\u001b[0mframe\u001b[0m\u001b[1;33m,\u001b[0m \u001b[0marg\u001b[0m\u001b[1;33m)\u001b[0m\u001b[1;33m\u001b[0m\u001b[1;33m\u001b[0m\u001b[0m\n\u001b[0;32m     91\u001b[0m         \u001b[1;32mif\u001b[0m \u001b[0mevent\u001b[0m \u001b[1;33m==\u001b[0m \u001b[1;34m'return'\u001b[0m\u001b[1;33m:\u001b[0m\u001b[1;33m\u001b[0m\u001b[1;33m\u001b[0m\u001b[0m\n\u001b[1;32m---> 92\u001b[1;33m             \u001b[1;32mreturn\u001b[0m \u001b[0mself\u001b[0m\u001b[1;33m.\u001b[0m\u001b[0mdispatch_return\u001b[0m\u001b[1;33m(\u001b[0m\u001b[0mframe\u001b[0m\u001b[1;33m,\u001b[0m \u001b[0marg\u001b[0m\u001b[1;33m)\u001b[0m\u001b[1;33m\u001b[0m\u001b[1;33m\u001b[0m\u001b[0m\n\u001b[0m\u001b[0;32m     93\u001b[0m         \u001b[1;32mif\u001b[0m \u001b[0mevent\u001b[0m \u001b[1;33m==\u001b[0m \u001b[1;34m'exception'\u001b[0m\u001b[1;33m:\u001b[0m\u001b[1;33m\u001b[0m\u001b[1;33m\u001b[0m\u001b[0m\n\u001b[0;32m     94\u001b[0m             \u001b[1;32mreturn\u001b[0m \u001b[0mself\u001b[0m\u001b[1;33m.\u001b[0m\u001b[0mdispatch_exception\u001b[0m\u001b[1;33m(\u001b[0m\u001b[0mframe\u001b[0m\u001b[1;33m,\u001b[0m \u001b[0marg\u001b[0m\u001b[1;33m)\u001b[0m\u001b[1;33m\u001b[0m\u001b[1;33m\u001b[0m\u001b[0m\n",
      "\u001b[1;32m~\\Anaconda3\\lib\\bdb.py\u001b[0m in \u001b[0;36mdispatch_return\u001b[1;34m(self, frame, arg)\u001b[0m\n\u001b[0;32m    152\u001b[0m             \u001b[1;32mfinally\u001b[0m\u001b[1;33m:\u001b[0m\u001b[1;33m\u001b[0m\u001b[1;33m\u001b[0m\u001b[0m\n\u001b[0;32m    153\u001b[0m                 \u001b[0mself\u001b[0m\u001b[1;33m.\u001b[0m\u001b[0mframe_returning\u001b[0m \u001b[1;33m=\u001b[0m \u001b[1;32mNone\u001b[0m\u001b[1;33m\u001b[0m\u001b[1;33m\u001b[0m\u001b[0m\n\u001b[1;32m--> 154\u001b[1;33m             \u001b[1;32mif\u001b[0m \u001b[0mself\u001b[0m\u001b[1;33m.\u001b[0m\u001b[0mquitting\u001b[0m\u001b[1;33m:\u001b[0m \u001b[1;32mraise\u001b[0m \u001b[0mBdbQuit\u001b[0m\u001b[1;33m\u001b[0m\u001b[1;33m\u001b[0m\u001b[0m\n\u001b[0m\u001b[0;32m    155\u001b[0m             \u001b[1;31m# The user issued a 'next' or 'until' command.\u001b[0m\u001b[1;33m\u001b[0m\u001b[1;33m\u001b[0m\u001b[1;33m\u001b[0m\u001b[0m\n\u001b[0;32m    156\u001b[0m             \u001b[1;32mif\u001b[0m \u001b[0mself\u001b[0m\u001b[1;33m.\u001b[0m\u001b[0mstopframe\u001b[0m \u001b[1;32mis\u001b[0m \u001b[0mframe\u001b[0m \u001b[1;32mand\u001b[0m \u001b[0mself\u001b[0m\u001b[1;33m.\u001b[0m\u001b[0mstoplineno\u001b[0m \u001b[1;33m!=\u001b[0m \u001b[1;33m-\u001b[0m\u001b[1;36m1\u001b[0m\u001b[1;33m:\u001b[0m\u001b[1;33m\u001b[0m\u001b[1;33m\u001b[0m\u001b[0m\n",
      "\u001b[1;31mBdbQuit\u001b[0m: "
     ]
    }
   ],
   "source": [
    "#Let's set the python debugger:\n",
    "\n",
    "x = [1, 2, 3]\n",
    "y = 2\n",
    "z = 3\n",
    "\n",
    "result1 = y + z\n",
    "pdb.set_trace()\n",
    "result2 = x + y\n",
    "\n",
    "#The python debugger allows us to explore and figure out our error. It allows  to put a pause in our code to debug"
   ]
  },
  {
   "cell_type": "code",
   "execution_count": null,
   "metadata": {},
   "outputs": [],
   "source": [
    "#When ready you can quit the debugger by entering q\n"
   ]
  },
  {
   "cell_type": "markdown",
   "metadata": {},
   "source": [
    "REGULAR EXPRESSION: how to search for patterns in text"
   ]
  },
  {
   "cell_type": "code",
   "execution_count": 166,
   "metadata": {},
   "outputs": [],
   "source": [
    "#Let's set up some text like:\n",
    "text = \"Today was such a gorgeous, fun, fun, fun and restorative day!\""
   ]
  },
  {
   "cell_type": "code",
   "execution_count": 146,
   "metadata": {},
   "outputs": [
    {
     "data": {
      "text/plain": [
       "True"
      ]
     },
     "execution_count": 146,
     "metadata": {},
     "output_type": "execute_result"
    }
   ],
   "source": [
    "#Say I want to look for the word 'fun'. I could use a boolean:\n",
    "'fun' in text"
   ]
  },
  {
   "cell_type": "code",
   "execution_count": 147,
   "metadata": {},
   "outputs": [
    {
     "data": {
      "text/plain": [
       "False"
      ]
     },
     "execution_count": 147,
     "metadata": {},
     "output_type": "execute_result"
    }
   ],
   "source": [
    "#I get True: the word fun is indeed in the text. And I expect to get a false is I look for the word 'egg' in text:\n",
    "'egg' in text"
   ]
  },
  {
   "cell_type": "code",
   "execution_count": 148,
   "metadata": {},
   "outputs": [],
   "source": [
    "#Let's see what we can do with regular expressions:\n",
    "import re"
   ]
  },
  {
   "cell_type": "code",
   "execution_count": 149,
   "metadata": {},
   "outputs": [],
   "source": [
    "pattern = 'fun'"
   ]
  },
  {
   "cell_type": "code",
   "execution_count": 150,
   "metadata": {},
   "outputs": [
    {
     "data": {
      "text/plain": [
       "<re.Match object; span=(27, 30), match='fun'>"
      ]
     },
     "execution_count": 150,
     "metadata": {},
     "output_type": "execute_result"
    }
   ],
   "source": [
    "#Search looked for a pattern, found a match, and returned what it is and where it is. Way more info than just a plain \n",
    "#True or false!\n",
    "re.search(pattern, text)"
   ]
  },
  {
   "cell_type": "code",
   "execution_count": 155,
   "metadata": {},
   "outputs": [],
   "source": [
    "#What happens if we try to find the 'egg'?\n",
    "pattern = 'egg'"
   ]
  },
  {
   "cell_type": "code",
   "execution_count": 157,
   "metadata": {},
   "outputs": [],
   "source": [
    "re.search(pattern, text)"
   ]
  },
  {
   "cell_type": "code",
   "execution_count": 158,
   "metadata": {},
   "outputs": [],
   "source": [
    "#Wehn I run the cell nothing happens"
   ]
  },
  {
   "cell_type": "code",
   "execution_count": 159,
   "metadata": {},
   "outputs": [],
   "source": [
    "#Let's reset our pattern to fun and run it again to explore the type of information that we can find:\n",
    "pattern = 'fun'"
   ]
  },
  {
   "cell_type": "code",
   "execution_count": 160,
   "metadata": {},
   "outputs": [
    {
     "data": {
      "text/plain": [
       "<re.Match object; span=(27, 30), match='fun'>"
      ]
     },
     "execution_count": 160,
     "metadata": {},
     "output_type": "execute_result"
    }
   ],
   "source": [
    "re.search(pattern, text)"
   ]
  },
  {
   "cell_type": "code",
   "execution_count": 161,
   "metadata": {},
   "outputs": [],
   "source": [
    "match = re.search(pattern, text)"
   ]
  },
  {
   "cell_type": "code",
   "execution_count": 162,
   "metadata": {},
   "outputs": [
    {
     "data": {
      "text/plain": [
       "<re.Match object; span=(27, 30), match='fun'>"
      ]
     },
     "execution_count": 162,
     "metadata": {},
     "output_type": "execute_result"
    }
   ],
   "source": [
    "match"
   ]
  },
  {
   "cell_type": "code",
   "execution_count": 163,
   "metadata": {},
   "outputs": [
    {
     "data": {
      "text/plain": [
       "(27, 30)"
      ]
     },
     "execution_count": 163,
     "metadata": {},
     "output_type": "execute_result"
    }
   ],
   "source": [
    "#I can check out the index location of the span:\n",
    "match.span()"
   ]
  },
  {
   "cell_type": "code",
   "execution_count": 164,
   "metadata": {},
   "outputs": [
    {
     "data": {
      "text/plain": [
       "27"
      ]
     },
     "execution_count": 164,
     "metadata": {},
     "output_type": "execute_result"
    }
   ],
   "source": [
    "match.start()"
   ]
  },
  {
   "cell_type": "code",
   "execution_count": 165,
   "metadata": {},
   "outputs": [
    {
     "data": {
      "text/plain": [
       "30"
      ]
     },
     "execution_count": 165,
     "metadata": {},
     "output_type": "execute_result"
    }
   ],
   "source": [
    "match.end()"
   ]
  },
  {
   "cell_type": "code",
   "execution_count": 167,
   "metadata": {},
   "outputs": [],
   "source": [
    "#What if I have multiple matches?\n",
    "matches = re.findall('fun', text)"
   ]
  },
  {
   "cell_type": "code",
   "execution_count": 168,
   "metadata": {},
   "outputs": [
    {
     "data": {
      "text/plain": [
       "['fun', 'fun', 'fun']"
      ]
     },
     "execution_count": 168,
     "metadata": {},
     "output_type": "execute_result"
    }
   ],
   "source": [
    "matches"
   ]
  },
  {
   "cell_type": "code",
   "execution_count": 169,
   "metadata": {},
   "outputs": [
    {
     "data": {
      "text/plain": [
       "3"
      ]
     },
     "execution_count": 169,
     "metadata": {},
     "output_type": "execute_result"
    }
   ],
   "source": [
    "len(matches)"
   ]
  },
  {
   "cell_type": "code",
   "execution_count": 172,
   "metadata": {},
   "outputs": [
    {
     "name": "stdout",
     "output_type": "stream",
     "text": [
      "(27, 30)\n",
      "(27, 30)\n",
      "(27, 30)\n"
     ]
    }
   ],
   "source": [
    "for matches in re.finditer('fun', text):\n",
    "    print(match.span())"
   ]
  },
  {
   "cell_type": "code",
   "execution_count": null,
   "metadata": {},
   "outputs": [],
   "source": []
  }
 ],
 "metadata": {
  "kernelspec": {
   "display_name": "Python 3",
   "language": "python",
   "name": "python3"
  },
  "language_info": {
   "codemirror_mode": {
    "name": "ipython",
    "version": 3
   },
   "file_extension": ".py",
   "mimetype": "text/x-python",
   "name": "python",
   "nbconvert_exporter": "python",
   "pygments_lexer": "ipython3",
   "version": "3.8.5"
  }
 },
 "nbformat": 4,
 "nbformat_minor": 4
}
