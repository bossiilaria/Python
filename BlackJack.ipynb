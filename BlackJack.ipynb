{
 "cells": [
  {
   "cell_type": "markdown",
   "metadata": {},
   "source": [
    "THIS IS A WARM UP PROJECT TO PREPARE FOR THE SECOND MILESTONE PROJECT (To build a BlackJack card game)\n",
    "To warm up, we'll build a card game called 'Peace'.\n",
    "We start off with a deck of 52 cards, then split it in two decks, half goes to one player, half to the other player.\n",
    "\n",
    "Each player lays 1 card down. The card with the highest ranking wins. \n",
    "\n",
    "he winning player takes the two cards and adds them to their deck. The player who loses is the one that remains without cards.\n",
    "\n",
    "If the card ranking is the same we are at peace. In a peace situation each player pulls out of their deck a bunch of cards, let's say 3 cards each. Then the players continue to lay down their cards. The next player who wins gets all the 8 cards.\n",
    "\n",
    "We will use Python OOP to build this game.\n",
    "\n",
    "These are the main steps\n",
    "\n",
    "\n",
    "1. Create a card class that can understand the suit, the rank and the value\n",
    "\n",
    "2. Creat a deck class\n",
    "\n",
    "3. Create a player class\n",
    "\n",
    "4. Create instances of the classes above to play the game"
   ]
  },
  {
   "cell_type": "code",
   "execution_count": 5,
   "metadata": {},
   "outputs": [],
   "source": [
    "#CREATE A CARD CLASS\n",
    "#This class must understand the suit the rank and which card has the higher value\n",
    "\n",
    "class Card(): #You can use or not the parenthesis as we will not use inheritance\n",
    "    \n",
    "    def __init__(self, suit, rank):\n",
    "        self.suit = suit\n",
    "        self.rank = rank\n",
    "        #What do I want to print out to display the suit of a card class?\n",
    "    def __str__(self):\n",
    "        return self.rank + \" of \" + self.suit"
   ]
  },
  {
   "cell_type": "code",
   "execution_count": 6,
   "metadata": {},
   "outputs": [],
   "source": [
    "#Let's create an instance of the Card class \n",
    "two_of_hearts = Card(\"Hearts\", \"Two\")"
   ]
  },
  {
   "cell_type": "code",
   "execution_count": 7,
   "metadata": {},
   "outputs": [
    {
     "data": {
      "text/plain": [
       "<__main__.Card at 0x15d775b56a0>"
      ]
     },
     "execution_count": 7,
     "metadata": {},
     "output_type": "execute_result"
    }
   ],
   "source": [
    "#I created two_of_hearts as an instance of my card class at some place in memory - That is what the below means\n",
    "two_of_hearts"
   ]
  },
  {
   "cell_type": "code",
   "execution_count": 8,
   "metadata": {},
   "outputs": [
    {
     "name": "stdout",
     "output_type": "stream",
     "text": [
      "Two of Hearts\n"
     ]
    }
   ],
   "source": [
    "#Let's print this out. Based on my above definition I'll get the following: self.rank (Two) + \" of \" + self.suit (Hearts)\n",
    "print(two_of_hearts)"
   ]
  },
  {
   "cell_type": "code",
   "execution_count": 9,
   "metadata": {},
   "outputs": [
    {
     "data": {
      "text/plain": [
       "'Hearts'"
      ]
     },
     "execution_count": 9,
     "metadata": {},
     "output_type": "execute_result"
    }
   ],
   "source": [
    "#Then I can check the suit...\n",
    "two_of_hearts.suit"
   ]
  },
  {
   "cell_type": "code",
   "execution_count": 10,
   "metadata": {},
   "outputs": [
    {
     "data": {
      "text/plain": [
       "'Two'"
      ]
     },
     "execution_count": 10,
     "metadata": {},
     "output_type": "execute_result"
    }
   ],
   "source": [
    "#And the rank\n",
    "two_of_hearts.rank"
   ]
  },
  {
   "cell_type": "code",
   "execution_count": 11,
   "metadata": {},
   "outputs": [],
   "source": [
    "#Note that the suit and rank above are provided as strings, so it's going to be hard to compare them. \n",
    "#One way to overcome this hurdle is by creating a dictionary of values. \n",
    "#Be careful with capitalization! Keep it consistent with this dictionary or you will get errors\n",
    "values = {'Two': 2, 'Three': 3, 'Four': 4, 'Five': 5, 'Six':6, 'Seven': 7, 'Eight': 8, \n",
    "          'Nine': 9, 'Ten': 10, 'Jack': 11, 'Queen': 12, 'King': 13, 'Ace': 14}"
   ]
  },
  {
   "cell_type": "code",
   "execution_count": 12,
   "metadata": {},
   "outputs": [
    {
     "data": {
      "text/plain": [
       "2"
      ]
     },
     "execution_count": 12,
     "metadata": {},
     "output_type": "execute_result"
    }
   ],
   "source": [
    "#Now when I take a look at values I can see the value of my instances, for ex. \n",
    "values[two_of_hearts.rank]\n"
   ]
  },
  {
   "cell_type": "code",
   "execution_count": 13,
   "metadata": {},
   "outputs": [],
   "source": [
    "#GLOBAL VARIABLES\n",
    "#The dictionary is a global variable so by convention we put it on top.\n",
    "#We will also need to shuffle the deck, so we do import random at the very top.\n",
    "#Then we'll need the list of all the suits and all the ranks as global variables\n",
    "\n",
    "suits = ('Hearts', 'Diamonds', 'Spades', 'Clubs')\n",
    "ranks = ('Two', 'Three', 'Four', 'Five', 'Six', 'Seven', 'Eight', 'Nine', 'Ten', 'Jack', 'Queen', 'King', 'Ace')\n",
    "\n",
    "import random\n",
    "\n",
    "values = {'Two': 2, 'Three': 3, 'Four': 4, 'Five': 5, 'Six':6, 'Seven': 7, 'Eight': 8, \n",
    "          'Nine': 9, 'Ten': 10, 'Jack': 11, 'Queen': 12, 'King': 13, 'Ace': 14}"
   ]
  },
  {
   "cell_type": "code",
   "execution_count": 14,
   "metadata": {},
   "outputs": [],
   "source": [
    "#Now I can redefine my Card class more accurately:\n",
    "class Card():\n",
    "    \n",
    "    def __init__(self,suit, rank):\n",
    "        self.suit = suit\n",
    "        self.rank = rank\n",
    "        self.value = values[rank]\n",
    "    def __str__(self):\n",
    "        return self.rank + \" of \" + self.suit"
   ]
  },
  {
   "cell_type": "code",
   "execution_count": 15,
   "metadata": {},
   "outputs": [],
   "source": [
    "#Let's continue create instances\n",
    "three_of_clubs = Card(\"Clubs\", \"Three\")"
   ]
  },
  {
   "cell_type": "code",
   "execution_count": 16,
   "metadata": {},
   "outputs": [
    {
     "data": {
      "text/plain": [
       "'Clubs'"
      ]
     },
     "execution_count": 16,
     "metadata": {},
     "output_type": "execute_result"
    }
   ],
   "source": [
    "three_of_clubs.suit"
   ]
  },
  {
   "cell_type": "code",
   "execution_count": 17,
   "metadata": {},
   "outputs": [
    {
     "data": {
      "text/plain": [
       "'Three'"
      ]
     },
     "execution_count": 17,
     "metadata": {},
     "output_type": "execute_result"
    }
   ],
   "source": [
    "three_of_clubs.rank"
   ]
  },
  {
   "cell_type": "code",
   "execution_count": 18,
   "metadata": {},
   "outputs": [
    {
     "data": {
      "text/plain": [
       "3"
      ]
     },
     "execution_count": 18,
     "metadata": {},
     "output_type": "execute_result"
    }
   ],
   "source": [
    "three_of_clubs.value"
   ]
  },
  {
   "cell_type": "code",
   "execution_count": 19,
   "metadata": {},
   "outputs": [],
   "source": [
    "#Now I can redefine my two_of_hearts\n",
    "two_of_hearts = Card('Hearts', 'Two')\n"
   ]
  },
  {
   "cell_type": "code",
   "execution_count": 20,
   "metadata": {},
   "outputs": [
    {
     "data": {
      "text/plain": [
       "<__main__.Card at 0x15d775c1c40>"
      ]
     },
     "execution_count": 20,
     "metadata": {},
     "output_type": "execute_result"
    }
   ],
   "source": [
    "two_of_hearts\n"
   ]
  },
  {
   "cell_type": "code",
   "execution_count": 21,
   "metadata": {},
   "outputs": [
    {
     "name": "stdout",
     "output_type": "stream",
     "text": [
      "Two of Hearts\n"
     ]
    }
   ],
   "source": [
    "print(two_of_hearts)\n",
    "                "
   ]
  },
  {
   "cell_type": "code",
   "execution_count": 22,
   "metadata": {},
   "outputs": [
    {
     "data": {
      "text/plain": [
       "'Hearts'"
      ]
     },
     "execution_count": 22,
     "metadata": {},
     "output_type": "execute_result"
    }
   ],
   "source": [
    "#Now I can see the suit, the rank and  the value\n",
    "two_of_hearts.suit"
   ]
  },
  {
   "cell_type": "code",
   "execution_count": 23,
   "metadata": {},
   "outputs": [
    {
     "data": {
      "text/plain": [
       "'Two'"
      ]
     },
     "execution_count": 23,
     "metadata": {},
     "output_type": "execute_result"
    }
   ],
   "source": [
    "two_of_hearts.rank"
   ]
  },
  {
   "cell_type": "code",
   "execution_count": 24,
   "metadata": {},
   "outputs": [
    {
     "data": {
      "text/plain": [
       "2"
      ]
     },
     "execution_count": 24,
     "metadata": {},
     "output_type": "execute_result"
    }
   ],
   "source": [
    "two_of_hearts.value"
   ]
  },
  {
   "cell_type": "code",
   "execution_count": 25,
   "metadata": {},
   "outputs": [
    {
     "data": {
      "text/plain": [
       "True"
      ]
     },
     "execution_count": 25,
     "metadata": {},
     "output_type": "execute_result"
    }
   ],
   "source": [
    "#Why is this important? Because this way I can compare the calues of the two cards!\n",
    "two_of_hearts.value < three_of_clubs.value"
   ]
  },
  {
   "cell_type": "markdown",
   "metadata": {},
   "source": [
    "Deck Class\n",
    "Using a class within another class\n",
    "We just created a single card, but how can we create an entire Deck of cards? Let's explore doing this with a class that utilizes the Card class.\n",
    "\n",
    "A Deck will be made up of multiple Cards. Which mean's we will actually use the Card class within the __init__ of the Deck class."
   ]
  },
  {
   "cell_type": "markdown",
   "metadata": {},
   "source": [
    "We will create a Deck class and within it we will:\n",
    "  a. create all 52 card objects\n",
    "  b. hold as a list of card objects\n",
    "  c. shuffle the deck (with the random library shuffle() method\n",
    "  d. deal cards with the pop() method\n",
    "\n",
    "So we have a class (Deck) and within it instances of another class (Card)"
   ]
  },
  {
   "cell_type": "code",
   "execution_count": 26,
   "metadata": {},
   "outputs": [],
   "source": [
    "class Deck():\n",
    "    def __init__(self):\n",
    "        \n",
    "        #first thing we want for the deck is to have all 52 card objects. One way to go about this is create \n",
    "        #an all_cards attribute that start off asan empty list with no input from the user\n",
    "        self.all_cards = []\n",
    "        \n",
    "        #create all 52 cards\n",
    "        for suit in suits:\n",
    "            for rank in ranks:\n",
    "                #create the card and add it to the all_cards list. To create the card remember each card is an instance of \n",
    "                #the Card() class\n",
    "                created_card = Card(suit, rank)\n",
    "                self.all_cards.append(created_card)\n",
    "                \n",
    "        \n",
    "        \n",
    "    "
   ]
  },
  {
   "cell_type": "code",
   "execution_count": 27,
   "metadata": {},
   "outputs": [],
   "source": [
    "#Let's make sure the class above works as expected\n",
    "#Let's create a brand new deck\n",
    "new_deck = Deck()"
   ]
  },
  {
   "cell_type": "code",
   "execution_count": 28,
   "metadata": {},
   "outputs": [
    {
     "data": {
      "text/plain": [
       "[<__main__.Card at 0x15d775ef640>,\n",
       " <__main__.Card at 0x15d775ef160>,\n",
       " <__main__.Card at 0x15d775ef8b0>,\n",
       " <__main__.Card at 0x15d775ef790>,\n",
       " <__main__.Card at 0x15d775efc10>,\n",
       " <__main__.Card at 0x15d775ef670>,\n",
       " <__main__.Card at 0x15d775efa00>,\n",
       " <__main__.Card at 0x15d775ef9a0>,\n",
       " <__main__.Card at 0x15d775efb80>,\n",
       " <__main__.Card at 0x15d775ef850>,\n",
       " <__main__.Card at 0x15d775ef730>,\n",
       " <__main__.Card at 0x15d775ef4c0>,\n",
       " <__main__.Card at 0x15d775ef460>,\n",
       " <__main__.Card at 0x15d775ef130>,\n",
       " <__main__.Card at 0x15d775ef6a0>,\n",
       " <__main__.Card at 0x15d775ef940>,\n",
       " <__main__.Card at 0x15d775ef880>,\n",
       " <__main__.Card at 0x15d775ef610>,\n",
       " <__main__.Card at 0x15d775efc40>,\n",
       " <__main__.Card at 0x15d775efd60>,\n",
       " <__main__.Card at 0x15d775ef310>,\n",
       " <__main__.Card at 0x15d775ef9d0>,\n",
       " <__main__.Card at 0x15d775efaf0>,\n",
       " <__main__.Card at 0x15d775efac0>,\n",
       " <__main__.Card at 0x15d775ef340>,\n",
       " <__main__.Card at 0x15d775eff40>,\n",
       " <__main__.Card at 0x15d775ef2e0>,\n",
       " <__main__.Card at 0x15d775efca0>,\n",
       " <__main__.Card at 0x15d775efa60>,\n",
       " <__main__.Card at 0x15d775eff70>,\n",
       " <__main__.Card at 0x15d775efeb0>,\n",
       " <__main__.Card at 0x15d775ef1f0>,\n",
       " <__main__.Card at 0x15d775efe50>,\n",
       " <__main__.Card at 0x15d775ef3d0>,\n",
       " <__main__.Card at 0x15d776b8070>,\n",
       " <__main__.Card at 0x15d776b80d0>,\n",
       " <__main__.Card at 0x15d776b8130>,\n",
       " <__main__.Card at 0x15d776b8190>,\n",
       " <__main__.Card at 0x15d776b81f0>,\n",
       " <__main__.Card at 0x15d776b8250>,\n",
       " <__main__.Card at 0x15d776b82b0>,\n",
       " <__main__.Card at 0x15d776b8310>,\n",
       " <__main__.Card at 0x15d776b8370>,\n",
       " <__main__.Card at 0x15d776b83d0>,\n",
       " <__main__.Card at 0x15d776b8430>,\n",
       " <__main__.Card at 0x15d776b8490>,\n",
       " <__main__.Card at 0x15d776b84f0>,\n",
       " <__main__.Card at 0x15d776b8550>,\n",
       " <__main__.Card at 0x15d776b85b0>,\n",
       " <__main__.Card at 0x15d776b8610>,\n",
       " <__main__.Card at 0x15d776b8670>,\n",
       " <__main__.Card at 0x15d776b86d0>]"
      ]
     },
     "execution_count": 28,
     "metadata": {},
     "output_type": "execute_result"
    }
   ],
   "source": [
    "#Let's check out if all cards have been created in memory:\n",
    "new_deck.all_cards "
   ]
  },
  {
   "cell_type": "code",
   "execution_count": 29,
   "metadata": {},
   "outputs": [
    {
     "name": "stdout",
     "output_type": "stream",
     "text": [
      "Two of Hearts\n"
     ]
    }
   ],
   "source": [
    "#Let's check out the first card of the deck, I expect to find the \n",
    "#Two of hearts because of the way we defined our suits and ranks global variables\n",
    "#suits = ('Hearts', 'Diamonds', 'Spades', 'Clubs')\n",
    "#ranks = ('Two', 'Three', 'Four', 'Five', 'Six', 'Seven', 'Eight', 'Nine', 'Ten', 'Jack', 'Queen', 'King', 'Ace')\n",
    "print(new_deck.all_cards[0])\n"
   ]
  },
  {
   "cell_type": "code",
   "execution_count": 30,
   "metadata": {},
   "outputs": [
    {
     "name": "stdout",
     "output_type": "stream",
     "text": [
      "Ace of Clubs\n"
     ]
    }
   ],
   "source": [
    "#I can also check that the bottom card is the Ace of CLubs:\n",
    "bottom_card = new_deck.all_cards[-1]\n",
    "print(bottom_card)"
   ]
  },
  {
   "cell_type": "code",
   "execution_count": 31,
   "metadata": {},
   "outputs": [
    {
     "name": "stdout",
     "output_type": "stream",
     "text": [
      "<function <lambda> at 0x0000015D776AB160>\n"
     ]
    }
   ],
   "source": [
    "#Note: Bottom card is always the same because we didn’t define it as a method. It’s only evaluated once and then python\n",
    "#doesn’t remember you used all_cards[-1] but rather it remembers ace of clubs. If you set \n",
    "#bottom_card = lambda: new_deck.all_cards[-1] \n",
    "#then calling bottom_card() will always return the actual current bottom card\n",
    "bottom_card = lambda: new_deck.all_cards[-1]\n",
    "print(bottom_card)"
   ]
  },
  {
   "cell_type": "code",
   "execution_count": 32,
   "metadata": {},
   "outputs": [
    {
     "name": "stdout",
     "output_type": "stream",
     "text": [
      "Two of Hearts\n",
      "Three of Hearts\n",
      "Four of Hearts\n",
      "Five of Hearts\n",
      "Six of Hearts\n",
      "Seven of Hearts\n",
      "Eight of Hearts\n",
      "Nine of Hearts\n",
      "Ten of Hearts\n",
      "Jack of Hearts\n",
      "Queen of Hearts\n",
      "King of Hearts\n",
      "Ace of Hearts\n",
      "Two of Diamonds\n",
      "Three of Diamonds\n",
      "Four of Diamonds\n",
      "Five of Diamonds\n",
      "Six of Diamonds\n",
      "Seven of Diamonds\n",
      "Eight of Diamonds\n",
      "Nine of Diamonds\n",
      "Ten of Diamonds\n",
      "Jack of Diamonds\n",
      "Queen of Diamonds\n",
      "King of Diamonds\n",
      "Ace of Diamonds\n",
      "Two of Spades\n",
      "Three of Spades\n",
      "Four of Spades\n",
      "Five of Spades\n",
      "Six of Spades\n",
      "Seven of Spades\n",
      "Eight of Spades\n",
      "Nine of Spades\n",
      "Ten of Spades\n",
      "Jack of Spades\n",
      "Queen of Spades\n",
      "King of Spades\n",
      "Ace of Spades\n",
      "Two of Clubs\n",
      "Three of Clubs\n",
      "Four of Clubs\n",
      "Five of Clubs\n",
      "Six of Clubs\n",
      "Seven of Clubs\n",
      "Eight of Clubs\n",
      "Nine of Clubs\n",
      "Ten of Clubs\n",
      "Jack of Clubs\n",
      "Queen of Clubs\n",
      "King of Clubs\n",
      "Ace of Clubs\n"
     ]
    }
   ],
   "source": [
    "#Thereal cool thing is I can now print all my cards in the deck looping through my new deck like so:\n",
    "#HOW COOL IS THAT???? See the below and take a moment to celebrate your achievement: this is VERY EMPOWERING!\n",
    "\n",
    "for card_object in new_deck.all_cards:\n",
    "    print(card_object)"
   ]
  },
  {
   "cell_type": "code",
   "execution_count": 33,
   "metadata": {},
   "outputs": [],
   "source": [
    "#OK, now that we are all warm and fuzzy from the celebration, it's time to shuffle the deck! let's add in the shuffle method\n",
    "class Deck():\n",
    "    def __init__(self):\n",
    "        \n",
    "        #first thing we want for the deck is to have all 52 card objects. One way to go about this is create \n",
    "        #an all_cards attribute that start off asan empty list with no input from the user\n",
    "        self.all_cards = []\n",
    "        \n",
    "        #create all 52 cards\n",
    "        for suit in suits:\n",
    "            for rank in ranks:\n",
    "                #create the card and add it to the all_cards list. To create the card remember each card is an instance of \n",
    "                #the Card() class\n",
    "                created_card = Card(suit, rank)\n",
    "                self.all_cards.append(created_card)\n",
    "                \n",
    "    def shuffle(self):\n",
    "        #note that random.shuffle doesn't return anything\n",
    "        random.shuffle(self.all_cards)\n",
    "        \n",
    "                "
   ]
  },
  {
   "cell_type": "code",
   "execution_count": 34,
   "metadata": {},
   "outputs": [],
   "source": [
    "#To see how the shuffle method above works, let's create a new deck\n",
    "new_deck = Deck()"
   ]
  },
  {
   "cell_type": "code",
   "execution_count": 35,
   "metadata": {},
   "outputs": [
    {
     "name": "stdout",
     "output_type": "stream",
     "text": [
      "Ace of Clubs\n"
     ]
    }
   ],
   "source": [
    "#let's grab the bottom card, as we saw above it was the Ace of Clubs\n",
    "bottom_card = new_deck.all_cards[-1]\n",
    "print(bottom_card)"
   ]
  },
  {
   "cell_type": "code",
   "execution_count": 36,
   "metadata": {},
   "outputs": [],
   "source": [
    "#Let's create the new deck\n",
    "new_deck = Deck()"
   ]
  },
  {
   "cell_type": "code",
   "execution_count": 37,
   "metadata": {},
   "outputs": [],
   "source": [
    "bottom_card = new_deck.all_cards[-1]"
   ]
  },
  {
   "cell_type": "code",
   "execution_count": 38,
   "metadata": {},
   "outputs": [
    {
     "name": "stdout",
     "output_type": "stream",
     "text": [
      "Ace of Clubs\n"
     ]
    }
   ],
   "source": [
    "print(bottom_card)"
   ]
  },
  {
   "cell_type": "code",
   "execution_count": 39,
   "metadata": {},
   "outputs": [],
   "source": [
    "#Now let's shuffle the deck. We should gett a different card at the bottom after shuffling\n",
    "new_deck.shuffle()"
   ]
  },
  {
   "cell_type": "code",
   "execution_count": 40,
   "metadata": {},
   "outputs": [
    {
     "name": "stdout",
     "output_type": "stream",
     "text": [
      "Ace of Clubs\n"
     ]
    }
   ],
   "source": [
    "#Yay! I have a new card at the bottom now, things are working as expected\n",
    "print(new_deck.all_cards[-1])"
   ]
  },
  {
   "cell_type": "code",
   "execution_count": 41,
   "metadata": {},
   "outputs": [],
   "source": [
    "#In the actual game I also need to remove cards.So in addition to our shuffle method, let's add a method to deal one card.\n",
    "#We'll use the pop method for this\n",
    "class Deck():\n",
    "    def __init__(self):\n",
    "        \n",
    "        #first thing we want for the deck is to have all 52 card objects. One way to go about this is create \n",
    "        #an all_cards attribute that start off asan empty list with no input from the user\n",
    "        self.all_cards = []\n",
    "        \n",
    "        #create all 52 cards\n",
    "        for suit in suits:\n",
    "            for rank in ranks:\n",
    "                #create the card and add it to the all_cards list. To create the card remember each card is an instance of \n",
    "                #the Card() class\n",
    "                created_card = Card(suit, rank)\n",
    "                self.all_cards.append(created_card)\n",
    "                \n",
    "    def shuffle(self):\n",
    "        #note that random.shuffle doesn't return anything\n",
    "        random.shuffle(self.all_cards)\n",
    "    def deal_one(self):\n",
    "        #call the pop method on the list self.all_cards and return the popped card\n",
    "        #dealing with one card is enough for our purpose, because we can create a loop to go through all 52 cards\n",
    "        return self.all_cards.pop()\n",
    "        "
   ]
  },
  {
   "cell_type": "code",
   "execution_count": 42,
   "metadata": {},
   "outputs": [],
   "source": [
    "#Let's create a new deck, shuffle it and deal one card.Assign it to the variable mycard\n",
    "new_deck = Deck()\n"
   ]
  },
  {
   "cell_type": "code",
   "execution_count": 43,
   "metadata": {},
   "outputs": [],
   "source": [
    "new_deck.shuffle()"
   ]
  },
  {
   "cell_type": "code",
   "execution_count": 44,
   "metadata": {},
   "outputs": [],
   "source": [
    "my_card = new_deck.deal_one()"
   ]
  },
  {
   "cell_type": "code",
   "execution_count": 45,
   "metadata": {},
   "outputs": [
    {
     "data": {
      "text/plain": [
       "<__main__.Card at 0x15d776c46a0>"
      ]
     },
     "execution_count": 45,
     "metadata": {},
     "output_type": "execute_result"
    }
   ],
   "source": [
    "#mycard has become a card object in memory\n",
    "my_card"
   ]
  },
  {
   "cell_type": "code",
   "execution_count": 46,
   "metadata": {},
   "outputs": [
    {
     "name": "stdout",
     "output_type": "stream",
     "text": [
      "King of Clubs\n"
     ]
    }
   ],
   "source": [
    "print(my_card)"
   ]
  },
  {
   "cell_type": "code",
   "execution_count": 47,
   "metadata": {},
   "outputs": [
    {
     "data": {
      "text/plain": [
       "51"
      ]
     },
     "execution_count": 47,
     "metadata": {},
     "output_type": "execute_result"
    }
   ],
   "source": [
    "#Let's check the length of my deck, we expect to see 51,since we removed one with pop. At this point I can create a loop to\n",
    "#deal with all the 52 cards\n",
    "len(new_deck.all_cards)"
   ]
  },
  {
   "cell_type": "markdown",
   "metadata": {},
   "source": [
    "Player Class\n",
    "\n",
    "Let's create a Player Class. A player should be able to hold instances of Cards, they should also be able to remove and add \n",
    "them from their hand. We want the Player class to be flexible enough to add one card, or many cards so we'll use a simple\n",
    "if check to keep it all in the same method.\n",
    "\n",
    "We'll keep this all in mind as we create the methods for the Player class.\n",
    "\n"
   ]
  },
  {
   "cell_type": "code",
   "execution_count": 48,
   "metadata": {},
   "outputs": [],
   "source": [
    "#When a player plays a card they will pop at zero. If the player adds cards, he will use the append method. We will use the\n",
    "#extend method, which allows to add multiple cards. We cannot use append again otherwise it'll create nested lists!\n",
    "\n",
    "\n",
    "class Player():\n",
    "    #To distinguish the players each player has a name. Let's also start setting up an empty list to be filled along the way\n",
    "    def __init__(self, name):\n",
    "        self.name = name\n",
    "        self.all_cards = []\n",
    "    \n",
    "    #The player must be able to add and remove cards. As explained we will remove one card at the time\n",
    "   \n",
    "    def remove_one(self):\n",
    "        pass\n",
    "        \n",
    "    def add_cards(self, new_cards):\n",
    "        pass\n",
    "    \n",
    "    \n",
    "    def __str__(self):\n",
    "        return f'Player {self.name} has {len(self.all_cards)} cards.'\n",
    "        "
   ]
  },
  {
   "cell_type": "code",
   "execution_count": 49,
   "metadata": {},
   "outputs": [],
   "source": [
    "#Let's create an instance of the class Player and give it a name\n",
    "new_player = Player(\"Jose\")"
   ]
  },
  {
   "cell_type": "code",
   "execution_count": 50,
   "metadata": {},
   "outputs": [
    {
     "name": "stdout",
     "output_type": "stream",
     "text": [
      "Player Jose has 0 cards.\n"
     ]
    }
   ],
   "source": [
    "#Let's print to make sure everything works correctly\n",
    "print(new_player)"
   ]
  },
  {
   "cell_type": "code",
   "execution_count": 51,
   "metadata": {},
   "outputs": [],
   "source": [
    "#Cool, all is well. Now let's see how we can remove and add cards\n",
    " \n",
    "         \n",
    "class Player:\n",
    "    def __init__(self, name):\n",
    "    \n",
    "    #To distinguish the players each player has a name. Let's also start setting up an empty list to be filled along the way\n",
    "        self.name = name\n",
    "        self.all_cards = []\n",
    "        \n",
    "    #The player must be able to add and remove cards\n",
    "   \n",
    "    def remove_one(self):\n",
    "        #Remember to pop at zero to remove from the top (or beginning of the list)\n",
    "        return self.all_cards.pop(0)\n",
    "        \n",
    "    def add_cards(self, new_cards):\n",
    "        #if this is a list, extend\n",
    "        if type(new_cards) == type([]):\n",
    "            self.all_cards.extend(new_cards) #Add a bunch of cards\n",
    "        else:\n",
    "            self.all_cards.append(new_cards) #add a single card\n",
    "    \n",
    "    \n",
    "    def __str__(self):\n",
    "        return f'Player {self.name} has {len(self.all_cards)} cards.'\n",
    "    "
   ]
  },
  {
   "cell_type": "code",
   "execution_count": 52,
   "metadata": {},
   "outputs": [],
   "source": [
    "new_player = Player(\"Jose\")"
   ]
  },
  {
   "cell_type": "code",
   "execution_count": 53,
   "metadata": {},
   "outputs": [
    {
     "name": "stdout",
     "output_type": "stream",
     "text": [
      "Player Jose has 0 cards.\n"
     ]
    }
   ],
   "source": [
    "print(new_player)"
   ]
  },
  {
   "cell_type": "code",
   "execution_count": 54,
   "metadata": {},
   "outputs": [
    {
     "name": "stdout",
     "output_type": "stream",
     "text": [
      "King of Clubs\n"
     ]
    }
   ],
   "source": [
    "#Jose has zero cards now we want to add cards to his hands. Let's add a card, see what the card is first:new_player\n",
    "print(my_card)"
   ]
  },
  {
   "cell_type": "code",
   "execution_count": 55,
   "metadata": {},
   "outputs": [],
   "source": [
    "new_player.add_cards(my_card)"
   ]
  },
  {
   "cell_type": "code",
   "execution_count": 56,
   "metadata": {},
   "outputs": [
    {
     "name": "stdout",
     "output_type": "stream",
     "text": [
      "Player Jose has 1 cards.\n"
     ]
    }
   ],
   "source": [
    "print(new_player)"
   ]
  },
  {
   "cell_type": "code",
   "execution_count": 57,
   "metadata": {},
   "outputs": [
    {
     "name": "stdout",
     "output_type": "stream",
     "text": [
      "King of Clubs\n"
     ]
    }
   ],
   "source": [
    "#I can also see what is the card:\n",
    "print(new_player.all_cards[0])"
   ]
  },
  {
   "cell_type": "code",
   "execution_count": 58,
   "metadata": {},
   "outputs": [],
   "source": [
    "#Now, what happens if I add a card 3 times? Since we are inside the if type new_cards == a list then I add 3 cards all at once\n",
    "new_player.add_cards([my_card, my_card, my_card])"
   ]
  },
  {
   "cell_type": "code",
   "execution_count": 59,
   "metadata": {},
   "outputs": [
    {
     "name": "stdout",
     "output_type": "stream",
     "text": [
      "Player Jose has 4 cards.\n"
     ]
    }
   ],
   "source": [
    "print(new_player)"
   ]
  },
  {
   "cell_type": "code",
   "execution_count": 60,
   "metadata": {},
   "outputs": [
    {
     "data": {
      "text/plain": [
       "<__main__.Card at 0x15d776c46a0>"
      ]
     },
     "execution_count": 60,
     "metadata": {},
     "output_type": "execute_result"
    }
   ],
   "source": [
    "#If we remove one card we expect Jose to have 3 cards\n",
    "new_player.remove_one()"
   ]
  },
  {
   "cell_type": "code",
   "execution_count": 61,
   "metadata": {},
   "outputs": [
    {
     "name": "stdout",
     "output_type": "stream",
     "text": [
      "Player Jose has 3 cards.\n"
     ]
    }
   ],
   "source": [
    "print(new_player)"
   ]
  },
  {
   "cell_type": "markdown",
   "metadata": {},
   "source": [
    "Now that we have a card class, a deck class and a player class we can start to set up the game"
   ]
  },
  {
   "cell_type": "code",
   "execution_count": 62,
   "metadata": {},
   "outputs": [],
   "source": [
    "#SET UP THE GAME\n",
    "#We need our two players, let's name them One and Two so it's easy to distinguish them\n",
    "player_one = Player(\"One\")\n",
    "player_two = Player(\"Two\")\n",
    "\n",
    "#Then we need a new deck, and we need to shuffle the new deck\n",
    "new_deck = Deck()\n",
    "new_deck.shuffle() #remember nothing is returned here\n",
    "\n",
    "#Now we need to split the deck in two equal parts, 26 cards each, and we deal one card at the time looping thru the 26 cards\n",
    "#We give one card to each player for every card\n",
    "for x in range(26):\n",
    "    player_one.add_cards(new_deck.deal_one())\n",
    "    player_two.add_cards(new_deck.deal_one())\n",
    "\n",
    "\n"
   ]
  },
  {
   "cell_type": "code",
   "execution_count": 63,
   "metadata": {},
   "outputs": [
    {
     "data": {
      "text/plain": [
       "[<__main__.Card at 0x15d776b6d00>,\n",
       " <__main__.Card at 0x15d776b65b0>,\n",
       " <__main__.Card at 0x15d776c4d00>,\n",
       " <__main__.Card at 0x15d776b6250>,\n",
       " <__main__.Card at 0x15d776b6130>,\n",
       " <__main__.Card at 0x15d776b6cd0>,\n",
       " <__main__.Card at 0x15d776b6400>,\n",
       " <__main__.Card at 0x15d776b64f0>,\n",
       " <__main__.Card at 0x15d776c3970>,\n",
       " <__main__.Card at 0x15d776c3bb0>,\n",
       " <__main__.Card at 0x15d776b6b50>,\n",
       " <__main__.Card at 0x15d776b8f10>,\n",
       " <__main__.Card at 0x15d776b67f0>,\n",
       " <__main__.Card at 0x15d776b6a30>,\n",
       " <__main__.Card at 0x15d776b68e0>,\n",
       " <__main__.Card at 0x15d776b69d0>,\n",
       " <__main__.Card at 0x15d776b63d0>,\n",
       " <__main__.Card at 0x15d776c3550>,\n",
       " <__main__.Card at 0x15d776b6bb0>,\n",
       " <__main__.Card at 0x15d776c3250>,\n",
       " <__main__.Card at 0x15d776c36d0>,\n",
       " <__main__.Card at 0x15d776b61c0>,\n",
       " <__main__.Card at 0x15d776c4fa0>,\n",
       " <__main__.Card at 0x15d776c4df0>,\n",
       " <__main__.Card at 0x15d776b61f0>,\n",
       " <__main__.Card at 0x15d776b6a90>]"
      ]
     },
     "execution_count": 63,
     "metadata": {},
     "output_type": "execute_result"
    }
   ],
   "source": [
    "#Check that both players have 26 cards\n",
    "player_two.all_cards"
   ]
  },
  {
   "cell_type": "code",
   "execution_count": 64,
   "metadata": {},
   "outputs": [
    {
     "name": "stdout",
     "output_type": "stream",
     "text": [
      "26\n",
      "26\n"
     ]
    }
   ],
   "source": [
    "#Another way to check is check the length of each player's deck\n",
    "print(len(player_one.all_cards))\n",
    "print(len(player_two.all_cards))"
   ]
  },
  {
   "cell_type": "code",
   "execution_count": 65,
   "metadata": {},
   "outputs": [],
   "source": [
    "#We are ready to turn the game on\n",
    "game_on = True"
   ]
  },
  {
   "cell_type": "code",
   "execution_count": 66,
   "metadata": {},
   "outputs": [],
   "source": [
    "#One way to go about setting up the game is to use  two while loops: one for the game on, one for the case we are at peace. \n",
    "# We need the loop for the at peace case because we could runf into the situation where we have multiple peace cases one \n",
    "# after the other\n",
    "#hile game_on:\n",
    " #   while at_peace:"
   ]
  },
  {
   "cell_type": "code",
   "execution_count": 67,
   "metadata": {},
   "outputs": [
    {
     "name": "stdout",
     "output_type": "stream",
     "text": [
      "Round 1\n",
      "Round 2\n",
      "Round 3\n",
      "Round 4\n",
      "Round 5\n",
      "Round 6\n",
      "Round 7\n",
      "Round 8\n",
      "Round 9\n",
      "Round 10\n",
      "Round 11\n",
      "Round 12\n",
      "Round 13\n",
      "Round 14\n",
      "Round 15\n",
      "Round 16\n",
      "Round 17\n",
      "Round 18\n",
      "Round 19\n",
      "Round 20\n",
      "Round 21\n",
      "Round 22\n",
      "Round 23\n",
      "Round 24\n",
      "Round 25\n",
      "Round 26\n",
      "Round 27\n",
      "Round 28\n",
      "Round 29\n",
      "Round 30\n",
      "PEACE!\n",
      "Round 31\n",
      "Round 32\n",
      "Round 33\n",
      "Round 34\n",
      "Round 35\n",
      "Round 36\n",
      "Round 37\n",
      "Round 38\n",
      "Round 39\n",
      "PEACE!\n",
      "Round 40\n",
      "Round 41\n",
      "Round 42\n",
      "Round 43\n",
      "Round 44\n",
      "Round 45\n",
      "Round 46\n",
      "Round 47\n",
      "Round 48\n",
      "Round 49\n",
      "Round 50\n",
      "PEACE!\n",
      "Round 51\n",
      "Round 52\n",
      "Round 53\n",
      "Round 54\n",
      "Round 55\n",
      "Round 56\n",
      "Round 57\n",
      "Round 58\n",
      "Round 59\n",
      "Round 60\n",
      "Round 61\n",
      "Round 62\n",
      "Round 63\n",
      "Round 64\n",
      "Round 65\n",
      "Round 66\n",
      "Round 67\n",
      "Round 68\n",
      "Round 69\n",
      "Round 70\n",
      "Round 71\n",
      "Round 72\n",
      "Round 73\n",
      "Round 74\n",
      "Round 75\n",
      "Round 76\n",
      "Round 77\n",
      "Round 78\n",
      "Round 79\n",
      "Round 80\n",
      "Round 81\n",
      "Round 82\n",
      "Round 83\n",
      "Round 84\n",
      "Round 85\n",
      "Round 86\n",
      "Round 87\n",
      "Round 88\n",
      "Round 89\n",
      "Round 90\n",
      "Round 91\n",
      "Round 92\n",
      "Round 93\n",
      "Round 94\n",
      "Round 95\n",
      "Round 96\n",
      "Round 97\n",
      "Round 98\n",
      "Round 99\n",
      "Round 100\n",
      "Round 101\n",
      "Round 102\n",
      "Round 103\n",
      "Round 104\n",
      "Round 105\n",
      "Round 106\n",
      "Round 107\n",
      "Round 108\n",
      "PEACE!\n"
     ]
    },
    {
     "ename": "IndexError",
     "evalue": "pop from empty list",
     "output_type": "error",
     "traceback": [
      "\u001b[1;31m---------------------------------------------------------------------------\u001b[0m",
      "\u001b[1;31mIndexError\u001b[0m                                Traceback (most recent call last)",
      "\u001b[1;32m<ipython-input-67-4fb3762bfcc8>\u001b[0m in \u001b[0;36m<module>\u001b[1;34m\u001b[0m\n\u001b[0;32m     71\u001b[0m             \u001b[1;32melse\u001b[0m\u001b[1;33m:\u001b[0m \u001b[1;31m#we add more cards\u001b[0m\u001b[1;33m\u001b[0m\u001b[1;33m\u001b[0m\u001b[0m\n\u001b[0;32m     72\u001b[0m                 \u001b[1;32mfor\u001b[0m \u001b[0mnum\u001b[0m \u001b[1;32min\u001b[0m \u001b[0mrange\u001b[0m\u001b[1;33m(\u001b[0m\u001b[1;36m5\u001b[0m\u001b[1;33m)\u001b[0m\u001b[1;33m:\u001b[0m\u001b[1;33m\u001b[0m\u001b[1;33m\u001b[0m\u001b[0m\n\u001b[1;32m---> 73\u001b[1;33m                     \u001b[0mplayer_one_cards\u001b[0m\u001b[1;33m.\u001b[0m\u001b[0mappend\u001b[0m\u001b[1;33m(\u001b[0m\u001b[0mplayer_one\u001b[0m\u001b[1;33m.\u001b[0m\u001b[0mremove_one\u001b[0m\u001b[1;33m(\u001b[0m\u001b[1;33m)\u001b[0m\u001b[1;33m)\u001b[0m\u001b[1;33m\u001b[0m\u001b[1;33m\u001b[0m\u001b[0m\n\u001b[0m\u001b[0;32m     74\u001b[0m                     \u001b[0mplayer_two_cards\u001b[0m\u001b[1;33m.\u001b[0m\u001b[0mappend\u001b[0m\u001b[1;33m(\u001b[0m\u001b[0mplayer_one\u001b[0m\u001b[1;33m.\u001b[0m\u001b[0mremove_one\u001b[0m\u001b[1;33m(\u001b[0m\u001b[1;33m)\u001b[0m\u001b[1;33m)\u001b[0m\u001b[1;33m\u001b[0m\u001b[1;33m\u001b[0m\u001b[0m\n\u001b[0;32m     75\u001b[0m \u001b[1;33m\u001b[0m\u001b[0m\n",
      "\u001b[1;32m<ipython-input-51-84eecbb3339f>\u001b[0m in \u001b[0;36mremove_one\u001b[1;34m(self)\u001b[0m\n\u001b[0;32m     13\u001b[0m     \u001b[1;32mdef\u001b[0m \u001b[0mremove_one\u001b[0m\u001b[1;33m(\u001b[0m\u001b[0mself\u001b[0m\u001b[1;33m)\u001b[0m\u001b[1;33m:\u001b[0m\u001b[1;33m\u001b[0m\u001b[1;33m\u001b[0m\u001b[0m\n\u001b[0;32m     14\u001b[0m         \u001b[1;31m#Remember to pop at zero to remove from the top (or beginning of the list)\u001b[0m\u001b[1;33m\u001b[0m\u001b[1;33m\u001b[0m\u001b[1;33m\u001b[0m\u001b[0m\n\u001b[1;32m---> 15\u001b[1;33m         \u001b[1;32mreturn\u001b[0m \u001b[0mself\u001b[0m\u001b[1;33m.\u001b[0m\u001b[0mall_cards\u001b[0m\u001b[1;33m.\u001b[0m\u001b[0mpop\u001b[0m\u001b[1;33m(\u001b[0m\u001b[1;36m0\u001b[0m\u001b[1;33m)\u001b[0m\u001b[1;33m\u001b[0m\u001b[1;33m\u001b[0m\u001b[0m\n\u001b[0m\u001b[0;32m     16\u001b[0m \u001b[1;33m\u001b[0m\u001b[0m\n\u001b[0;32m     17\u001b[0m     \u001b[1;32mdef\u001b[0m \u001b[0madd_cards\u001b[0m\u001b[1;33m(\u001b[0m\u001b[0mself\u001b[0m\u001b[1;33m,\u001b[0m \u001b[0mnew_cards\u001b[0m\u001b[1;33m)\u001b[0m\u001b[1;33m:\u001b[0m\u001b[1;33m\u001b[0m\u001b[1;33m\u001b[0m\u001b[0m\n",
      "\u001b[1;31mIndexError\u001b[0m: pop from empty list"
     ]
    }
   ],
   "source": [
    "#Let's start from the first while loop. Outside of the loop let's set up a counter so I can see how many rounds \n",
    "#it takes to set up these matches. \n",
    "round_num = 0\n",
    "\n",
    "while game_on:\n",
    "    \n",
    "    round_num += 1\n",
    "    print(f\"Round {round_num}\")\n",
    "    #Check if any player isout of cards:\n",
    "    if len(player_one.all_cards) == 0:\n",
    "        print(\"Player One is out of cards! Player Two wins\")\n",
    "        game_on = False #the game is over\n",
    "        break #break out of the game_on while loop\n",
    "    \n",
    "    #Do the same check for player Two:\n",
    "    if len(player_two.all_cards) == 0:\n",
    "        Print(\"Player Two is out of cards! Player One wins\")\n",
    "        game_on = False #the game is over\n",
    "        break #break out of the game_on while loop\n",
    "        \n",
    "    #Otherwise the game is on and it's time to start a new round\n",
    "    \n",
    "    #Let's set up a variable to the cards the player is going to leave on the table\n",
    "    player_one_cards = []\n",
    "    player_one_cards.append(player_one.remove_one())\n",
    "   \n",
    "    player_two_cards = []\n",
    "    player_two_cards.append(player_two.remove_one())\n",
    "    \n",
    "    #while at peace\n",
    "    #Here we have compared the cards and found to equal value cards. We can set up a rule for the players to draw 5 cards\n",
    "    #every time there's a peace. Also, we can set the rule that players need at least 5 cards in their hands to continue playing\n",
    "    at_peace = True\n",
    "    while at_peace:\n",
    "        if player_one_cards[-1].value > player_two_cards[-1].value:\n",
    "            #Small digression: why -1 and not zero? remember that we add to the list like so. Say initially\n",
    "            #player One has a Queen. Then as she keeps playing she adds other cards. [Q] --> [Q,K, J, 4]. By choosing -1\n",
    "            #we ensure that we draw that last card, versus constantly comparing the first Queen\n",
    "            \n",
    "            #Going back to the if: player one get the cards added to his deck, which we code up like so:\n",
    "            player_one.add_cards(player_one_cards) #player one get all their cards back\n",
    "            player_one.add_cards(player_two_cards) #player one also gets all the cards from player two\n",
    "            \n",
    "            #now we are no longer at wat\n",
    "            at_peace = False\n",
    "        elif player_one_cards[-1].value < player_two_cards[-1].value:\n",
    "            #Small digression: why -1 and not zero? remember that we add to the list like so. Say initially\n",
    "            #player One has a Queen. Then as she keeps playing she adds other cards. [Q] --> [Q,K, J, 4]. By choosing -1\n",
    "            #we ensure that we draw that last card, versus constantly comparing the first Queen\n",
    "            \n",
    "            #Going back to the if: player one get the cards added to his deck, which we code up like so:\n",
    "            player_two.add_cards(player_one_cards) #player one get all the cards from player one\n",
    "            player_two.add_cards(player_two_cards) #player one also gets all their own cards back\n",
    "            \n",
    "            #now we are no longer at wat\n",
    "            at_peace = False\n",
    "        else: #we are at peace\n",
    "            print(\"PEACE!\")\n",
    "            \n",
    "            if len(player_one.all_cards) < 5:\n",
    "                print(\"Player One doesn't have anough cards to continue playing\")\n",
    "                print(\"PLAYER TWO WINS!\")\n",
    "                game_on = False\n",
    "                break\n",
    "            #Do the same for player Two\n",
    "            elif len(player_two.all_cards) < 5:\n",
    "                print(\"Player Two doesn't have anough cards to continue playing\")\n",
    "                print(\"PLAYER ONE WINS!\")\n",
    "                game_on = False\n",
    "                break\n",
    "            else: #we add more cards\n",
    "                for num in range(5):\n",
    "                    player_one_cards.append(player_one.remove_one())\n",
    "                    player_two_cards.append(player_one.remove_one())\n",
    "                    "
   ]
  },
  {
   "cell_type": "markdown",
   "metadata": {},
   "source": [
    "Ok we warmed up and we are ready to create a BLACKJACK PROJECT! A simplified version.\n",
    "\n",
    "We have a computer dealer and a human player, with a deck of 52 cards. \n",
    "The human player has a bank and places a bet. The human player starts with two card face up and the computer dealer starts with one card face up an one face down. The player goes first. His goal is to get closer to the value of 21 than the dealer does.The total value is the sum of the face up cards that the player has. The possible actions are:\n",
    "1. Hit (get more cards from the deck)\n",
    "2. Stand (Stop getting cards from the deck)\n",
    "(There is not going to be actions like Insurance, Split or Double Downs, as this is a simplified version)\n",
    "\n",
    "After the player hits or stands, if the player is under 21,it's the dealer turn. The dealer hits until they beat the player or they bust (go over 21).\n",
    "\n",
    "1. One scenario is  the player keeps hitting and they bust. The dealer wins, player loses the bet, dealer collects all the money.\n",
    "2. A second scenario is the player stands, the dealer gets closer to 21, beats the player, player loses the bet, dealer collects all the money.\n",
    "3. The dealer busts, the human player doubles the bet and gets the money\n",
    "\n",
    "Jack, Queen and King all have value 10, aces can count as 1 or 11, whichever value is more favorable for the player"
   ]
  },
  {
   "cell_type": "markdown",
   "metadata": {},
   "source": [
    "Game Play - To play a hand of Blackjack the following steps must be followed:\n",
    "\n",
    "1. Create a deck of 52 cards\n",
    "\n",
    "2. Shuffle the deck\n",
    "\n",
    "3. Ask the Player for their bet\n",
    "\n",
    "4. Make sure that the Player's bet does not exceed their available chips\n",
    "\n",
    "5. Deal two cards to the Dealer and two cards to the Player\n",
    "\n",
    "6.Show only one of the Dealer's cards, the other remains hidden\n",
    "\n",
    "7.Show both of the Player's cards\n",
    "\n",
    "8.Ask the Player if they wish to Hit, and take another card\n",
    "\n",
    "9.If the Player's hand doesn't Bust (go over 21), ask if they'd like to Hit again.\n",
    "\n",
    "10.If a Player Stands, play the Dealer's hand. The dealer will always Hit until the Dealer's value meets or exceeds 17\n",
    "\n",
    "11.Determine the winner and adjust the Player's chips accordingly\n",
    "\n",
    "12. Ask the Player if they'd like to play again\n"
   ]
  },
  {
   "cell_type": "markdown",
   "metadata": {},
   "source": [
    "Playing Cards\n",
    "\n",
    "A standard deck of playing cards has four suits (Hearts, Diamonds, Spades and Clubs) \n",
    "and thirteen ranks (2 through 10, then the face cards Jack, Queen, King and Ace)\n",
    "for a total of 52 cards per deck. Jacks, Queens and Kings all have a rank of 10.\n",
    "Aces have a rank of either 11 or 1 as needed to reach 21 without busting. \n",
    "As a starting point in your program, you may want to assign variables to store a list of suits, ranks, \n",
    "and then use a dictionary to map ranks to values."
   ]
  },
  {
   "cell_type": "markdown",
   "metadata": {},
   "source": [
    "The Game - Imports and Global Variables\n",
    "Step 1: Import the random module. This will be used to shuffle the deck prior to dealing. \n",
    "Then, declare variables to store suits, ranks and values. You can develop your own system, or copy ours below. Finally, \n",
    "declare a Boolean value to be used to control while loops. This is a common practice used to control the flow of the game."
   ]
  },
  {
   "cell_type": "code",
   "execution_count": 68,
   "metadata": {},
   "outputs": [],
   "source": [
    "#GLOBAL VARIABLES\n",
    "import random\n",
    "suits = (\"Hearts\", \"Diamonds\", \"Spades\", \"Clubs\")\n",
    "ranks = (\"Two\", \"Three\", \"Four\", \"Five\", \"Six\", \"Seven\", \"Eight\", \"Nine\", \"Ten\", \"Jack\", \"Queen\", \"King\", \"Ace\")\n",
    "values = {\"Two\": 2, \"Three\": 3, \"Four\": 4, \"Five\": 5, \"Six\": 6, \"Seven\": 7, \"Eight\": 8, \"Nine\": 9, \"Ten\": 10, \"Jack\": 10,\n",
    "          \"Queen\": 10, \"King\": 10, \"Ace\": 11}\n",
    "\n",
    "\n",
    "playing = True"
   ]
  },
  {
   "cell_type": "markdown",
   "metadata": {},
   "source": [
    "Class Definitions Consider making a Card class where each Card object has a suit and a rank, then a Deck class to hold all 52 Card objects, and can be shuffled, and finally a Hand class that holds those Cards that have been dealt to each player from the Deck.\n",
    "\n",
    "Step 2: Create a Card Class A Card object really only needs two attributes: suit and rank. You might add an attribute for \"value\" - we chose to handle value later when developing our Hand class. In addition to the Card's init method, consider adding a str method that, when asked to print a Card, returns a string in the form \"Two of Hearts\""
   ]
  },
  {
   "cell_type": "code",
   "execution_count": 69,
   "metadata": {},
   "outputs": [],
   "source": [
    "#CARD CLASS\n",
    "class Card():\n",
    "    \n",
    "    def __init__(self, suit, rank):\n",
    "        self.suit = suit\n",
    "        self.rank = rank\n",
    "        #self.value = values[ranks]\n",
    "        \n",
    "    def __str__(self):\n",
    "        return self.rank + \" of \" + self.suit"
   ]
  },
  {
   "cell_type": "markdown",
   "metadata": {},
   "source": [
    "Step 3: Create a Deck Class\n",
    "Here we might store 52 card objects in a list that can later be shuffled. First, though, we need to instantiate all 52 unique card objects and add them to our list. So long as the Card class definition appears in our code, we can build Card objects inside our Deck __init__ method. Consider iterating over sequences of suits and ranks to build out each card. This might appear inside a Deck class __init__ method:\n",
    "\n",
    "for suit in suits:\n",
    "    for rank in ranks:\n",
    "\n",
    "In addition to an __init__ method we'll want to add methods to shuffle our deck, and to deal out cards during gameplay.\n",
    "\n",
    "OPTIONAL: We may never need to print the contents of the deck during gameplay, but having the ability to see the cards inside it may help troubleshoot any problems that occur during development. With this in mind, consider adding a __str__ method to the class definition."
   ]
  },
  {
   "cell_type": "code",
   "execution_count": 70,
   "metadata": {},
   "outputs": [],
   "source": [
    "class Deck():\n",
    "    \n",
    "    def __init__(self):\n",
    "        self.deck = [] #Start with an empty list\n",
    "        for suit in suits:\n",
    "            for rank in ranks:\n",
    "                self.deck.append(Card(suit, rank)) #Build the card instances and add them to the list        \n",
    "                \n",
    "    #String representation for the deck\n",
    "    def __str__(self):\n",
    "        #Start the deck composition as an empy string\n",
    "        deck_comp = ' '\n",
    "        #For every card in the deck we are going to concatenate the deck composition with the card string representation\n",
    "        for card in self.deck:\n",
    "            deck_comp += \"\\n\" + card.__str__()\n",
    "        return \"The deck has \" + deck_comp\n",
    "        \n",
    "    #Shuffle the deck\n",
    "    def shuffle(self):\n",
    "        random.shuffle(self.deck)\n",
    "    \n",
    "    #Deal a single card,pop it from the top and return it\n",
    "    def deal(self):\n",
    "        return self.deck.pop()\n",
    "            "
   ]
  },
  {
   "cell_type": "markdown",
   "metadata": {},
   "source": [
    "TESTING: Just to see that everything works so far, let's see what our Deck looks like!"
   ]
  },
  {
   "cell_type": "code",
   "execution_count": 71,
   "metadata": {},
   "outputs": [
    {
     "name": "stdout",
     "output_type": "stream",
     "text": [
      "The deck has  \n",
      "Seven of Clubs\n",
      "Eight of Hearts\n",
      "Seven of Diamonds\n",
      "King of Clubs\n",
      "Nine of Diamonds\n",
      "Eight of Spades\n",
      "Seven of Hearts\n",
      "Seven of Spades\n",
      "King of Hearts\n",
      "Nine of Hearts\n",
      "Six of Hearts\n",
      "Jack of Diamonds\n",
      "Nine of Spades\n",
      "Ten of Hearts\n",
      "Six of Spades\n",
      "Three of Clubs\n",
      "Four of Clubs\n",
      "Nine of Clubs\n",
      "Ten of Spades\n",
      "Jack of Hearts\n",
      "Five of Hearts\n",
      "Two of Diamonds\n",
      "Four of Spades\n",
      "Six of Diamonds\n",
      "Ace of Diamonds\n",
      "Two of Hearts\n",
      "Two of Clubs\n",
      "Three of Spades\n",
      "Three of Hearts\n",
      "Eight of Diamonds\n",
      "Ace of Hearts\n",
      "Three of Diamonds\n",
      "Queen of Clubs\n",
      "Queen of Spades\n",
      "Ten of Diamonds\n",
      "King of Diamonds\n",
      "Four of Diamonds\n",
      "Ten of Clubs\n",
      "Queen of Diamonds\n",
      "Jack of Clubs\n",
      "Jack of Spades\n",
      "Queen of Hearts\n",
      "Five of Spades\n",
      "Ace of Spades\n",
      "Five of Diamonds\n",
      "Eight of Clubs\n",
      "King of Spades\n",
      "Six of Clubs\n",
      "Ace of Clubs\n",
      "Five of Clubs\n",
      "Four of Hearts\n",
      "Two of Spades\n"
     ]
    }
   ],
   "source": [
    "#To test, create a test deck, shuffle it and see what it looks like:\n",
    "test_deck = Deck()\n",
    "test_deck.shuffle()\n",
    "print(test_deck)\n"
   ]
  },
  {
   "cell_type": "markdown",
   "metadata": {},
   "source": [
    "Great! Now let's move on to our Hand class to represent the cards that a player has in their hand. \n",
    "We will deal one card from the deck and add the card to the player's hand\n",
    "\n",
    "Step 4: Create a Hand Class\n",
    "In addition to holding Card objects dealt from the Deck, the Hand class may be used to calculate the value of those cards using the values dictionary defined above. It may also need to adjust for the value of Aces when appropriate."
   ]
  },
  {
   "cell_type": "code",
   "execution_count": 72,
   "metadata": {},
   "outputs": [],
   "source": [
    "class Hand():\n",
    "    \n",
    "    def __init__(self):\n",
    "        #Start from an empty list\n",
    "        self.cards = []\n",
    "        self.value = 0 #current sum of all values\n",
    "        self.aces = 0 #the aces attribute keeps track of the aces \n",
    "        \n",
    "        #add cards\n",
    "    def add_cards(self, card):\n",
    "        #Card passed in by the Deck deal method\n",
    "        self.cards.append(card) #This card is from applying deal to the Deck and we know it has a rank. That rank has a value.\n",
    "        #Grab the card rank.Pass in the card rank to the values dictionary. Take that value and add it to the current value\n",
    "        self.value += values[card.rank] #if self.value is larger than 21 someone lost the game\n",
    "        \n",
    "    def adjust_for_ace(self):\n",
    "        pass\n",
    "        "
   ]
  },
  {
   "cell_type": "code",
   "execution_count": 73,
   "metadata": {},
   "outputs": [
    {
     "name": "stdout",
     "output_type": "stream",
     "text": [
      "Eight of Diamonds\n",
      "8\n"
     ]
    }
   ],
   "source": [
    "#Let's do some testing to make sure things work out as expected\n",
    "# Create an instance of the Deck and shuffle the deck\n",
    "\n",
    "\n",
    "test_deck = Deck()\n",
    "test_deck.shuffle()\n",
    "\n",
    "#Create a test player with no cards in their hands\n",
    "test_player = Hand()\n",
    "\n",
    "#Deal 1 card from the deck and assign it to a variable pulled_card:\n",
    "pulled_card = test_deck.deal()\n",
    "\n",
    "print(pulled_card)\n",
    "test_player.add_cards(pulled_card)\n",
    "print(test_player.value)\n"
   ]
  },
  {
   "cell_type": "code",
   "execution_count": 74,
   "metadata": {},
   "outputs": [],
   "source": [
    "#What if the user of the Card constructor gave it a bad suit? Perhaps a misspelling\n",
    "#In this case I would add to my card class the following check:\n",
    "\n",
    "def ask_for_correct_spelling():\n",
    "    while True:\n",
    "        try:\n",
    "            result = input('Please provide the correct spelling for the suit: ')\n",
    "            if result == \"Hearts\" or result == \"Diamonds\" or result == \"Spades\" or result == \"Clubs\":\n",
    "                print('Thank you')\n",
    "                break\n",
    "                \n",
    "            else:\n",
    "                raise \"Misspelling!\"\n",
    "        \n",
    "        except:\n",
    "            print('Whoops the suit is misspelled')\n",
    "            print('I will ask you until you provide the correct spelling')\n",
    "            continue\n",
    "        \n",
    "        finally:\n",
    "            print('End of try/except/finally')\n",
    "            \n"
   ]
  },
  {
   "cell_type": "code",
   "execution_count": 75,
   "metadata": {},
   "outputs": [
    {
     "name": "stdout",
     "output_type": "stream",
     "text": [
      "Please provide the correct spelling for the suit: \n",
      "Whoops the suit is misspelled\n",
      "I will ask you until you provide the correct spelling\n",
      "End of try/except/finally\n",
      "Please provide the correct spelling for the suit: Spades\n",
      "Thank you\n",
      "End of try/except/finally\n"
     ]
    }
   ],
   "source": [
    "ask_for_correct_spelling()"
   ]
  },
  {
   "cell_type": "code",
   "execution_count": 76,
   "metadata": {},
   "outputs": [],
   "source": [
    "class Card():\n",
    "    \n",
    "    def __init__(self,suit, rank):\n",
    "        self.suit = suit\n",
    "        self.rank = rank\n",
    "        self.value = values[rank]\n",
    "        \n",
    "    def enter_input_and_check_spelling(self):\n",
    "        ask_for_correct_spelling()\n",
    "        \n",
    "    def __str__(self):\n",
    "        return self.rank + \" of \" + self.suit"
   ]
  },
  {
   "cell_type": "code",
   "execution_count": 77,
   "metadata": {},
   "outputs": [],
   "source": [
    "new_card = Card('Heart', 'Two')"
   ]
  },
  {
   "cell_type": "code",
   "execution_count": 78,
   "metadata": {},
   "outputs": [
    {
     "data": {
      "text/plain": [
       "'Heart'"
      ]
     },
     "execution_count": 78,
     "metadata": {},
     "output_type": "execute_result"
    }
   ],
   "source": [
    "new_card.suit"
   ]
  },
  {
   "cell_type": "code",
   "execution_count": 79,
   "metadata": {},
   "outputs": [
    {
     "data": {
      "text/plain": [
       "'Two'"
      ]
     },
     "execution_count": 79,
     "metadata": {},
     "output_type": "execute_result"
    }
   ],
   "source": [
    "new_card.rank"
   ]
  },
  {
   "cell_type": "code",
   "execution_count": 80,
   "metadata": {},
   "outputs": [
    {
     "name": "stdout",
     "output_type": "stream",
     "text": [
      "Please provide the correct spelling for the suit: \n",
      "Whoops the suit is misspelled\n",
      "I will ask you until you provide the correct spelling\n",
      "End of try/except/finally\n",
      "Please provide the correct spelling for the suit: Hearts\n",
      "Thank you\n",
      "End of try/except/finally\n"
     ]
    }
   ],
   "source": [
    "new_card.enter_input_and_check_spelling()"
   ]
  },
  {
   "cell_type": "markdown",
   "metadata": {},
   "source": [
    "End of the error hanlding digression. Back to adding cards in the hands of my player"
   ]
  },
  {
   "cell_type": "code",
   "execution_count": 81,
   "metadata": {},
   "outputs": [],
   "source": [
    "#let's add another card to the hands of my player. Instead of adding the pulled-card we deal one card from the deck\n",
    "test_player.add_cards(test_deck.deal())\n"
   ]
  },
  {
   "cell_type": "code",
   "execution_count": 82,
   "metadata": {},
   "outputs": [
    {
     "name": "stdout",
     "output_type": "stream",
     "text": [
      "Three of Spades\n",
      "15\n"
     ]
    }
   ],
   "source": [
    "print(test_deck.deal())\n",
    "print(test_player.value)"
   ]
  },
  {
   "cell_type": "markdown",
   "metadata": {},
   "source": [
    "Ok, now we are ready to tackle  the issue of the aces"
   ]
  },
  {
   "cell_type": "code",
   "execution_count": 83,
   "metadata": {},
   "outputs": [],
   "source": [
    "class Hand:\n",
    "    \n",
    "    def __init__(self):\n",
    "        self.cards = []  # start with an empty list as we did in the Deck class\n",
    "        self.value = 0   # start with zero value\n",
    "        self.aces = 0    # add an attribute to keep track of aces\n",
    "    \n",
    "    def add_cards(self,card):\n",
    "        self.cards.append(card)\n",
    "        self.value += values[card.rank]\n",
    "        \n",
    "        #track the aces\n",
    "        if card.rank == 'Ace':\n",
    "            self.aces += 1  # add to self.aces\n",
    "            \n",
    "            \n",
    "    \n",
    "    def adjust_for_ace(self):\n",
    "        while self.value > 21 and self.aces:\n",
    "            #When we first get the Ace weconsider it to be an 11. However if the value is > 21, we change the value of the ace\n",
    "            #to 1\n",
    "            self.value -= 10 #take current value (11) and subtract 10 to change the value of the ace to 1\n",
    "            self.aces -= 1 #take my number of aces an subtract one of them since the ace is no longer an ace and it\n",
    "            #has become a 1\n",
    "        "
   ]
  },
  {
   "cell_type": "code",
   "execution_count": 84,
   "metadata": {},
   "outputs": [
    {
     "name": "stdout",
     "output_type": "stream",
     "text": [
      "Ten of Hearts\n",
      "10\n"
     ]
    }
   ],
   "source": [
    "test_deck = Deck()\n",
    "test_deck.shuffle()\n",
    "\n",
    "test_player = Hand()\n",
    "pulled_card = test_deck.deal()\n",
    "print(pulled_card)\n",
    "test_player.add_cards(pulled_card)\n",
    "print(test_player.value)\n"
   ]
  },
  {
   "cell_type": "markdown",
   "metadata": {},
   "source": [
    "All works as expected so we can now move on to create our Chips Class\n",
    "\n",
    "Step 5: Create a Chips Class\n",
    "In addition to decks of cards and hands, we need to keep track of a Player's starting chips, bets, and ongoing winnings. This could be done using global variables, but in the spirit of object oriented programming, let's make a Chips class instead!"
   ]
  },
  {
   "cell_type": "code",
   "execution_count": 85,
   "metadata": {},
   "outputs": [],
   "source": [
    "class Chips():\n",
    "    def __init__(self):\n",
    "        self.total = 100 #start from some total of chips, chose any number you like. We chose 100\n",
    "        self.bet = 0 #start with zero bets\n",
    "        \n",
    "    #The player could win or lose a bet\n",
    "    def win_bet(self):\n",
    "        self.total += self.bet\n",
    "    def lose_bet(self):\n",
    "        self.total -= self.bet\n",
    "    "
   ]
  },
  {
   "cell_type": "markdown",
   "metadata": {},
   "source": [
    "A NOTE ABOUT OUR DEFAULT TOTAL VALUE:\n",
    "Alternatively, we could have passed a default total value as an parameter in the __init__. This would have let us pass in an override value at the time the object was created rather than wait until later to change it. The code would have looked like this:\n",
    "\n",
    "def __init__(self,total=100):\n",
    "    self.total = total\n",
    "    self.bet = 0\n",
    "\n",
    "Either technique is fine, it only depends on how you plan to start your game parameters.\n",
    "\n",
    "Function Defintions\n",
    "A lot of steps are going to be repetitive. That's where functions come in! The following steps are guidelines - add or remove functions as needed in your own program.\n",
    "\n",
    "Step 6: Write a function for taking bets\n",
    "Since we're asking the user for an integer value, this would be a good place to use try/except. Remember to check that a Player's bet can be covered by their available chips."
   ]
  },
  {
   "cell_type": "code",
   "execution_count": 86,
   "metadata": {},
   "outputs": [],
   "source": [
    "#We take in some chips. Remember the bet has chips and total attributes\n",
    "def take_bet(chips):\n",
    "    while True:\n",
    "        \n",
    "        #Set the bet equal to what the player wants to bet:\n",
    "        try:\n",
    "            chips.bet = int(input(\"How many chips would you like to bet? \"))\n",
    "        #make sure they provide an integer\n",
    "        except ValueError:\n",
    "            print(\"Dear, kindly provide an integer\")\n",
    "        \n",
    "        #Make sure if they do provide an integer that that integer is below or equal to the number of chips they own\n",
    "        else:\n",
    "            if chips.bet > chips.bet:\n",
    "                print(\"Sweetie, you cannot bet more than what you have! Kindly provide an integer <= {}\".format(chips.total))\n",
    "            else:\n",
    "                break"
   ]
  },
  {
   "cell_type": "code",
   "execution_count": 87,
   "metadata": {},
   "outputs": [
    {
     "name": "stdout",
     "output_type": "stream",
     "text": [
      "How many chips would you like to bet? 12\n"
     ]
    },
    {
     "ename": "AttributeError",
     "evalue": "'int' object has no attribute 'bet'",
     "output_type": "error",
     "traceback": [
      "\u001b[1;31m---------------------------------------------------------------------------\u001b[0m",
      "\u001b[1;31mAttributeError\u001b[0m                            Traceback (most recent call last)",
      "\u001b[1;32m<ipython-input-87-48c27c0b2a45>\u001b[0m in \u001b[0;36m<module>\u001b[1;34m\u001b[0m\n\u001b[0;32m      1\u001b[0m \u001b[1;31m#Note that you cannot pass in a number. If you do, you get this AttributeError:\u001b[0m\u001b[1;33m\u001b[0m\u001b[1;33m\u001b[0m\u001b[1;33m\u001b[0m\u001b[0m\n\u001b[1;32m----> 2\u001b[1;33m \u001b[0mtake_bet\u001b[0m\u001b[1;33m(\u001b[0m\u001b[1;36m100\u001b[0m\u001b[1;33m)\u001b[0m\u001b[1;33m\u001b[0m\u001b[1;33m\u001b[0m\u001b[0m\n\u001b[0m",
      "\u001b[1;32m<ipython-input-86-d489513b711e>\u001b[0m in \u001b[0;36mtake_bet\u001b[1;34m(chips)\u001b[0m\n\u001b[0;32m      5\u001b[0m         \u001b[1;31m#Set the bet equal to what the player wants to bet:\u001b[0m\u001b[1;33m\u001b[0m\u001b[1;33m\u001b[0m\u001b[1;33m\u001b[0m\u001b[0m\n\u001b[0;32m      6\u001b[0m         \u001b[1;32mtry\u001b[0m\u001b[1;33m:\u001b[0m\u001b[1;33m\u001b[0m\u001b[1;33m\u001b[0m\u001b[0m\n\u001b[1;32m----> 7\u001b[1;33m             \u001b[0mchips\u001b[0m\u001b[1;33m.\u001b[0m\u001b[0mbet\u001b[0m \u001b[1;33m=\u001b[0m \u001b[0mint\u001b[0m\u001b[1;33m(\u001b[0m\u001b[0minput\u001b[0m\u001b[1;33m(\u001b[0m\u001b[1;34m\"How many chips would you like to bet? \"\u001b[0m\u001b[1;33m)\u001b[0m\u001b[1;33m)\u001b[0m\u001b[1;33m\u001b[0m\u001b[1;33m\u001b[0m\u001b[0m\n\u001b[0m\u001b[0;32m      8\u001b[0m         \u001b[1;31m#make sure they provide an integer\u001b[0m\u001b[1;33m\u001b[0m\u001b[1;33m\u001b[0m\u001b[1;33m\u001b[0m\u001b[0m\n\u001b[0;32m      9\u001b[0m         \u001b[1;32mexcept\u001b[0m \u001b[0mValueError\u001b[0m\u001b[1;33m:\u001b[0m\u001b[1;33m\u001b[0m\u001b[1;33m\u001b[0m\u001b[0m\n",
      "\u001b[1;31mAttributeError\u001b[0m: 'int' object has no attribute 'bet'"
     ]
    }
   ],
   "source": [
    "#Note that you cannot pass in a number. If you do, you get this AttributeError:\n",
    "take_bet(100)"
   ]
  },
  {
   "cell_type": "code",
   "execution_count": 88,
   "metadata": {},
   "outputs": [],
   "source": [
    "#Instead you need to instantiate for example like this:\n",
    "my_chips = Chips()"
   ]
  },
  {
   "cell_type": "code",
   "execution_count": 89,
   "metadata": {},
   "outputs": [
    {
     "name": "stdout",
     "output_type": "stream",
     "text": [
      "How many chips would you like to bet? 12\n"
     ]
    }
   ],
   "source": [
    "take_bet(my_chips)"
   ]
  },
  {
   "cell_type": "markdown",
   "metadata": {},
   "source": [
    "We used a while loop here to continually prompt the user for input until we received an integer value that was within the Player's betting limit.\n",
    "\n",
    "A QUICK NOTE ABOUT FUNCTIONS:\n",
    "If we knew in advance what we were going to call our Player's Chips object, we could have written the above function like this:\n",
    "\n",
    "def take_bet():\n",
    "    while True:\n",
    "        try:\n",
    "            player_chips.bet = int(input('How many chips would you like to bet? '))\n",
    "        except ValueError:\n",
    "            print('Sorry, a bet must be an integer!')\n",
    "        else:\n",
    "            if player_chips.bet > player_chips.total:\n",
    "                print(\"Sorry, your bet can't exceed\",player_chips.total)\n",
    "            else:\n",
    "                break\n",
    "\n",
    "and then we could call the function without passing any arguments. This is generally not a good idea! It's better to have functions be self-contained, able to accept any incoming value than depend on some future naming convention. Also, this makes it easier to add players in future versions of our program!"
   ]
  },
  {
   "cell_type": "markdown",
   "metadata": {},
   "source": [
    "Step 7: Write a function for taking hits\n",
    "Either player can take hits until they bust. This function will be called during gameplay anytime a Player requests a hit, or a Dealer's hand is less than 17. It should take in Deck and Hand objects as arguments, and deal one card off the deck and add it to the Hand. You may want it to check for aces in the event that a player's hand exceeds 21."
   ]
  },
  {
   "cell_type": "code",
   "execution_count": 90,
   "metadata": {},
   "outputs": [],
   "source": [
    "def hit(deck, hand):\n",
    "    \n",
    "    single_card = deck.deal()\n",
    "    hand.add_cards(single_card)\n",
    "    hand.adjust_for_ace()\n",
    "  "
   ]
  },
  {
   "cell_type": "markdown",
   "metadata": {},
   "source": [
    "Step 8: Write a function prompting the Player to Hit or Stand\n",
    "This function should accept the deck and the player's hand as arguments, and assign playing as a global variable.\n",
    "If the Player Hits, employ the hit() function above. If the Player Stands, set the playing variable to False - this will control the behavior of a while loop later on in our code."
   ]
  },
  {
   "cell_type": "code",
   "execution_count": 91,
   "metadata": {},
   "outputs": [],
   "source": [
    "def hit_or_stand(deck, hand):\n",
    "    global playing #this is to control an upcoming while loop\n",
    "    \n",
    "    while True:\n",
    "        x = input(\"Enter h for hit and s for stand \")\n",
    "        \n",
    "        if x[0].lower() == 'h':\n",
    "            hit(deck, hand) #We assume player wants to hit\n",
    "        elif x[0].lower() == 's':\n",
    "            print(\"Player stands. Dealer's turn\") #We assume player wants to stand\n",
    "            playing = False\n",
    "        else:\n",
    "            print(\"Note you need to enter only h or s\")\n",
    "            continue\n",
    "        break"
   ]
  },
  {
   "cell_type": "markdown",
   "metadata": {},
   "source": [
    "Step 9: Write functions to display cards\n",
    "When the game starts, and after each time Player takes a card, the dealer's first card is hidden and all of Player's cards are visible. At the end of the hand all cards are shown, and you may want to show each hand's total value. Write a function for each of these scenarios."
   ]
  },
  {
   "cell_type": "code",
   "execution_count": 92,
   "metadata": {},
   "outputs": [],
   "source": [
    "#One way to do this is the following\n",
    "\n",
    "#Define a function that takes in player and dealer as arguments\n",
    "def show_some(player,dealer):\n",
    "    print(\"\\nDealer's Hand:\")\n",
    "    print(\" <card hidden>\")\n",
    "    print('',dealer.cards[1])  \n",
    "    print(\"\\nPlayer's Hand:\", *player.cards, sep='\\n ')\n",
    "    \n",
    "def show_all(player,dealer):\n",
    "    print(\"\\nDealer's Hand:\", *dealer.cards, sep='\\n ')\n",
    "    print(\"Dealer's Hand =\",dealer.value)\n",
    "    print(\"\\nPlayer's Hand:\", *player.cards, sep='\\n ')\n",
    "    print(\"Player's Hand =\",player.value)\n"
   ]
  },
  {
   "cell_type": "markdown",
   "metadata": {},
   "source": [
    "QUICK NOTES ABOUT PRINT STATEMENTS:\n",
    "\n",
    "The asterisk * symbol is used to print every item in a collection, and the sep='\\n ' argument prints each item on a separate line.\n",
    "\n",
    "In the fourth line where we have\n",
    "\n",
    "print('',dealer.cards[1])\n",
    "\n",
    "the empty string and comma are there just to add a space.\n",
    "\n",
    "Here we used commas to separate the objects being printed in each line. If you want to concatenate strings using the + symbol, then you have to call each Card object's __str__ method explicitly, as with\n",
    "\n",
    "print(' ' + dealer.cards[1].__str__())"
   ]
  },
  {
   "cell_type": "code",
   "execution_count": 93,
   "metadata": {},
   "outputs": [],
   "source": [
    "my_player = Hand()\n",
    "my_dealer = Hand()"
   ]
  },
  {
   "cell_type": "code",
   "execution_count": 94,
   "metadata": {},
   "outputs": [
    {
     "name": "stdout",
     "output_type": "stream",
     "text": [
      "\n",
      "Dealer's Hand:\n",
      " <card hidden>\n"
     ]
    },
    {
     "ename": "IndexError",
     "evalue": "list index out of range",
     "output_type": "error",
     "traceback": [
      "\u001b[1;31m---------------------------------------------------------------------------\u001b[0m",
      "\u001b[1;31mIndexError\u001b[0m                                Traceback (most recent call last)",
      "\u001b[1;32m<ipython-input-94-ad3c5c796f81>\u001b[0m in \u001b[0;36m<module>\u001b[1;34m\u001b[0m\n\u001b[0;32m      1\u001b[0m \u001b[1;31m#Not really sure how this works, I need to figure out the IndexError below\u001b[0m\u001b[1;33m\u001b[0m\u001b[1;33m\u001b[0m\u001b[1;33m\u001b[0m\u001b[0m\n\u001b[1;32m----> 2\u001b[1;33m \u001b[0mshow_some\u001b[0m\u001b[1;33m(\u001b[0m\u001b[0mmy_player\u001b[0m\u001b[1;33m,\u001b[0m \u001b[0mmy_dealer\u001b[0m\u001b[1;33m)\u001b[0m\u001b[1;33m\u001b[0m\u001b[1;33m\u001b[0m\u001b[0m\n\u001b[0m",
      "\u001b[1;32m<ipython-input-92-9342deb18cb0>\u001b[0m in \u001b[0;36mshow_some\u001b[1;34m(player, dealer)\u001b[0m\n\u001b[0;32m      5\u001b[0m     \u001b[0mprint\u001b[0m\u001b[1;33m(\u001b[0m\u001b[1;34m\"\\nDealer's Hand:\"\u001b[0m\u001b[1;33m)\u001b[0m\u001b[1;33m\u001b[0m\u001b[1;33m\u001b[0m\u001b[0m\n\u001b[0;32m      6\u001b[0m     \u001b[0mprint\u001b[0m\u001b[1;33m(\u001b[0m\u001b[1;34m\" <card hidden>\"\u001b[0m\u001b[1;33m)\u001b[0m\u001b[1;33m\u001b[0m\u001b[1;33m\u001b[0m\u001b[0m\n\u001b[1;32m----> 7\u001b[1;33m     \u001b[0mprint\u001b[0m\u001b[1;33m(\u001b[0m\u001b[1;34m''\u001b[0m\u001b[1;33m,\u001b[0m\u001b[0mdealer\u001b[0m\u001b[1;33m.\u001b[0m\u001b[0mcards\u001b[0m\u001b[1;33m[\u001b[0m\u001b[1;36m1\u001b[0m\u001b[1;33m]\u001b[0m\u001b[1;33m)\u001b[0m\u001b[1;33m\u001b[0m\u001b[1;33m\u001b[0m\u001b[0m\n\u001b[0m\u001b[0;32m      8\u001b[0m     \u001b[0mprint\u001b[0m\u001b[1;33m(\u001b[0m\u001b[1;34m\"\\nPlayer's Hand:\"\u001b[0m\u001b[1;33m,\u001b[0m \u001b[1;33m*\u001b[0m\u001b[0mplayer\u001b[0m\u001b[1;33m.\u001b[0m\u001b[0mcards\u001b[0m\u001b[1;33m,\u001b[0m \u001b[0msep\u001b[0m\u001b[1;33m=\u001b[0m\u001b[1;34m'\\n '\u001b[0m\u001b[1;33m)\u001b[0m\u001b[1;33m\u001b[0m\u001b[1;33m\u001b[0m\u001b[0m\n\u001b[0;32m      9\u001b[0m \u001b[1;33m\u001b[0m\u001b[0m\n",
      "\u001b[1;31mIndexError\u001b[0m: list index out of range"
     ]
    }
   ],
   "source": [
    "#Not really sure how this works, I need to figure out the IndexError below\n",
    "show_some(my_player, my_dealer)"
   ]
  },
  {
   "cell_type": "markdown",
   "metadata": {},
   "source": [
    "Step 10: Write functions to handle end of game scenarios\n",
    "Remember to pass player's hand, dealer's hand and chips as needed."
   ]
  },
  {
   "cell_type": "code",
   "execution_count": 95,
   "metadata": {},
   "outputs": [],
   "source": [
    "#For all scenarios except the push we'll need to adjust the chips\n",
    "def player_busts(player, dealer, chips):\n",
    "    print(\"PLAYER BUSTS!\")\n",
    "    chips.lose_bet()\n",
    "def player_wins(player, dealer, chips):\n",
    "    print(\"PLAYER WINS!\")\n",
    "    chips.win_bet()\n",
    "def dealer_busts(player, dealer, chips):\n",
    "    print(\"DEALER BUSTS!\")\n",
    "    chips.lose_bet()\n",
    "def dealer_wins(player, dealer, chips):\n",
    "    print(\"DEALER WINS!\")\n",
    "    chips.win_bet()\n",
    "    \n",
    "#Note if there's a push both player and dealer got 21 so we won't do anything with the cheaps\n",
    "def push(player, dealer):\n",
    "    print(\"Player and dealer both have 21! PUSH\")"
   ]
  },
  {
   "cell_type": "markdown",
   "metadata": {},
   "source": [
    "And now LET'S PLAY!!!"
   ]
  },
  {
   "cell_type": "code",
   "execution_count": 97,
   "metadata": {},
   "outputs": [
    {
     "name": "stdout",
     "output_type": "stream",
     "text": [
      "WELCOME TO BLACKJACK!\n",
      "How many chips would you like to bet? 23\n",
      "\n",
      "Dealer's Hand:\n",
      " <card hidden>\n",
      " Two of Diamonds\n",
      "\n",
      "Player's Hand:\n",
      " Jack of Clubs\n",
      " Jack of Spades\n",
      "Enter h for hit and s for stand s\n",
      "Player stands. Dealer's turn\n",
      "\n",
      "Dealer's Hand:\n",
      " <card hidden>\n",
      " Two of Diamonds\n",
      "\n",
      "Player's Hand:\n",
      " Jack of Clubs\n",
      " Jack of Spades\n",
      "\n",
      "Dealer's Hand:\n",
      " Ace of Diamonds\n",
      " Two of Diamonds\n",
      " Seven of Hearts\n",
      "Dealer's Hand = 20\n",
      "\n",
      "Player's Hand:\n",
      " Jack of Clubs\n",
      " Jack of Spades\n",
      "Player's Hand = 20\n",
      "Player and dealer both have 21! PUSH\n",
      "\n",
      " Player has total 100\n",
      "Would you like to play again? Y or NN\n",
      "Thank you for playing! See you again soon.\n"
     ]
    }
   ],
   "source": [
    "while True:\n",
    "    \n",
    "    #Print out an opening statement\n",
    "    print(\"WELCOME TO BLACKJACK!\")\n",
    "    \n",
    "    #Create a deck and shuffle, deal two cards to each player\n",
    "    deck = Deck()\n",
    "    deck.shuffle()\n",
    "    \n",
    "    player_hand = Hand()\n",
    "    #Deal the first card\n",
    "    player_hand.add_cards(deck.deal())\n",
    "    #Deal the second card\n",
    "    player_hand.add_cards(deck.deal())\n",
    "    \n",
    "    #Do  the same for the dealer\n",
    "    dealer_hand = Hand()\n",
    "    #Deal the first card\n",
    "    dealer_hand.add_cards(deck.deal())\n",
    "    #Deal the second card\n",
    "    dealer_hand.add_cards(deck.deal())\n",
    "    \n",
    "    #Set up the chips\n",
    "    player_chips = Chips()\n",
    "    \n",
    "    #Prompt the player for their bet\n",
    "    take_bet(player_chips)\n",
    "    \n",
    "    #Show cards, keeping one card of the dealer hidden\n",
    "    show_some(player_hand, dealer_hand)\n",
    "    \n",
    "    #recall the global variable playing\n",
    "    while playing:\n",
    "        #prompt player for hit or stand\n",
    "        hit_or_stand(deck, player_hand)\n",
    "        #Show cards, keeping one card of the dealer hidden\n",
    "        show_some(player_hand, dealer_hand)\n",
    "        #If the player has > 21 run player busts and break out of the loop\n",
    "        if player_hand.value > 21:\n",
    "            player_busts(player_hand, dealer_hand, player_chips)\n",
    "            break\n",
    "        \n",
    "    #If player hasn't busted play dealer's hand until he reaches 17 (Read about the soft 17 rule)\n",
    "    if player_hand.value <= 21:\n",
    "        \n",
    "        while dealer_hand.value < 17:\n",
    "            hit(deck, dealer_hand)\n",
    "       \n",
    "        #show all cards\n",
    "        show_all(player_hand,dealer_hand)\n",
    "            \n",
    "        #Run different winning scenarios\n",
    "        if dealer_hand.value > 21:\n",
    "             dealer_busts((player_hand, dealer_hand, player_chips))\n",
    "        elif dealer_hand.value > player_hand.value:\n",
    "            dealer_wins((player_hand, dealer_hand, player_chips))\n",
    "        elif dealer_hand.value < player_hand.value:\n",
    "            player_wins(player_hand, dealer_hand, player_chips)\n",
    "        else:\n",
    "            push(player_hand, dealer_hand)\n",
    "    \n",
    "    #Inform the player of remaining chips\n",
    "    print(\"\\n Player has total {}\".format(player_chips.total))\n",
    "    #Ask if they want to play again\n",
    "    new_game= input(\"Would you like to play again? Y or N\")\n",
    "        \n",
    "    if new_game[0].lower == 'y':\n",
    "        playing = True\n",
    "        continue\n",
    "    else:\n",
    "        print(\"Thank you for playing! See you again soon.\")\n",
    "        break \n",
    "                \n",
    "                \n",
    "    \n",
    "    "
   ]
  },
  {
   "cell_type": "code",
   "execution_count": null,
   "metadata": {},
   "outputs": [],
   "source": []
  }
 ],
 "metadata": {
  "kernelspec": {
   "display_name": "Python 3",
   "language": "python",
   "name": "python3"
  },
  "language_info": {
   "codemirror_mode": {
    "name": "ipython",
    "version": 3
   },
   "file_extension": ".py",
   "mimetype": "text/x-python",
   "name": "python",
   "nbconvert_exporter": "python",
   "pygments_lexer": "ipython3",
   "version": "3.8.5"
  }
 },
 "nbformat": 4,
 "nbformat_minor": 4
}
