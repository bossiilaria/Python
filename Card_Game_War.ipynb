{
 "cells": [
  {
   "cell_type": "markdown",
   "metadata": {},
   "source": [
    "THIS IS A WARM UP PROJECT TO PREPARE FOR THE SECOND MILESTONE PROJECT\n",
    "To warm up, we'll build a card game called 'War'.\n",
    "We start off with a deck of 52 cards, then split it in two decks, half goes to one player, half to the other player.\n",
    "\n",
    "Each player lays 1 card down. The card with the highest ranking wins. \n",
    "\n",
    "he winning player takes the two cards and adds them to their deck. The player who loses is the one that remains without cards.\n",
    "\n",
    "If the card ranking is the same we are at war. In a war situation each player pulls out of their deck a bunch of cards, let's say 3 cards each. Then the players continue to lay down their cards. The next player who wins gets all the 8 cards.\n",
    "\n",
    "We will use Python OOP to build this game.\n",
    "\n",
    "These are the main steps\n",
    "\n",
    "\n",
    "1. Create a card class that can understand the suit, the rank and the value\n",
    "\n",
    "2. Creat a deck class\n",
    "\n",
    "3. Create a player class\n",
    "\n",
    "4. Create instances of the classes above to play the game"
   ]
  },
  {
   "cell_type": "code",
   "execution_count": 1,
   "metadata": {},
   "outputs": [],
   "source": [
    "#CREATE A CARD CLASS\n",
    "#This class must understand the suit the rank and which card has the higher value\n",
    "\n",
    "class Card(): #You can use or not the parenthesis as we will not use inheritance\n",
    "    \n",
    "    def __init__(self, suit, rank):\n",
    "        self.suit = suit\n",
    "        self.rank = rank\n",
    "        #What do I want to print out to display the suit of a card class?\n",
    "    def __str__(self):\n",
    "        return self.rank + \" of \" + self.suit"
   ]
  },
  {
   "cell_type": "code",
   "execution_count": 2,
   "metadata": {},
   "outputs": [],
   "source": [
    "#Let's create an instance of the Card class \n",
    "two_of_hearts = Card(\"Hearts\", \"Two\")"
   ]
  },
  {
   "cell_type": "code",
   "execution_count": 3,
   "metadata": {},
   "outputs": [
    {
     "data": {
      "text/plain": [
       "<__main__.Card at 0x1f9c7260040>"
      ]
     },
     "execution_count": 3,
     "metadata": {},
     "output_type": "execute_result"
    }
   ],
   "source": [
    "#I created two_of_hearts as an instance of my card class at some place in memory - That is what the below means\n",
    "two_of_hearts"
   ]
  },
  {
   "cell_type": "code",
   "execution_count": 4,
   "metadata": {},
   "outputs": [
    {
     "name": "stdout",
     "output_type": "stream",
     "text": [
      "Two of Hearts\n"
     ]
    }
   ],
   "source": [
    "#Let's print this out. Based on my above definition I'll get the following: self.rank (Two) + \" of \" + self.suit (Hearts)\n",
    "print(two_of_hearts)"
   ]
  },
  {
   "cell_type": "code",
   "execution_count": 5,
   "metadata": {},
   "outputs": [
    {
     "data": {
      "text/plain": [
       "'Hearts'"
      ]
     },
     "execution_count": 5,
     "metadata": {},
     "output_type": "execute_result"
    }
   ],
   "source": [
    "#Then I can check the suit...\n",
    "two_of_hearts.suit"
   ]
  },
  {
   "cell_type": "code",
   "execution_count": 6,
   "metadata": {},
   "outputs": [
    {
     "data": {
      "text/plain": [
       "'Two'"
      ]
     },
     "execution_count": 6,
     "metadata": {},
     "output_type": "execute_result"
    }
   ],
   "source": [
    "#And the rank\n",
    "two_of_hearts.rank"
   ]
  },
  {
   "cell_type": "code",
   "execution_count": 7,
   "metadata": {},
   "outputs": [],
   "source": [
    "#Note that the suit and rank above are provided as strings, so it's going to be hard to compare them. \n",
    "#One way to overcome this hurdle is by creating a dictionary of values. \n",
    "#Be careful with capitalization! Keep it consistent with this dictionary or you will get errors\n",
    "values = {'Two': 2, 'Three': 3, 'Four': 4, 'Five': 5, 'Six':6, 'Seven': 7, 'Eight': 8, \n",
    "          'Nine': 9, 'Ten': 10, 'Jack': 11, 'Queen': 12, 'King': 13, 'Ace': 14}"
   ]
  },
  {
   "cell_type": "code",
   "execution_count": 8,
   "metadata": {},
   "outputs": [
    {
     "data": {
      "text/plain": [
       "2"
      ]
     },
     "execution_count": 8,
     "metadata": {},
     "output_type": "execute_result"
    }
   ],
   "source": [
    "#Now when I take a look at values I can see the value of my instances, for ex. \n",
    "values[two_of_hearts.rank]\n"
   ]
  },
  {
   "cell_type": "code",
   "execution_count": 9,
   "metadata": {},
   "outputs": [],
   "source": [
    "#GLOBAL VARIABLES\n",
    "#The dictionary is a global variable so by convention we put it on top.\n",
    "#We will also need to shuffle the deck, so we do import random at the very top.\n",
    "#Then we'll need the list of all the suits and all the ranks as global variables\n",
    "\n",
    "suits = ('Hearts', 'Diamonds', 'Spades', 'Clubs')\n",
    "ranks = ('Two', 'Three', 'Four', 'Five', 'Six', 'Seven', 'Eight', 'Nine', 'Ten', 'Jack', 'Queen', 'King', 'Ace')\n",
    "\n",
    "import random\n",
    "\n",
    "values = {'Two': 2, 'Three': 3, 'Four': 4, 'Five': 5, 'Six':6, 'Seven': 7, 'Eight': 8, \n",
    "          'Nine': 9, 'Ten': 10, 'Jack': 11, 'Queen': 12, 'King': 13, 'Ace': 14}"
   ]
  },
  {
   "cell_type": "code",
   "execution_count": 10,
   "metadata": {},
   "outputs": [],
   "source": [
    "#Now I can redefine my Card class more accurately:\n",
    "class Card():\n",
    "    \n",
    "    def __init__(self,suit, rank):\n",
    "        self.suit = suit\n",
    "        self.rank = rank\n",
    "        self.value = values[rank]\n",
    "    def __str__(self):\n",
    "        return self.rank + \" of \" + self.suit"
   ]
  },
  {
   "cell_type": "code",
   "execution_count": 11,
   "metadata": {},
   "outputs": [],
   "source": [
    "#Let's continue create instances\n",
    "three_of_clubs = Card(\"Clubs\", \"Three\")"
   ]
  },
  {
   "cell_type": "code",
   "execution_count": 12,
   "metadata": {},
   "outputs": [
    {
     "data": {
      "text/plain": [
       "'Clubs'"
      ]
     },
     "execution_count": 12,
     "metadata": {},
     "output_type": "execute_result"
    }
   ],
   "source": [
    "three_of_clubs.suit"
   ]
  },
  {
   "cell_type": "code",
   "execution_count": 13,
   "metadata": {},
   "outputs": [
    {
     "data": {
      "text/plain": [
       "'Three'"
      ]
     },
     "execution_count": 13,
     "metadata": {},
     "output_type": "execute_result"
    }
   ],
   "source": [
    "three_of_clubs.rank"
   ]
  },
  {
   "cell_type": "code",
   "execution_count": 14,
   "metadata": {},
   "outputs": [
    {
     "data": {
      "text/plain": [
       "3"
      ]
     },
     "execution_count": 14,
     "metadata": {},
     "output_type": "execute_result"
    }
   ],
   "source": [
    "three_of_clubs.value"
   ]
  },
  {
   "cell_type": "code",
   "execution_count": 17,
   "metadata": {},
   "outputs": [],
   "source": [
    "#Now I can redefine my two_of_hearts\n",
    "two_of_hearts = Card('Hearts', 'Two')\n"
   ]
  },
  {
   "cell_type": "code",
   "execution_count": 16,
   "metadata": {},
   "outputs": [
    {
     "data": {
      "text/plain": [
       "<__main__.Card at 0x1f9c8155eb0>"
      ]
     },
     "execution_count": 16,
     "metadata": {},
     "output_type": "execute_result"
    }
   ],
   "source": [
    "two_of_hearts\n"
   ]
  },
  {
   "cell_type": "code",
   "execution_count": 20,
   "metadata": {},
   "outputs": [
    {
     "name": "stdout",
     "output_type": "stream",
     "text": [
      "Two of Hearts\n"
     ]
    }
   ],
   "source": [
    "print(two_of_hearts)\n",
    "                "
   ]
  },
  {
   "cell_type": "code",
   "execution_count": 21,
   "metadata": {},
   "outputs": [
    {
     "data": {
      "text/plain": [
       "'Hearts'"
      ]
     },
     "execution_count": 21,
     "metadata": {},
     "output_type": "execute_result"
    }
   ],
   "source": [
    "#Now I can see the suit, the rank and  the value\n",
    "two_of_hearts.suit"
   ]
  },
  {
   "cell_type": "code",
   "execution_count": 23,
   "metadata": {},
   "outputs": [
    {
     "data": {
      "text/plain": [
       "'Two'"
      ]
     },
     "execution_count": 23,
     "metadata": {},
     "output_type": "execute_result"
    }
   ],
   "source": [
    "two_of_hearts.rank"
   ]
  },
  {
   "cell_type": "code",
   "execution_count": 25,
   "metadata": {},
   "outputs": [
    {
     "data": {
      "text/plain": [
       "2"
      ]
     },
     "execution_count": 25,
     "metadata": {},
     "output_type": "execute_result"
    }
   ],
   "source": [
    "two_of_hearts.value"
   ]
  },
  {
   "cell_type": "code",
   "execution_count": 26,
   "metadata": {},
   "outputs": [
    {
     "data": {
      "text/plain": [
       "True"
      ]
     },
     "execution_count": 26,
     "metadata": {},
     "output_type": "execute_result"
    }
   ],
   "source": [
    "#Why is this important? Because this way I can compare the calues of the two cards!\n",
    "two_of_hearts.value < three_of_clubs.value"
   ]
  },
  {
   "cell_type": "markdown",
   "metadata": {},
   "source": [
    "Deck Class\n",
    "Using a class within another class\n",
    "We just created a single card, but how can we create an entire Deck of cards? Let's explore doing this with a class that utilizes the Card class.\n",
    "\n",
    "A Deck will be made up of multiple Cards. Which mean's we will actually use the Card class within the __init__ of the Deck class."
   ]
  },
  {
   "cell_type": "markdown",
   "metadata": {},
   "source": [
    "We will create a Deck class and within it we will:\n",
    "  a. create all 52 card objects\n",
    "  b. hold as a list of card objects\n",
    "  c. shuffle the deck (with the random library shuffle() method\n",
    "  d. deal cards with the pop() method\n",
    "\n",
    "So we have a class (Deck) and within it instances of another class (Card)"
   ]
  },
  {
   "cell_type": "code",
   "execution_count": 27,
   "metadata": {},
   "outputs": [],
   "source": [
    "class Deck():\n",
    "    def __init__(self):\n",
    "        \n",
    "        #first thing we want for the deck is to have all 52 card objects. One way to go about this is create \n",
    "        #an all_cards attribute that start off asan empty list with no input from the user\n",
    "        self.all_cards = []\n",
    "        \n",
    "        #create all 52 cards\n",
    "        for suit in suits:\n",
    "            for rank in ranks:\n",
    "                #create the card and add it to the all_cards list. To create the card remember each card is an instance of \n",
    "                #the Card() class\n",
    "                created_card = Card(suit, rank)\n",
    "                self.all_cards.append(created_card)\n",
    "                \n",
    "        \n",
    "        \n",
    "    "
   ]
  },
  {
   "cell_type": "code",
   "execution_count": 28,
   "metadata": {},
   "outputs": [],
   "source": [
    "#Let's make sure the class above works as expected\n",
    "#Let's create a brand new deck\n",
    "new_deck = Deck()"
   ]
  },
  {
   "cell_type": "code",
   "execution_count": 29,
   "metadata": {},
   "outputs": [
    {
     "data": {
      "text/plain": [
       "[<__main__.Card at 0x1f9c8145910>,\n",
       " <__main__.Card at 0x1f9c8145130>,\n",
       " <__main__.Card at 0x1f9c8145070>,\n",
       " <__main__.Card at 0x1f9c8145c10>,\n",
       " <__main__.Card at 0x1f9c8145190>,\n",
       " <__main__.Card at 0x1f9c8137a00>,\n",
       " <__main__.Card at 0x1f9c8137af0>,\n",
       " <__main__.Card at 0x1f9c8137a30>,\n",
       " <__main__.Card at 0x1f9c8137b80>,\n",
       " <__main__.Card at 0x1f9c8137730>,\n",
       " <__main__.Card at 0x1f9c81378b0>,\n",
       " <__main__.Card at 0x1f9c8137910>,\n",
       " <__main__.Card at 0x1f9c8137640>,\n",
       " <__main__.Card at 0x1f9c8137850>,\n",
       " <__main__.Card at 0x1f9c81377c0>,\n",
       " <__main__.Card at 0x1f9c8137820>,\n",
       " <__main__.Card at 0x1f9c81376d0>,\n",
       " <__main__.Card at 0x1f9c8137be0>,\n",
       " <__main__.Card at 0x1f9c8137f70>,\n",
       " <__main__.Card at 0x1f9c8137f40>,\n",
       " <__main__.Card at 0x1f9c8137bb0>,\n",
       " <__main__.Card at 0x1f9c8137b50>,\n",
       " <__main__.Card at 0x1f9c8137ca0>,\n",
       " <__main__.Card at 0x1f9c8137df0>,\n",
       " <__main__.Card at 0x1f9c8137a60>,\n",
       " <__main__.Card at 0x1f9c8137fa0>,\n",
       " <__main__.Card at 0x1f9c8137fd0>,\n",
       " <__main__.Card at 0x1f9c8137ee0>,\n",
       " <__main__.Card at 0x1f9c8137eb0>,\n",
       " <__main__.Card at 0x1f9c8137ac0>,\n",
       " <__main__.Card at 0x1f9c8174160>,\n",
       " <__main__.Card at 0x1f9c8174040>,\n",
       " <__main__.Card at 0x1f9c81740d0>,\n",
       " <__main__.Card at 0x1f9c8174130>,\n",
       " <__main__.Card at 0x1f9c8174a30>,\n",
       " <__main__.Card at 0x1f9c8174670>,\n",
       " <__main__.Card at 0x1f9c8174b80>,\n",
       " <__main__.Card at 0x1f9c81746d0>,\n",
       " <__main__.Card at 0x1f9c81747f0>,\n",
       " <__main__.Card at 0x1f9c8174760>,\n",
       " <__main__.Card at 0x1f9c8174910>,\n",
       " <__main__.Card at 0x1f9c81749d0>,\n",
       " <__main__.Card at 0x1f9c81748e0>,\n",
       " <__main__.Card at 0x1f9c8174af0>,\n",
       " <__main__.Card at 0x1f9c81745b0>,\n",
       " <__main__.Card at 0x1f9c81745e0>,\n",
       " <__main__.Card at 0x1f9c81742e0>,\n",
       " <__main__.Card at 0x1f9c8174310>,\n",
       " <__main__.Card at 0x1f9c8174880>,\n",
       " <__main__.Card at 0x1f9c81741f0>,\n",
       " <__main__.Card at 0x1f9c8174250>,\n",
       " <__main__.Card at 0x1f9c8174bb0>]"
      ]
     },
     "execution_count": 29,
     "metadata": {},
     "output_type": "execute_result"
    }
   ],
   "source": [
    "#Let's check out if all cards have been created in memory:\n",
    "new_deck.all_cards "
   ]
  },
  {
   "cell_type": "code",
   "execution_count": 33,
   "metadata": {},
   "outputs": [
    {
     "name": "stdout",
     "output_type": "stream",
     "text": [
      "Two of Hearts\n"
     ]
    }
   ],
   "source": [
    "#Let's check out the first card of the deck, I expect to find the \n",
    "#Two of hearts because of the way we defined our suits and ranks global variables\n",
    "#suits = ('Hearts', 'Diamonds', 'Spades', 'Clubs')\n",
    "#ranks = ('Two', 'Three', 'Four', 'Five', 'Six', 'Seven', 'Eight', 'Nine', 'Ten', 'Jack', 'Queen', 'King', 'Ace')\n",
    "print(new_deck.all_cards[0])\n"
   ]
  },
  {
   "cell_type": "code",
   "execution_count": 36,
   "metadata": {},
   "outputs": [
    {
     "name": "stdout",
     "output_type": "stream",
     "text": [
      "Ace of Clubs\n"
     ]
    }
   ],
   "source": [
    "#I can also check that the bottom card is the Ace of CLubs:\n",
    "bottom_card = new_deck.all_cards[-1]\n",
    "print(bottom_card)"
   ]
  },
  {
   "cell_type": "code",
   "execution_count": 39,
   "metadata": {},
   "outputs": [
    {
     "name": "stdout",
     "output_type": "stream",
     "text": [
      "Two of Hearts\n",
      "Three of Hearts\n",
      "Four of Hearts\n",
      "Five of Hearts\n",
      "Six of Hearts\n",
      "Seven of Hearts\n",
      "Eight of Hearts\n",
      "Nine of Hearts\n",
      "Ten of Hearts\n",
      "Jack of Hearts\n",
      "Queen of Hearts\n",
      "King of Hearts\n",
      "Ace of Hearts\n",
      "Two of Diamonds\n",
      "Three of Diamonds\n",
      "Four of Diamonds\n",
      "Five of Diamonds\n",
      "Six of Diamonds\n",
      "Seven of Diamonds\n",
      "Eight of Diamonds\n",
      "Nine of Diamonds\n",
      "Ten of Diamonds\n",
      "Jack of Diamonds\n",
      "Queen of Diamonds\n",
      "King of Diamonds\n",
      "Ace of Diamonds\n",
      "Two of Spades\n",
      "Three of Spades\n",
      "Four of Spades\n",
      "Five of Spades\n",
      "Six of Spades\n",
      "Seven of Spades\n",
      "Eight of Spades\n",
      "Nine of Spades\n",
      "Ten of Spades\n",
      "Jack of Spades\n",
      "Queen of Spades\n",
      "King of Spades\n",
      "Ace of Spades\n",
      "Two of Clubs\n",
      "Three of Clubs\n",
      "Four of Clubs\n",
      "Five of Clubs\n",
      "Six of Clubs\n",
      "Seven of Clubs\n",
      "Eight of Clubs\n",
      "Nine of Clubs\n",
      "Ten of Clubs\n",
      "Jack of Clubs\n",
      "Queen of Clubs\n",
      "King of Clubs\n",
      "Ace of Clubs\n"
     ]
    }
   ],
   "source": [
    "#Thereal cool thing is I can now print all my cards in the deck looping through my new deck like so:\n",
    "#HOW COOL IS THAT???? See the below and take a moment to celebrate your achievement: this is VERY EMPOWERING!\n",
    "\n",
    "for card_object in new_deck.all_cards:\n",
    "    print(card_object)"
   ]
  },
  {
   "cell_type": "code",
   "execution_count": 45,
   "metadata": {},
   "outputs": [],
   "source": [
    "#OK, now that we are all warm and fuzzy from the celebration, it's time to shuffle the deck! let's add in the shuffle method\n",
    "class Deck():\n",
    "    def __init__(self):\n",
    "        \n",
    "        #first thing we want for the deck is to have all 52 card objects. One way to go about this is create \n",
    "        #an all_cards attribute that start off asan empty list with no input from the user\n",
    "        self.all_cards = []\n",
    "        \n",
    "        #create all 52 cards\n",
    "        for suit in suits:\n",
    "            for rank in ranks:\n",
    "                #create the card and add it to the all_cards list. To create the card remember each card is an instance of \n",
    "                #the Card() class\n",
    "                created_card = Card(suit, rank)\n",
    "                self.all_cards.append(created_card)\n",
    "                \n",
    "    def shuffle(self):\n",
    "        #note that random.shuffle doesn't return anything\n",
    "        random.shuffle(self.all_cards)\n",
    "        \n",
    "                "
   ]
  },
  {
   "cell_type": "code",
   "execution_count": 46,
   "metadata": {},
   "outputs": [],
   "source": [
    "#To see how the shuffle method above works, let's create a new deck\n",
    "new_deck = Deck()"
   ]
  },
  {
   "cell_type": "code",
   "execution_count": 49,
   "metadata": {},
   "outputs": [
    {
     "name": "stdout",
     "output_type": "stream",
     "text": [
      "Ace of Clubs\n"
     ]
    }
   ],
   "source": [
    "#let's grab the bottom card, as we saw above it was the Ace of Clubs\n",
    "bottom_card = new_deck.all_cards[-1]\n",
    "print(bottom_card)"
   ]
  },
  {
   "cell_type": "code",
   "execution_count": 50,
   "metadata": {},
   "outputs": [],
   "source": [
    "#Let's create the new deck\n",
    "new_deck = Deck()"
   ]
  },
  {
   "cell_type": "code",
   "execution_count": 51,
   "metadata": {},
   "outputs": [],
   "source": [
    "bottom_card = new_deck.all_cards[-1]"
   ]
  },
  {
   "cell_type": "code",
   "execution_count": 52,
   "metadata": {},
   "outputs": [
    {
     "name": "stdout",
     "output_type": "stream",
     "text": [
      "Ace of Clubs\n"
     ]
    }
   ],
   "source": [
    "print(bottom_card)"
   ]
  },
  {
   "cell_type": "code",
   "execution_count": 53,
   "metadata": {},
   "outputs": [],
   "source": [
    "#Now let's shuffle the deck. We should gett a different card at the bottom after shuffling\n",
    "new_deck.shuffle()"
   ]
  },
  {
   "cell_type": "code",
   "execution_count": 55,
   "metadata": {},
   "outputs": [
    {
     "name": "stdout",
     "output_type": "stream",
     "text": [
      "Nine of Spades\n"
     ]
    }
   ],
   "source": [
    "#Yay! I have a new card at the bottom now, things are working as expected\n",
    "print(new_deck.all_cards[-1])"
   ]
  },
  {
   "cell_type": "code",
   "execution_count": 65,
   "metadata": {},
   "outputs": [],
   "source": [
    "#In the actual game I also need to remove cards.So in addition to our shuffle method, let's add a method to deal one card.\n",
    "#We'll use the pop method for this\n",
    "class Deck():\n",
    "    def __init__(self):\n",
    "        \n",
    "        #first thing we want for the deck is to have all 52 card objects. One way to go about this is create \n",
    "        #an all_cards attribute that start off asan empty list with no input from the user\n",
    "        self.all_cards = []\n",
    "        \n",
    "        #create all 52 cards\n",
    "        for suit in suits:\n",
    "            for rank in ranks:\n",
    "                #create the card and add it to the all_cards list. To create the card remember each card is an instance of \n",
    "                #the Card() class\n",
    "                created_card = Card(suit, rank)\n",
    "                self.all_cards.append(created_card)\n",
    "                \n",
    "    def shuffle(self):\n",
    "        #note that random.shuffle doesn't return anything\n",
    "        random.shuffle(self.all_cards)\n",
    "    def deal_one(self):\n",
    "        #call the pop method on the list self.all_cards and return the popped card\n",
    "        #dealing with one card is enough for our purpose, because we can create a loop to go through all 52 cards\n",
    "        return self.all_cards.pop()\n",
    "        "
   ]
  },
  {
   "cell_type": "code",
   "execution_count": 71,
   "metadata": {},
   "outputs": [],
   "source": [
    "#Let's create a new deck, shuffle it and deal one card.Assign it to the variable mycard\n",
    "new_deck = Deck()\n"
   ]
  },
  {
   "cell_type": "code",
   "execution_count": 72,
   "metadata": {},
   "outputs": [],
   "source": [
    "new_deck.shuffle()"
   ]
  },
  {
   "cell_type": "code",
   "execution_count": 73,
   "metadata": {},
   "outputs": [],
   "source": [
    "my_card = new_deck.deal_one()"
   ]
  },
  {
   "cell_type": "code",
   "execution_count": 74,
   "metadata": {},
   "outputs": [
    {
     "data": {
      "text/plain": [
       "<__main__.Card at 0x1f9c823d700>"
      ]
     },
     "execution_count": 74,
     "metadata": {},
     "output_type": "execute_result"
    }
   ],
   "source": [
    "#mycard has become a card object in memory\n",
    "my_card"
   ]
  },
  {
   "cell_type": "code",
   "execution_count": 75,
   "metadata": {},
   "outputs": [
    {
     "name": "stdout",
     "output_type": "stream",
     "text": [
      "Three of Spades\n"
     ]
    }
   ],
   "source": [
    "print(my_card)"
   ]
  },
  {
   "cell_type": "code",
   "execution_count": 76,
   "metadata": {},
   "outputs": [
    {
     "data": {
      "text/plain": [
       "51"
      ]
     },
     "execution_count": 76,
     "metadata": {},
     "output_type": "execute_result"
    }
   ],
   "source": [
    "#Let's check the length of my deck, we expect to see 51,since we removed one with pop. At this point I can create a loop to\n",
    "#deal with all the 52 cards\n",
    "len(new_deck.all_cards)"
   ]
  },
  {
   "cell_type": "markdown",
   "metadata": {},
   "source": [
    "Player Class\n",
    "\n",
    "Let's create a Player Class. A player should be able to hold instances of Cards, they should also be able to remove and add \n",
    "them from their hand. We want the Player class to be flexible enough to add one card, or many cards so we'll use a simple\n",
    "if check to keep it all in the same method.\n",
    "\n",
    "We'll keep this all in mind as we create the methods for the Player class.\n",
    "\n"
   ]
  },
  {
   "cell_type": "code",
   "execution_count": 102,
   "metadata": {},
   "outputs": [],
   "source": [
    "#When a player plays a card they will pop at zero. If the player adds cards, he will use the append method. We will use the\n",
    "#extend method, which allows to add multiple cards. We cannot use append again otherwise it'll create nested lists!\n",
    "\n",
    "\n",
    "class Player():\n",
    "    #To distinguish the players each player has a name. Let's also start setting up an empty list to be filled along the way\n",
    "    def __init__(self, name):\n",
    "        self.name = name\n",
    "        self.all_cards = []\n",
    "    \n",
    "    #The player must be able to add and remove cards. As explained we will remove one card at the time\n",
    "   \n",
    "    def remove_one(self):\n",
    "        pass\n",
    "        \n",
    "    def add_cards(self, new_cards):\n",
    "        pass\n",
    "    \n",
    "    \n",
    "    def __str__(self):\n",
    "        return f'Player {self.name} has {len(self.all_cards)} cards.'\n",
    "        "
   ]
  },
  {
   "cell_type": "code",
   "execution_count": 103,
   "metadata": {},
   "outputs": [],
   "source": [
    "#Let's create an instance of the class Player and give it a name\n",
    "new_player = Player(\"Jose\")"
   ]
  },
  {
   "cell_type": "code",
   "execution_count": 104,
   "metadata": {},
   "outputs": [
    {
     "name": "stdout",
     "output_type": "stream",
     "text": [
      "Player Jose has 0 cards.\n"
     ]
    }
   ],
   "source": [
    "#Let's print to make sure everything works correctly\n",
    "print(new_player)"
   ]
  },
  {
   "cell_type": "code",
   "execution_count": 187,
   "metadata": {},
   "outputs": [],
   "source": [
    "#Cool, all is well. Now let's see how we can remove and add cards\n",
    "\n",
    "class Player:\n",
    "    #To distinguish the players each player has a name. Let's also start setting up an empty list to be filled along the way\n",
    "    def __init__(self, name):\n",
    "        self.name = name\n",
    "        self.all_cards = []\n",
    "        \n",
    "    #The player must be able to add and remove cards\n",
    "   \n",
    "    def remove_one(self):\n",
    "        #Remember to pop at zero to remove from the top (or beginning of the list)\n",
    "        return self.all_cards.pop(0)\n",
    "        \n",
    "    def add_cards(self, new_cards):\n",
    "        #if this is a list, extend\n",
    "        if type(new_cards) == type([]):\n",
    "            self.all_cards.extend(new_cards) #Add a bunch of cards\n",
    "        else:\n",
    "            self.all_cards.append(new_cards) #add a single card\n",
    "    \n",
    "    \n",
    "    def __str__(self):\n",
    "        return f'Player {self.name} has {len(self.all_cards)} cards.'\n",
    "    "
   ]
  },
  {
   "cell_type": "code",
   "execution_count": 188,
   "metadata": {},
   "outputs": [],
   "source": [
    "new_player = Player(\"Jose\")"
   ]
  },
  {
   "cell_type": "code",
   "execution_count": 189,
   "metadata": {},
   "outputs": [
    {
     "name": "stdout",
     "output_type": "stream",
     "text": [
      "Player Jose has 0 cards.\n"
     ]
    }
   ],
   "source": [
    "print(new_player)"
   ]
  },
  {
   "cell_type": "code",
   "execution_count": 190,
   "metadata": {},
   "outputs": [
    {
     "name": "stdout",
     "output_type": "stream",
     "text": [
      "Three of Spades\n"
     ]
    }
   ],
   "source": [
    "#Jose has zero cards now we want to add cards to his hands. Let's add a card, see what the card is first:new_player\n",
    "print(my_card)"
   ]
  },
  {
   "cell_type": "code",
   "execution_count": 191,
   "metadata": {},
   "outputs": [],
   "source": [
    "new_player.add_cards(my_card)"
   ]
  },
  {
   "cell_type": "code",
   "execution_count": 192,
   "metadata": {},
   "outputs": [
    {
     "name": "stdout",
     "output_type": "stream",
     "text": [
      "Player Jose has 1 cards.\n"
     ]
    }
   ],
   "source": [
    "print(new_player)"
   ]
  },
  {
   "cell_type": "code",
   "execution_count": 193,
   "metadata": {},
   "outputs": [
    {
     "name": "stdout",
     "output_type": "stream",
     "text": [
      "Three of Spades\n"
     ]
    }
   ],
   "source": [
    "#I can also see what is the card:\n",
    "print(new_player.all_cards[0])"
   ]
  },
  {
   "cell_type": "code",
   "execution_count": 194,
   "metadata": {},
   "outputs": [],
   "source": [
    "#Now, what happens if I add a card 3 times? Since we are inside the if type new_cards == a list then I add 3 cards all at once\n",
    "new_player.add_cards([my_card, my_card, my_card])"
   ]
  },
  {
   "cell_type": "code",
   "execution_count": 195,
   "metadata": {},
   "outputs": [
    {
     "name": "stdout",
     "output_type": "stream",
     "text": [
      "Player Jose has 4 cards.\n"
     ]
    }
   ],
   "source": [
    "print(new_player)"
   ]
  },
  {
   "cell_type": "code",
   "execution_count": 196,
   "metadata": {},
   "outputs": [
    {
     "data": {
      "text/plain": [
       "<__main__.Card at 0x1f9c823d700>"
      ]
     },
     "execution_count": 196,
     "metadata": {},
     "output_type": "execute_result"
    }
   ],
   "source": [
    "#If we remove one card we expect Jose to have 3 cards\n",
    "new_player.remove_one()"
   ]
  },
  {
   "cell_type": "code",
   "execution_count": 197,
   "metadata": {},
   "outputs": [
    {
     "name": "stdout",
     "output_type": "stream",
     "text": [
      "Player Jose has 3 cards.\n"
     ]
    }
   ],
   "source": [
    "print(new_player)"
   ]
  },
  {
   "cell_type": "code",
   "execution_count": 78,
   "metadata": {},
   "outputs": [
    {
     "data": {
      "text/plain": [
       "3"
      ]
     },
     "execution_count": 78,
     "metadata": {},
     "output_type": "execute_result"
    }
   ],
   "source": [
    "my_list.pop()"
   ]
  },
  {
   "cell_type": "code",
   "execution_count": 91,
   "metadata": {},
   "outputs": [
    {
     "data": {
      "text/plain": [
       "[0, 1, 1, 1, 2, 1]"
      ]
     },
     "execution_count": 91,
     "metadata": {},
     "output_type": "execute_result"
    }
   ],
   "source": [
    "my_list"
   ]
  },
  {
   "cell_type": "code",
   "execution_count": 92,
   "metadata": {},
   "outputs": [
    {
     "data": {
      "text/plain": [
       "0"
      ]
     },
     "execution_count": 92,
     "metadata": {},
     "output_type": "execute_result"
    }
   ],
   "source": [
    "my_list.pop(0)"
   ]
  },
  {
   "cell_type": "code",
   "execution_count": 93,
   "metadata": {},
   "outputs": [
    {
     "data": {
      "text/plain": [
       "[1, 1, 1, 2, 1]"
      ]
     },
     "execution_count": 93,
     "metadata": {},
     "output_type": "execute_result"
    }
   ],
   "source": [
    "my_list"
   ]
  },
  {
   "cell_type": "code",
   "execution_count": 94,
   "metadata": {},
   "outputs": [
    {
     "data": {
      "text/plain": [
       "1"
      ]
     },
     "execution_count": 94,
     "metadata": {},
     "output_type": "execute_result"
    }
   ],
   "source": [
    "my_list.pop()"
   ]
  },
  {
   "cell_type": "markdown",
   "metadata": {},
   "source": [
    "my_list"
   ]
  },
  {
   "cell_type": "code",
   "execution_count": 95,
   "metadata": {},
   "outputs": [
    {
     "data": {
      "text/plain": [
       "[1, 1, 1, 2]"
      ]
     },
     "execution_count": 95,
     "metadata": {},
     "output_type": "execute_result"
    }
   ],
   "source": [
    "my_list"
   ]
  },
  {
   "cell_type": "code",
   "execution_count": 96,
   "metadata": {},
   "outputs": [],
   "source": [
    "my_list.append(3)"
   ]
  },
  {
   "cell_type": "code",
   "execution_count": 97,
   "metadata": {},
   "outputs": [
    {
     "data": {
      "text/plain": [
       "[1, 1, 1, 2, 3]"
      ]
     },
     "execution_count": 97,
     "metadata": {},
     "output_type": "execute_result"
    }
   ],
   "source": [
    "my_list"
   ]
  },
  {
   "cell_type": "code",
   "execution_count": 98,
   "metadata": {},
   "outputs": [],
   "source": [
    "new = [4, 5]"
   ]
  },
  {
   "cell_type": "code",
   "execution_count": 99,
   "metadata": {},
   "outputs": [
    {
     "data": {
      "text/plain": [
       "[1, 1, 1, 2, 3]"
      ]
     },
     "execution_count": 99,
     "metadata": {},
     "output_type": "execute_result"
    }
   ],
   "source": [
    "my_list"
   ]
  },
  {
   "cell_type": "code",
   "execution_count": 100,
   "metadata": {},
   "outputs": [],
   "source": [
    "my_list.extend(new)"
   ]
  },
  {
   "cell_type": "code",
   "execution_count": 101,
   "metadata": {},
   "outputs": [
    {
     "data": {
      "text/plain": [
       "[1, 1, 1, 2, 3, 4, 5]"
      ]
     },
     "execution_count": 101,
     "metadata": {},
     "output_type": "execute_result"
    }
   ],
   "source": [
    "my_list"
   ]
  },
  {
   "cell_type": "code",
   "execution_count": null,
   "metadata": {},
   "outputs": [],
   "source": []
  }
 ],
 "metadata": {
  "kernelspec": {
   "display_name": "Python 3",
   "language": "python",
   "name": "python3"
  },
  "language_info": {
   "codemirror_mode": {
    "name": "ipython",
    "version": 3
   },
   "file_extension": ".py",
   "mimetype": "text/x-python",
   "name": "python",
   "nbconvert_exporter": "python",
   "pygments_lexer": "ipython3",
   "version": "3.8.5"
  }
 },
 "nbformat": 4,
 "nbformat_minor": 4
}
