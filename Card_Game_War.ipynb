{
 "cells": [
  {
   "cell_type": "markdown",
   "metadata": {},
   "source": [
    "THIS IS A WARM UP PROJECT TO PREPARE FOR THE SECOND MILESTONE PROJECT\n",
    "To warm up, we'll build a card game called 'War'.\n",
    "We start off with a deck of 52 cards, then split it in two decks, half goes to one player, half to the other player.\n",
    "\n",
    "Each player lays 1 card down. The card with the highest ranking wins. \n",
    "\n",
    "he winning player takes the two cards and adds them to their deck. The player who loses is the one that remains without cards.\n",
    "\n",
    "If the card ranking is the same we are at war. In a war situation each player pulls out of their deck a bunch of cards, let's say 3 cards each. Then the players continue to lay down their cards. The next player who wins gets all the 8 cards.\n",
    "\n",
    "We will use Python OOP to build this game.\n",
    "\n",
    "These are the main steps\n",
    "\n",
    "\n",
    "1. Create a card class that can understand the suit, the rank and the value\n",
    "\n",
    "2. Creat a deck class\n",
    "\n",
    "3. Create a player class\n",
    "\n",
    "4. Create instances of the classes above to play the game"
   ]
  },
  {
   "cell_type": "code",
   "execution_count": 112,
   "metadata": {},
   "outputs": [],
   "source": [
    "#CREATE A CARD CLASS\n",
    "#This class must understand the suit the rank and which card has the higher value\n",
    "\n",
    "class Card(): #You can use or not the parenthesis as we will not use inheritance\n",
    "    \n",
    "    def __init__(self, suit, rank):\n",
    "        self.suit = suit\n",
    "        self.rank = rank\n",
    "        #What do I want to print out to display the suit of a card class?\n",
    "    def __str__(self):\n",
    "        return self.rank + \" of \" + self.suit"
   ]
  },
  {
   "cell_type": "code",
   "execution_count": 113,
   "metadata": {},
   "outputs": [],
   "source": [
    "#Let's create an instance of the Card class \n",
    "two_of_hearts = Card(\"Hearts\", \"Two\")"
   ]
  },
  {
   "cell_type": "code",
   "execution_count": 114,
   "metadata": {},
   "outputs": [
    {
     "data": {
      "text/plain": [
       "<__main__.Card at 0x1e4b2168fd0>"
      ]
     },
     "execution_count": 114,
     "metadata": {},
     "output_type": "execute_result"
    }
   ],
   "source": [
    "#I created two_of_hearts as an instance of my card class at some place in memory - That is what the below means\n",
    "two_of_hearts"
   ]
  },
  {
   "cell_type": "code",
   "execution_count": 115,
   "metadata": {},
   "outputs": [
    {
     "name": "stdout",
     "output_type": "stream",
     "text": [
      "Two of Hearts\n"
     ]
    }
   ],
   "source": [
    "#Let's print this out. Based on my above definition I'll get the following: self.rank (Two) + \" of \" + self.suit (Hearts)\n",
    "print(two_of_hearts)"
   ]
  },
  {
   "cell_type": "code",
   "execution_count": 116,
   "metadata": {},
   "outputs": [
    {
     "data": {
      "text/plain": [
       "'Hearts'"
      ]
     },
     "execution_count": 116,
     "metadata": {},
     "output_type": "execute_result"
    }
   ],
   "source": [
    "#Then I can check the suit...\n",
    "two_of_hearts.suit"
   ]
  },
  {
   "cell_type": "code",
   "execution_count": 117,
   "metadata": {},
   "outputs": [
    {
     "data": {
      "text/plain": [
       "'Two'"
      ]
     },
     "execution_count": 117,
     "metadata": {},
     "output_type": "execute_result"
    }
   ],
   "source": [
    "#And the rank\n",
    "two_of_hearts.rank"
   ]
  },
  {
   "cell_type": "code",
   "execution_count": 118,
   "metadata": {},
   "outputs": [],
   "source": [
    "#Note that the suit and rank above are provided as strings, so it's going to be hard to compare them. \n",
    "#One way to overcome this hurdle is by creating a dictionary of values. \n",
    "#Be careful with capitalization! Keep it consistent with this dictionary or you will get errors\n",
    "values = {'Two': 2, 'Three': 3, 'Four': 4, 'Five': 5, 'Six':6, 'Seven': 7, 'Eight': 8, \n",
    "          'Nine': 9, 'Ten': 10, 'Jack': 11, 'Queen': 12, 'King': 13, 'Ace': 14}"
   ]
  },
  {
   "cell_type": "code",
   "execution_count": 119,
   "metadata": {},
   "outputs": [
    {
     "data": {
      "text/plain": [
       "2"
      ]
     },
     "execution_count": 119,
     "metadata": {},
     "output_type": "execute_result"
    }
   ],
   "source": [
    "#Now when I take a look at values I can see the value of my instances, for ex. \n",
    "values[two_of_hearts.rank]\n"
   ]
  },
  {
   "cell_type": "code",
   "execution_count": 120,
   "metadata": {},
   "outputs": [],
   "source": [
    "#GLOBAL VARIABLES\n",
    "#The dictionary is a global variable so by convention we put it on top.\n",
    "#We will also need to shuffle the deck, so we do import random at the very top.\n",
    "#Then we'll need the list of all the suits and all the ranks as global variables\n",
    "\n",
    "suits = ('Hearts', 'Diamonds', 'Spades', 'Clubs')\n",
    "ranks = ('Two', 'Three', 'Four', 'Five', 'Six', 'Seven', 'Eight', 'Nine', 'Ten', 'Jack', 'Queen', 'King', 'Ace')\n",
    "\n",
    "import random\n",
    "\n",
    "values = {'Two': 2, 'Three': 3, 'Four': 4, 'Five': 5, 'Six':6, 'Seven': 7, 'Eight': 8, \n",
    "          'Nine': 9, 'Ten': 10, 'Jack': 11, 'Queen': 12, 'King': 13, 'Ace': 14}"
   ]
  },
  {
   "cell_type": "code",
   "execution_count": 121,
   "metadata": {},
   "outputs": [],
   "source": [
    "#Now I can redefine my Card class more accurately:\n",
    "class Card():\n",
    "    \n",
    "    def __init__(self,suit, rank):\n",
    "        self.suit = suit\n",
    "        self.rank = rank\n",
    "        self.value = values[rank]\n",
    "    def __str__(self):\n",
    "        return self.rank + \" of \" + self.suit"
   ]
  },
  {
   "cell_type": "code",
   "execution_count": 122,
   "metadata": {},
   "outputs": [],
   "source": [
    "#Let's continue create instances\n",
    "three_of_clubs = Card(\"Clubs\", \"Three\")"
   ]
  },
  {
   "cell_type": "code",
   "execution_count": 123,
   "metadata": {},
   "outputs": [
    {
     "data": {
      "text/plain": [
       "'Clubs'"
      ]
     },
     "execution_count": 123,
     "metadata": {},
     "output_type": "execute_result"
    }
   ],
   "source": [
    "three_of_clubs.suit"
   ]
  },
  {
   "cell_type": "code",
   "execution_count": 124,
   "metadata": {},
   "outputs": [
    {
     "data": {
      "text/plain": [
       "'Three'"
      ]
     },
     "execution_count": 124,
     "metadata": {},
     "output_type": "execute_result"
    }
   ],
   "source": [
    "three_of_clubs.rank"
   ]
  },
  {
   "cell_type": "code",
   "execution_count": 125,
   "metadata": {},
   "outputs": [
    {
     "data": {
      "text/plain": [
       "3"
      ]
     },
     "execution_count": 125,
     "metadata": {},
     "output_type": "execute_result"
    }
   ],
   "source": [
    "three_of_clubs.value"
   ]
  },
  {
   "cell_type": "code",
   "execution_count": 126,
   "metadata": {},
   "outputs": [],
   "source": [
    "#Now I can redefine my two_of_hearts\n",
    "two_of_hearts = Card('Hearts', 'Two')\n"
   ]
  },
  {
   "cell_type": "code",
   "execution_count": 127,
   "metadata": {},
   "outputs": [
    {
     "data": {
      "text/plain": [
       "<__main__.Card at 0x1e4b20be9d0>"
      ]
     },
     "execution_count": 127,
     "metadata": {},
     "output_type": "execute_result"
    }
   ],
   "source": [
    "two_of_hearts\n"
   ]
  },
  {
   "cell_type": "code",
   "execution_count": 128,
   "metadata": {},
   "outputs": [
    {
     "name": "stdout",
     "output_type": "stream",
     "text": [
      "Two of Hearts\n"
     ]
    }
   ],
   "source": [
    "print(two_of_hearts)\n",
    "                "
   ]
  },
  {
   "cell_type": "code",
   "execution_count": 129,
   "metadata": {},
   "outputs": [
    {
     "data": {
      "text/plain": [
       "'Hearts'"
      ]
     },
     "execution_count": 129,
     "metadata": {},
     "output_type": "execute_result"
    }
   ],
   "source": [
    "#Now I can see the suit, the rank and  the value\n",
    "two_of_hearts.suit"
   ]
  },
  {
   "cell_type": "code",
   "execution_count": 130,
   "metadata": {},
   "outputs": [
    {
     "data": {
      "text/plain": [
       "'Two'"
      ]
     },
     "execution_count": 130,
     "metadata": {},
     "output_type": "execute_result"
    }
   ],
   "source": [
    "two_of_hearts.rank"
   ]
  },
  {
   "cell_type": "code",
   "execution_count": 131,
   "metadata": {},
   "outputs": [
    {
     "data": {
      "text/plain": [
       "2"
      ]
     },
     "execution_count": 131,
     "metadata": {},
     "output_type": "execute_result"
    }
   ],
   "source": [
    "two_of_hearts.value"
   ]
  },
  {
   "cell_type": "code",
   "execution_count": 132,
   "metadata": {},
   "outputs": [
    {
     "data": {
      "text/plain": [
       "True"
      ]
     },
     "execution_count": 132,
     "metadata": {},
     "output_type": "execute_result"
    }
   ],
   "source": [
    "#Why is this important? Because this way I can compare the calues of the two cards!\n",
    "two_of_hearts.value < three_of_clubs.value"
   ]
  },
  {
   "cell_type": "markdown",
   "metadata": {},
   "source": [
    "Deck Class\n",
    "Using a class within another class\n",
    "We just created a single card, but how can we create an entire Deck of cards? Let's explore doing this with a class that utilizes the Card class.\n",
    "\n",
    "A Deck will be made up of multiple Cards. Which mean's we will actually use the Card class within the __init__ of the Deck class."
   ]
  },
  {
   "cell_type": "markdown",
   "metadata": {},
   "source": [
    "We will create a Deck class and within it we will:\n",
    "  a. create all 52 card objects\n",
    "  b. hold as a list of card objects\n",
    "  c. shuffle the deck (with the random library shuffle() method\n",
    "  d. deal cards with the pop() method\n",
    "\n",
    "So we have a class (Deck) and within it instances of another class (Card)"
   ]
  },
  {
   "cell_type": "code",
   "execution_count": 133,
   "metadata": {},
   "outputs": [],
   "source": [
    "class Deck():\n",
    "    def __init__(self):\n",
    "        \n",
    "        #first thing we want for the deck is to have all 52 card objects. One way to go about this is create \n",
    "        #an all_cards attribute that start off asan empty list with no input from the user\n",
    "        self.all_cards = []\n",
    "        \n",
    "        #create all 52 cards\n",
    "        for suit in suits:\n",
    "            for rank in ranks:\n",
    "                #create the card and add it to the all_cards list. To create the card remember each card is an instance of \n",
    "                #the Card() class\n",
    "                created_card = Card(suit, rank)\n",
    "                self.all_cards.append(created_card)\n",
    "                \n",
    "        \n",
    "        \n",
    "    "
   ]
  },
  {
   "cell_type": "code",
   "execution_count": 134,
   "metadata": {},
   "outputs": [],
   "source": [
    "#Let's make sure the class above works as expected\n",
    "#Let's create a brand new deck\n",
    "new_deck = Deck()"
   ]
  },
  {
   "cell_type": "code",
   "execution_count": 135,
   "metadata": {},
   "outputs": [
    {
     "data": {
      "text/plain": [
       "[<__main__.Card at 0x1e4b20bca60>,\n",
       " <__main__.Card at 0x1e4b20bc910>,\n",
       " <__main__.Card at 0x1e4b20bcc70>,\n",
       " <__main__.Card at 0x1e4b20bc7f0>,\n",
       " <__main__.Card at 0x1e4b20bc760>,\n",
       " <__main__.Card at 0x1e4b20cd100>,\n",
       " <__main__.Card at 0x1e4b20cd1f0>,\n",
       " <__main__.Card at 0x1e4b20cdf70>,\n",
       " <__main__.Card at 0x1e4b20cda60>,\n",
       " <__main__.Card at 0x1e4b20cde50>,\n",
       " <__main__.Card at 0x1e4b2168bb0>,\n",
       " <__main__.Card at 0x1e4b2168a90>,\n",
       " <__main__.Card at 0x1e4b2168ca0>,\n",
       " <__main__.Card at 0x1e4b2168eb0>,\n",
       " <__main__.Card at 0x1e4b2168c10>,\n",
       " <__main__.Card at 0x1e4b2168820>,\n",
       " <__main__.Card at 0x1e4b2168d00>,\n",
       " <__main__.Card at 0x1e4b21688e0>,\n",
       " <__main__.Card at 0x1e4b2168e20>,\n",
       " <__main__.Card at 0x1e4b2168f70>,\n",
       " <__main__.Card at 0x1e4b2168a30>,\n",
       " <__main__.Card at 0x1e4b2168b80>,\n",
       " <__main__.Card at 0x1e4b2168b50>,\n",
       " <__main__.Card at 0x1e4b2168d30>,\n",
       " <__main__.Card at 0x1e4b2168f10>,\n",
       " <__main__.Card at 0x1e4b2168d90>,\n",
       " <__main__.Card at 0x1e4b21a0070>,\n",
       " <__main__.Card at 0x1e4b21a00d0>,\n",
       " <__main__.Card at 0x1e4b21a0130>,\n",
       " <__main__.Card at 0x1e4b21a0190>,\n",
       " <__main__.Card at 0x1e4b21a01f0>,\n",
       " <__main__.Card at 0x1e4b21a0250>,\n",
       " <__main__.Card at 0x1e4b21a02b0>,\n",
       " <__main__.Card at 0x1e4b21a0310>,\n",
       " <__main__.Card at 0x1e4b21a0370>,\n",
       " <__main__.Card at 0x1e4b21a03d0>,\n",
       " <__main__.Card at 0x1e4b21a0430>,\n",
       " <__main__.Card at 0x1e4b21a0490>,\n",
       " <__main__.Card at 0x1e4b21a04f0>,\n",
       " <__main__.Card at 0x1e4b21a0550>,\n",
       " <__main__.Card at 0x1e4b21a05b0>,\n",
       " <__main__.Card at 0x1e4b21a0610>,\n",
       " <__main__.Card at 0x1e4b21a0670>,\n",
       " <__main__.Card at 0x1e4b21a06d0>,\n",
       " <__main__.Card at 0x1e4b21a0730>,\n",
       " <__main__.Card at 0x1e4b21a0790>,\n",
       " <__main__.Card at 0x1e4b21a07f0>,\n",
       " <__main__.Card at 0x1e4b21a0850>,\n",
       " <__main__.Card at 0x1e4b21a08b0>,\n",
       " <__main__.Card at 0x1e4b21a0910>,\n",
       " <__main__.Card at 0x1e4b21a0970>,\n",
       " <__main__.Card at 0x1e4b21a09d0>]"
      ]
     },
     "execution_count": 135,
     "metadata": {},
     "output_type": "execute_result"
    }
   ],
   "source": [
    "#Let's check out if all cards have been created in memory:\n",
    "new_deck.all_cards "
   ]
  },
  {
   "cell_type": "code",
   "execution_count": 136,
   "metadata": {},
   "outputs": [
    {
     "name": "stdout",
     "output_type": "stream",
     "text": [
      "Two of Hearts\n"
     ]
    }
   ],
   "source": [
    "#Let's check out the first card of the deck, I expect to find the \n",
    "#Two of hearts because of the way we defined our suits and ranks global variables\n",
    "#suits = ('Hearts', 'Diamonds', 'Spades', 'Clubs')\n",
    "#ranks = ('Two', 'Three', 'Four', 'Five', 'Six', 'Seven', 'Eight', 'Nine', 'Ten', 'Jack', 'Queen', 'King', 'Ace')\n",
    "print(new_deck.all_cards[0])\n"
   ]
  },
  {
   "cell_type": "code",
   "execution_count": 137,
   "metadata": {},
   "outputs": [
    {
     "name": "stdout",
     "output_type": "stream",
     "text": [
      "Ace of Clubs\n"
     ]
    }
   ],
   "source": [
    "#I can also check that the bottom card is the Ace of CLubs:\n",
    "bottom_card = new_deck.all_cards[-1]\n",
    "print(bottom_card)"
   ]
  },
  {
   "cell_type": "code",
   "execution_count": 138,
   "metadata": {},
   "outputs": [
    {
     "name": "stdout",
     "output_type": "stream",
     "text": [
      "Two of Hearts\n",
      "Three of Hearts\n",
      "Four of Hearts\n",
      "Five of Hearts\n",
      "Six of Hearts\n",
      "Seven of Hearts\n",
      "Eight of Hearts\n",
      "Nine of Hearts\n",
      "Ten of Hearts\n",
      "Jack of Hearts\n",
      "Queen of Hearts\n",
      "King of Hearts\n",
      "Ace of Hearts\n",
      "Two of Diamonds\n",
      "Three of Diamonds\n",
      "Four of Diamonds\n",
      "Five of Diamonds\n",
      "Six of Diamonds\n",
      "Seven of Diamonds\n",
      "Eight of Diamonds\n",
      "Nine of Diamonds\n",
      "Ten of Diamonds\n",
      "Jack of Diamonds\n",
      "Queen of Diamonds\n",
      "King of Diamonds\n",
      "Ace of Diamonds\n",
      "Two of Spades\n",
      "Three of Spades\n",
      "Four of Spades\n",
      "Five of Spades\n",
      "Six of Spades\n",
      "Seven of Spades\n",
      "Eight of Spades\n",
      "Nine of Spades\n",
      "Ten of Spades\n",
      "Jack of Spades\n",
      "Queen of Spades\n",
      "King of Spades\n",
      "Ace of Spades\n",
      "Two of Clubs\n",
      "Three of Clubs\n",
      "Four of Clubs\n",
      "Five of Clubs\n",
      "Six of Clubs\n",
      "Seven of Clubs\n",
      "Eight of Clubs\n",
      "Nine of Clubs\n",
      "Ten of Clubs\n",
      "Jack of Clubs\n",
      "Queen of Clubs\n",
      "King of Clubs\n",
      "Ace of Clubs\n"
     ]
    }
   ],
   "source": [
    "#Thereal cool thing is I can now print all my cards in the deck looping through my new deck like so:\n",
    "#HOW COOL IS THAT???? See the below and take a moment to celebrate your achievement: this is VERY EMPOWERING!\n",
    "\n",
    "for card_object in new_deck.all_cards:\n",
    "    print(card_object)"
   ]
  },
  {
   "cell_type": "code",
   "execution_count": 139,
   "metadata": {},
   "outputs": [],
   "source": [
    "#OK, now that we are all warm and fuzzy from the celebration, it's time to shuffle the deck! let's add in the shuffle method\n",
    "class Deck():\n",
    "    def __init__(self):\n",
    "        \n",
    "        #first thing we want for the deck is to have all 52 card objects. One way to go about this is create \n",
    "        #an all_cards attribute that start off asan empty list with no input from the user\n",
    "        self.all_cards = []\n",
    "        \n",
    "        #create all 52 cards\n",
    "        for suit in suits:\n",
    "            for rank in ranks:\n",
    "                #create the card and add it to the all_cards list. To create the card remember each card is an instance of \n",
    "                #the Card() class\n",
    "                created_card = Card(suit, rank)\n",
    "                self.all_cards.append(created_card)\n",
    "                \n",
    "    def shuffle(self):\n",
    "        #note that random.shuffle doesn't return anything\n",
    "        random.shuffle(self.all_cards)\n",
    "        \n",
    "                "
   ]
  },
  {
   "cell_type": "code",
   "execution_count": 140,
   "metadata": {},
   "outputs": [],
   "source": [
    "#To see how the shuffle method above works, let's create a new deck\n",
    "new_deck = Deck()"
   ]
  },
  {
   "cell_type": "code",
   "execution_count": 141,
   "metadata": {},
   "outputs": [
    {
     "name": "stdout",
     "output_type": "stream",
     "text": [
      "Ace of Clubs\n"
     ]
    }
   ],
   "source": [
    "#let's grab the bottom card, as we saw above it was the Ace of Clubs\n",
    "bottom_card = new_deck.all_cards[-1]\n",
    "print(bottom_card)"
   ]
  },
  {
   "cell_type": "code",
   "execution_count": 142,
   "metadata": {},
   "outputs": [],
   "source": [
    "#Let's create the new deck\n",
    "new_deck = Deck()"
   ]
  },
  {
   "cell_type": "code",
   "execution_count": 143,
   "metadata": {},
   "outputs": [],
   "source": [
    "bottom_card = new_deck.all_cards[-1]"
   ]
  },
  {
   "cell_type": "code",
   "execution_count": 144,
   "metadata": {},
   "outputs": [
    {
     "name": "stdout",
     "output_type": "stream",
     "text": [
      "Ace of Clubs\n"
     ]
    }
   ],
   "source": [
    "print(bottom_card)"
   ]
  },
  {
   "cell_type": "code",
   "execution_count": 145,
   "metadata": {},
   "outputs": [],
   "source": [
    "#Now let's shuffle the deck. We should gett a different card at the bottom after shuffling\n",
    "new_deck.shuffle()"
   ]
  },
  {
   "cell_type": "code",
   "execution_count": 146,
   "metadata": {},
   "outputs": [
    {
     "name": "stdout",
     "output_type": "stream",
     "text": [
      "Five of Clubs\n"
     ]
    }
   ],
   "source": [
    "#Yay! I have a new card at the bottom now, things are working as expected\n",
    "print(new_deck.all_cards[-1])"
   ]
  },
  {
   "cell_type": "code",
   "execution_count": 147,
   "metadata": {},
   "outputs": [],
   "source": [
    "#In the actual game I also need to remove cards.So in addition to our shuffle method, let's add a method to deal one card.\n",
    "#We'll use the pop method for this\n",
    "class Deck():\n",
    "    def __init__(self):\n",
    "        \n",
    "        #first thing we want for the deck is to have all 52 card objects. One way to go about this is create \n",
    "        #an all_cards attribute that start off asan empty list with no input from the user\n",
    "        self.all_cards = []\n",
    "        \n",
    "        #create all 52 cards\n",
    "        for suit in suits:\n",
    "            for rank in ranks:\n",
    "                #create the card and add it to the all_cards list. To create the card remember each card is an instance of \n",
    "                #the Card() class\n",
    "                created_card = Card(suit, rank)\n",
    "                self.all_cards.append(created_card)\n",
    "                \n",
    "    def shuffle(self):\n",
    "        #note that random.shuffle doesn't return anything\n",
    "        random.shuffle(self.all_cards)\n",
    "    def deal_one(self):\n",
    "        #call the pop method on the list self.all_cards and return the popped card\n",
    "        #dealing with one card is enough for our purpose, because we can create a loop to go through all 52 cards\n",
    "        return self.all_cards.pop()\n",
    "        "
   ]
  },
  {
   "cell_type": "code",
   "execution_count": 148,
   "metadata": {},
   "outputs": [],
   "source": [
    "#Let's create a new deck, shuffle it and deal one card.Assign it to the variable mycard\n",
    "new_deck = Deck()\n"
   ]
  },
  {
   "cell_type": "code",
   "execution_count": 149,
   "metadata": {},
   "outputs": [],
   "source": [
    "new_deck.shuffle()"
   ]
  },
  {
   "cell_type": "code",
   "execution_count": 150,
   "metadata": {},
   "outputs": [],
   "source": [
    "my_card = new_deck.deal_one()"
   ]
  },
  {
   "cell_type": "code",
   "execution_count": 151,
   "metadata": {},
   "outputs": [
    {
     "data": {
      "text/plain": [
       "<__main__.Card at 0x1e4b21aa640>"
      ]
     },
     "execution_count": 151,
     "metadata": {},
     "output_type": "execute_result"
    }
   ],
   "source": [
    "#mycard has become a card object in memory\n",
    "my_card"
   ]
  },
  {
   "cell_type": "code",
   "execution_count": 152,
   "metadata": {},
   "outputs": [
    {
     "name": "stdout",
     "output_type": "stream",
     "text": [
      "Ace of Hearts\n"
     ]
    }
   ],
   "source": [
    "print(my_card)"
   ]
  },
  {
   "cell_type": "code",
   "execution_count": 153,
   "metadata": {},
   "outputs": [
    {
     "data": {
      "text/plain": [
       "51"
      ]
     },
     "execution_count": 153,
     "metadata": {},
     "output_type": "execute_result"
    }
   ],
   "source": [
    "#Let's check the length of my deck, we expect to see 51,since we removed one with pop. At this point I can create a loop to\n",
    "#deal with all the 52 cards\n",
    "len(new_deck.all_cards)"
   ]
  },
  {
   "cell_type": "markdown",
   "metadata": {},
   "source": [
    "Player Class\n",
    "\n",
    "Let's create a Player Class. A player should be able to hold instances of Cards, they should also be able to remove and add \n",
    "them from their hand. We want the Player class to be flexible enough to add one card, or many cards so we'll use a simple\n",
    "if check to keep it all in the same method.\n",
    "\n",
    "We'll keep this all in mind as we create the methods for the Player class.\n",
    "\n"
   ]
  },
  {
   "cell_type": "code",
   "execution_count": 154,
   "metadata": {},
   "outputs": [],
   "source": [
    "#When a player plays a card they will pop at zero. If the player adds cards, he will use the append method. We will use the\n",
    "#extend method, which allows to add multiple cards. We cannot use append again otherwise it'll create nested lists!\n",
    "\n",
    "\n",
    "class Player():\n",
    "    #To distinguish the players each player has a name. Let's also start setting up an empty list to be filled along the way\n",
    "    def __init__(self, name):\n",
    "        self.name = name\n",
    "        self.all_cards = []\n",
    "    \n",
    "    #The player must be able to add and remove cards. As explained we will remove one card at the time\n",
    "   \n",
    "    def remove_one(self):\n",
    "        pass\n",
    "        \n",
    "    def add_cards(self, new_cards):\n",
    "        pass\n",
    "    \n",
    "    \n",
    "    def __str__(self):\n",
    "        return f'Player {self.name} has {len(self.all_cards)} cards.'\n",
    "        "
   ]
  },
  {
   "cell_type": "code",
   "execution_count": 155,
   "metadata": {},
   "outputs": [],
   "source": [
    "#Let's create an instance of the class Player and give it a name\n",
    "new_player = Player(\"Jose\")"
   ]
  },
  {
   "cell_type": "code",
   "execution_count": 156,
   "metadata": {},
   "outputs": [
    {
     "name": "stdout",
     "output_type": "stream",
     "text": [
      "Player Jose has 0 cards.\n"
     ]
    }
   ],
   "source": [
    "#Let's print to make sure everything works correctly\n",
    "print(new_player)"
   ]
  },
  {
   "cell_type": "code",
   "execution_count": 157,
   "metadata": {},
   "outputs": [],
   "source": [
    "#Cool, all is well. Now let's see how we can remove and add cards\n",
    " \n",
    "         \n",
    "class Player:\n",
    "    def __init__(self, name):\n",
    "    \n",
    "    #To distinguish the players each player has a name. Let's also start setting up an empty list to be filled along the way\n",
    "        self.name = name\n",
    "        self.all_cards = []\n",
    "        \n",
    "    #The player must be able to add and remove cards\n",
    "   \n",
    "    def remove_one(self):\n",
    "        #Remember to pop at zero to remove from the top (or beginning of the list)\n",
    "        return self.all_cards.pop(0)\n",
    "        \n",
    "    def add_cards(self, new_cards):\n",
    "        #if this is a list, extend\n",
    "        if type(new_cards) == type([]):\n",
    "            self.all_cards.extend(new_cards) #Add a bunch of cards\n",
    "        else:\n",
    "            self.all_cards.append(new_cards) #add a single card\n",
    "    \n",
    "    \n",
    "    def __str__(self):\n",
    "        return f'Player {self.name} has {len(self.all_cards)} cards.'\n",
    "    "
   ]
  },
  {
   "cell_type": "code",
   "execution_count": 158,
   "metadata": {},
   "outputs": [],
   "source": [
    "new_player = Player(\"Jose\")"
   ]
  },
  {
   "cell_type": "code",
   "execution_count": 159,
   "metadata": {},
   "outputs": [
    {
     "name": "stdout",
     "output_type": "stream",
     "text": [
      "Player Jose has 0 cards.\n"
     ]
    }
   ],
   "source": [
    "print(new_player)"
   ]
  },
  {
   "cell_type": "code",
   "execution_count": 160,
   "metadata": {},
   "outputs": [
    {
     "name": "stdout",
     "output_type": "stream",
     "text": [
      "Ace of Hearts\n"
     ]
    }
   ],
   "source": [
    "#Jose has zero cards now we want to add cards to his hands. Let's add a card, see what the card is first:new_player\n",
    "print(my_card)"
   ]
  },
  {
   "cell_type": "code",
   "execution_count": 161,
   "metadata": {},
   "outputs": [],
   "source": [
    "new_player.add_cards(my_card)"
   ]
  },
  {
   "cell_type": "code",
   "execution_count": 162,
   "metadata": {},
   "outputs": [
    {
     "name": "stdout",
     "output_type": "stream",
     "text": [
      "Player Jose has 1 cards.\n"
     ]
    }
   ],
   "source": [
    "print(new_player)"
   ]
  },
  {
   "cell_type": "code",
   "execution_count": 163,
   "metadata": {},
   "outputs": [
    {
     "name": "stdout",
     "output_type": "stream",
     "text": [
      "Ace of Hearts\n"
     ]
    }
   ],
   "source": [
    "#I can also see what is the card:\n",
    "print(new_player.all_cards[0])"
   ]
  },
  {
   "cell_type": "code",
   "execution_count": 164,
   "metadata": {},
   "outputs": [],
   "source": [
    "#Now, what happens if I add a card 3 times? Since we are inside the if type new_cards == a list then I add 3 cards all at once\n",
    "new_player.add_cards([my_card, my_card, my_card])"
   ]
  },
  {
   "cell_type": "code",
   "execution_count": 165,
   "metadata": {},
   "outputs": [
    {
     "name": "stdout",
     "output_type": "stream",
     "text": [
      "Player Jose has 4 cards.\n"
     ]
    }
   ],
   "source": [
    "print(new_player)"
   ]
  },
  {
   "cell_type": "code",
   "execution_count": 166,
   "metadata": {},
   "outputs": [
    {
     "data": {
      "text/plain": [
       "<__main__.Card at 0x1e4b21aa640>"
      ]
     },
     "execution_count": 166,
     "metadata": {},
     "output_type": "execute_result"
    }
   ],
   "source": [
    "#If we remove one card we expect Jose to have 3 cards\n",
    "new_player.remove_one()"
   ]
  },
  {
   "cell_type": "code",
   "execution_count": 167,
   "metadata": {},
   "outputs": [
    {
     "name": "stdout",
     "output_type": "stream",
     "text": [
      "Player Jose has 3 cards.\n"
     ]
    }
   ],
   "source": [
    "print(new_player)"
   ]
  },
  {
   "cell_type": "markdown",
   "metadata": {},
   "source": [
    "Now that we have a card class, a deck class and a player class we can start to set up the game"
   ]
  },
  {
   "cell_type": "code",
   "execution_count": 168,
   "metadata": {},
   "outputs": [],
   "source": [
    "#SET UP THE GAME\n",
    "#We need our two players, let's name them One and Two so it's easy to distinguish them\n",
    "player_one = Player(\"One\")\n",
    "player_two = Player(\"Two\")\n",
    "\n",
    "#Then we need a new deck, and we need to shuffle the new deck\n",
    "new_deck = Deck()\n",
    "new_deck.shuffle() #remember nothing is returned here\n",
    "\n",
    "#Now we need to split the deck in two equal parts, 26 cards each, and we deal one card at the time looping thru the 26 cards\n",
    "#We give one card to each player for every card\n",
    "for x in range(26):\n",
    "    player_one.add_cards(new_deck.deal_one())\n",
    "    player_two.add_cards(new_deck.deal_one())\n",
    "\n",
    "\n"
   ]
  },
  {
   "cell_type": "code",
   "execution_count": 169,
   "metadata": {},
   "outputs": [
    {
     "data": {
      "text/plain": [
       "[<__main__.Card at 0x1e4b219d2e0>,\n",
       " <__main__.Card at 0x1e4b219d880>,\n",
       " <__main__.Card at 0x1e4b219d3a0>,\n",
       " <__main__.Card at 0x1e4b219db80>,\n",
       " <__main__.Card at 0x1e4b20be9a0>,\n",
       " <__main__.Card at 0x1e4b219d580>,\n",
       " <__main__.Card at 0x1e4b21a4fd0>,\n",
       " <__main__.Card at 0x1e4b204e6a0>,\n",
       " <__main__.Card at 0x1e4b21a4b80>,\n",
       " <__main__.Card at 0x1e4b20bec10>,\n",
       " <__main__.Card at 0x1e4b20cd160>,\n",
       " <__main__.Card at 0x1e4b219ddc0>,\n",
       " <__main__.Card at 0x1e4b219d8e0>,\n",
       " <__main__.Card at 0x1e4b219d7c0>,\n",
       " <__main__.Card at 0x1e4b219da00>,\n",
       " <__main__.Card at 0x1e4b219d5e0>,\n",
       " <__main__.Card at 0x1e4b219d100>,\n",
       " <__main__.Card at 0x1e4b20bea90>,\n",
       " <__main__.Card at 0x1e4b219db20>,\n",
       " <__main__.Card at 0x1e4b219dd00>,\n",
       " <__main__.Card at 0x1e4b219da60>,\n",
       " <__main__.Card at 0x1e4b219dc40>,\n",
       " <__main__.Card at 0x1e4b20be5b0>,\n",
       " <__main__.Card at 0x1e4b219d400>,\n",
       " <__main__.Card at 0x1e4b219d520>,\n",
       " <__main__.Card at 0x1e4b219d700>]"
      ]
     },
     "execution_count": 169,
     "metadata": {},
     "output_type": "execute_result"
    }
   ],
   "source": [
    "#Check that both players have 26 cards\n",
    "player_two.all_cards"
   ]
  },
  {
   "cell_type": "code",
   "execution_count": 170,
   "metadata": {},
   "outputs": [
    {
     "name": "stdout",
     "output_type": "stream",
     "text": [
      "26\n",
      "26\n"
     ]
    }
   ],
   "source": [
    "#Another way to check is check the length of each player's deck\n",
    "print(len(player_one.all_cards))\n",
    "print(len(player_two.all_cards))"
   ]
  },
  {
   "cell_type": "code",
   "execution_count": 175,
   "metadata": {},
   "outputs": [],
   "source": [
    "#We are ready to turn the game on\n",
    "game_on = True"
   ]
  },
  {
   "cell_type": "code",
   "execution_count": 176,
   "metadata": {},
   "outputs": [],
   "source": [
    "#One way to go about setting up the game is to use  two while loops: one for the game on, one for the case we are at war. \n",
    "# We need the loop for the at war case because we could runf into the situation where we have multiple war cases one \n",
    "# after the other\n",
    "#hile game_on:\n",
    " #   while at_war:"
   ]
  },
  {
   "cell_type": "code",
   "execution_count": 177,
   "metadata": {},
   "outputs": [
    {
     "name": "stdout",
     "output_type": "stream",
     "text": [
      "Round 1\n",
      "Round 2\n",
      "Player One is out of cards! Player Two wins\n"
     ]
    }
   ],
   "source": [
    "#Let's start from the first while loop. Outside of the loop let's set up a counter so I can see how many rounds \n",
    "#it takes to set up these matches. \n",
    "round_num = 0\n",
    "\n",
    "while game_on:\n",
    "    \n",
    "    round_num += 1\n",
    "    print(f\"Round {round_num}\")\n",
    "    #Check if any player isout of cards:\n",
    "    if len(player_one.all_cards) == 0:\n",
    "        print(\"Player One is out of cards! Player Two wins\")\n",
    "        game_on = False #the game is over\n",
    "        break #break out of the game_on while loop\n",
    "    \n",
    "    #Do the same check for player Two:\n",
    "    if len(player_two.all_cards) == 0:\n",
    "        Print(\"Player Two is out of cards! Player One wins\")\n",
    "        game_on = False #the game is over\n",
    "        break #break out of the game_on while loop\n",
    "        \n",
    "    #Otherwise the game is on and it's time to start a new round\n",
    "    \n",
    "    #Let's set up a variable to the cards the player is going to leave on the table\n",
    "    player_one_cards = []\n",
    "    player_one_cards.append(player_one.remove_one())\n",
    "   \n",
    "    player_two_cards = []\n",
    "    player_two_cards.append(player_two.remove_one())\n",
    "    \n",
    "    #while at war\n",
    "    #Here we have compared the cards and found to equal value cards. We can set up a rule for the players to draw 5 cards\n",
    "    #every time there's a war. Also, we can set the rule that players need at least 5 cards in their hands to continue playing\n",
    "    at_war = True\n",
    "    while at_war:\n",
    "        if player_one_cards[-1].value > player_two_cards[-1].value:\n",
    "            #Small digression: why -1 and not zero? remember that we add to the list like so. Say initially\n",
    "            #player One has a Queen. Then as she keeps playing she adds other cards. [Q] --> [Q,K, J, 4]. By choosing -1\n",
    "            #we ensure that we draw that last card, versus constantly comparing the first Queen\n",
    "            \n",
    "            #Going back to the if: player one get the cards added to his deck, which we code up like so:\n",
    "            player_one.add_cards(player_one_cards) #player one get all their cards back\n",
    "            player_one.add_cards(player_two_cards) #player one also gets all the cards from player two\n",
    "            \n",
    "            #now we are no longer at wat\n",
    "            at_war = False\n",
    "        elif player_one_cards[-1].value < player_two_cards[-1].value:\n",
    "            #Small digression: why -1 and not zero? remember that we add to the list like so. Say initially\n",
    "            #player One has a Queen. Then as she keeps playing she adds other cards. [Q] --> [Q,K, J, 4]. By choosing -1\n",
    "            #we ensure that we draw that last card, versus constantly comparing the first Queen\n",
    "            \n",
    "            #Going back to the if: player one get the cards added to his deck, which we code up like so:\n",
    "            player_two.add_cards(player_one_cards) #player one get all the cards from player one\n",
    "            player_two.add_cards(player_two_cards) #player one also gets all their own cards back\n",
    "            \n",
    "            #now we are no longer at wat\n",
    "            at_war = False\n",
    "        else: #we are at war\n",
    "            print(\"WAR!\")\n",
    "            \n",
    "            if len(player_one.all_cards) < 5:\n",
    "                print(\"Player One doesn't have anough cards to continue playing\")\n",
    "                print(\"PLAYER TWO WINS!\")\n",
    "                game_on = False\n",
    "                break\n",
    "            #Do the same for player Two\n",
    "            elif len(player_two.all_cards) < 5:\n",
    "                print(\"Player Two doesn't have anough cards to continue playing\")\n",
    "                print(\"PLAYER ONE WINS!\")\n",
    "                game_on = False\n",
    "                break\n",
    "            else: #we add more cards\n",
    "                for num in range(5):\n",
    "                    player_one_cards.append(player_one.remove_one())\n",
    "                    player_two_cards.append(player_one.remove_one())\n",
    "                    "
   ]
  },
  {
   "cell_type": "code",
   "execution_count": null,
   "metadata": {},
   "outputs": [],
   "source": []
  },
  {
   "cell_type": "code",
   "execution_count": null,
   "metadata": {},
   "outputs": [],
   "source": [
    "\n"
   ]
  },
  {
   "cell_type": "code",
   "execution_count": null,
   "metadata": {},
   "outputs": [],
   "source": []
  },
  {
   "cell_type": "code",
   "execution_count": null,
   "metadata": {},
   "outputs": [],
   "source": []
  },
  {
   "cell_type": "code",
   "execution_count": null,
   "metadata": {},
   "outputs": [],
   "source": []
  },
  {
   "cell_type": "code",
   "execution_count": null,
   "metadata": {},
   "outputs": [],
   "source": []
  },
  {
   "cell_type": "code",
   "execution_count": null,
   "metadata": {},
   "outputs": [],
   "source": []
  }
 ],
 "metadata": {
  "kernelspec": {
   "display_name": "Python 3",
   "language": "python",
   "name": "python3"
  },
  "language_info": {
   "codemirror_mode": {
    "name": "ipython",
    "version": 3
   },
   "file_extension": ".py",
   "mimetype": "text/x-python",
   "name": "python",
   "nbconvert_exporter": "python",
   "pygments_lexer": "ipython3",
   "version": "3.8.5"
  }
 },
 "nbformat": 4,
 "nbformat_minor": 4
}
