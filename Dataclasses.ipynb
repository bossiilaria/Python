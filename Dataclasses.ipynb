{
 "cells": [
  {
   "cell_type": "markdown",
   "metadata": {},
   "source": [
    "Let's rewrite the Card Class using Dataclasses as suggested by Malte: https://realpython.com/python-data-classes/"
   ]
  },
  {
   "cell_type": "code",
   "execution_count": 20,
   "metadata": {},
   "outputs": [],
   "source": [
    "#GLOBAL VARIABLES\n",
    "#The dictionary is a global variable so by convention we put it on top.\n",
    "#We will also need to shuffle the deck, so we do import random at the very top.\n",
    "#Then we'll need the list of all the suits and all the ranks as global variables\n",
    "\n",
    "suits = ('Hearts', 'Diamonds', 'Spades', 'Clubs')\n",
    "ranks = ('Two', 'Three', 'Four', 'Five', 'Six', 'Seven', 'Eight', 'Nine', 'Ten', 'Jack', 'Queen', 'King', 'Ace')\n",
    "\n",
    "import random\n",
    "\n",
    "values = {'Two': 2, 'Three': 3, 'Four': 4, 'Five': 5, 'Six':6, 'Seven': 7, 'Eight': 8, \n",
    "          'Nine': 9, 'Ten': 10, 'Jack': 11, 'Queen': 12, 'King': 13, 'Ace': 14}"
   ]
  },
  {
   "cell_type": "code",
   "execution_count": 21,
   "metadata": {},
   "outputs": [],
   "source": [
    "#This is what my Card class looked like before\n",
    "\n",
    "class Card():\n",
    "    \n",
    "    def __init__(self,suit, rank):\n",
    "        self.suit = suit\n",
    "        self.rank = rank\n",
    "        self.value = values[rank]\n",
    "    def __str__(self):\n",
    "        return self.rank + \" of \" + self.suit"
   ]
  },
  {
   "cell_type": "code",
   "execution_count": 22,
   "metadata": {},
   "outputs": [],
   "source": [
    "#This is what it looks like after\n",
    "from dataclasses import dataclass, field\n",
    "from typing import List\n",
    " \n",
    "# you will still call this class using Class(\"Hearts\",\"Two\") but in most cases, you do not need to add a __init__ method anymore\n",
    "@dataclass\n",
    "\n",
    "class Card:\n",
    "    suit: str  # this is called a type annotation and tells you what you expect\n",
    "    rank: str\n",
    "    value: int = field(init=False) # this means it is not provided in Card(a,b), but will be generated in a __post_init__ method\n",
    " \n",
    "    def __post_init__(self):\n",
    "        self.value = values[self.rank]\n",
    " \n"
   ]
  },
  {
   "cell_type": "code",
   "execution_count": 37,
   "metadata": {},
   "outputs": [],
   "source": [
    "\n",
    "@dataclass\n",
    "\n",
    "class Deck:\n",
    "    all_cards: List[Card] = field(init=False)\n",
    "    def __post_init__(self):\n",
    "        self.all_cards = []\n",
    "        for suit in suits:\n",
    "            for rank in ranks:\n",
    "                created_card = Card(suit, rank)\n",
    "                self.all_cards.append(created_card)\n",
    "                \n",
    "    def shuffle(self):\n",
    "        #note that random.shuffle doesn't return anything\n",
    "        random.shuffle(self.all_cards)\n",
    "# you can then call it just as before, but now it looks a lot different and is generally\n",
    "# easier to work with\n",
    "my_deck = Deck()"
   ]
  },
  {
   "cell_type": "code",
   "execution_count": 38,
   "metadata": {},
   "outputs": [],
   "source": [
    "two_of_hearts = Card(\"Hearts\", \"Two\")"
   ]
  },
  {
   "cell_type": "code",
   "execution_count": 39,
   "metadata": {},
   "outputs": [
    {
     "data": {
      "text/plain": [
       "Card(suit='Hearts', rank='Two', value=2)"
      ]
     },
     "execution_count": 39,
     "metadata": {},
     "output_type": "execute_result"
    }
   ],
   "source": [
    "# WOW: I can see what my card looks like right away! Without printing, while before I had this obscure message \n",
    "# that only told me my card had been created somewhere in memory <__main__.Card at 0x1c55e881880>,\n",
    "#then I had to do two_of_hearts.suit, two_of_hearts.rank and values[two_of_hearts.rank], in 3 separate steps\n",
    "two_of_hearts"
   ]
  },
  {
   "cell_type": "code",
   "execution_count": 40,
   "metadata": {},
   "outputs": [],
   "source": [
    "#I can create my Three of Clubs and immediately compare the values!\n",
    "three_of_clubs = Card(\"Clubs\", \"Three\")"
   ]
  },
  {
   "cell_type": "code",
   "execution_count": 41,
   "metadata": {},
   "outputs": [
    {
     "data": {
      "text/plain": [
       "True"
      ]
     },
     "execution_count": 41,
     "metadata": {},
     "output_type": "execute_result"
    }
   ],
   "source": [
    "three_of_clubs.value > two_of_hearts.value"
   ]
  },
  {
   "cell_type": "code",
   "execution_count": 42,
   "metadata": {},
   "outputs": [],
   "source": [
    "#Let's see what happens if I create a new deck\n",
    "new_deck = Deck()"
   ]
  },
  {
   "cell_type": "code",
   "execution_count": 43,
   "metadata": {},
   "outputs": [
    {
     "data": {
      "text/plain": [
       "Deck(all_cards=[Card(suit='Hearts', rank='Two', value=2), Card(suit='Hearts', rank='Three', value=3), Card(suit='Hearts', rank='Four', value=4), Card(suit='Hearts', rank='Five', value=5), Card(suit='Hearts', rank='Six', value=6), Card(suit='Hearts', rank='Seven', value=7), Card(suit='Hearts', rank='Eight', value=8), Card(suit='Hearts', rank='Nine', value=9), Card(suit='Hearts', rank='Ten', value=10), Card(suit='Hearts', rank='Jack', value=11), Card(suit='Hearts', rank='Queen', value=12), Card(suit='Hearts', rank='King', value=13), Card(suit='Hearts', rank='Ace', value=14), Card(suit='Diamonds', rank='Two', value=2), Card(suit='Diamonds', rank='Three', value=3), Card(suit='Diamonds', rank='Four', value=4), Card(suit='Diamonds', rank='Five', value=5), Card(suit='Diamonds', rank='Six', value=6), Card(suit='Diamonds', rank='Seven', value=7), Card(suit='Diamonds', rank='Eight', value=8), Card(suit='Diamonds', rank='Nine', value=9), Card(suit='Diamonds', rank='Ten', value=10), Card(suit='Diamonds', rank='Jack', value=11), Card(suit='Diamonds', rank='Queen', value=12), Card(suit='Diamonds', rank='King', value=13), Card(suit='Diamonds', rank='Ace', value=14), Card(suit='Spades', rank='Two', value=2), Card(suit='Spades', rank='Three', value=3), Card(suit='Spades', rank='Four', value=4), Card(suit='Spades', rank='Five', value=5), Card(suit='Spades', rank='Six', value=6), Card(suit='Spades', rank='Seven', value=7), Card(suit='Spades', rank='Eight', value=8), Card(suit='Spades', rank='Nine', value=9), Card(suit='Spades', rank='Ten', value=10), Card(suit='Spades', rank='Jack', value=11), Card(suit='Spades', rank='Queen', value=12), Card(suit='Spades', rank='King', value=13), Card(suit='Spades', rank='Ace', value=14), Card(suit='Clubs', rank='Two', value=2), Card(suit='Clubs', rank='Three', value=3), Card(suit='Clubs', rank='Four', value=4), Card(suit='Clubs', rank='Five', value=5), Card(suit='Clubs', rank='Six', value=6), Card(suit='Clubs', rank='Seven', value=7), Card(suit='Clubs', rank='Eight', value=8), Card(suit='Clubs', rank='Nine', value=9), Card(suit='Clubs', rank='Ten', value=10), Card(suit='Clubs', rank='Jack', value=11), Card(suit='Clubs', rank='Queen', value=12), Card(suit='Clubs', rank='King', value=13), Card(suit='Clubs', rank='Ace', value=14)])"
      ]
     },
     "execution_count": 43,
     "metadata": {},
     "output_type": "execute_result"
    }
   ],
   "source": [
    "#Check this out!\n",
    "new_deck"
   ]
  },
  {
   "cell_type": "code",
   "execution_count": 44,
   "metadata": {},
   "outputs": [
    {
     "data": {
      "text/plain": [
       "Card(suit='Hearts', rank='Two', value=2)"
      ]
     },
     "execution_count": 44,
     "metadata": {},
     "output_type": "execute_result"
    }
   ],
   "source": [
    "#Let's check out the first card of the deck, I expect to find the \n",
    "#Two of hearts because of the way we defined our suits and ranks global variables\n",
    "#suits = ('Hearts', 'Diamonds', 'Spades', 'Clubs')\n",
    "#ranks = ('Two', 'Three', 'Four', 'Five', 'Six', 'Seven', 'Eight', 'Nine', 'Ten', 'Jack', 'Queen', 'King', 'Ace'). \n",
    "#I NO LONGER NEED TO PRINT TO SEE MY FIRST CARD! I see it right away from the above\n",
    "new_deck.all_cards[0]"
   ]
  },
  {
   "cell_type": "code",
   "execution_count": 45,
   "metadata": {},
   "outputs": [],
   "source": [
    "#Let's check out the bottom card: \n",
    "bottom_card = new_deck.all_cards[-1]"
   ]
  },
  {
   "cell_type": "code",
   "execution_count": 46,
   "metadata": {},
   "outputs": [
    {
     "data": {
      "text/plain": [
       "Card(suit='Clubs', rank='Ace', value=14)"
      ]
     },
     "execution_count": 46,
     "metadata": {},
     "output_type": "execute_result"
    }
   ],
   "source": [
    "bottom_card"
   ]
  },
  {
   "cell_type": "code",
   "execution_count": 49,
   "metadata": {},
   "outputs": [],
   "source": [
    "#Let's shuffle and check out the new bottom_card\n",
    "new_deck.shuffle()"
   ]
  },
  {
   "cell_type": "code",
   "execution_count": 50,
   "metadata": {},
   "outputs": [
    {
     "data": {
      "text/plain": [
       "Card(suit='Clubs', rank='Ace', value=14)"
      ]
     },
     "execution_count": 50,
     "metadata": {},
     "output_type": "execute_result"
    }
   ],
   "source": [
    "bottom_card"
   ]
  },
  {
   "cell_type": "code",
   "execution_count": null,
   "metadata": {},
   "outputs": [],
   "source": [
    "#Hmm the shuffle doesn't seem to work, need to figure this out"
   ]
  }
 ],
 "metadata": {
  "kernelspec": {
   "display_name": "Python 3",
   "language": "python",
   "name": "python3"
  },
  "language_info": {
   "codemirror_mode": {
    "name": "ipython",
    "version": 3
   },
   "file_extension": ".py",
   "mimetype": "text/x-python",
   "name": "python",
   "nbconvert_exporter": "python",
   "pygments_lexer": "ipython3",
   "version": "3.8.5"
  }
 },
 "nbformat": 4,
 "nbformat_minor": 4
}
