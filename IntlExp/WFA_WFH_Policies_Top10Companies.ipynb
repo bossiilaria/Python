{
 "cells": [
  {
   "cell_type": "code",
   "execution_count": 7,
   "metadata": {},
   "outputs": [],
   "source": [
    "wfa_wfh_policy = {'Apple': ['']}"
   ]
  },
  {
   "cell_type": "code",
   "execution_count": 8,
   "metadata": {},
   "outputs": [],
   "source": [
    "import pandas as pd\n"
   ]
  },
  {
   "cell_type": "code",
   "execution_count": 39,
   "metadata": {},
   "outputs": [],
   "source": [
    "details = {\n",
    "    'Company' : ['Apple', 'Google', 'Twitter', ],\n",
    "    'Policy' : ['Some employees required to work in person 3X/week', '60 percent of Googlers are coming together in the office a few days a week, another 20 percent are working in new office locations, and 20 percent are working from home', ''],\n",
    "     'Remarks' : ['Pushed to October due to Covid cases rising', '', ''],\n",
    "    'Datasource' : ['https://www.techtimes.com/articles/263105/20210720/apple-work-home-set-up-implemented-october-covid-19-cases.htm',\n",
    "                   'https://insights.dice.com/2021/05/07/google-details-its-new-hybrid-remote-workplace-policies/',\n",
    "                   '']\n",
    "   \n",
    "}\n",
    "  \n",
    "# creating a Dataframe object \n",
    "top_10_DF = pd.DataFrame(details)"
   ]
  },
  {
   "cell_type": "code",
   "execution_count": 40,
   "metadata": {},
   "outputs": [
    {
     "data": {
      "text/html": [
       "<div>\n",
       "<style scoped>\n",
       "    .dataframe tbody tr th:only-of-type {\n",
       "        vertical-align: middle;\n",
       "    }\n",
       "\n",
       "    .dataframe tbody tr th {\n",
       "        vertical-align: top;\n",
       "    }\n",
       "\n",
       "    .dataframe thead th {\n",
       "        text-align: right;\n",
       "    }\n",
       "</style>\n",
       "<table border=\"1\" class=\"dataframe\">\n",
       "  <thead>\n",
       "    <tr style=\"text-align: right;\">\n",
       "      <th></th>\n",
       "      <th>Company</th>\n",
       "      <th>Policy</th>\n",
       "      <th>Remarks</th>\n",
       "      <th>Datasource</th>\n",
       "    </tr>\n",
       "  </thead>\n",
       "  <tbody>\n",
       "    <tr>\n",
       "      <th>0</th>\n",
       "      <td>Apple</td>\n",
       "      <td>Some employees required to work in person 3X/week</td>\n",
       "      <td>Pushed to October due to Covid cases rising</td>\n",
       "      <td>https://www.techtimes.com/articles/263105/2021...</td>\n",
       "    </tr>\n",
       "    <tr>\n",
       "      <th>1</th>\n",
       "      <td>Google</td>\n",
       "      <td>60 percent of Googlers are coming together in ...</td>\n",
       "      <td></td>\n",
       "      <td>https://insights.dice.com/2021/05/07/google-de...</td>\n",
       "    </tr>\n",
       "    <tr>\n",
       "      <th>2</th>\n",
       "      <td>Twitter</td>\n",
       "      <td></td>\n",
       "      <td></td>\n",
       "      <td></td>\n",
       "    </tr>\n",
       "  </tbody>\n",
       "</table>\n",
       "</div>"
      ],
      "text/plain": [
       "   Company                                             Policy  \\\n",
       "0    Apple  Some employees required to work in person 3X/week   \n",
       "1   Google  60 percent of Googlers are coming together in ...   \n",
       "2  Twitter                                                      \n",
       "\n",
       "                                       Remarks  \\\n",
       "0  Pushed to October due to Covid cases rising   \n",
       "1                                                \n",
       "2                                                \n",
       "\n",
       "                                          Datasource  \n",
       "0  https://www.techtimes.com/articles/263105/2021...  \n",
       "1  https://insights.dice.com/2021/05/07/google-de...  \n",
       "2                                                     "
      ]
     },
     "execution_count": 40,
     "metadata": {},
     "output_type": "execute_result"
    }
   ],
   "source": [
    "top_10_DF"
   ]
  },
  {
   "cell_type": "code",
   "execution_count": 42,
   "metadata": {},
   "outputs": [
    {
     "data": {
      "text/plain": [
       "'60 percent of Googlers are coming together in the office a few days a week, another 20 percent are working in new office locations, and 20 percent are working from home'"
      ]
     },
     "execution_count": 42,
     "metadata": {},
     "output_type": "execute_result"
    }
   ],
   "source": [
    "top_10_DF['Policy'][1]"
   ]
  },
  {
   "cell_type": "code",
   "execution_count": 43,
   "metadata": {},
   "outputs": [],
   "source": [
    "#Google FB Twitter same, policies keep changing. Productivity not as good as WFH. \n",
    "#Employees are looking forward to come back to office 68% IT professionals voted hybrid."
   ]
  },
  {
   "cell_type": "code",
   "execution_count": null,
   "metadata": {},
   "outputs": [],
   "source": [
    "#TCS in India already opened office 75% population back to work in office, 75% operational from office\n",
    "#WNS same 50% capacity in office October November\n",
    "#Himanshu's link https://content.techgig.com/is-it-the-end-of-work-from-home-for-indian-it-industry/articleshow/84700125.cms"
   ]
  }
 ],
 "metadata": {
  "kernelspec": {
   "display_name": "Python 3",
   "language": "python",
   "name": "python3"
  },
  "language_info": {
   "codemirror_mode": {
    "name": "ipython",
    "version": 3
   },
   "file_extension": ".py",
   "mimetype": "text/x-python",
   "name": "python",
   "nbconvert_exporter": "python",
   "pygments_lexer": "ipython3",
   "version": "3.8.5"
  }
 },
 "nbformat": 4,
 "nbformat_minor": 4
}
