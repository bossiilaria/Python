{
 "cells": [
  {
   "cell_type": "code",
   "execution_count": 1,
   "metadata": {},
   "outputs": [],
   "source": [
    "#https://www.youtube.com/watch?v=uuhi830wOzs\n",
    "\n",
    "#1. What are Python key features?\n",
    "\n",
    "# Open Source\n",
    "# OOP\n",
    "# Easy to learn\n",
    "# Easy to Debug\n",
    "# Easy to integrate"
   ]
  },
  {
   "cell_type": "code",
   "execution_count": 2,
   "metadata": {},
   "outputs": [],
   "source": [
    "#2. What are keywords in Python?\n",
    "\n",
    "#33 basic keywords def, list, True, False, if, else, None, return, print..."
   ]
  },
  {
   "cell_type": "code",
   "execution_count": 3,
   "metadata": {},
   "outputs": [],
   "source": [
    "#3. What are literals in Python?\n",
    "\n",
    "# 4 types: 1. String literals ('Anything in quotes') 2. Numeric literals (Integers, Floats) \n",
    "#3. Boolean (True, False) 4. Special (None)"
   ]
  },
  {
   "cell_type": "code",
   "execution_count": 6,
   "metadata": {},
   "outputs": [],
   "source": [
    "#4. How can you concatenate 2 tuples?\n",
    "\n",
    "tup1 = (1, 2, 'String')\n",
    "tup2 = (3, 4)\n",
    "tup3 = tup1 + tup2"
   ]
  },
  {
   "cell_type": "code",
   "execution_count": 7,
   "metadata": {},
   "outputs": [
    {
     "data": {
      "text/plain": [
       "(1, 2, 'String', 3, 4)"
      ]
     },
     "execution_count": 7,
     "metadata": {},
     "output_type": "execute_result"
    }
   ],
   "source": [
    "tup3"
   ]
  },
  {
   "cell_type": "code",
   "execution_count": 15,
   "metadata": {},
   "outputs": [
    {
     "name": "stdout",
     "output_type": "stream",
     "text": [
      "Happy\n"
     ]
    }
   ],
   "source": [
    "#5. What are functions in Python?\n",
    "\n",
    "#built-in (for ex. print) and user defined like the one below:\n",
    "\n",
    "#Built-In Function\n",
    "\n",
    "print('Happy')"
   ]
  },
  {
   "cell_type": "code",
   "execution_count": 16,
   "metadata": {},
   "outputs": [
    {
     "data": {
      "text/plain": [
       "5"
      ]
     },
     "execution_count": 16,
     "metadata": {},
     "output_type": "execute_result"
    }
   ],
   "source": [
    "#User defined function\n",
    "\n",
    "def func(a, b):\n",
    "    return (a+b)\n",
    "\n",
    "func(2, 3)"
   ]
  },
  {
   "cell_type": "code",
   "execution_count": null,
   "metadata": {},
   "outputs": [],
   "source": []
  }
 ],
 "metadata": {
  "kernelspec": {
   "display_name": "Python 3",
   "language": "python",
   "name": "python3"
  },
  "language_info": {
   "codemirror_mode": {
    "name": "ipython",
    "version": 3
   },
   "file_extension": ".py",
   "mimetype": "text/x-python",
   "name": "python",
   "nbconvert_exporter": "python",
   "pygments_lexer": "ipython3",
   "version": "3.8.5"
  }
 },
 "nbformat": 4,
 "nbformat_minor": 4
}
