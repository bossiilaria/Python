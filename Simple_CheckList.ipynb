{
 "cells": [
  {
   "cell_type": "code",
   "execution_count": null,
   "metadata": {},
   "outputs": [],
   "source": [
    "# Simple To-Do List App\n",
    "# by TokyoEdtech\n",
    "# Python 3.8 using Geany Editor\n",
    "# Ubuntu Linux (Mac and Windows Compatible)\n",
    "# Topics: tkinter, grid geometry manager\n",
    "# Topics: Listbox Widget, Scrollbar widget, tkinter.messagebox, Try/Except Block, pickle\n",
    "\n",
    "import tkinter\n",
    "import tkinter.messagebox\n"
   ]
  },
  {
   "cell_type": "code",
   "execution_count": 3,
   "metadata": {},
   "outputs": [],
   "source": [
    "root = tkinter.Tk()\n",
    "root.title(\"Check_List_For_MRs\")\n",
    "\n",
    "#Create a GUI\n",
    "listbox_tasks = tkinter.Listbox(root, height = 3, width = 50)\n",
    "listbox_tasks.pack()\n",
    "\n",
    "root.mainloop()"
   ]
  },
  {
   "cell_type": "code",
   "execution_count": null,
   "metadata": {},
   "outputs": [],
   "source": []
  },
  {
   "cell_type": "code",
   "execution_count": null,
   "metadata": {},
   "outputs": [],
   "source": []
  }
 ],
 "metadata": {
  "kernelspec": {
   "display_name": "Python 3",
   "language": "python",
   "name": "python3"
  },
  "language_info": {
   "codemirror_mode": {
    "name": "ipython",
    "version": 3
   },
   "file_extension": ".py",
   "mimetype": "text/x-python",
   "name": "python",
   "nbconvert_exporter": "python",
   "pygments_lexer": "ipython3",
   "version": "3.8.5"
  }
 },
 "nbformat": 4,
 "nbformat_minor": 4
}
