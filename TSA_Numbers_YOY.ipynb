{
 "cells": [
  {
   "cell_type": "markdown",
   "metadata": {},
   "source": [
    "This is my second real life project after I have received my certificate on April 3 2021: YAY!\n",
    "    The task I was given is to create an easy to read 12 month rolling chart on TSA checkpoint travel numbers NOW vs YOY \n",
    "    and publish it on a weekly basis to be sent to all Directors & above. \n",
    "    Here's the [link](data:https://www.tsa.gov/coronavirus/passenger-throughput) from where you can obtain the data"
   ]
  },
  {
   "cell_type": "markdown",
   "metadata": {},
   "source": [
    "Check out basic pandas here: https://www.youtube.com/watch?v=zmdjNSmRXF4\n",
    "        \n",
    "Data Analytics with Python: https://www.youtube.com/watch?v=r-uOLxNrNk8"
   ]
  },
  {
   "cell_type": "code",
   "execution_count": 1,
   "metadata": {},
   "outputs": [],
   "source": [
    "#First thing we need to do is to import the top 3 libraries for data analysis: pandas, matplotlib and numpy\n",
    "import pandas as pd\n",
    "import numpy as np\n",
    "import matplotlib.pyplot as plt\n",
    "\n",
    "%matplotlib inline"
   ]
  },
  {
   "cell_type": "code",
   "execution_count": 3,
   "metadata": {},
   "outputs": [],
   "source": [
    "#Now we can get the data from the report that we have in the excel:\n",
    "data = pd.read_excel('TSA Numbers YoY.xlsx')"
   ]
  },
  {
   "cell_type": "code",
   "execution_count": 4,
   "metadata": {
    "scrolled": true
   },
   "outputs": [
    {
     "data": {
      "text/html": [
       "<div>\n",
       "<style scoped>\n",
       "    .dataframe tbody tr th:only-of-type {\n",
       "        vertical-align: middle;\n",
       "    }\n",
       "\n",
       "    .dataframe tbody tr th {\n",
       "        vertical-align: top;\n",
       "    }\n",
       "\n",
       "    .dataframe thead th {\n",
       "        text-align: right;\n",
       "    }\n",
       "</style>\n",
       "<table border=\"1\" class=\"dataframe\">\n",
       "  <thead>\n",
       "    <tr style=\"text-align: right;\">\n",
       "      <th></th>\n",
       "      <th>Date</th>\n",
       "      <th>Month/Day</th>\n",
       "      <th>2021 Traveler Throughput</th>\n",
       "      <th>2020 Traveler Throughput</th>\n",
       "      <th>2019 Traveler Throughput</th>\n",
       "      <th>Unnamed: 5</th>\n",
       "      <th>Unnamed: 6</th>\n",
       "      <th>Unnamed: 7</th>\n",
       "      <th>Sorted Ascending</th>\n",
       "      <th>Month</th>\n",
       "      <th>2019</th>\n",
       "      <th>2020</th>\n",
       "      <th>2021</th>\n",
       "    </tr>\n",
       "  </thead>\n",
       "  <tbody>\n",
       "    <tr>\n",
       "      <th>0</th>\n",
       "      <td>2020-12-31</td>\n",
       "      <td>2020-12-31</td>\n",
       "      <td>NaN</td>\n",
       "      <td>874406</td>\n",
       "      <td>2392331</td>\n",
       "      <td>NaN</td>\n",
       "      <td>NaN</td>\n",
       "      <td>NaN</td>\n",
       "      <td>2021-01-01</td>\n",
       "      <td>1</td>\n",
       "      <td>2126398</td>\n",
       "      <td>2311732</td>\n",
       "      <td>805990.0</td>\n",
       "    </tr>\n",
       "    <tr>\n",
       "      <th>1</th>\n",
       "      <td>2020-12-30</td>\n",
       "      <td>2020-12-30</td>\n",
       "      <td>NaN</td>\n",
       "      <td>1163696</td>\n",
       "      <td>2133253</td>\n",
       "      <td>NaN</td>\n",
       "      <td>NaN</td>\n",
       "      <td>NaN</td>\n",
       "      <td>2021-01-02</td>\n",
       "      <td>1</td>\n",
       "      <td>2345103</td>\n",
       "      <td>2178656</td>\n",
       "      <td>1192881.0</td>\n",
       "    </tr>\n",
       "    <tr>\n",
       "      <th>2</th>\n",
       "      <td>2020-12-29</td>\n",
       "      <td>2020-12-29</td>\n",
       "      <td>NaN</td>\n",
       "      <td>1019347</td>\n",
       "      <td>2009880</td>\n",
       "      <td>NaN</td>\n",
       "      <td>NaN</td>\n",
       "      <td>NaN</td>\n",
       "      <td>2021-01-03</td>\n",
       "      <td>1</td>\n",
       "      <td>2202111</td>\n",
       "      <td>2422272</td>\n",
       "      <td>1327289.0</td>\n",
       "    </tr>\n",
       "    <tr>\n",
       "      <th>3</th>\n",
       "      <td>2020-12-28</td>\n",
       "      <td>2020-12-28</td>\n",
       "      <td>NaN</td>\n",
       "      <td>1111751</td>\n",
       "      <td>2500396</td>\n",
       "      <td>NaN</td>\n",
       "      <td>NaN</td>\n",
       "      <td>NaN</td>\n",
       "      <td>2021-01-04</td>\n",
       "      <td>1</td>\n",
       "      <td>2150571</td>\n",
       "      <td>2210542</td>\n",
       "      <td>1080346.0</td>\n",
       "    </tr>\n",
       "    <tr>\n",
       "      <th>4</th>\n",
       "      <td>2020-12-27</td>\n",
       "      <td>2020-12-27</td>\n",
       "      <td>NaN</td>\n",
       "      <td>1284599</td>\n",
       "      <td>2575985</td>\n",
       "      <td>NaN</td>\n",
       "      <td>NaN</td>\n",
       "      <td>NaN</td>\n",
       "      <td>2021-01-05</td>\n",
       "      <td>1</td>\n",
       "      <td>1975947</td>\n",
       "      <td>1806480</td>\n",
       "      <td>766594.0</td>\n",
       "    </tr>\n",
       "  </tbody>\n",
       "</table>\n",
       "</div>"
      ],
      "text/plain": [
       "        Date  Month/Day  2021 Traveler Throughput  2020 Traveler Throughput  \\\n",
       "0 2020-12-31 2020-12-31                       NaN                    874406   \n",
       "1 2020-12-30 2020-12-30                       NaN                   1163696   \n",
       "2 2020-12-29 2020-12-29                       NaN                   1019347   \n",
       "3 2020-12-28 2020-12-28                       NaN                   1111751   \n",
       "4 2020-12-27 2020-12-27                       NaN                   1284599   \n",
       "\n",
       "   2019 Traveler Throughput  Unnamed: 5  Unnamed: 6  Unnamed: 7  \\\n",
       "0                   2392331         NaN         NaN         NaN   \n",
       "1                   2133253         NaN         NaN         NaN   \n",
       "2                   2009880         NaN         NaN         NaN   \n",
       "3                   2500396         NaN         NaN         NaN   \n",
       "4                   2575985         NaN         NaN         NaN   \n",
       "\n",
       "  Sorted Ascending  Month     2019     2020       2021  \n",
       "0       2021-01-01      1  2126398  2311732   805990.0  \n",
       "1       2021-01-02      1  2345103  2178656  1192881.0  \n",
       "2       2021-01-03      1  2202111  2422272  1327289.0  \n",
       "3       2021-01-04      1  2150571  2210542  1080346.0  \n",
       "4       2021-01-05      1  1975947  1806480   766594.0  "
      ]
     },
     "execution_count": 4,
     "metadata": {},
     "output_type": "execute_result"
    }
   ],
   "source": [
    "#We can check the first few lines with:\n",
    "data.head()"
   ]
  },
  {
   "cell_type": "code",
   "execution_count": 6,
   "metadata": {},
   "outputs": [],
   "source": [
    "#To get rid of the indexes in the first column we can set the index column to be Date:\n",
    "\n",
    "data = pd.read_excel('TSA Numbers YoY.xlsx', index_col = \"Date\")\n"
   ]
  },
  {
   "cell_type": "code",
   "execution_count": 7,
   "metadata": {},
   "outputs": [
    {
     "data": {
      "text/html": [
       "<div>\n",
       "<style scoped>\n",
       "    .dataframe tbody tr th:only-of-type {\n",
       "        vertical-align: middle;\n",
       "    }\n",
       "\n",
       "    .dataframe tbody tr th {\n",
       "        vertical-align: top;\n",
       "    }\n",
       "\n",
       "    .dataframe thead th {\n",
       "        text-align: right;\n",
       "    }\n",
       "</style>\n",
       "<table border=\"1\" class=\"dataframe\">\n",
       "  <thead>\n",
       "    <tr style=\"text-align: right;\">\n",
       "      <th></th>\n",
       "      <th>Month/Day</th>\n",
       "      <th>2021 Traveler Throughput</th>\n",
       "      <th>2020 Traveler Throughput</th>\n",
       "      <th>2019 Traveler Throughput</th>\n",
       "      <th>Unnamed: 5</th>\n",
       "      <th>Unnamed: 6</th>\n",
       "      <th>Unnamed: 7</th>\n",
       "      <th>Sorted Ascending</th>\n",
       "      <th>Month</th>\n",
       "      <th>2019</th>\n",
       "      <th>2020</th>\n",
       "      <th>2021</th>\n",
       "    </tr>\n",
       "    <tr>\n",
       "      <th>Date</th>\n",
       "      <th></th>\n",
       "      <th></th>\n",
       "      <th></th>\n",
       "      <th></th>\n",
       "      <th></th>\n",
       "      <th></th>\n",
       "      <th></th>\n",
       "      <th></th>\n",
       "      <th></th>\n",
       "      <th></th>\n",
       "      <th></th>\n",
       "      <th></th>\n",
       "    </tr>\n",
       "  </thead>\n",
       "  <tbody>\n",
       "    <tr>\n",
       "      <th>2020-12-31</th>\n",
       "      <td>2020-12-31</td>\n",
       "      <td>NaN</td>\n",
       "      <td>874406</td>\n",
       "      <td>2392331</td>\n",
       "      <td>NaN</td>\n",
       "      <td>NaN</td>\n",
       "      <td>NaN</td>\n",
       "      <td>2021-01-01</td>\n",
       "      <td>1</td>\n",
       "      <td>2126398</td>\n",
       "      <td>2311732</td>\n",
       "      <td>805990.0</td>\n",
       "    </tr>\n",
       "    <tr>\n",
       "      <th>2020-12-30</th>\n",
       "      <td>2020-12-30</td>\n",
       "      <td>NaN</td>\n",
       "      <td>1163696</td>\n",
       "      <td>2133253</td>\n",
       "      <td>NaN</td>\n",
       "      <td>NaN</td>\n",
       "      <td>NaN</td>\n",
       "      <td>2021-01-02</td>\n",
       "      <td>1</td>\n",
       "      <td>2345103</td>\n",
       "      <td>2178656</td>\n",
       "      <td>1192881.0</td>\n",
       "    </tr>\n",
       "    <tr>\n",
       "      <th>2020-12-29</th>\n",
       "      <td>2020-12-29</td>\n",
       "      <td>NaN</td>\n",
       "      <td>1019347</td>\n",
       "      <td>2009880</td>\n",
       "      <td>NaN</td>\n",
       "      <td>NaN</td>\n",
       "      <td>NaN</td>\n",
       "      <td>2021-01-03</td>\n",
       "      <td>1</td>\n",
       "      <td>2202111</td>\n",
       "      <td>2422272</td>\n",
       "      <td>1327289.0</td>\n",
       "    </tr>\n",
       "    <tr>\n",
       "      <th>2020-12-28</th>\n",
       "      <td>2020-12-28</td>\n",
       "      <td>NaN</td>\n",
       "      <td>1111751</td>\n",
       "      <td>2500396</td>\n",
       "      <td>NaN</td>\n",
       "      <td>NaN</td>\n",
       "      <td>NaN</td>\n",
       "      <td>2021-01-04</td>\n",
       "      <td>1</td>\n",
       "      <td>2150571</td>\n",
       "      <td>2210542</td>\n",
       "      <td>1080346.0</td>\n",
       "    </tr>\n",
       "    <tr>\n",
       "      <th>2020-12-27</th>\n",
       "      <td>2020-12-27</td>\n",
       "      <td>NaN</td>\n",
       "      <td>1284599</td>\n",
       "      <td>2575985</td>\n",
       "      <td>NaN</td>\n",
       "      <td>NaN</td>\n",
       "      <td>NaN</td>\n",
       "      <td>2021-01-05</td>\n",
       "      <td>1</td>\n",
       "      <td>1975947</td>\n",
       "      <td>1806480</td>\n",
       "      <td>766594.0</td>\n",
       "    </tr>\n",
       "    <tr>\n",
       "      <th>...</th>\n",
       "      <td>...</td>\n",
       "      <td>...</td>\n",
       "      <td>...</td>\n",
       "      <td>...</td>\n",
       "      <td>...</td>\n",
       "      <td>...</td>\n",
       "      <td>...</td>\n",
       "      <td>...</td>\n",
       "      <td>...</td>\n",
       "      <td>...</td>\n",
       "      <td>...</td>\n",
       "      <td>...</td>\n",
       "    </tr>\n",
       "    <tr>\n",
       "      <th>2021-01-05</th>\n",
       "      <td>2021-01-05</td>\n",
       "      <td>766594.0</td>\n",
       "      <td>1806480</td>\n",
       "      <td>1975947</td>\n",
       "      <td>NaN</td>\n",
       "      <td>NaN</td>\n",
       "      <td>NaN</td>\n",
       "      <td>2021-12-27</td>\n",
       "      <td>12</td>\n",
       "      <td>2575985</td>\n",
       "      <td>1284599</td>\n",
       "      <td>NaN</td>\n",
       "    </tr>\n",
       "    <tr>\n",
       "      <th>2021-01-04</th>\n",
       "      <td>2021-01-04</td>\n",
       "      <td>1080346.0</td>\n",
       "      <td>2210542</td>\n",
       "      <td>2150571</td>\n",
       "      <td>NaN</td>\n",
       "      <td>NaN</td>\n",
       "      <td>NaN</td>\n",
       "      <td>2021-12-28</td>\n",
       "      <td>12</td>\n",
       "      <td>2500396</td>\n",
       "      <td>1111751</td>\n",
       "      <td>NaN</td>\n",
       "    </tr>\n",
       "    <tr>\n",
       "      <th>2021-01-03</th>\n",
       "      <td>2021-01-03</td>\n",
       "      <td>1327289.0</td>\n",
       "      <td>2422272</td>\n",
       "      <td>2202111</td>\n",
       "      <td>NaN</td>\n",
       "      <td>NaN</td>\n",
       "      <td>NaN</td>\n",
       "      <td>2021-12-29</td>\n",
       "      <td>12</td>\n",
       "      <td>2009880</td>\n",
       "      <td>1019347</td>\n",
       "      <td>NaN</td>\n",
       "    </tr>\n",
       "    <tr>\n",
       "      <th>2021-01-02</th>\n",
       "      <td>2021-01-02</td>\n",
       "      <td>1192881.0</td>\n",
       "      <td>2178656</td>\n",
       "      <td>2345103</td>\n",
       "      <td>NaN</td>\n",
       "      <td>NaN</td>\n",
       "      <td>NaN</td>\n",
       "      <td>2021-12-30</td>\n",
       "      <td>12</td>\n",
       "      <td>2133253</td>\n",
       "      <td>1163696</td>\n",
       "      <td>NaN</td>\n",
       "    </tr>\n",
       "    <tr>\n",
       "      <th>2021-01-01</th>\n",
       "      <td>2021-01-01</td>\n",
       "      <td>805990.0</td>\n",
       "      <td>2311732</td>\n",
       "      <td>2126398</td>\n",
       "      <td>NaN</td>\n",
       "      <td>NaN</td>\n",
       "      <td>NaN</td>\n",
       "      <td>2021-12-31</td>\n",
       "      <td>12</td>\n",
       "      <td>2392331</td>\n",
       "      <td>874406</td>\n",
       "      <td>NaN</td>\n",
       "    </tr>\n",
       "  </tbody>\n",
       "</table>\n",
       "<p>365 rows × 12 columns</p>\n",
       "</div>"
      ],
      "text/plain": [
       "            Month/Day  2021 Traveler Throughput  2020 Traveler Throughput  \\\n",
       "Date                                                                        \n",
       "2020-12-31 2020-12-31                       NaN                    874406   \n",
       "2020-12-30 2020-12-30                       NaN                   1163696   \n",
       "2020-12-29 2020-12-29                       NaN                   1019347   \n",
       "2020-12-28 2020-12-28                       NaN                   1111751   \n",
       "2020-12-27 2020-12-27                       NaN                   1284599   \n",
       "...               ...                       ...                       ...   \n",
       "2021-01-05 2021-01-05                  766594.0                   1806480   \n",
       "2021-01-04 2021-01-04                 1080346.0                   2210542   \n",
       "2021-01-03 2021-01-03                 1327289.0                   2422272   \n",
       "2021-01-02 2021-01-02                 1192881.0                   2178656   \n",
       "2021-01-01 2021-01-01                  805990.0                   2311732   \n",
       "\n",
       "            2019 Traveler Throughput  Unnamed: 5  Unnamed: 6  Unnamed: 7  \\\n",
       "Date                                                                       \n",
       "2020-12-31                   2392331         NaN         NaN         NaN   \n",
       "2020-12-30                   2133253         NaN         NaN         NaN   \n",
       "2020-12-29                   2009880         NaN         NaN         NaN   \n",
       "2020-12-28                   2500396         NaN         NaN         NaN   \n",
       "2020-12-27                   2575985         NaN         NaN         NaN   \n",
       "...                              ...         ...         ...         ...   \n",
       "2021-01-05                   1975947         NaN         NaN         NaN   \n",
       "2021-01-04                   2150571         NaN         NaN         NaN   \n",
       "2021-01-03                   2202111         NaN         NaN         NaN   \n",
       "2021-01-02                   2345103         NaN         NaN         NaN   \n",
       "2021-01-01                   2126398         NaN         NaN         NaN   \n",
       "\n",
       "           Sorted Ascending  Month     2019     2020       2021  \n",
       "Date                                                             \n",
       "2020-12-31       2021-01-01      1  2126398  2311732   805990.0  \n",
       "2020-12-30       2021-01-02      1  2345103  2178656  1192881.0  \n",
       "2020-12-29       2021-01-03      1  2202111  2422272  1327289.0  \n",
       "2020-12-28       2021-01-04      1  2150571  2210542  1080346.0  \n",
       "2020-12-27       2021-01-05      1  1975947  1806480   766594.0  \n",
       "...                     ...    ...      ...      ...        ...  \n",
       "2021-01-05       2021-12-27     12  2575985  1284599        NaN  \n",
       "2021-01-04       2021-12-28     12  2500396  1111751        NaN  \n",
       "2021-01-03       2021-12-29     12  2009880  1019347        NaN  \n",
       "2021-01-02       2021-12-30     12  2133253  1163696        NaN  \n",
       "2021-01-01       2021-12-31     12  2392331   874406        NaN  \n",
       "\n",
       "[365 rows x 12 columns]"
      ]
     },
     "execution_count": 7,
     "metadata": {},
     "output_type": "execute_result"
    }
   ],
   "source": [
    "data"
   ]
  },
  {
   "cell_type": "code",
   "execution_count": 8,
   "metadata": {},
   "outputs": [],
   "source": [
    "#We can choose how many rows we want to see with \n",
    "pd.set_option('Display.max_rows', 4)"
   ]
  },
  {
   "cell_type": "code",
   "execution_count": 9,
   "metadata": {},
   "outputs": [
    {
     "data": {
      "text/html": [
       "<div>\n",
       "<style scoped>\n",
       "    .dataframe tbody tr th:only-of-type {\n",
       "        vertical-align: middle;\n",
       "    }\n",
       "\n",
       "    .dataframe tbody tr th {\n",
       "        vertical-align: top;\n",
       "    }\n",
       "\n",
       "    .dataframe thead th {\n",
       "        text-align: right;\n",
       "    }\n",
       "</style>\n",
       "<table border=\"1\" class=\"dataframe\">\n",
       "  <thead>\n",
       "    <tr style=\"text-align: right;\">\n",
       "      <th></th>\n",
       "      <th>Month/Day</th>\n",
       "      <th>2021 Traveler Throughput</th>\n",
       "      <th>2020 Traveler Throughput</th>\n",
       "      <th>2019 Traveler Throughput</th>\n",
       "      <th>Unnamed: 5</th>\n",
       "      <th>Unnamed: 6</th>\n",
       "      <th>Unnamed: 7</th>\n",
       "      <th>Sorted Ascending</th>\n",
       "      <th>Month</th>\n",
       "      <th>2019</th>\n",
       "      <th>2020</th>\n",
       "      <th>2021</th>\n",
       "    </tr>\n",
       "    <tr>\n",
       "      <th>Date</th>\n",
       "      <th></th>\n",
       "      <th></th>\n",
       "      <th></th>\n",
       "      <th></th>\n",
       "      <th></th>\n",
       "      <th></th>\n",
       "      <th></th>\n",
       "      <th></th>\n",
       "      <th></th>\n",
       "      <th></th>\n",
       "      <th></th>\n",
       "      <th></th>\n",
       "    </tr>\n",
       "  </thead>\n",
       "  <tbody>\n",
       "    <tr>\n",
       "      <th>2020-12-31</th>\n",
       "      <td>2020-12-31</td>\n",
       "      <td>NaN</td>\n",
       "      <td>874406</td>\n",
       "      <td>2392331</td>\n",
       "      <td>NaN</td>\n",
       "      <td>NaN</td>\n",
       "      <td>NaN</td>\n",
       "      <td>2021-01-01</td>\n",
       "      <td>1</td>\n",
       "      <td>2126398</td>\n",
       "      <td>2311732</td>\n",
       "      <td>805990.0</td>\n",
       "    </tr>\n",
       "    <tr>\n",
       "      <th>2020-12-30</th>\n",
       "      <td>2020-12-30</td>\n",
       "      <td>NaN</td>\n",
       "      <td>1163696</td>\n",
       "      <td>2133253</td>\n",
       "      <td>NaN</td>\n",
       "      <td>NaN</td>\n",
       "      <td>NaN</td>\n",
       "      <td>2021-01-02</td>\n",
       "      <td>1</td>\n",
       "      <td>2345103</td>\n",
       "      <td>2178656</td>\n",
       "      <td>1192881.0</td>\n",
       "    </tr>\n",
       "    <tr>\n",
       "      <th>...</th>\n",
       "      <td>...</td>\n",
       "      <td>...</td>\n",
       "      <td>...</td>\n",
       "      <td>...</td>\n",
       "      <td>...</td>\n",
       "      <td>...</td>\n",
       "      <td>...</td>\n",
       "      <td>...</td>\n",
       "      <td>...</td>\n",
       "      <td>...</td>\n",
       "      <td>...</td>\n",
       "      <td>...</td>\n",
       "    </tr>\n",
       "    <tr>\n",
       "      <th>2020-12-28</th>\n",
       "      <td>2020-12-28</td>\n",
       "      <td>NaN</td>\n",
       "      <td>1111751</td>\n",
       "      <td>2500396</td>\n",
       "      <td>NaN</td>\n",
       "      <td>NaN</td>\n",
       "      <td>NaN</td>\n",
       "      <td>2021-01-04</td>\n",
       "      <td>1</td>\n",
       "      <td>2150571</td>\n",
       "      <td>2210542</td>\n",
       "      <td>1080346.0</td>\n",
       "    </tr>\n",
       "    <tr>\n",
       "      <th>2020-12-27</th>\n",
       "      <td>2020-12-27</td>\n",
       "      <td>NaN</td>\n",
       "      <td>1284599</td>\n",
       "      <td>2575985</td>\n",
       "      <td>NaN</td>\n",
       "      <td>NaN</td>\n",
       "      <td>NaN</td>\n",
       "      <td>2021-01-05</td>\n",
       "      <td>1</td>\n",
       "      <td>1975947</td>\n",
       "      <td>1806480</td>\n",
       "      <td>766594.0</td>\n",
       "    </tr>\n",
       "  </tbody>\n",
       "</table>\n",
       "<p>5 rows × 12 columns</p>\n",
       "</div>"
      ],
      "text/plain": [
       "            Month/Day  2021 Traveler Throughput  2020 Traveler Throughput  \\\n",
       "Date                                                                        \n",
       "2020-12-31 2020-12-31                       NaN                    874406   \n",
       "2020-12-30 2020-12-30                       NaN                   1163696   \n",
       "...               ...                       ...                       ...   \n",
       "2020-12-28 2020-12-28                       NaN                   1111751   \n",
       "2020-12-27 2020-12-27                       NaN                   1284599   \n",
       "\n",
       "            2019 Traveler Throughput  Unnamed: 5  Unnamed: 6  Unnamed: 7  \\\n",
       "Date                                                                       \n",
       "2020-12-31                   2392331         NaN         NaN         NaN   \n",
       "2020-12-30                   2133253         NaN         NaN         NaN   \n",
       "...                              ...         ...         ...         ...   \n",
       "2020-12-28                   2500396         NaN         NaN         NaN   \n",
       "2020-12-27                   2575985         NaN         NaN         NaN   \n",
       "\n",
       "           Sorted Ascending  Month     2019     2020       2021  \n",
       "Date                                                             \n",
       "2020-12-31       2021-01-01      1  2126398  2311732   805990.0  \n",
       "2020-12-30       2021-01-02      1  2345103  2178656  1192881.0  \n",
       "...                     ...    ...      ...      ...        ...  \n",
       "2020-12-28       2021-01-04      1  2150571  2210542  1080346.0  \n",
       "2020-12-27       2021-01-05      1  1975947  1806480   766594.0  \n",
       "\n",
       "[5 rows x 12 columns]"
      ]
     },
     "execution_count": 9,
     "metadata": {},
     "output_type": "execute_result"
    }
   ],
   "source": [
    "data.head()"
   ]
  },
  {
   "cell_type": "code",
   "execution_count": 10,
   "metadata": {},
   "outputs": [
    {
     "data": {
      "text/plain": [
       "(365, 12)"
      ]
     },
     "execution_count": 10,
     "metadata": {},
     "output_type": "execute_result"
    }
   ],
   "source": [
    "# We can see how many rows and columns we have total with:\n",
    "data.shape #365 rows and 12 columns"
   ]
  },
  {
   "cell_type": "code",
   "execution_count": 11,
   "metadata": {},
   "outputs": [
    {
     "data": {
      "text/html": [
       "<div>\n",
       "<style scoped>\n",
       "    .dataframe tbody tr th:only-of-type {\n",
       "        vertical-align: middle;\n",
       "    }\n",
       "\n",
       "    .dataframe tbody tr th {\n",
       "        vertical-align: top;\n",
       "    }\n",
       "\n",
       "    .dataframe thead th {\n",
       "        text-align: right;\n",
       "    }\n",
       "</style>\n",
       "<table border=\"1\" class=\"dataframe\">\n",
       "  <thead>\n",
       "    <tr style=\"text-align: right;\">\n",
       "      <th></th>\n",
       "      <th>2021 Traveler Throughput</th>\n",
       "      <th>2020 Traveler Throughput</th>\n",
       "      <th>2019 Traveler Throughput</th>\n",
       "      <th>Unnamed: 5</th>\n",
       "      <th>Unnamed: 6</th>\n",
       "      <th>Unnamed: 7</th>\n",
       "      <th>Month</th>\n",
       "      <th>2019</th>\n",
       "      <th>2020</th>\n",
       "      <th>2021</th>\n",
       "    </tr>\n",
       "  </thead>\n",
       "  <tbody>\n",
       "    <tr>\n",
       "      <th>count</th>\n",
       "      <td>1.360000e+02</td>\n",
       "      <td>3.650000e+02</td>\n",
       "      <td>3.650000e+02</td>\n",
       "      <td>0.0</td>\n",
       "      <td>0.0</td>\n",
       "      <td>0.0</td>\n",
       "      <td>365.000000</td>\n",
       "      <td>3.650000e+02</td>\n",
       "      <td>3.650000e+02</td>\n",
       "      <td>1.360000e+02</td>\n",
       "    </tr>\n",
       "    <tr>\n",
       "      <th>mean</th>\n",
       "      <td>1.120563e+06</td>\n",
       "      <td>8.818248e+05</td>\n",
       "      <td>2.309337e+06</td>\n",
       "      <td>NaN</td>\n",
       "      <td>NaN</td>\n",
       "      <td>NaN</td>\n",
       "      <td>6.526027</td>\n",
       "      <td>2.309337e+06</td>\n",
       "      <td>8.818248e+05</td>\n",
       "      <td>1.120563e+06</td>\n",
       "    </tr>\n",
       "    <tr>\n",
       "      <th>...</th>\n",
       "      <td>...</td>\n",
       "      <td>...</td>\n",
       "      <td>...</td>\n",
       "      <td>...</td>\n",
       "      <td>...</td>\n",
       "      <td>...</td>\n",
       "      <td>...</td>\n",
       "      <td>...</td>\n",
       "      <td>...</td>\n",
       "      <td>...</td>\n",
       "    </tr>\n",
       "    <tr>\n",
       "      <th>75%</th>\n",
       "      <td>1.412660e+06</td>\n",
       "      <td>9.837450e+05</td>\n",
       "      <td>2.538384e+06</td>\n",
       "      <td>NaN</td>\n",
       "      <td>NaN</td>\n",
       "      <td>NaN</td>\n",
       "      <td>10.000000</td>\n",
       "      <td>2.538384e+06</td>\n",
       "      <td>9.837450e+05</td>\n",
       "      <td>1.412660e+06</td>\n",
       "    </tr>\n",
       "    <tr>\n",
       "      <th>max</th>\n",
       "      <td>1.850531e+06</td>\n",
       "      <td>2.507588e+06</td>\n",
       "      <td>2.882915e+06</td>\n",
       "      <td>NaN</td>\n",
       "      <td>NaN</td>\n",
       "      <td>NaN</td>\n",
       "      <td>12.000000</td>\n",
       "      <td>2.882915e+06</td>\n",
       "      <td>2.507588e+06</td>\n",
       "      <td>1.850531e+06</td>\n",
       "    </tr>\n",
       "  </tbody>\n",
       "</table>\n",
       "<p>8 rows × 10 columns</p>\n",
       "</div>"
      ],
      "text/plain": [
       "       2021 Traveler Throughput  2020 Traveler Throughput  \\\n",
       "count              1.360000e+02              3.650000e+02   \n",
       "mean               1.120563e+06              8.818248e+05   \n",
       "...                         ...                       ...   \n",
       "75%                1.412660e+06              9.837450e+05   \n",
       "max                1.850531e+06              2.507588e+06   \n",
       "\n",
       "       2019 Traveler Throughput  Unnamed: 5  Unnamed: 6  Unnamed: 7  \\\n",
       "count              3.650000e+02         0.0         0.0         0.0   \n",
       "mean               2.309337e+06         NaN         NaN         NaN   \n",
       "...                         ...         ...         ...         ...   \n",
       "75%                2.538384e+06         NaN         NaN         NaN   \n",
       "max                2.882915e+06         NaN         NaN         NaN   \n",
       "\n",
       "            Month          2019          2020          2021  \n",
       "count  365.000000  3.650000e+02  3.650000e+02  1.360000e+02  \n",
       "mean     6.526027  2.309337e+06  8.818248e+05  1.120563e+06  \n",
       "...           ...           ...           ...           ...  \n",
       "75%     10.000000  2.538384e+06  9.837450e+05  1.412660e+06  \n",
       "max     12.000000  2.882915e+06  2.507588e+06  1.850531e+06  \n",
       "\n",
       "[8 rows x 10 columns]"
      ]
     },
     "execution_count": 11,
     "metadata": {},
     "output_type": "execute_result"
    }
   ],
   "source": [
    "#One of the advantages of using Python is that we can take a quick look at the statistical properties withoutscrolling through long excel\n",
    "#files:\n",
    "\n",
    "data.describe()\n",
    "\n",
    "#In our case we see we have 35 rows (count), the mean value of each column etc."
   ]
  },
  {
   "cell_type": "code",
   "execution_count": 12,
   "metadata": {},
   "outputs": [
    {
     "data": {
      "text/plain": [
       "count    3.650000e+02\n",
       "mean     2.309337e+06\n",
       "             ...     \n",
       "75%      2.538384e+06\n",
       "max      2.882915e+06\n",
       "Name: 2019, Length: 8, dtype: float64"
      ]
     },
     "execution_count": 12,
     "metadata": {},
     "output_type": "execute_result"
    }
   ],
   "source": [
    "#Now let's focus on 2019. \n",
    "data[2019].describe()"
   ]
  },
  {
   "cell_type": "code",
   "execution_count": 14,
   "metadata": {},
   "outputs": [
    {
     "data": {
      "text/plain": [
       "2309336.569863014"
      ]
     },
     "execution_count": 14,
     "metadata": {},
     "output_type": "execute_result"
    }
   ],
   "source": [
    "#We can quickly find the mean:\n",
    "data[2019].mean()"
   ]
  },
  {
   "cell_type": "code",
   "execution_count": 15,
   "metadata": {},
   "outputs": [
    {
     "data": {
      "text/plain": [
       "2358007.0"
      ]
     },
     "execution_count": 15,
     "metadata": {},
     "output_type": "execute_result"
    }
   ],
   "source": [
    "#The median\n",
    "data[2019].median()"
   ]
  },
  {
   "cell_type": "code",
   "execution_count": 16,
   "metadata": {},
   "outputs": [
    {
     "data": {
      "text/plain": [
       "<AxesSubplot:xlabel='Date'>"
      ]
     },
     "execution_count": 16,
     "metadata": {},
     "output_type": "execute_result"
    },
    {
     "data": {
      "image/png": "[encoded data removed]",
      "text/plain": [
       "<Figure size 432x288 with 1 Axes>"
      ]
     },
     "metadata": {
      "needs_background": "light"
     },
     "output_type": "display_data"
    }
   ],
   "source": [
    "data[2019].plot()"
   ]
  },
  {
   "cell_type": "code",
   "execution_count": null,
   "metadata": {},
   "outputs": [],
   "source": [
    "# The dataframe can be converted into a dictionary\n",
    "d = {\n",
    "    '2019': [216398, 2345103, 2150571],\n",
    "    '2020': [2311732, 217856, 2210542]\n",
    "}"
   ]
  },
  {
   "cell_type": "code",
   "execution_count": null,
   "metadata": {},
   "outputs": [],
   "source": [
    "d"
   ]
  },
  {
   "cell_type": "code",
   "execution_count": null,
   "metadata": {},
   "outputs": [],
   "source": [
    "#The advantage is that we can access its keys, so the trick is to set up the columns titles as keys and the values as lists\n",
    "d ['2019']"
   ]
  },
  {
   "cell_type": "code",
   "execution_count": null,
   "metadata": {},
   "outputs": [],
   "source": [
    "#We can check out the titles of all columns doing:\n",
    "data.columns"
   ]
  },
  {
   "cell_type": "code",
   "execution_count": null,
   "metadata": {},
   "outputs": [],
   "source": [
    "type(data.columns)"
   ]
  },
  {
   "cell_type": "code",
   "execution_count": null,
   "metadata": {},
   "outputs": [],
   "source": [
    "#I am only interested in the data starting from 'Sorted Ascending'\n",
    "pd.read_excel('TSA_Month_YoY.xlsx', index_col=0, header = 0, usecols = \"I:Z\")\n",
    "\n"
   ]
  },
  {
   "cell_type": "code",
   "execution_count": null,
   "metadata": {},
   "outputs": [],
   "source": [
    "#You can also grab the columns by number\n",
    "pd.read_excel('TSA_Month_YoY.xlsx', index_col = 0, header = 0, usecols = [8, 9, 10, 11, 12])"
   ]
  },
  {
   "cell_type": "code",
   "execution_count": null,
   "metadata": {},
   "outputs": [],
   "source": [
    "#Let's give it a name, df\n",
    "df = pd.read_excel('TSA_Month_YoY.xlsx', index_col = 0, header = 0, usecols = [8, 9, 10, 11, 12])"
   ]
  },
  {
   "cell_type": "code",
   "execution_count": null,
   "metadata": {},
   "outputs": [],
   "source": [
    "#Let's display df\n",
    "df"
   ]
  },
  {
   "cell_type": "code",
   "execution_count": null,
   "metadata": {},
   "outputs": [],
   "source": [
    "#Let's access columns in df as we did for the dictionary. \n",
    "df[2019]"
   ]
  },
  {
   "cell_type": "code",
   "execution_count": null,
   "metadata": {},
   "outputs": [],
   "source": [
    "df[2020]"
   ]
  },
  {
   "cell_type": "code",
   "execution_count": null,
   "metadata": {},
   "outputs": [],
   "source": [
    "df[2021]"
   ]
  },
  {
   "cell_type": "code",
   "execution_count": null,
   "metadata": {},
   "outputs": [],
   "source": [
    "#We can also access multiple columns\n",
    "df[[2019, 2020]]"
   ]
  },
  {
   "cell_type": "code",
   "execution_count": null,
   "metadata": {},
   "outputs": [],
   "source": [
    "#Above we saw how to access columns. Let's now see how do we access rows. We can do that with loc and iloc (integer location).\n",
    "#Returns a series with the values in the first row:\n",
    "df.iloc[0]\n"
   ]
  },
  {
   "cell_type": "code",
   "execution_count": null,
   "metadata": {},
   "outputs": [],
   "source": [
    "#This is how to see multiple rows, for example first and second\n",
    "df.iloc[[0, 1]]"
   ]
  },
  {
   "cell_type": "code",
   "execution_count": null,
   "metadata": {},
   "outputs": [],
   "source": [
    "#If I only wanted to access the 2021 first two rows:\n",
    "df.iloc[[0, 1], 3]"
   ]
  },
  {
   "cell_type": "code",
   "execution_count": null,
   "metadata": {},
   "outputs": [],
   "source": [
    "#With loc we will fin labels\n",
    "df"
   ]
  },
  {
   "cell_type": "code",
   "execution_count": null,
   "metadata": {},
   "outputs": [],
   "source": [
    "#We can access data in the dataframe with loc also, which uses the labels\n",
    "df.loc[['2021-01-01', '2021-01-02']]"
   ]
  },
  {
   "cell_type": "code",
   "execution_count": null,
   "metadata": {},
   "outputs": [],
   "source": [
    "#If we want to see how many rows and columns we have we can do:\n",
    "df.shape"
   ]
  },
  {
   "cell_type": "code",
   "execution_count": null,
   "metadata": {},
   "outputs": [],
   "source": [
    "#We can count how many times a value appears in column 2019 \n",
    "df[2019].value_counts()"
   ]
  },
  {
   "cell_type": "code",
   "execution_count": null,
   "metadata": {},
   "outputs": [],
   "source": []
  },
  {
   "cell_type": "code",
   "execution_count": null,
   "metadata": {},
   "outputs": [],
   "source": [
    "#Let's try to find elements with BeautifulSoup\n",
    "import bs4\n",
    "import requests"
   ]
  },
  {
   "cell_type": "code",
   "execution_count": null,
   "metadata": {},
   "outputs": [],
   "source": [
    "res = requests.get('https://parade.com/1202599/stephanieosmanski/countries-open-to-americans-right-now/')"
   ]
  },
  {
   "cell_type": "code",
   "execution_count": null,
   "metadata": {},
   "outputs": [],
   "source": [
    "soup = bs4.BeautifulSoup(res.content, 'lxml')"
   ]
  },
  {
   "cell_type": "code",
   "execution_count": null,
   "metadata": {},
   "outputs": [],
   "source": [
    "soup.prettify"
   ]
  },
  {
   "cell_type": "code",
   "execution_count": null,
   "metadata": {},
   "outputs": [],
   "source": [
    "soup.find_all('ul')"
   ]
  },
  {
   "cell_type": "code",
   "execution_count": null,
   "metadata": {},
   "outputs": [],
   "source": [
    "soup.find_all('.s1')"
   ]
  },
  {
   "cell_type": "code",
   "execution_count": null,
   "metadata": {},
   "outputs": [],
   "source": [
    "import pandas as pd"
   ]
  },
  {
   "cell_type": "code",
   "execution_count": null,
   "metadata": {},
   "outputs": [],
   "source": [
    "data = pd.read_excel('05162021_List Of Countries.xlsx')"
   ]
  },
  {
   "cell_type": "code",
   "execution_count": null,
   "metadata": {},
   "outputs": [],
   "source": [
    "data.head()"
   ]
  },
  {
   "cell_type": "code",
   "execution_count": null,
   "metadata": {},
   "outputs": [],
   "source": [
    "country = data.groupby(\"Country\")\n",
    "['']"
   ]
  },
  {
   "cell_type": "code",
   "execution_count": null,
   "metadata": {},
   "outputs": [],
   "source": [
    "country"
   ]
  },
  {
   "cell_type": "code",
   "execution_count": null,
   "metadata": {},
   "outputs": [],
   "source": []
  }
 ],
 "metadata": {
  "kernelspec": {
   "display_name": "Python 3",
   "language": "python",
   "name": "python3"
  },
  "language_info": {
   "codemirror_mode": {
    "name": "ipython",
    "version": 3
   },
   "file_extension": ".py",
   "mimetype": "text/x-python",
   "name": "python",
   "nbconvert_exporter": "python",
   "pygments_lexer": "ipython3",
   "version": "3.8.5"
  }
 },
 "nbformat": 4,
 "nbformat_minor": 4
}
