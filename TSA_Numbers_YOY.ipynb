{
 "cells": [
  {
   "cell_type": "markdown",
   "metadata": {},
   "source": [
    "This is my second real life project after I have received my certificate on April 3 2021: YAY!\n",
    "    The task I was given is to create an easy to read 12 month rolling chart on TSA checkpoint travel numbers NOW vs YOY \n",
    "    and publish it on a weekly basis to be sent to all Directors & above. \n",
    "    Here's the [link](data:https://www.tsa.gov/coronavirus/passenger-throughput) from where you can obtain the data"
   ]
  },
  {
   "cell_type": "markdown",
   "metadata": {},
   "source": [
    "Check out basic pandas here: https://www.youtube.com/watch?v=zmdjNSmRXF4"
   ]
  },
  {
   "cell_type": "code",
   "execution_count": 1,
   "metadata": {},
   "outputs": [],
   "source": [
    "#First thing we need to do is to import pandas\n",
    "import pandas as pd"
   ]
  },
  {
   "cell_type": "code",
   "execution_count": 30,
   "metadata": {},
   "outputs": [],
   "source": [
    "#Now we can get the data from the report that we have inpd excel:\n",
    "data = pd.read_excel('TSA_Month_YoY.xlsx')"
   ]
  },
  {
   "cell_type": "code",
   "execution_count": 31,
   "metadata": {
    "scrolled": true
   },
   "outputs": [
    {
     "data": {
      "text/html": [
       "<div>\n",
       "<style scoped>\n",
       "    .dataframe tbody tr th:only-of-type {\n",
       "        vertical-align: middle;\n",
       "    }\n",
       "\n",
       "    .dataframe tbody tr th {\n",
       "        vertical-align: top;\n",
       "    }\n",
       "\n",
       "    .dataframe thead th {\n",
       "        text-align: right;\n",
       "    }\n",
       "</style>\n",
       "<table border=\"1\" class=\"dataframe\">\n",
       "  <thead>\n",
       "    <tr style=\"text-align: right;\">\n",
       "      <th></th>\n",
       "      <th>Date</th>\n",
       "      <th>Month/Day</th>\n",
       "      <th>2021 Traveler Throughput</th>\n",
       "      <th>2020 Traveler Throughput</th>\n",
       "      <th>2019 Traveler Throughput</th>\n",
       "      <th>Unnamed: 5</th>\n",
       "      <th>Unnamed: 6</th>\n",
       "      <th>Unnamed: 7</th>\n",
       "      <th>Sorted Ascending</th>\n",
       "      <th>Month</th>\n",
       "      <th>2019</th>\n",
       "      <th>2020</th>\n",
       "      <th>2021</th>\n",
       "    </tr>\n",
       "  </thead>\n",
       "  <tbody>\n",
       "    <tr>\n",
       "      <th>0</th>\n",
       "      <td>2020-12-31</td>\n",
       "      <td>2020-12-31</td>\n",
       "      <td>NaN</td>\n",
       "      <td>874406</td>\n",
       "      <td>2392331</td>\n",
       "      <td>NaN</td>\n",
       "      <td>NaN</td>\n",
       "      <td>NaN</td>\n",
       "      <td>2021-01-01</td>\n",
       "      <td>1</td>\n",
       "      <td>2126398</td>\n",
       "      <td>2311732</td>\n",
       "      <td>805990.0</td>\n",
       "    </tr>\n",
       "    <tr>\n",
       "      <th>1</th>\n",
       "      <td>2020-12-30</td>\n",
       "      <td>2020-12-30</td>\n",
       "      <td>NaN</td>\n",
       "      <td>1163696</td>\n",
       "      <td>2133253</td>\n",
       "      <td>NaN</td>\n",
       "      <td>NaN</td>\n",
       "      <td>NaN</td>\n",
       "      <td>2021-01-02</td>\n",
       "      <td>1</td>\n",
       "      <td>2345103</td>\n",
       "      <td>2178656</td>\n",
       "      <td>1192881.0</td>\n",
       "    </tr>\n",
       "    <tr>\n",
       "      <th>...</th>\n",
       "      <td>...</td>\n",
       "      <td>...</td>\n",
       "      <td>...</td>\n",
       "      <td>...</td>\n",
       "      <td>...</td>\n",
       "      <td>...</td>\n",
       "      <td>...</td>\n",
       "      <td>...</td>\n",
       "      <td>...</td>\n",
       "      <td>...</td>\n",
       "      <td>...</td>\n",
       "      <td>...</td>\n",
       "      <td>...</td>\n",
       "    </tr>\n",
       "    <tr>\n",
       "      <th>3</th>\n",
       "      <td>2020-12-28</td>\n",
       "      <td>2020-12-28</td>\n",
       "      <td>NaN</td>\n",
       "      <td>1111751</td>\n",
       "      <td>2500396</td>\n",
       "      <td>NaN</td>\n",
       "      <td>NaN</td>\n",
       "      <td>NaN</td>\n",
       "      <td>2021-01-04</td>\n",
       "      <td>1</td>\n",
       "      <td>2150571</td>\n",
       "      <td>2210542</td>\n",
       "      <td>1080346.0</td>\n",
       "    </tr>\n",
       "    <tr>\n",
       "      <th>4</th>\n",
       "      <td>2020-12-27</td>\n",
       "      <td>2020-12-27</td>\n",
       "      <td>NaN</td>\n",
       "      <td>1284599</td>\n",
       "      <td>2575985</td>\n",
       "      <td>NaN</td>\n",
       "      <td>NaN</td>\n",
       "      <td>NaN</td>\n",
       "      <td>2021-01-05</td>\n",
       "      <td>1</td>\n",
       "      <td>1975947</td>\n",
       "      <td>1806480</td>\n",
       "      <td>766594.0</td>\n",
       "    </tr>\n",
       "  </tbody>\n",
       "</table>\n",
       "<p>5 rows × 13 columns</p>\n",
       "</div>"
      ],
      "text/plain": [
       "         Date  Month/Day  2021 Traveler Throughput  2020 Traveler Throughput  \\\n",
       "0  2020-12-31 2020-12-31                       NaN                    874406   \n",
       "1  2020-12-30 2020-12-30                       NaN                   1163696   \n",
       "..        ...        ...                       ...                       ...   \n",
       "3  2020-12-28 2020-12-28                       NaN                   1111751   \n",
       "4  2020-12-27 2020-12-27                       NaN                   1284599   \n",
       "\n",
       "    2019 Traveler Throughput  Unnamed: 5  Unnamed: 6  Unnamed: 7  \\\n",
       "0                    2392331         NaN         NaN         NaN   \n",
       "1                    2133253         NaN         NaN         NaN   \n",
       "..                       ...         ...         ...         ...   \n",
       "3                    2500396         NaN         NaN         NaN   \n",
       "4                    2575985         NaN         NaN         NaN   \n",
       "\n",
       "   Sorted Ascending  Month     2019     2020       2021  \n",
       "0        2021-01-01      1  2126398  2311732   805990.0  \n",
       "1        2021-01-02      1  2345103  2178656  1192881.0  \n",
       "..              ...    ...      ...      ...        ...  \n",
       "3        2021-01-04      1  2150571  2210542  1080346.0  \n",
       "4        2021-01-05      1  1975947  1806480   766594.0  \n",
       "\n",
       "[5 rows x 13 columns]"
      ]
     },
     "execution_count": 31,
     "metadata": {},
     "output_type": "execute_result"
    }
   ],
   "source": [
    "#We can check the first few lines with:\n",
    "data.head()"
   ]
  },
  {
   "cell_type": "code",
   "execution_count": 33,
   "metadata": {},
   "outputs": [],
   "source": [
    "#To get rid of the indexes in the first column we can set the index column to be Date:\n",
    "\n",
    "data = pd.read_excel('TSA_Month_YoY.xlsx', index_col = \"Date\")\n"
   ]
  },
  {
   "cell_type": "code",
   "execution_count": 34,
   "metadata": {},
   "outputs": [
    {
     "data": {
      "text/html": [
       "<div>\n",
       "<style scoped>\n",
       "    .dataframe tbody tr th:only-of-type {\n",
       "        vertical-align: middle;\n",
       "    }\n",
       "\n",
       "    .dataframe tbody tr th {\n",
       "        vertical-align: top;\n",
       "    }\n",
       "\n",
       "    .dataframe thead th {\n",
       "        text-align: right;\n",
       "    }\n",
       "</style>\n",
       "<table border=\"1\" class=\"dataframe\">\n",
       "  <thead>\n",
       "    <tr style=\"text-align: right;\">\n",
       "      <th></th>\n",
       "      <th>Month/Day</th>\n",
       "      <th>2021 Traveler Throughput</th>\n",
       "      <th>2020 Traveler Throughput</th>\n",
       "      <th>2019 Traveler Throughput</th>\n",
       "      <th>Unnamed: 5</th>\n",
       "      <th>Unnamed: 6</th>\n",
       "      <th>Unnamed: 7</th>\n",
       "      <th>Sorted Ascending</th>\n",
       "      <th>Month</th>\n",
       "      <th>2019</th>\n",
       "      <th>2020</th>\n",
       "      <th>2021</th>\n",
       "    </tr>\n",
       "    <tr>\n",
       "      <th>Date</th>\n",
       "      <th></th>\n",
       "      <th></th>\n",
       "      <th></th>\n",
       "      <th></th>\n",
       "      <th></th>\n",
       "      <th></th>\n",
       "      <th></th>\n",
       "      <th></th>\n",
       "      <th></th>\n",
       "      <th></th>\n",
       "      <th></th>\n",
       "      <th></th>\n",
       "    </tr>\n",
       "  </thead>\n",
       "  <tbody>\n",
       "    <tr>\n",
       "      <th>2020-12-31</th>\n",
       "      <td>2020-12-31</td>\n",
       "      <td>NaN</td>\n",
       "      <td>874406</td>\n",
       "      <td>2392331</td>\n",
       "      <td>NaN</td>\n",
       "      <td>NaN</td>\n",
       "      <td>NaN</td>\n",
       "      <td>2021-01-01</td>\n",
       "      <td>1</td>\n",
       "      <td>2126398</td>\n",
       "      <td>2311732</td>\n",
       "      <td>805990.0</td>\n",
       "    </tr>\n",
       "    <tr>\n",
       "      <th>2020-12-30</th>\n",
       "      <td>2020-12-30</td>\n",
       "      <td>NaN</td>\n",
       "      <td>1163696</td>\n",
       "      <td>2133253</td>\n",
       "      <td>NaN</td>\n",
       "      <td>NaN</td>\n",
       "      <td>NaN</td>\n",
       "      <td>2021-01-02</td>\n",
       "      <td>1</td>\n",
       "      <td>2345103</td>\n",
       "      <td>2178656</td>\n",
       "      <td>1192881.0</td>\n",
       "    </tr>\n",
       "    <tr>\n",
       "      <th>...</th>\n",
       "      <td>...</td>\n",
       "      <td>...</td>\n",
       "      <td>...</td>\n",
       "      <td>...</td>\n",
       "      <td>...</td>\n",
       "      <td>...</td>\n",
       "      <td>...</td>\n",
       "      <td>...</td>\n",
       "      <td>...</td>\n",
       "      <td>...</td>\n",
       "      <td>...</td>\n",
       "      <td>...</td>\n",
       "    </tr>\n",
       "    <tr>\n",
       "      <th>2021-01-02</th>\n",
       "      <td>2021-01-02</td>\n",
       "      <td>1192881.0</td>\n",
       "      <td>2178656</td>\n",
       "      <td>2345103</td>\n",
       "      <td>NaN</td>\n",
       "      <td>NaN</td>\n",
       "      <td>NaN</td>\n",
       "      <td>2021-12-30</td>\n",
       "      <td>12</td>\n",
       "      <td>2133253</td>\n",
       "      <td>1163696</td>\n",
       "      <td>NaN</td>\n",
       "    </tr>\n",
       "    <tr>\n",
       "      <th>2021-01-01</th>\n",
       "      <td>2021-01-01</td>\n",
       "      <td>805990.0</td>\n",
       "      <td>2311732</td>\n",
       "      <td>2126398</td>\n",
       "      <td>NaN</td>\n",
       "      <td>NaN</td>\n",
       "      <td>NaN</td>\n",
       "      <td>2021-12-31</td>\n",
       "      <td>12</td>\n",
       "      <td>2392331</td>\n",
       "      <td>874406</td>\n",
       "      <td>NaN</td>\n",
       "    </tr>\n",
       "  </tbody>\n",
       "</table>\n",
       "<p>365 rows × 12 columns</p>\n",
       "</div>"
      ],
      "text/plain": [
       "            Month/Day  2021 Traveler Throughput  2020 Traveler Throughput  \\\n",
       "Date                                                                        \n",
       "2020-12-31 2020-12-31                       NaN                    874406   \n",
       "2020-12-30 2020-12-30                       NaN                   1163696   \n",
       "...               ...                       ...                       ...   \n",
       "2021-01-02 2021-01-02                 1192881.0                   2178656   \n",
       "2021-01-01 2021-01-01                  805990.0                   2311732   \n",
       "\n",
       "            2019 Traveler Throughput  Unnamed: 5  Unnamed: 6  Unnamed: 7  \\\n",
       "Date                                                                       \n",
       "2020-12-31                   2392331         NaN         NaN         NaN   \n",
       "2020-12-30                   2133253         NaN         NaN         NaN   \n",
       "...                              ...         ...         ...         ...   \n",
       "2021-01-02                   2345103         NaN         NaN         NaN   \n",
       "2021-01-01                   2126398         NaN         NaN         NaN   \n",
       "\n",
       "           Sorted Ascending  Month     2019     2020       2021  \n",
       "Date                                                             \n",
       "2020-12-31       2021-01-01      1  2126398  2311732   805990.0  \n",
       "2020-12-30       2021-01-02      1  2345103  2178656  1192881.0  \n",
       "...                     ...    ...      ...      ...        ...  \n",
       "2021-01-02       2021-12-30     12  2133253  1163696        NaN  \n",
       "2021-01-01       2021-12-31     12  2392331   874406        NaN  \n",
       "\n",
       "[365 rows x 12 columns]"
      ]
     },
     "execution_count": 34,
     "metadata": {},
     "output_type": "execute_result"
    }
   ],
   "source": [
    "data"
   ]
  },
  {
   "cell_type": "code",
   "execution_count": 35,
   "metadata": {},
   "outputs": [],
   "source": [
    "#pd.set_option('Display.max_columns', 4)\n",
    "pd.set_option('Display.max_rows', 4)"
   ]
  },
  {
   "cell_type": "code",
   "execution_count": 36,
   "metadata": {},
   "outputs": [
    {
     "data": {
      "text/html": [
       "<div>\n",
       "<style scoped>\n",
       "    .dataframe tbody tr th:only-of-type {\n",
       "        vertical-align: middle;\n",
       "    }\n",
       "\n",
       "    .dataframe tbody tr th {\n",
       "        vertical-align: top;\n",
       "    }\n",
       "\n",
       "    .dataframe thead th {\n",
       "        text-align: right;\n",
       "    }\n",
       "</style>\n",
       "<table border=\"1\" class=\"dataframe\">\n",
       "  <thead>\n",
       "    <tr style=\"text-align: right;\">\n",
       "      <th></th>\n",
       "      <th>Month/Day</th>\n",
       "      <th>2021 Traveler Throughput</th>\n",
       "      <th>2020 Traveler Throughput</th>\n",
       "      <th>2019 Traveler Throughput</th>\n",
       "      <th>Unnamed: 5</th>\n",
       "      <th>Unnamed: 6</th>\n",
       "      <th>Unnamed: 7</th>\n",
       "      <th>Sorted Ascending</th>\n",
       "      <th>Month</th>\n",
       "      <th>2019</th>\n",
       "      <th>2020</th>\n",
       "      <th>2021</th>\n",
       "    </tr>\n",
       "    <tr>\n",
       "      <th>Date</th>\n",
       "      <th></th>\n",
       "      <th></th>\n",
       "      <th></th>\n",
       "      <th></th>\n",
       "      <th></th>\n",
       "      <th></th>\n",
       "      <th></th>\n",
       "      <th></th>\n",
       "      <th></th>\n",
       "      <th></th>\n",
       "      <th></th>\n",
       "      <th></th>\n",
       "    </tr>\n",
       "  </thead>\n",
       "  <tbody>\n",
       "    <tr>\n",
       "      <th>2020-12-31</th>\n",
       "      <td>2020-12-31</td>\n",
       "      <td>NaN</td>\n",
       "      <td>874406</td>\n",
       "      <td>2392331</td>\n",
       "      <td>NaN</td>\n",
       "      <td>NaN</td>\n",
       "      <td>NaN</td>\n",
       "      <td>2021-01-01</td>\n",
       "      <td>1</td>\n",
       "      <td>2126398</td>\n",
       "      <td>2311732</td>\n",
       "      <td>805990.0</td>\n",
       "    </tr>\n",
       "    <tr>\n",
       "      <th>2020-12-30</th>\n",
       "      <td>2020-12-30</td>\n",
       "      <td>NaN</td>\n",
       "      <td>1163696</td>\n",
       "      <td>2133253</td>\n",
       "      <td>NaN</td>\n",
       "      <td>NaN</td>\n",
       "      <td>NaN</td>\n",
       "      <td>2021-01-02</td>\n",
       "      <td>1</td>\n",
       "      <td>2345103</td>\n",
       "      <td>2178656</td>\n",
       "      <td>1192881.0</td>\n",
       "    </tr>\n",
       "    <tr>\n",
       "      <th>...</th>\n",
       "      <td>...</td>\n",
       "      <td>...</td>\n",
       "      <td>...</td>\n",
       "      <td>...</td>\n",
       "      <td>...</td>\n",
       "      <td>...</td>\n",
       "      <td>...</td>\n",
       "      <td>...</td>\n",
       "      <td>...</td>\n",
       "      <td>...</td>\n",
       "      <td>...</td>\n",
       "      <td>...</td>\n",
       "    </tr>\n",
       "    <tr>\n",
       "      <th>2020-12-28</th>\n",
       "      <td>2020-12-28</td>\n",
       "      <td>NaN</td>\n",
       "      <td>1111751</td>\n",
       "      <td>2500396</td>\n",
       "      <td>NaN</td>\n",
       "      <td>NaN</td>\n",
       "      <td>NaN</td>\n",
       "      <td>2021-01-04</td>\n",
       "      <td>1</td>\n",
       "      <td>2150571</td>\n",
       "      <td>2210542</td>\n",
       "      <td>1080346.0</td>\n",
       "    </tr>\n",
       "    <tr>\n",
       "      <th>2020-12-27</th>\n",
       "      <td>2020-12-27</td>\n",
       "      <td>NaN</td>\n",
       "      <td>1284599</td>\n",
       "      <td>2575985</td>\n",
       "      <td>NaN</td>\n",
       "      <td>NaN</td>\n",
       "      <td>NaN</td>\n",
       "      <td>2021-01-05</td>\n",
       "      <td>1</td>\n",
       "      <td>1975947</td>\n",
       "      <td>1806480</td>\n",
       "      <td>766594.0</td>\n",
       "    </tr>\n",
       "  </tbody>\n",
       "</table>\n",
       "<p>5 rows × 12 columns</p>\n",
       "</div>"
      ],
      "text/plain": [
       "            Month/Day  2021 Traveler Throughput  2020 Traveler Throughput  \\\n",
       "Date                                                                        \n",
       "2020-12-31 2020-12-31                       NaN                    874406   \n",
       "2020-12-30 2020-12-30                       NaN                   1163696   \n",
       "...               ...                       ...                       ...   \n",
       "2020-12-28 2020-12-28                       NaN                   1111751   \n",
       "2020-12-27 2020-12-27                       NaN                   1284599   \n",
       "\n",
       "            2019 Traveler Throughput  Unnamed: 5  Unnamed: 6  Unnamed: 7  \\\n",
       "Date                                                                       \n",
       "2020-12-31                   2392331         NaN         NaN         NaN   \n",
       "2020-12-30                   2133253         NaN         NaN         NaN   \n",
       "...                              ...         ...         ...         ...   \n",
       "2020-12-28                   2500396         NaN         NaN         NaN   \n",
       "2020-12-27                   2575985         NaN         NaN         NaN   \n",
       "\n",
       "           Sorted Ascending  Month     2019     2020       2021  \n",
       "Date                                                             \n",
       "2020-12-31       2021-01-01      1  2126398  2311732   805990.0  \n",
       "2020-12-30       2021-01-02      1  2345103  2178656  1192881.0  \n",
       "...                     ...    ...      ...      ...        ...  \n",
       "2020-12-28       2021-01-04      1  2150571  2210542  1080346.0  \n",
       "2020-12-27       2021-01-05      1  1975947  1806480   766594.0  \n",
       "\n",
       "[5 rows x 12 columns]"
      ]
     },
     "execution_count": 36,
     "metadata": {},
     "output_type": "execute_result"
    }
   ],
   "source": [
    "data.head()"
   ]
  },
  {
   "cell_type": "code",
   "execution_count": 8,
   "metadata": {},
   "outputs": [],
   "source": [
    "# The dataframe can be converted into a dictionary\n",
    "d = {\n",
    "    '2019': [216398, 2345103],\n",
    "    '2020': [2311732, 217856]\n",
    "}"
   ]
  },
  {
   "cell_type": "code",
   "execution_count": 9,
   "metadata": {},
   "outputs": [
    {
     "data": {
      "text/plain": [
       "{'2019': [216398, 2345103], '2020': [2311732, 217856]}"
      ]
     },
     "execution_count": 9,
     "metadata": {},
     "output_type": "execute_result"
    }
   ],
   "source": [
    "d"
   ]
  },
  {
   "cell_type": "code",
   "execution_count": 10,
   "metadata": {},
   "outputs": [
    {
     "data": {
      "text/plain": [
       "[216398, 2345103]"
      ]
     },
     "execution_count": 10,
     "metadata": {},
     "output_type": "execute_result"
    }
   ],
   "source": [
    "#The advantage is that we can access it's keys, so the trick is to set up the columns titles as keys and the values as lists\n",
    "d ['2019']"
   ]
  },
  {
   "cell_type": "code",
   "execution_count": 26,
   "metadata": {},
   "outputs": [
    {
     "data": {
      "text/plain": [
       "Index([               'Month/Day', '2021 Traveler Throughput',\n",
       "       '2020 Traveler Throughput', '2019 Traveler Throughput',\n",
       "                     'Unnamed: 5',               'Unnamed: 6',\n",
       "                     'Unnamed: 7',         'Sorted Ascending',\n",
       "                          'Month',                       2019,\n",
       "                             2020,                       2021],\n",
       "      dtype='object')"
      ]
     },
     "execution_count": 26,
     "metadata": {},
     "output_type": "execute_result"
    }
   ],
   "source": [
    "#We can check out the titles of all columns doing:\n",
    "data.columns"
   ]
  },
  {
   "cell_type": "code",
   "execution_count": 27,
   "metadata": {},
   "outputs": [
    {
     "data": {
      "text/plain": [
       "pandas.core.indexes.base.Index"
      ]
     },
     "execution_count": 27,
     "metadata": {},
     "output_type": "execute_result"
    }
   ],
   "source": [
    "type(data.columns)"
   ]
  },
  {
   "cell_type": "code",
   "execution_count": 40,
   "metadata": {},
   "outputs": [
    {
     "data": {
      "text/html": [
       "<div>\n",
       "<style scoped>\n",
       "    .dataframe tbody tr th:only-of-type {\n",
       "        vertical-align: middle;\n",
       "    }\n",
       "\n",
       "    .dataframe tbody tr th {\n",
       "        vertical-align: top;\n",
       "    }\n",
       "\n",
       "    .dataframe thead th {\n",
       "        text-align: right;\n",
       "    }\n",
       "</style>\n",
       "<table border=\"1\" class=\"dataframe\">\n",
       "  <thead>\n",
       "    <tr style=\"text-align: right;\">\n",
       "      <th></th>\n",
       "      <th>Month</th>\n",
       "      <th>2019</th>\n",
       "      <th>2020</th>\n",
       "      <th>2021</th>\n",
       "    </tr>\n",
       "    <tr>\n",
       "      <th>Sorted Ascending</th>\n",
       "      <th></th>\n",
       "      <th></th>\n",
       "      <th></th>\n",
       "      <th></th>\n",
       "    </tr>\n",
       "  </thead>\n",
       "  <tbody>\n",
       "    <tr>\n",
       "      <th>2021-01-01</th>\n",
       "      <td>1</td>\n",
       "      <td>2126398</td>\n",
       "      <td>2311732</td>\n",
       "      <td>805990.0</td>\n",
       "    </tr>\n",
       "    <tr>\n",
       "      <th>2021-01-02</th>\n",
       "      <td>1</td>\n",
       "      <td>2345103</td>\n",
       "      <td>2178656</td>\n",
       "      <td>1192881.0</td>\n",
       "    </tr>\n",
       "    <tr>\n",
       "      <th>...</th>\n",
       "      <td>...</td>\n",
       "      <td>...</td>\n",
       "      <td>...</td>\n",
       "      <td>...</td>\n",
       "    </tr>\n",
       "    <tr>\n",
       "      <th>2021-12-30</th>\n",
       "      <td>12</td>\n",
       "      <td>2133253</td>\n",
       "      <td>1163696</td>\n",
       "      <td>NaN</td>\n",
       "    </tr>\n",
       "    <tr>\n",
       "      <th>2021-12-31</th>\n",
       "      <td>12</td>\n",
       "      <td>2392331</td>\n",
       "      <td>874406</td>\n",
       "      <td>NaN</td>\n",
       "    </tr>\n",
       "  </tbody>\n",
       "</table>\n",
       "<p>365 rows × 4 columns</p>\n",
       "</div>"
      ],
      "text/plain": [
       "                  Month     2019     2020       2021\n",
       "Sorted Ascending                                    \n",
       "2021-01-01            1  2126398  2311732   805990.0\n",
       "2021-01-02            1  2345103  2178656  1192881.0\n",
       "...                 ...      ...      ...        ...\n",
       "2021-12-30           12  2133253  1163696        NaN\n",
       "2021-12-31           12  2392331   874406        NaN\n",
       "\n",
       "[365 rows x 4 columns]"
      ]
     },
     "execution_count": 40,
     "metadata": {},
     "output_type": "execute_result"
    }
   ],
   "source": [
    "#I am only interested in the data starting from 'Sorted Ascending'\n",
    "pd.read_excel('TSA_Month_YoY.xlsx', index_col=0, header = 0, usecols = \"I:Z\")\n",
    "\n"
   ]
  },
  {
   "cell_type": "code",
   "execution_count": null,
   "metadata": {},
   "outputs": [],
   "source": [
    "#You can also grab the columns by number\n",
    "pd.read_excel('TSA_Month_YoY.xlsx', index_col = 0, header = 0, usecols = [0,])"
   ]
  },
  {
   "cell_type": "code",
   "execution_count": 22,
   "metadata": {},
   "outputs": [
    {
     "ename": "KeyError",
     "evalue": "('2019', (2311732, 217856))",
     "output_type": "error",
     "traceback": [
      "\u001b[1;31m---------------------------------------------------------------------------\u001b[0m",
      "\u001b[1;31mKeyError\u001b[0m                                  Traceback (most recent call last)",
      "\u001b[1;32m<ipython-input-22-92f91fc322a6>\u001b[0m in \u001b[0;36m<module>\u001b[1;34m\u001b[0m\n\u001b[1;32m----> 1\u001b[1;33m \u001b[0md\u001b[0m\u001b[1;33m[\u001b[0m\u001b[1;34m'2019'\u001b[0m\u001b[1;33m,\u001b[0m \u001b[0mtuple\u001b[0m\u001b[1;33m(\u001b[0m\u001b[0md\u001b[0m\u001b[1;33m[\u001b[0m\u001b[1;34m'2020'\u001b[0m\u001b[1;33m]\u001b[0m\u001b[1;33m)\u001b[0m\u001b[1;33m]\u001b[0m\u001b[1;33m\u001b[0m\u001b[1;33m\u001b[0m\u001b[0m\n\u001b[0m",
      "\u001b[1;31mKeyError\u001b[0m: ('2019', (2311732, 217856))"
     ]
    }
   ],
   "source": [
    "d['2019', tuple(d['2020'])]"
   ]
  },
  {
   "cell_type": "code",
   "execution_count": null,
   "metadata": {},
   "outputs": [],
   "source": [
    "#Let's try to find elements with BeautifulSoup\n",
    "import bs4\n",
    "import requests"
   ]
  },
  {
   "cell_type": "code",
   "execution_count": null,
   "metadata": {},
   "outputs": [],
   "source": [
    "res = requests.get('https://parade.com/1202599/stephanieosmanski/countries-open-to-americans-right-now/')"
   ]
  },
  {
   "cell_type": "code",
   "execution_count": null,
   "metadata": {},
   "outputs": [],
   "source": [
    "soup = bs4.BeautifulSoup(res.content, 'lxml')"
   ]
  },
  {
   "cell_type": "code",
   "execution_count": null,
   "metadata": {},
   "outputs": [],
   "source": [
    "soup.prettify"
   ]
  },
  {
   "cell_type": "code",
   "execution_count": null,
   "metadata": {},
   "outputs": [],
   "source": [
    "soup.find_all('ul')"
   ]
  },
  {
   "cell_type": "code",
   "execution_count": null,
   "metadata": {},
   "outputs": [],
   "source": [
    "soup.find_all('.s1')"
   ]
  },
  {
   "cell_type": "code",
   "execution_count": null,
   "metadata": {},
   "outputs": [],
   "source": [
    "import pandas as pd"
   ]
  },
  {
   "cell_type": "code",
   "execution_count": null,
   "metadata": {},
   "outputs": [],
   "source": [
    "data = pd.read_excel('05162021_List Of Countries.xlsx')"
   ]
  },
  {
   "cell_type": "code",
   "execution_count": null,
   "metadata": {},
   "outputs": [],
   "source": [
    "data.head()"
   ]
  },
  {
   "cell_type": "code",
   "execution_count": null,
   "metadata": {},
   "outputs": [],
   "source": [
    "country = data.groupby(\"Country\")\n",
    "['']"
   ]
  },
  {
   "cell_type": "code",
   "execution_count": null,
   "metadata": {},
   "outputs": [],
   "source": [
    "country"
   ]
  },
  {
   "cell_type": "code",
   "execution_count": null,
   "metadata": {},
   "outputs": [],
   "source": []
  }
 ],
 "metadata": {
  "kernelspec": {
   "display_name": "Python 3",
   "language": "python",
   "name": "python3"
  },
  "language_info": {
   "codemirror_mode": {
    "name": "ipython",
    "version": 3
   },
   "file_extension": ".py",
   "mimetype": "text/x-python",
   "name": "python",
   "nbconvert_exporter": "python",
   "pygments_lexer": "ipython3",
   "version": "3.8.5"
  }
 },
 "nbformat": 4,
 "nbformat_minor": 4
}
