{
 "cells": [
  {
   "cell_type": "markdown",
   "metadata": {},
   "source": [
    "We made it to our first milestone project! Build a Tic Tac Toe interactive game.\n"
   ]
  },
  {
   "cell_type": "markdown",
   "metadata": {},
   "source": [
    "Warm Up Exercises.\n",
    "Accepting User input"
   ]
  },
  {
   "cell_type": "code",
   "execution_count": 3,
   "metadata": {},
   "outputs": [
    {
     "name": "stdout",
     "output_type": "stream",
     "text": [
      "Please enter a value: 2\n"
     ]
    }
   ],
   "source": [
    "result = input(\"Please enter a value: \")"
   ]
  },
  {
   "cell_type": "code",
   "execution_count": 4,
   "metadata": {},
   "outputs": [
    {
     "data": {
      "text/plain": [
       "'2'"
      ]
     },
     "execution_count": 4,
     "metadata": {},
     "output_type": "execute_result"
    }
   ],
   "source": [
    "result"
   ]
  },
  {
   "cell_type": "markdown",
   "metadata": {},
   "source": [
    "Checking for the type with type() and cnverting into different type:"
   ]
  },
  {
   "cell_type": "code",
   "execution_count": 14,
   "metadata": {},
   "outputs": [],
   "source": [
    "result_int = int(result)"
   ]
  },
  {
   "cell_type": "code",
   "execution_count": 15,
   "metadata": {},
   "outputs": [
    {
     "data": {
      "text/plain": [
       "int"
      ]
     },
     "execution_count": 15,
     "metadata": {},
     "output_type": "execute_result"
    }
   ],
   "source": [
    "type(result_int)"
   ]
  },
  {
   "cell_type": "code",
   "execution_count": 16,
   "metadata": {},
   "outputs": [
    {
     "data": {
      "text/plain": [
       "float"
      ]
     },
     "execution_count": 16,
     "metadata": {},
     "output_type": "execute_result"
    }
   ],
   "source": [
    "type(2.3)"
   ]
  },
  {
   "cell_type": "code",
   "execution_count": 17,
   "metadata": {},
   "outputs": [
    {
     "data": {
      "text/plain": [
       "2.0"
      ]
     },
     "execution_count": 17,
     "metadata": {},
     "output_type": "execute_result"
    }
   ],
   "source": [
    "float(2)"
   ]
  },
  {
   "cell_type": "code",
   "execution_count": 12,
   "metadata": {},
   "outputs": [
    {
     "name": "stdout",
     "output_type": "stream",
     "text": [
      "Choose position: 1\n"
     ]
    }
   ],
   "source": [
    "position_index = int(input(\"Choose position: \"))"
   ]
  },
  {
   "cell_type": "code",
   "execution_count": 13,
   "metadata": {},
   "outputs": [
    {
     "data": {
      "text/plain": [
       "int"
      ]
     },
     "execution_count": 13,
     "metadata": {},
     "output_type": "execute_result"
    }
   ],
   "source": [
    "type(position_index)"
   ]
  },
  {
   "cell_type": "code",
   "execution_count": null,
   "metadata": {},
   "outputs": [],
   "source": [
    "What if the player inputs two versus 2? Then you need to validate the user input. \n",
    "Anothe important thing to keep in mind. Note the * in the next cell. That means that the program is running \n",
    "and waiting for the user to enter a number. If you keep going in  your notebook and forgot about this \n",
    "you'll notice that, if you try to perform some other operation, nothing happens until you go back and \n",
    "enter that number. Notice the next cells also display the star telling you that something is running and you have to take care \n",
    "of that first"
   ]
  },
  {
   "cell_type": "code",
   "execution_count": null,
   "metadata": {},
   "outputs": [],
   "source": [
    "result = input('Enter a number: ')"
   ]
  },
  {
   "cell_type": "code",
   "execution_count": null,
   "metadata": {},
   "outputs": [],
   "source": [
    "3 + 5"
   ]
  },
  {
   "cell_type": "code",
   "execution_count": null,
   "metadata": {},
   "outputs": [],
   "source": [
    "sum([3,5])"
   ]
  },
  {
   "cell_type": "markdown",
   "metadata": {},
   "source": [
    "The next thing to keep in mind is that sometimes we run the same cell by mistake "
   ]
  },
  {
   "cell_type": "code",
   "execution_count": null,
   "metadata": {},
   "outputs": [],
   "source": [
    "result = input('Enter a number')"
   ]
  },
  {
   "cell_type": "markdown",
   "metadata": {},
   "source": [
    "Nothing happens. Best way to fix this is to restart the kernel"
   ]
  },
  {
   "cell_type": "code",
   "execution_count": 1,
   "metadata": {},
   "outputs": [
    {
     "name": "stdout",
     "output_type": "stream",
     "text": [
      "Enter a number: 2\n"
     ]
    }
   ],
   "source": [
    "result = input('Enter a number: ')"
   ]
  },
  {
   "cell_type": "markdown",
   "metadata": {},
   "source": [
    "Now let's go back to validate the user input. Say the user enters two instead of 2. I will get an error."
   ]
  },
  {
   "cell_type": "code",
   "execution_count": 4,
   "metadata": {},
   "outputs": [
    {
     "name": "stdout",
     "output_type": "stream",
     "text": [
      "Chose an index position: two\n"
     ]
    },
    {
     "ename": "ValueError",
     "evalue": "invalid literal for int() with base 10: 'two'",
     "output_type": "error",
     "traceback": [
      "\u001b[1;31m---------------------------------------------------------------------------\u001b[0m",
      "\u001b[1;31mValueError\u001b[0m                                Traceback (most recent call last)",
      "\u001b[1;32m<ipython-input-4-38091cee83ac>\u001b[0m in \u001b[0;36m<module>\u001b[1;34m\u001b[0m\n\u001b[1;32m----> 1\u001b[1;33m \u001b[0mposition_index\u001b[0m \u001b[1;33m=\u001b[0m \u001b[0mint\u001b[0m\u001b[1;33m(\u001b[0m\u001b[0minput\u001b[0m\u001b[1;33m(\u001b[0m\u001b[1;34m\"Chose an index position: \"\u001b[0m\u001b[1;33m)\u001b[0m\u001b[1;33m)\u001b[0m\u001b[1;33m\u001b[0m\u001b[1;33m\u001b[0m\u001b[0m\n\u001b[0m",
      "\u001b[1;31mValueError\u001b[0m: invalid literal for int() with base 10: 'two'"
     ]
    }
   ],
   "source": [
    "position_index = int(input(\"Chose an index position: \"))"
   ]
  },
  {
   "cell_type": "markdown",
   "metadata": {},
   "source": [
    "What we can do we can set up a while loop to keep asking the user for the correct input value"
   ]
  },
  {
   "cell_type": "code",
   "execution_count": 5,
   "metadata": {},
   "outputs": [],
   "source": [
    "def user_choice():\n",
    "    \n",
    "    choice = input('Please enter a number (0-10: )')\n",
    "    return int(choice)"
   ]
  },
  {
   "cell_type": "code",
   "execution_count": 6,
   "metadata": {},
   "outputs": [
    {
     "name": "stdout",
     "output_type": "stream",
     "text": [
      "Please enter a number (0-10: )nine\n"
     ]
    },
    {
     "ename": "ValueError",
     "evalue": "invalid literal for int() with base 10: 'nine'",
     "output_type": "error",
     "traceback": [
      "\u001b[1;31m---------------------------------------------------------------------------\u001b[0m",
      "\u001b[1;31mValueError\u001b[0m                                Traceback (most recent call last)",
      "\u001b[1;32m<ipython-input-6-ef2a079da9a9>\u001b[0m in \u001b[0;36m<module>\u001b[1;34m\u001b[0m\n\u001b[1;32m----> 1\u001b[1;33m \u001b[0muser_choice\u001b[0m\u001b[1;33m(\u001b[0m\u001b[1;33m)\u001b[0m\u001b[1;33m\u001b[0m\u001b[1;33m\u001b[0m\u001b[0m\n\u001b[0m",
      "\u001b[1;32m<ipython-input-5-556dd40f9100>\u001b[0m in \u001b[0;36muser_choice\u001b[1;34m()\u001b[0m\n\u001b[0;32m      2\u001b[0m \u001b[1;33m\u001b[0m\u001b[0m\n\u001b[0;32m      3\u001b[0m     \u001b[0mchoice\u001b[0m \u001b[1;33m=\u001b[0m \u001b[0minput\u001b[0m\u001b[1;33m(\u001b[0m\u001b[1;34m'Please enter a number (0-10: )'\u001b[0m\u001b[1;33m)\u001b[0m\u001b[1;33m\u001b[0m\u001b[1;33m\u001b[0m\u001b[0m\n\u001b[1;32m----> 4\u001b[1;33m     \u001b[1;32mreturn\u001b[0m \u001b[0mint\u001b[0m\u001b[1;33m(\u001b[0m\u001b[0mchoice\u001b[0m\u001b[1;33m)\u001b[0m\u001b[1;33m\u001b[0m\u001b[1;33m\u001b[0m\u001b[0m\n\u001b[0m",
      "\u001b[1;31mValueError\u001b[0m: invalid literal for int() with base 10: 'nine'"
     ]
    }
   ],
   "source": [
    "user_choice()"
   ]
  },
  {
   "cell_type": "code",
   "execution_count": 7,
   "metadata": {},
   "outputs": [
    {
     "name": "stdout",
     "output_type": "stream",
     "text": [
      "Please enter a number (0-10: )100\n"
     ]
    },
    {
     "data": {
      "text/plain": [
       "100"
      ]
     },
     "execution_count": 7,
     "metadata": {},
     "output_type": "execute_result"
    }
   ],
   "source": [
    "user_choice()"
   ]
  },
  {
   "cell_type": "markdown",
   "metadata": {},
   "source": [
    "Note now I did enter an integer so Python is happy about the data type. However 100 is out of my range. \n",
    "To exit this cunandrum we will use the isdigit() method. There are several other way to do this, for today we learn the \n",
    "isdigit(). This method checks for digits"
   ]
  },
  {
   "cell_type": "code",
   "execution_count": 8,
   "metadata": {},
   "outputs": [],
   "source": [
    "def user_choice():\n",
    "    \n",
    "    choice = input('Please enter a number (0-10: )')\n",
    "    return int(choice)"
   ]
  },
  {
   "cell_type": "code",
   "execution_count": 9,
   "metadata": {},
   "outputs": [],
   "source": [
    "some_value = '100'"
   ]
  },
  {
   "cell_type": "code",
   "execution_count": 10,
   "metadata": {},
   "outputs": [
    {
     "data": {
      "text/plain": [
       "True"
      ]
     },
     "execution_count": 10,
     "metadata": {},
     "output_type": "execute_result"
    }
   ],
   "source": [
    "some_value.isdigit()"
   ]
  },
  {
   "cell_type": "markdown",
   "metadata": {},
   "source": [
    "Let's start with a the wrong choice"
   ]
  },
  {
   "cell_type": "code",
   "execution_count": 11,
   "metadata": {},
   "outputs": [],
   "source": [
    "def user_choice():\n",
    "    \n",
    "    choice = 'WRONG'\n",
    "    while choice.isdigit() == False:\n",
    "    #keep asking until we get the right input\n",
    "        choice = input('Please enter a number (0-10: )')\n",
    "    return int(choice)"
   ]
  },
  {
   "cell_type": "code",
   "execution_count": 12,
   "metadata": {},
   "outputs": [
    {
     "name": "stdout",
     "output_type": "stream",
     "text": [
      "Please enter a number (0-10: )two\n",
      "Please enter a number (0-10: )'string'\n",
      "Please enter a number (0-10: )3\n"
     ]
    },
    {
     "data": {
      "text/plain": [
       "3"
      ]
     },
     "execution_count": 12,
     "metadata": {},
     "output_type": "execute_result"
    }
   ],
   "source": [
    "user_choice()"
   ]
  },
  {
   "cell_type": "markdown",
   "metadata": {},
   "source": [
    "I keep entering the wrong input and it will keep asking me until I enter an acceptable input. To make it more user friendly we can add a message:"
   ]
  },
  {
   "cell_type": "code",
   "execution_count": 14,
   "metadata": {},
   "outputs": [],
   "source": [
    "def user_choice():\n",
    "    \n",
    "    choice = 'WRONG'\n",
    "    while choice.isdigit() == False:\n",
    "    #keep asking until we get the right input\n",
    "        choice = input('Please enter a number (0-10: )')\n",
    "        if choice.isdigit() == False:\n",
    "            print(\"Sorry this is not a digit!\")\n",
    "    return int(choice)"
   ]
  },
  {
   "cell_type": "code",
   "execution_count": 15,
   "metadata": {},
   "outputs": [
    {
     "name": "stdout",
     "output_type": "stream",
     "text": [
      "Please enter a number (0-10: )Bello!\n",
      "Sorry this is not a digit!\n",
      "Please enter a number (0-10: )ok I'm gonna enter a digit now then\n",
      "Sorry this is not a digit!\n",
      "Please enter a number (0-10: )there we go...\n",
      "Sorry this is not a digit!\n",
      "Please enter a number (0-10: )4\n"
     ]
    },
    {
     "data": {
      "text/plain": [
       "4"
      ]
     },
     "execution_count": 15,
     "metadata": {},
     "output_type": "execute_result"
    }
   ],
   "source": [
    "user_choice()"
   ]
  },
  {
   "cell_type": "markdown",
   "metadata": {},
   "source": [
    "One last thing to check is that the value is acceptable, meaning it satisfy a condition I want it to satisfy"
   ]
  },
  {
   "cell_type": "code",
   "execution_count": 16,
   "metadata": {},
   "outputs": [],
   "source": [
    "result = 'WRONG VALUE'"
   ]
  },
  {
   "cell_type": "code",
   "execution_count": 17,
   "metadata": {},
   "outputs": [],
   "source": [
    "acceptable_values = [1, 2, 3, 4, 5]"
   ]
  },
  {
   "cell_type": "code",
   "execution_count": 18,
   "metadata": {},
   "outputs": [
    {
     "data": {
      "text/plain": [
       "False"
      ]
     },
     "execution_count": 18,
     "metadata": {},
     "output_type": "execute_result"
    }
   ],
   "source": [
    "result in acceptable_values"
   ]
  },
  {
   "cell_type": "code",
   "execution_count": 19,
   "metadata": {},
   "outputs": [
    {
     "data": {
      "text/plain": [
       "True"
      ]
     },
     "execution_count": 19,
     "metadata": {},
     "output_type": "execute_result"
    }
   ],
   "source": [
    "result not in acceptable_values"
   ]
  },
  {
   "cell_type": "code",
   "execution_count": 21,
   "metadata": {},
   "outputs": [],
   "source": [
    "def user_choice():\n",
    "    #VARIABLES\n",
    "    \n",
    "    #Initial\n",
    "    choice = 'WRONG'\n",
    "    acceptable_range = range(0,10)\n",
    "    within_range = False\n",
    "    \n",
    "    #TWO CONDITIONS TO CHECK\n",
    "    #DIGIT OR WITHIN RANGE IS FALSE\n",
    "    while choice.isdigit() == False or within_range == False:\n",
    "        \n",
    "    #keep asking until we get the right input\n",
    "    \n",
    "        choice = input('Please enter a number (0-10: )')\n",
    "        \n",
    "        #DIGIT CHECK\n",
    "        if choice.isdigit() == False:\n",
    "            print(\"Sorry this is not a digit!\")\n",
    "            \n",
    "        #RANGE CHECK\n",
    "        if choice.isdigit() == True:\n",
    "            if int(choice) in acceptable_range:\n",
    "                within_range = True\n",
    "            else:\n",
    "                print('Sorry you are out of the acceptable range')\n",
    "                within_range = False\n",
    "    return int(choice)"
   ]
  },
  {
   "cell_type": "code",
   "execution_count": 22,
   "metadata": {},
   "outputs": [
    {
     "name": "stdout",
     "output_type": "stream",
     "text": [
      "Please enter a number (0-10: )No!\n",
      "Sorry this is not a digit!\n",
      "Please enter a number (0-10: )200\n",
      "Sorry you are out of the acceptable range\n",
      "Please enter a number (0-10: )Uff\n",
      "Sorry this is not a digit!\n",
      "Please enter a number (0-10: )2\n"
     ]
    },
    {
     "data": {
      "text/plain": [
       "2"
      ]
     },
     "execution_count": 22,
     "metadata": {},
     "output_type": "execute_result"
    }
   ],
   "source": [
    "user_choice()"
   ]
  },
  {
   "cell_type": "markdown",
   "metadata": {},
   "source": [
    "Ok, we are now ready to build the game logic. First thing first, we need to create a display function"
   ]
  },
  {
   "cell_type": "code",
   "execution_count": 1,
   "metadata": {},
   "outputs": [],
   "source": [
    "game_list = [0, 1,2]"
   ]
  },
  {
   "cell_type": "code",
   "execution_count": 2,
   "metadata": {},
   "outputs": [],
   "source": [
    "def display_game(game_list):\n",
    "    print('Here is the current list: ')\n",
    "    print(game_list)"
   ]
  },
  {
   "cell_type": "code",
   "execution_count": 3,
   "metadata": {},
   "outputs": [
    {
     "name": "stdout",
     "output_type": "stream",
     "text": [
      "Here is the current list: \n",
      "[0, 1, 2]\n"
     ]
    }
   ],
   "source": [
    "display_game(game_list)"
   ]
  },
  {
   "cell_type": "code",
   "execution_count": 4,
   "metadata": {},
   "outputs": [],
   "source": [
    "#Now we need to choose the position. My choice can only be 0, 1 or 2\n",
    "def position_choice():\n",
    "    \n",
    "    choice = 'wrong'\n",
    "    while choice not in ['0', '1', '2']:\n",
    "        choice = input('Pick a position (0, 1, 2): ')\n",
    "        if choice not in ['0', '1', '2']:\n",
    "            print('Sorry, invalid choice!')\n",
    "            \n",
    "    return int(choice)\n"
   ]
  },
  {
   "cell_type": "code",
   "execution_count": 6,
   "metadata": {},
   "outputs": [
    {
     "name": "stdout",
     "output_type": "stream",
     "text": [
      "Pick a position (0, 1, 2): what?\n",
      "Sorry, invalid choice!\n",
      "Pick a position (0, 1, 2): 10\n",
      "Sorry, invalid choice!\n",
      "Pick a position (0, 1, 2): 2\n"
     ]
    },
    {
     "data": {
      "text/plain": [
       "2"
      ]
     },
     "execution_count": 6,
     "metadata": {},
     "output_type": "execute_result"
    }
   ],
   "source": [
    "position_choice()"
   ]
  },
  {
   "cell_type": "code",
   "execution_count": 8,
   "metadata": {},
   "outputs": [],
   "source": [
    "#Now it's time to chose a replacement value. We take two parameters, the game_list and the position\n",
    "def replacement_choice(game_list, position):\n",
    "    user_placement = input('Type a string to place at position: ')\n",
    "    game_list[position] = user_placement\n",
    "    \n",
    "    return game_list"
   ]
  },
  {
   "cell_type": "code",
   "execution_count": 9,
   "metadata": {},
   "outputs": [
    {
     "name": "stdout",
     "output_type": "stream",
     "text": [
      "Type a string to place at position: test\n"
     ]
    },
    {
     "data": {
      "text/plain": [
       "[0, 'test', 2]"
      ]
     },
     "execution_count": 9,
     "metadata": {},
     "output_type": "execute_result"
    }
   ],
   "source": [
    "replacement_choice(game_list, 1)"
   ]
  },
  {
   "cell_type": "code",
   "execution_count": 10,
   "metadata": {},
   "outputs": [],
   "source": [
    "#Finally we want to allow the user to keep playing. Take the same function position_choice, change the name\n",
    "def gameon_choice():\n",
    "    \n",
    "    choice = 'wrong'\n",
    "    \n",
    "    while choice not in ['Y', 'N']:\n",
    "        \n",
    "        choice = input('Keep playing? Y or N ')\n",
    "        \n",
    "        if choice not in ['Y', 'N']:\n",
    "            print(\"Sorry, I don't understand! Please choose Y or N\")\n",
    "            \n",
    "    if choice == \"Y\":\n",
    "        return True\n",
    "    else:\n",
    "        return False\n",
    "            \n",
    "\n"
   ]
  },
  {
   "cell_type": "code",
   "execution_count": 11,
   "metadata": {},
   "outputs": [
    {
     "name": "stdout",
     "output_type": "stream",
     "text": [
      "Keep playing? Y or N N\n"
     ]
    },
    {
     "data": {
      "text/plain": [
       "False"
      ]
     },
     "execution_count": 11,
     "metadata": {},
     "output_type": "execute_result"
    }
   ],
   "source": [
    "gameon_choice()"
   ]
  },
  {
   "cell_type": "code",
   "execution_count": 12,
   "metadata": {},
   "outputs": [
    {
     "name": "stdout",
     "output_type": "stream",
     "text": [
      "Keep playing? Y or N Y\n"
     ]
    },
    {
     "data": {
      "text/plain": [
       "True"
      ]
     },
     "execution_count": 12,
     "metadata": {},
     "output_type": "execute_result"
    }
   ],
   "source": [
    "gameon_choice()"
   ]
  },
  {
   "cell_type": "code",
   "execution_count": 13,
   "metadata": {},
   "outputs": [
    {
     "name": "stdout",
     "output_type": "stream",
     "text": [
      "Keep playing? Y or N What?\n",
      "Sorry, I don't understand! Please choose Y or N\n",
      "Keep playing? Y or N Y\n"
     ]
    },
    {
     "data": {
      "text/plain": [
       "True"
      ]
     },
     "execution_count": 13,
     "metadata": {},
     "output_type": "execute_result"
    }
   ],
   "source": [
    "gameon_choice()"
   ]
  },
  {
   "cell_type": "code",
   "execution_count": 17,
   "metadata": {},
   "outputs": [
    {
     "name": "stdout",
     "output_type": "stream",
     "text": [
      "Here is the current list: \n",
      "[0, 1, 2]\n",
      "Pick a position (0, 1, 2): 0\n",
      "Type a string to place at position: Test\n",
      "Here is the current list: \n",
      "['Test', 1, 2]\n",
      "Keep playing? Y or N N\n"
     ]
    }
   ],
   "source": [
    "game_on = True\n",
    "game_list = [0, 1, 2]\n",
    "\n",
    "while game_on:\n",
    "    display_game(game_list)\n",
    "    \n",
    "    position = position_choice()\n",
    "    \n",
    "    game_list = replacement_choice(game_list, position)\n",
    "    \n",
    "    display_game(game_list)\n",
    "    \n",
    "    game_on = gameon_choice()\n",
    "    "
   ]
  },
  {
   "cell_type": "markdown",
   "metadata": {},
   "source": [
    "We are now ready to build a Tic Tac Toe game for 2 human players\n",
    "Let's get started! \n",
    "\n",
    "Step 1: Write a function that can print out a board. One way is to set up our board as a list, where each index 1-9 corresponds with a number on a number pad, so we get a 3 by 3 board representation."
   ]
  },
  {
   "cell_type": "code",
   "execution_count": 7,
   "metadata": {},
   "outputs": [],
   "source": [
    "#this is the code provided:\n",
    "from IPython.display import clear_output\n",
    "\n",
    "def display_board(board):\n",
    "    \n",
    "    pass"
   ]
  },
  {
   "cell_type": "code",
   "execution_count": 9,
   "metadata": {},
   "outputs": [],
   "source": [
    "#We will need to clear the output so first thing to do is to import the clear_output() method \n",
    "from IPython.display import clear_output\n",
    "\n",
    "#Create a list called board, which will keep track of the player markers. \n",
    "#The list should have the same length of the intended board, in our case 3 x 3.\n",
    "#Create a function that will print the board\n",
    "\n",
    "def display_board(board):\n",
    "    #this is the code provided, one way to print out this board is by multiple print statements within the function.\n",
    "    #The vertical line indicates that  new column is starting\n",
    "    \n",
    "    print(board[7] + '|' + board[8] + '|' + board[9])\n",
    "    print(board[4] + '|' + board[5] + '|' + board[6])\n",
    "    print(board[1] + '|' + board[2] + '|' + board[3])"
   ]
  },
  {
   "cell_type": "markdown",
   "metadata": {},
   "source": [
    "TEST Step 1: run your function on a test version of the board list, and make adjustments as necessary"
   ]
  },
  {
   "cell_type": "code",
   "execution_count": 10,
   "metadata": {},
   "outputs": [
    {
     "name": "stdout",
     "output_type": "stream",
     "text": [
      "X|O|X\n",
      "O|X|O\n",
      "X|O|X\n"
     ]
    }
   ],
   "source": [
    "#We'll use Xs and Os to display the player marker's position. The code below is provided:\n",
    "test_board = ['#','X','O','X','O','X','O','X','O','X']\n",
    "display_board(test_board)"
   ]
  },
  {
   "cell_type": "code",
   "execution_count": 11,
   "metadata": {},
   "outputs": [],
   "source": [
    "#Note that if you call the display_board several times you will visualize the story of the board like so:"
   ]
  },
  {
   "cell_type": "code",
   "execution_count": 12,
   "metadata": {},
   "outputs": [
    {
     "name": "stdout",
     "output_type": "stream",
     "text": [
      "X|O|X\n",
      "O|X|O\n",
      "X|O|X\n",
      "X|O|X\n",
      "O|X|O\n",
      "X|O|X\n",
      "X|O|X\n",
      "O|X|O\n",
      "X|O|X\n"
     ]
    }
   ],
   "source": [
    "display_board(test_board)\n",
    "display_board(test_board)\n",
    "display_board(test_board)"
   ]
  },
  {
   "cell_type": "code",
   "execution_count": 15,
   "metadata": {},
   "outputs": [],
   "source": [
    "#So let's call the clear_output(). Now I only see the board once, even if I called print multiple times\n",
    "from IPython.display import clear_output\n",
    "\n",
    "def display_board(board):\n",
    "    clear_output()\n",
    "    \n",
    "    print(board[7] + '|' + board[8] + '|' + board[9])\n",
    "    print(board[4] + '|' + board[5] + '|' + board[6])\n",
    "    print(board[1] + '|' + board[2] + '|' + board[3])"
   ]
  },
  {
   "cell_type": "code",
   "execution_count": 16,
   "metadata": {},
   "outputs": [
    {
     "name": "stdout",
     "output_type": "stream",
     "text": [
      "X|O|X\n",
      "O|X|O\n",
      "X|O|X\n"
     ]
    }
   ],
   "source": [
    "test_board = ['#','X','O','X','O','X','O','X','O','X']\n",
    "display_board(test_board)\n",
    "display_board(test_board)\n",
    "display_board(test_board)"
   ]
  },
  {
   "cell_type": "code",
   "execution_count": 17,
   "metadata": {},
   "outputs": [],
   "source": [
    "#This is a very simple version of the board. If we want to get fancy we can make it more spacious\n",
    "from IPython.display import clear_output\n",
    "\n",
    "def display_board(board):\n",
    "    clear_output()\n",
    "    \n",
    "    print(' | | ')\n",
    "    print(board[7] + '|' + board[8] + '|' + board[9])\n",
    "    print(board[4] + '|' + board[5] + '|' + board[6])\n",
    "    print(board[1] + '|' + board[2] + '|' + board[3])"
   ]
  },
  {
   "cell_type": "code",
   "execution_count": 18,
   "metadata": {},
   "outputs": [
    {
     "name": "stdout",
     "output_type": "stream",
     "text": [
      " | | \n",
      "X|O|X\n",
      "O|X|O\n",
      "X|O|X\n"
     ]
    }
   ],
   "source": [
    "test_board = ['#','X','O','X','O','X','O','X','O','X']\n",
    "display_board(test_board)"
   ]
  },
  {
   "cell_type": "code",
   "execution_count": 19,
   "metadata": {},
   "outputs": [],
   "source": [
    "#Let's keep making it fancier:\n",
    "from IPython.display import clear_output\n",
    "\n",
    "def display_board(board):\n",
    "    clear_output()\n",
    "    \n",
    "    print(' | | ')\n",
    "    print(board[7] + '|' + board[8] + '|' + board[9])\n",
    "    print(' | | ')\n",
    "    print('-----') # add some nice horizontal features\n",
    "    print(board[4] + '|' + board[5] + '|' + board[6])\n",
    "    print(board[1] + '|' + board[2] + '|' + board[3])\n"
   ]
  },
  {
   "cell_type": "code",
   "execution_count": 20,
   "metadata": {},
   "outputs": [
    {
     "name": "stdout",
     "output_type": "stream",
     "text": [
      " | | \n",
      "X|O|X\n",
      " | | \n",
      "-----\n",
      "O|X|O\n",
      "X|O|X\n"
     ]
    }
   ],
   "source": [
    "test_board = ['#','X','O','X','O','X','O','X','O','X']\n",
    "display_board(test_board)"
   ]
  },
  {
   "cell_type": "code",
   "execution_count": 69,
   "metadata": {},
   "outputs": [],
   "source": [
    "from IPython.display import clear_output\n",
    "\n",
    "def display_board(board):\n",
    "    clear_output()\n",
    "    \n",
    "    print(' | | ')\n",
    "    print(board[7] + '|' + board[8] + '|' + board[9])\n",
    "    print(' | | ')\n",
    "    print('- - - ') # add some nice horizontal features\n",
    "    print(' | | ')\n",
    "    print(board[4] + '|' + board[5] + '|' + board[6])\n",
    "    print(' | | ')\n",
    "    print('- - - ')\n",
    "    print(' | | ')\n",
    "    print(board[1] + '|' + board[2] + '|' + board[3])\n",
    "    print(' | | ')\n",
    "   "
   ]
  },
  {
   "cell_type": "code",
   "execution_count": 70,
   "metadata": {},
   "outputs": [
    {
     "name": "stdout",
     "output_type": "stream",
     "text": [
      " | | \n"
     ]
    },
    {
     "ename": "IndexError",
     "evalue": "list index out of range",
     "output_type": "error",
     "traceback": [
      "\u001b[1;31m---------------------------------------------------------------------------\u001b[0m",
      "\u001b[1;31mIndexError\u001b[0m                                Traceback (most recent call last)",
      "\u001b[1;32m<ipython-input-70-7ab89d0ab90c>\u001b[0m in \u001b[0;36m<module>\u001b[1;34m\u001b[0m\n\u001b[0;32m      2\u001b[0m \u001b[1;31m#let's try to remove it and see what happens\u001b[0m\u001b[1;33m\u001b[0m\u001b[1;33m\u001b[0m\u001b[1;33m\u001b[0m\u001b[0m\n\u001b[0;32m      3\u001b[0m \u001b[0mtest_board\u001b[0m \u001b[1;33m=\u001b[0m \u001b[1;33m[\u001b[0m\u001b[1;34m'X'\u001b[0m\u001b[1;33m,\u001b[0m\u001b[1;34m'O'\u001b[0m\u001b[1;33m,\u001b[0m\u001b[1;34m'X'\u001b[0m\u001b[1;33m,\u001b[0m\u001b[1;34m'O'\u001b[0m\u001b[1;33m,\u001b[0m\u001b[1;34m'X'\u001b[0m\u001b[1;33m,\u001b[0m\u001b[1;34m'O'\u001b[0m\u001b[1;33m,\u001b[0m\u001b[1;34m'X'\u001b[0m\u001b[1;33m,\u001b[0m\u001b[1;34m'O'\u001b[0m\u001b[1;33m,\u001b[0m\u001b[1;34m'X'\u001b[0m\u001b[1;33m]\u001b[0m\u001b[1;33m\u001b[0m\u001b[1;33m\u001b[0m\u001b[0m\n\u001b[1;32m----> 4\u001b[1;33m \u001b[0mdisplay_board\u001b[0m\u001b[1;33m(\u001b[0m\u001b[0mtest_board\u001b[0m\u001b[1;33m)\u001b[0m\u001b[1;33m\u001b[0m\u001b[1;33m\u001b[0m\u001b[0m\n\u001b[0m",
      "\u001b[1;32m<ipython-input-69-b861a4e2b419>\u001b[0m in \u001b[0;36mdisplay_board\u001b[1;34m(board)\u001b[0m\n\u001b[0;32m      5\u001b[0m \u001b[1;33m\u001b[0m\u001b[0m\n\u001b[0;32m      6\u001b[0m     \u001b[0mprint\u001b[0m\u001b[1;33m(\u001b[0m\u001b[1;34m' | | '\u001b[0m\u001b[1;33m)\u001b[0m\u001b[1;33m\u001b[0m\u001b[1;33m\u001b[0m\u001b[0m\n\u001b[1;32m----> 7\u001b[1;33m     \u001b[0mprint\u001b[0m\u001b[1;33m(\u001b[0m\u001b[0mboard\u001b[0m\u001b[1;33m[\u001b[0m\u001b[1;36m7\u001b[0m\u001b[1;33m]\u001b[0m \u001b[1;33m+\u001b[0m \u001b[1;34m'|'\u001b[0m \u001b[1;33m+\u001b[0m \u001b[0mboard\u001b[0m\u001b[1;33m[\u001b[0m\u001b[1;36m8\u001b[0m\u001b[1;33m]\u001b[0m \u001b[1;33m+\u001b[0m \u001b[1;34m'|'\u001b[0m \u001b[1;33m+\u001b[0m \u001b[0mboard\u001b[0m\u001b[1;33m[\u001b[0m\u001b[1;36m9\u001b[0m\u001b[1;33m]\u001b[0m\u001b[1;33m)\u001b[0m\u001b[1;33m\u001b[0m\u001b[1;33m\u001b[0m\u001b[0m\n\u001b[0m\u001b[0;32m      8\u001b[0m     \u001b[0mprint\u001b[0m\u001b[1;33m(\u001b[0m\u001b[1;34m' | | '\u001b[0m\u001b[1;33m)\u001b[0m\u001b[1;33m\u001b[0m\u001b[1;33m\u001b[0m\u001b[0m\n\u001b[0;32m      9\u001b[0m     \u001b[0mprint\u001b[0m\u001b[1;33m(\u001b[0m\u001b[1;34m'- - - '\u001b[0m\u001b[1;33m)\u001b[0m \u001b[1;31m# add some nice horizontal features\u001b[0m\u001b[1;33m\u001b[0m\u001b[1;33m\u001b[0m\u001b[0m\n",
      "\u001b[1;31mIndexError\u001b[0m: list index out of range"
     ]
    }
   ],
   "source": [
    "#Understanding the purpose of '#'. To understand why we have that '#' at the beginning of the list, \n",
    "#let's try to remove it and see what happens\n",
    "test_board = ['X','O','X','O','X','O','X','O','X']\n",
    "display_board(test_board)"
   ]
  },
  {
   "cell_type": "code",
   "execution_count": 71,
   "metadata": {},
   "outputs": [
    {
     "name": "stdout",
     "output_type": "stream",
     "text": [
      " | | \n"
     ]
    },
    {
     "ename": "IndexError",
     "evalue": "list index out of range",
     "output_type": "error",
     "traceback": [
      "\u001b[1;31m---------------------------------------------------------------------------\u001b[0m",
      "\u001b[1;31mIndexError\u001b[0m                                Traceback (most recent call last)",
      "\u001b[1;32m<ipython-input-71-62ef610b9d8c>\u001b[0m in \u001b[0;36m<module>\u001b[1;34m\u001b[0m\n\u001b[0;32m      2\u001b[0m \u001b[1;31m#The same error happens if I try to print board[9] but my test_board doesn't have a value at index 9.\u001b[0m\u001b[1;33m\u001b[0m\u001b[1;33m\u001b[0m\u001b[1;33m\u001b[0m\u001b[0m\n\u001b[0;32m      3\u001b[0m \u001b[0mtest_board\u001b[0m \u001b[1;33m=\u001b[0m \u001b[1;33m[\u001b[0m\u001b[1;34m'#'\u001b[0m\u001b[1;33m,\u001b[0m\u001b[1;34m'X'\u001b[0m\u001b[1;33m,\u001b[0m\u001b[1;34m'O'\u001b[0m\u001b[1;33m,\u001b[0m\u001b[1;34m'X'\u001b[0m\u001b[1;33m,\u001b[0m\u001b[1;34m'O'\u001b[0m\u001b[1;33m,\u001b[0m\u001b[1;34m'X'\u001b[0m\u001b[1;33m,\u001b[0m\u001b[1;34m'O'\u001b[0m\u001b[1;33m,\u001b[0m\u001b[1;34m'X'\u001b[0m\u001b[1;33m,\u001b[0m\u001b[1;34m'O'\u001b[0m\u001b[1;33m]\u001b[0m\u001b[1;33m\u001b[0m\u001b[1;33m\u001b[0m\u001b[0m\n\u001b[1;32m----> 4\u001b[1;33m \u001b[0mdisplay_board\u001b[0m\u001b[1;33m(\u001b[0m\u001b[0mtest_board\u001b[0m\u001b[1;33m)\u001b[0m\u001b[1;33m\u001b[0m\u001b[1;33m\u001b[0m\u001b[0m\n\u001b[0m",
      "\u001b[1;32m<ipython-input-69-b861a4e2b419>\u001b[0m in \u001b[0;36mdisplay_board\u001b[1;34m(board)\u001b[0m\n\u001b[0;32m      5\u001b[0m \u001b[1;33m\u001b[0m\u001b[0m\n\u001b[0;32m      6\u001b[0m     \u001b[0mprint\u001b[0m\u001b[1;33m(\u001b[0m\u001b[1;34m' | | '\u001b[0m\u001b[1;33m)\u001b[0m\u001b[1;33m\u001b[0m\u001b[1;33m\u001b[0m\u001b[0m\n\u001b[1;32m----> 7\u001b[1;33m     \u001b[0mprint\u001b[0m\u001b[1;33m(\u001b[0m\u001b[0mboard\u001b[0m\u001b[1;33m[\u001b[0m\u001b[1;36m7\u001b[0m\u001b[1;33m]\u001b[0m \u001b[1;33m+\u001b[0m \u001b[1;34m'|'\u001b[0m \u001b[1;33m+\u001b[0m \u001b[0mboard\u001b[0m\u001b[1;33m[\u001b[0m\u001b[1;36m8\u001b[0m\u001b[1;33m]\u001b[0m \u001b[1;33m+\u001b[0m \u001b[1;34m'|'\u001b[0m \u001b[1;33m+\u001b[0m \u001b[0mboard\u001b[0m\u001b[1;33m[\u001b[0m\u001b[1;36m9\u001b[0m\u001b[1;33m]\u001b[0m\u001b[1;33m)\u001b[0m\u001b[1;33m\u001b[0m\u001b[1;33m\u001b[0m\u001b[0m\n\u001b[0m\u001b[0;32m      8\u001b[0m     \u001b[0mprint\u001b[0m\u001b[1;33m(\u001b[0m\u001b[1;34m' | | '\u001b[0m\u001b[1;33m)\u001b[0m\u001b[1;33m\u001b[0m\u001b[1;33m\u001b[0m\u001b[0m\n\u001b[0;32m      9\u001b[0m     \u001b[0mprint\u001b[0m\u001b[1;33m(\u001b[0m\u001b[1;34m'- - - '\u001b[0m\u001b[1;33m)\u001b[0m \u001b[1;31m# add some nice horizontal features\u001b[0m\u001b[1;33m\u001b[0m\u001b[1;33m\u001b[0m\u001b[0m\n",
      "\u001b[1;31mIndexError\u001b[0m: list index out of range"
     ]
    }
   ],
   "source": [
    "#I looked up the IndexError and learned that it's an error that happens when I'm trying to access a value that is not there. \n",
    "#The same error happens if I try to print board[9] but my test_board doesn't have a value at index 9.\n",
    "test_board = ['#','X','O','X','O','X','O','X','O']\n",
    "display_board(test_board)"
   ]
  },
  {
   "cell_type": "code",
   "execution_count": 72,
   "metadata": {},
   "outputs": [],
   "source": [
    "#So we can look at '#' as a placeholder. It could be anything, it doesn't have to be a #:"
   ]
  },
  {
   "cell_type": "code",
   "execution_count": 73,
   "metadata": {},
   "outputs": [
    {
     "name": "stdout",
     "output_type": "stream",
     "text": [
      " | | \n",
      "X|O|X\n",
      " | | \n",
      "- - - \n",
      " | | \n",
      "O|X|O\n",
      " | | \n",
      "- - - \n",
      " | | \n",
      "X|O|X\n",
      " | | \n"
     ]
    }
   ],
   "source": [
    "test_board = [1 , 'X','O','X','O','X','O','X','O','X']\n",
    "display_board(test_board)"
   ]
  },
  {
   "cell_type": "code",
   "execution_count": 74,
   "metadata": {},
   "outputs": [
    {
     "name": "stdout",
     "output_type": "stream",
     "text": [
      " | | \n",
      "X|O|X\n",
      " | | \n",
      "- - - \n",
      " | | \n",
      "O|X|O\n",
      " | | \n",
      "- - - \n",
      " | | \n",
      "X|O|X\n",
      " | | \n"
     ]
    }
   ],
   "source": [
    "test_board = [[  ] , 'X','O','X','O','X','O','X','O','X']\n",
    "display_board(test_board)"
   ]
  },
  {
   "cell_type": "code",
   "execution_count": 75,
   "metadata": {},
   "outputs": [
    {
     "name": "stdout",
     "output_type": "stream",
     "text": [
      " | | \n",
      "X|O|X\n",
      " | | \n",
      "- - - \n",
      " | | \n",
      "O|X|O\n",
      " | | \n",
      "- - - \n",
      " | | \n",
      "X|O|X\n",
      " | | \n"
     ]
    }
   ],
   "source": [
    "test_board = [\"I can be anything! As long as I'm here we are cool\",'X','O','X','O','X','O','X','O','X']\n",
    "display_board(test_board)"
   ]
  },
  {
   "cell_type": "markdown",
   "metadata": {},
   "source": [
    "Awesome we are now ready to move on to Step 2!\n",
    "\n",
    "Step 2: Write a function that can take in a player input and assign their marker as 'X' or 'O'. \n",
    "    Think about using while loops to continually ask until you get a correct answer."
   ]
  },
  {
   "cell_type": "code",
   "execution_count": 76,
   "metadata": {},
   "outputs": [],
   "source": [
    "#One way is to set marker to an empty string and use a while loop: as long as marker is not X or O keep asking the players\n",
    "#to enter their markers. \n",
    "def player_input():\n",
    "    \n",
    "    '''\n",
    "    \n",
    "    OUTPUT = (Player 1 marker, Player 2 marker) #We can decide to have the output as a tuple.\n",
    "    \n",
    "    '''\n",
    "    \n",
    "    marker = ' '\n",
    "    while marker !='X' and marker !='O':\n",
    "        marker = input(\"Player 1, please choose your marker: It has to be either 'X' or 'O'\").upper()\n",
    "    \n",
    "    if marker == 'X':  # We can use tuple unpacking\n",
    "        return('X', 'O')\n",
    "    else:\n",
    "        return('O', 'X')\n"
   ]
  },
  {
   "cell_type": "markdown",
   "metadata": {},
   "source": [
    "TEST Step 2: run the function to make sure it returns the desired output"
   ]
  },
  {
   "cell_type": "code",
   "execution_count": 77,
   "metadata": {},
   "outputs": [
    {
     "name": "stdout",
     "output_type": "stream",
     "text": [
      "Player 1, please choose your marker: It has to be either 'X' or 'O'\n",
      "Player 1, please choose your marker: It has to be either 'X' or 'O'x\n"
     ]
    },
    {
     "data": {
      "text/plain": [
       "('X', 'O')"
      ]
     },
     "execution_count": 77,
     "metadata": {},
     "output_type": "execute_result"
    }
   ],
   "source": [
    "player_input()"
   ]
  },
  {
   "cell_type": "code",
   "execution_count": 78,
   "metadata": {},
   "outputs": [],
   "source": [
    "#Another way of doing this \n",
    "def player_input():\n",
    "    \n",
    "    '''\n",
    "    \n",
    "    OUTPUT = (Player 1 marker, Player 2 marker) #We can decide to have the output as a tuple.\n",
    "    \n",
    "    '''\n",
    "    \n",
    "    marker = ' '\n",
    "    while not marker =='X' or marker =='O':\n",
    "        marker = input(\"Player 1, please choose your marker: It has to be either 'X' or 'O'\").upper()\n",
    "    \n",
    "    if marker == 'X':  # We can use tuple unpacking\n",
    "        return('X', 'O')\n",
    "    else:\n",
    "        return('O', 'X')\n"
   ]
  },
  {
   "cell_type": "code",
   "execution_count": 79,
   "metadata": {},
   "outputs": [
    {
     "name": "stdout",
     "output_type": "stream",
     "text": [
      "Player 1, please choose your marker: It has to be either 'X' or 'O'\n",
      "Player 1, please choose your marker: It has to be either 'X' or 'O'z\n",
      "Player 1, please choose your marker: It has to be either 'X' or 'O'x\n"
     ]
    },
    {
     "data": {
      "text/plain": [
       "('X', 'O')"
      ]
     },
     "execution_count": 79,
     "metadata": {},
     "output_type": "execute_result"
    }
   ],
   "source": [
    "player_input()"
   ]
  },
  {
   "cell_type": "markdown",
   "metadata": {},
   "source": [
    "We can now move on to step 3: Write a function that takes in the board list object, a marker ('X' or 'O'), and a desired position (number 1-9) and assigns it to the board."
   ]
  },
  {
   "cell_type": "code",
   "execution_count": 80,
   "metadata": {},
   "outputs": [],
   "source": [
    "def place_marker(board, marker, position):\n",
    "    #We can set the board at a specific position to be the marker\n",
    "    board[position] = marker"
   ]
  },
  {
   "cell_type": "code",
   "execution_count": 81,
   "metadata": {},
   "outputs": [],
   "source": [
    "#To test this, run the place marker function using test parameters and display the modified board\n",
    "test_board = ['#','X','O','X','O','X','O','X','O', 'X']\n"
   ]
  },
  {
   "cell_type": "code",
   "execution_count": 84,
   "metadata": {},
   "outputs": [
    {
     "name": "stdout",
     "output_type": "stream",
     "text": [
      " | | \n",
      "X|$|X\n",
      " | | \n",
      "- - - \n",
      " | | \n",
      "O|X|O\n",
      " | | \n",
      "- - - \n",
      " | | \n",
      "X|O|X\n",
      " | | \n"
     ]
    }
   ],
   "source": [
    "place_marker(test_board, \"$\", 8)\n",
    "display_board(test_board)"
   ]
  },
  {
   "cell_type": "markdown",
   "metadata": {},
   "source": [
    "Step 4: Write a function that takes in a board and a mark (X or O) and checks to see if someone has won."
   ]
  },
  {
   "cell_type": "code",
   "execution_count": 86,
   "metadata": {},
   "outputs": [],
   "source": [
    "# We'll have to check the markers diagonally across the board (from the left and from  the right), \n",
    "# vertically 3 times, horizontally 3 times. And check to see if all rows, all columns or the 2 diagonals have the same mark.\n",
    "# One way to do this is the following: \n",
    "def check_win(board, mark):\n",
    "    #Let's start checking the bottom row:\n",
    "    #if board[1] == mark and board [2] == mark and board[3] == mark:|\n",
    "    #   return some boolean\n",
    "    #Then we check the next row and so on and so forth. We have learned that instead of 'if return boolean' we can say\n",
    "    #'return the condition that I want to be true. Translated in Python this means'\n",
    "    return(board[1] == mark and board [2] == mark and board[3] == mark)\n",
    "    \n"
   ]
  },
  {
   "cell_type": "code",
   "execution_count": 88,
   "metadata": {},
   "outputs": [
    {
     "data": {
      "text/plain": [
       "False"
      ]
     },
     "execution_count": 88,
     "metadata": {},
     "output_type": "execute_result"
    }
   ],
   "source": [
    "#Let's test this for the first row  to see how it works:\n",
    "check_win(test_board, 'X')\n",
    "    "
   ]
  },
  {
   "cell_type": "code",
   "execution_count": null,
   "metadata": {},
   "outputs": [],
   "source": []
  },
  {
   "cell_type": "code",
   "execution_count": null,
   "metadata": {},
   "outputs": [],
   "source": []
  }
 ],
 "metadata": {
  "kernelspec": {
   "display_name": "Python 3",
   "language": "python",
   "name": "python3"
  },
  "language_info": {
   "codemirror_mode": {
    "name": "ipython",
    "version": 3
   },
   "file_extension": ".py",
   "mimetype": "text/x-python",
   "name": "python",
   "nbconvert_exporter": "python",
   "pygments_lexer": "ipython3",
   "version": "3.8.5"
  }
 },
 "nbformat": 4,
 "nbformat_minor": 4
}
