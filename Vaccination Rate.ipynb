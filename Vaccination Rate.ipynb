{
 "cells": [
  {
   "cell_type": "markdown",
   "metadata": {},
   "source": [
    "Project: Reading Data from a Spreadsheet\n",
    "    \n",
    "Say you have a spreadsheet of data displaying the vaccination rate for the 4 regions: EMEA, APAC, NOAM, LATAM.\n",
    "You are given the task of going through its rows to count both the total population and the vaccination rate.\n",
    "Each row represents a single region.\n",
    "\n",
    "In this project, we’ll write a script that can read from the vaccination spreadsheet file and calculate statistics \n",
    "for each region in a matter of seconds.\n",
    "\n",
    "This is what our program does:\n",
    "\n",
    "1. Reads the data from the Excel spreadsheet\n",
    "2. Counts the vaccination rate for every region\n",
    "3. Counts the total population of each region\n",
    "4. Prints the results\n",
    "\n",
    "This means your code will need to do the following:\n",
    "\n",
    "1. Open and read the cells of an Excel document with the openpyxl module.\n",
    "2. Calculate all the vaccination and population data and store it in a data structure.\n",
    "3. Write the data structure to a text file with the .py extension using the pprint module."
   ]
  },
  {
   "cell_type": "markdown",
   "metadata": {},
   "source": [
    "STEP 1: READ THE SPREADSHEET DATA"
   ]
  },
  {
   "cell_type": "markdown",
   "metadata": {},
   "source": [
    "There is just one sheet in the Vaccination_4_regions.xlsx spreadsheet, named 'Vaccination by region', \n",
    "and each row holds the data for a single region. \n",
    "The columns are the Region (A), People Vaccinated (B), Population (C), % Vaccination Rate (D)"
   ]
  },
  {
   "cell_type": "code",
   "execution_count": 1,
   "metadata": {},
   "outputs": [
    {
     "name": "stdout",
     "output_type": "stream",
     "text": [
      "Opening workbook...\n"
     ]
    },
    {
     "data": {
      "text/plain": [
       "['Vaccination by region']"
      ]
     },
     "execution_count": 1,
     "metadata": {},
     "output_type": "execute_result"
    }
   ],
   "source": [
    "import openpyxl, pprint\n",
    "print('Opening workbook...')\n",
    "wb = openpyxl.load_workbook('Vaccination_4_regions.xlsx')\n",
    "wb.sheetnames"
   ]
  },
  {
   "cell_type": "code",
   "execution_count": 2,
   "metadata": {},
   "outputs": [
    {
     "data": {
      "text/plain": [
       "['Vaccination by region']"
      ]
     },
     "execution_count": 2,
     "metadata": {},
     "output_type": "execute_result"
    }
   ],
   "source": [
    "wb.sheetnames"
   ]
  },
  {
   "cell_type": "code",
   "execution_count": 3,
   "metadata": {},
   "outputs": [],
   "source": [
    "sheet = wb['Vaccination by region']"
   ]
  },
  {
   "cell_type": "code",
   "execution_count": 4,
   "metadata": {},
   "outputs": [
    {
     "data": {
      "text/plain": [
       "<Worksheet \"Vaccination by region\">"
      ]
     },
     "execution_count": 4,
     "metadata": {},
     "output_type": "execute_result"
    }
   ],
   "source": [
    "sheet"
   ]
  },
  {
   "cell_type": "code",
   "execution_count": 5,
   "metadata": {},
   "outputs": [
    {
     "name": "stdout",
     "output_type": "stream",
     "text": [
      "Reading rows...\n"
     ]
    }
   ],
   "source": [
    "\n",
    "print('Reading rows...')\n",
    "for row in range(2, sheet.max_row + 1):\n",
    "    people_vaccinated = sheet['B' + str(row)].value\n",
    "    population = sheet['C' + str(row)].value\n",
    "    vaccination_rate = sheet['D' + str(row)].value"
   ]
  },
  {
   "cell_type": "code",
   "execution_count": 6,
   "metadata": {},
   "outputs": [
    {
     "data": {
      "text/plain": [
       "'=SUM(B2:B5)'"
      ]
     },
     "execution_count": 6,
     "metadata": {},
     "output_type": "execute_result"
    }
   ],
   "source": [
    "#Double check that the values match:\n",
    "people_vaccinated"
   ]
  },
  {
   "cell_type": "code",
   "execution_count": 7,
   "metadata": {},
   "outputs": [
    {
     "data": {
      "text/plain": [
       "'=SUM(C2:C5)'"
      ]
     },
     "execution_count": 7,
     "metadata": {},
     "output_type": "execute_result"
    }
   ],
   "source": [
    "population"
   ]
  },
  {
   "cell_type": "code",
   "execution_count": 8,
   "metadata": {},
   "outputs": [
    {
     "data": {
      "text/plain": [
       "'=SUM(D2:D5)'"
      ]
     },
     "execution_count": 8,
     "metadata": {},
     "output_type": "execute_result"
    }
   ],
   "source": [
    "#Hmm not sure why the vaccination_rate is not displayed correctly - It should read 31.11 %. \n",
    "#NEED TO FIGURE THIS OUT, SETTING THIS ASIDE FOR NOW - DON'T WANT TO BE STUCK HERE FOR TOO LONG\n",
    "vaccination_rate"
   ]
  },
  {
   "cell_type": "code",
   "execution_count": 9,
   "metadata": {},
   "outputs": [
    {
     "name": "stdout",
     "output_type": "stream",
     "text": [
      "Opening workbook...\n",
      "Reading rows...\n",
      "0.009478299999999606\n"
     ]
    }
   ],
   "source": [
    "#A question came up: how long did it take your program to run? Check this out: you can actually find out how long it\n",
    "#will take your program  to run!\n",
    "import timeit\n",
    "code = \"\"\"import openpyxl, pprint\n",
    "print('Opening workbook...')\n",
    "wb = openpyxl.load_workbook('Vaccination_4_regions.xlsx')\n",
    "sheet = wb['Vaccination by region']\n",
    "wb.sheetnames\n",
    "print('Reading rows...')\n",
    "for row in range(2, sheet.max_row + 1):\n",
    "    people_vaccinated = sheet['B' + str(row)].value\n",
    "    population = sheet['C' + str(row)].value\n",
    "    vaccination_rate = sheet['D' + str(row)].value\"\"\"\n",
    "\n",
    "execution_time = timeit.timeit(code, number=1)\n",
    "\n",
    "print(execution_time)"
   ]
  },
  {
   "cell_type": "markdown",
   "metadata": {},
   "source": [
    "The code above imports the openpyxl module, as well as the pprint module that we’ll use to print the final region data.\n",
    "Then it opens the Vaccination_4_regions.xlsx file, it gets the sheet with the vaccination data and begins iterating \n",
    "over its rows\n",
    "\n",
    "Next we'll create a variable named regionData, which will contain the populations and vaccination rate for each region\n",
    "and determine exactly how we’ll structure the data inside it.\n",
    "\n",
    "TO DO: Open a new text file and write the contents of regionData to it.\n"
   ]
  },
  {
   "cell_type": "markdown",
   "metadata": {},
   "source": [
    "STEP 2: POPULATE THE DATA STRUCTURE"
   ]
  },
  {
   "cell_type": "markdown",
   "metadata": {},
   "source": [
    "The data structure stored in regionData will be a dictionary with the 4 region acronyms as its keys. \n",
    "Each region name will in turn map to a dictionary with three keys, 'people vaccinated', 'population', and 'vaccination rate'. \n"
   ]
  },
  {
   "cell_type": "code",
   "execution_count": 10,
   "metadata": {},
   "outputs": [],
   "source": [
    "regionData = {\n",
    "    \"Region\":\n",
    "                [\"APAC\", \"EMEA \", \"LATAM\", \"NOAM\" ],\n",
    "    \n",
    "    \"People Vaccinated\": \n",
    "               [\"184,940,823\", \"102,597,276\", \"50,386,754\", \"182891341\"],\n",
    "                                      \n",
    "    \"Population\": \n",
    "              [4446069143, 2292807221, 430457607, 587934386],\n",
    "                                    \n",
    "    \"% Vaccination Rate\":\n",
    "               [4.15964792835432, 4.47474497900668, 11.7053928611372, 31.1074407884692],\n",
    "    \n",
    "}\n",
    "       "
   ]
  },
  {
   "cell_type": "code",
   "execution_count": 11,
   "metadata": {},
   "outputs": [
    {
     "data": {
      "text/plain": [
       "'EMEA '"
      ]
     },
     "execution_count": 11,
     "metadata": {},
     "output_type": "execute_result"
    }
   ],
   "source": [
    "#Now I can access the values I'm interested in using the properties of python dictionaries\n",
    "regionData['Region'][1]"
   ]
  },
  {
   "cell_type": "markdown",
   "metadata": {},
   "source": [
    "STEP 3: BUILD A DATAFRAME"
   ]
  },
  {
   "cell_type": "code",
   "execution_count": 12,
   "metadata": {},
   "outputs": [],
   "source": [
    "#Now that we have structured the data into a dictionary, we can build a dataframe\n",
    "import pandas as pd\n",
    "df = pd.DataFrame(regionData)"
   ]
  },
  {
   "cell_type": "code",
   "execution_count": 13,
   "metadata": {},
   "outputs": [
    {
     "data": {
      "text/html": [
       "<div>\n",
       "<style scoped>\n",
       "    .dataframe tbody tr th:only-of-type {\n",
       "        vertical-align: middle;\n",
       "    }\n",
       "\n",
       "    .dataframe tbody tr th {\n",
       "        vertical-align: top;\n",
       "    }\n",
       "\n",
       "    .dataframe thead th {\n",
       "        text-align: right;\n",
       "    }\n",
       "</style>\n",
       "<table border=\"1\" class=\"dataframe\">\n",
       "  <thead>\n",
       "    <tr style=\"text-align: right;\">\n",
       "      <th></th>\n",
       "      <th>Region</th>\n",
       "      <th>People Vaccinated</th>\n",
       "      <th>Population</th>\n",
       "      <th>% Vaccination Rate</th>\n",
       "    </tr>\n",
       "  </thead>\n",
       "  <tbody>\n",
       "    <tr>\n",
       "      <th>0</th>\n",
       "      <td>APAC</td>\n",
       "      <td>184,940,823</td>\n",
       "      <td>4446069143</td>\n",
       "      <td>4.159648</td>\n",
       "    </tr>\n",
       "    <tr>\n",
       "      <th>1</th>\n",
       "      <td>EMEA</td>\n",
       "      <td>102,597,276</td>\n",
       "      <td>2292807221</td>\n",
       "      <td>4.474745</td>\n",
       "    </tr>\n",
       "    <tr>\n",
       "      <th>2</th>\n",
       "      <td>LATAM</td>\n",
       "      <td>50,386,754</td>\n",
       "      <td>430457607</td>\n",
       "      <td>11.705393</td>\n",
       "    </tr>\n",
       "    <tr>\n",
       "      <th>3</th>\n",
       "      <td>NOAM</td>\n",
       "      <td>182891341</td>\n",
       "      <td>587934386</td>\n",
       "      <td>31.107441</td>\n",
       "    </tr>\n",
       "  </tbody>\n",
       "</table>\n",
       "</div>"
      ],
      "text/plain": [
       "  Region People Vaccinated  Population  % Vaccination Rate\n",
       "0   APAC       184,940,823  4446069143            4.159648\n",
       "1  EMEA        102,597,276  2292807221            4.474745\n",
       "2  LATAM        50,386,754   430457607           11.705393\n",
       "3   NOAM         182891341   587934386           31.107441"
      ]
     },
     "execution_count": 13,
     "metadata": {},
     "output_type": "execute_result"
    }
   ],
   "source": [
    "df"
   ]
  },
  {
   "cell_type": "code",
   "execution_count": 14,
   "metadata": {},
   "outputs": [
    {
     "data": {
      "text/plain": [
       "(4, 4)"
      ]
     },
     "execution_count": 14,
     "metadata": {},
     "output_type": "execute_result"
    }
   ],
   "source": [
    "#Since we have a dataframe we can count all rows and colum using the method shape:\n",
    "df.shape"
   ]
  },
  {
   "cell_type": "markdown",
   "metadata": {},
   "source": [
    "STEP 4: PLOT THE DATA INTO A PIE CHART"
   ]
  },
  {
   "cell_type": "code",
   "execution_count": 15,
   "metadata": {},
   "outputs": [
    {
     "data": {
      "image/png": "[encoded data removed]",
      "text/plain": [
       "<Figure size 432x288 with 1 Axes>"
      ]
     },
     "metadata": {},
     "output_type": "display_data"
    }
   ],
   "source": [
    "#Now let's see if we can plot the data into a pie chart! Check out the tutorial here: \n",
    "#https://www.youtube.com/watch?v=8GdvRNblTqg\n",
    "import matplotlib.pyplot as plt\n",
    "\n",
    "# Data to plot\n",
    "percentages = [4.15, 4.47, 11.7, 31.11]\n",
    "#percentages = [184940823/4446069143, 102597276/2292807221, 50386754/430457607, 182891341/587934386]\n",
    "regions = ['APAC', 'EMEA', 'LATAM', 'NOAM']\n",
    "exp = [0, 0, 0, 0.1] #explode the slice with the maximum data\n",
    "cl = ['greenyellow', 'pink', 'lemonchiffon', 'aquamarine']\n",
    "#plt.pie(percentages, labels = regions, explode = exp, colors = cl, autopct ='%2.2f%%', normalize = False)\n",
    "plt.pie(percentages, labels = regions, explode = exp, colors = cl)\n",
    "plt.show()\n"
   ]
  },
  {
   "cell_type": "markdown",
   "metadata": {},
   "source": [
    "STEP 5: WRITE THE RESULTS TO A FILE"
   ]
  },
  {
   "cell_type": "code",
   "execution_count": 16,
   "metadata": {},
   "outputs": [],
   "source": [
    "for row in range(2, sheet.max_row + 1):\n",
    "    people_vaccinated = sheet['B' + str(row)].value\n",
    "    population = sheet['C' + str(row)].value\n",
    "    vaccination_rate = sheet['D' + str(row)].value"
   ]
  },
  {
   "cell_type": "code",
   "execution_count": 17,
   "metadata": {},
   "outputs": [],
   "source": [
    "#Let's call the regionData dictionary to remember what it looks like:\n",
    "regionData = {\n",
    "    \"Region\":\n",
    "                [\"APAC\", \"EMEA \", \"LATAM\", \"NOAM\" ],\n",
    "    \n",
    "    \"People Vaccinated\": \n",
    "               [\"184,940,823\", \"102,597,276\", \"50,386,754\", \"182891341\"],\n",
    "                                      \n",
    "    \"Population\": \n",
    "              [4446069143, 2292807221, 430457607, 587934386],\n",
    "                                    \n",
    "    \"% Vaccination Rate\":\n",
    "               [4.15964792835432, 4.47474497900668, 11.7053928611372, 31.1074407884692],\n",
    "    \n",
    "}"
   ]
  },
  {
   "cell_type": "markdown",
   "metadata": {},
   "source": [
    "At this point we could program more code to write this to a text file or another Excel spreadsheet. For now, \n",
    "let’s just use the pprint.pformat() function to write the regionData dictionary value as a massive string to \n",
    "a file named vaccinationRate.py. \n",
    "    "
   ]
  },
  {
   "cell_type": "code",
   "execution_count": 18,
   "metadata": {},
   "outputs": [
    {
     "name": "stdout",
     "output_type": "stream",
     "text": [
      "Writing results...\n",
      "Done.\n",
      "Writing results...\n",
      "Done.\n",
      "Writing results...\n",
      "Done.\n",
      "Writing results...\n",
      "Done.\n",
      "Writing results...\n",
      "Done.\n"
     ]
    }
   ],
   "source": [
    "for row in range(2, sheet.max_row + 1):\n",
    "    # Open a new text file and write the contents of regionData to it.\n",
    "    print('Writing results...')\n",
    "    resultFile = open('vaccinationRate.py', 'w')\n",
    "    resultFile.write('allData = ' + pprint.pformat(regionData))\n",
    "    resultFile.close()\n",
    "    print('Done.')\n"
   ]
  },
  {
   "cell_type": "markdown",
   "metadata": {},
   "source": [
    "The pprint.pformat() function produces a string that itself is formatted as valid Python code.\n",
    "By outputting it to a text file named vaccinationRate.py, we’ve generated a Python program from our Python program! \n",
    "This may seem complicated, but the advantage is that we can now import vaccinationRate.py just like any other Python module.\n",
    "\n",
    "\n",
    "\n"
   ]
  },
  {
   "cell_type": "code",
   "execution_count": 19,
   "metadata": {},
   "outputs": [
    {
     "name": "stdout",
     "output_type": "stream",
     "text": [
      "The vaccination percentage of the APAC region is 4.15964792835432\n"
     ]
    }
   ],
   "source": [
    "import os\n",
    "import vaccinationRate\n",
    "vaccinationRate.allData['Region']\n",
    "APACVax = vaccinationRate.allData['% Vaccination Rate'][0]\n",
    "\n",
    "print('The vaccination percentage of the APAC region is ' + str(APACVax))"
   ]
  },
  {
   "cell_type": "code",
   "execution_count": 20,
   "metadata": {},
   "outputs": [
    {
     "data": {
      "text/plain": [
       "{'% Vaccination Rate': [4.15964792835432,\n",
       "  4.47474497900668,\n",
       "  11.7053928611372,\n",
       "  31.1074407884692],\n",
       " 'People Vaccinated': ['184,940,823',\n",
       "  '102,597,276',\n",
       "  '50,386,754',\n",
       "  '182891341'],\n",
       " 'Population': [4446069143, 2292807221, 430457607, 587934386],\n",
       " 'Region': ['APAC', 'EMEA ', 'LATAM', 'NOAM']}"
      ]
     },
     "execution_count": 20,
     "metadata": {},
     "output_type": "execute_result"
    }
   ],
   "source": [
    "#To understand what's happening above it helps if we displayvaccinationRate.allData\n",
    "vaccinationRate.allData"
   ]
  },
  {
   "cell_type": "markdown",
   "metadata": {},
   "source": [
    "STEP 6: INSERT A PIE CHART INTO AN EXCEL FILE\n"
   ]
  },
  {
   "cell_type": "code",
   "execution_count": 21,
   "metadata": {},
   "outputs": [],
   "source": [
    "#Import the data from the original file that Aditya sent:\n",
    "adityaData_firstTab = pd.read_excel('Aditya.xlsx') #This only reads the first sheet as shown below"
   ]
  },
  {
   "cell_type": "code",
   "execution_count": 22,
   "metadata": {},
   "outputs": [
    {
     "data": {
      "text/html": [
       "<div>\n",
       "<style scoped>\n",
       "    .dataframe tbody tr th:only-of-type {\n",
       "        vertical-align: middle;\n",
       "    }\n",
       "\n",
       "    .dataframe tbody tr th {\n",
       "        vertical-align: top;\n",
       "    }\n",
       "\n",
       "    .dataframe thead th {\n",
       "        text-align: right;\n",
       "    }\n",
       "</style>\n",
       "<table border=\"1\" class=\"dataframe\">\n",
       "  <thead>\n",
       "    <tr style=\"text-align: right;\">\n",
       "      <th></th>\n",
       "      <th>Unnamed: 0</th>\n",
       "      <th>Unnamed: 1</th>\n",
       "      <th>Unnamed: 2</th>\n",
       "      <th>Unnamed: 3</th>\n",
       "      <th>Unnamed: 4</th>\n",
       "    </tr>\n",
       "  </thead>\n",
       "  <tbody>\n",
       "    <tr>\n",
       "      <th>0</th>\n",
       "      <td>NaN</td>\n",
       "      <td>Source : https://ourworldindata.org/covid-vacc...</td>\n",
       "      <td>NaN</td>\n",
       "      <td>NaN</td>\n",
       "      <td>NaN</td>\n",
       "    </tr>\n",
       "    <tr>\n",
       "      <th>1</th>\n",
       "      <td>NaN</td>\n",
       "      <td>* Data as of 22nd May, 2021</td>\n",
       "      <td>NaN</td>\n",
       "      <td>NaN</td>\n",
       "      <td>NaN</td>\n",
       "    </tr>\n",
       "    <tr>\n",
       "      <th>2</th>\n",
       "      <td>NaN</td>\n",
       "      <td>NaN</td>\n",
       "      <td>NaN</td>\n",
       "      <td>NaN</td>\n",
       "      <td>NaN</td>\n",
       "    </tr>\n",
       "    <tr>\n",
       "      <th>3</th>\n",
       "      <td>NaN</td>\n",
       "      <td>Region</td>\n",
       "      <td>People Vaccinated</td>\n",
       "      <td>Population</td>\n",
       "      <td>% Vaccination Rate</td>\n",
       "    </tr>\n",
       "    <tr>\n",
       "      <th>4</th>\n",
       "      <td>NaN</td>\n",
       "      <td>APAC</td>\n",
       "      <td>184940823</td>\n",
       "      <td>4446069143</td>\n",
       "      <td>0.0415965</td>\n",
       "    </tr>\n",
       "    <tr>\n",
       "      <th>5</th>\n",
       "      <td>NaN</td>\n",
       "      <td>EMEA</td>\n",
       "      <td>102597276</td>\n",
       "      <td>2292807221</td>\n",
       "      <td>0.0447474</td>\n",
       "    </tr>\n",
       "    <tr>\n",
       "      <th>6</th>\n",
       "      <td>NaN</td>\n",
       "      <td>LATAM</td>\n",
       "      <td>50386754</td>\n",
       "      <td>430457607</td>\n",
       "      <td>0.117054</td>\n",
       "    </tr>\n",
       "    <tr>\n",
       "      <th>7</th>\n",
       "      <td>NaN</td>\n",
       "      <td>NOAM</td>\n",
       "      <td>182891341</td>\n",
       "      <td>587934386</td>\n",
       "      <td>0.311074</td>\n",
       "    </tr>\n",
       "    <tr>\n",
       "      <th>8</th>\n",
       "      <td>NaN</td>\n",
       "      <td>Total</td>\n",
       "      <td>520816194</td>\n",
       "      <td>7757268357</td>\n",
       "      <td>0.0671391</td>\n",
       "    </tr>\n",
       "  </tbody>\n",
       "</table>\n",
       "</div>"
      ],
      "text/plain": [
       "   Unnamed: 0                                         Unnamed: 1  \\\n",
       "0         NaN  Source : https://ourworldindata.org/covid-vacc...   \n",
       "1         NaN                        * Data as of 22nd May, 2021   \n",
       "2         NaN                                                NaN   \n",
       "3         NaN                                             Region   \n",
       "4         NaN                                               APAC   \n",
       "5         NaN                                               EMEA   \n",
       "6         NaN                                              LATAM   \n",
       "7         NaN                                               NOAM   \n",
       "8         NaN                                             Total    \n",
       "\n",
       "          Unnamed: 2  Unnamed: 3          Unnamed: 4  \n",
       "0                NaN         NaN                 NaN  \n",
       "1                NaN         NaN                 NaN  \n",
       "2                NaN         NaN                 NaN  \n",
       "3  People Vaccinated  Population  % Vaccination Rate  \n",
       "4          184940823  4446069143           0.0415965  \n",
       "5          102597276  2292807221           0.0447474  \n",
       "6           50386754   430457607            0.117054  \n",
       "7          182891341   587934386            0.311074  \n",
       "8          520816194  7757268357           0.0671391  "
      ]
     },
     "execution_count": 22,
     "metadata": {},
     "output_type": "execute_result"
    }
   ],
   "source": [
    "\n",
    "adityaData_firstTab"
   ]
  },
  {
   "cell_type": "code",
   "execution_count": 23,
   "metadata": {},
   "outputs": [],
   "source": [
    "#This reads the sheet named Raw Data 22nd May\n",
    "adityaData_secondtTab = pd.read_excel('Aditya.xlsx', sheet_name=\"Raw Data 22nd May\")\n"
   ]
  },
  {
   "cell_type": "code",
   "execution_count": 24,
   "metadata": {},
   "outputs": [
    {
     "data": {
      "text/html": [
       "<div>\n",
       "<style scoped>\n",
       "    .dataframe tbody tr th:only-of-type {\n",
       "        vertical-align: middle;\n",
       "    }\n",
       "\n",
       "    .dataframe tbody tr th {\n",
       "        vertical-align: top;\n",
       "    }\n",
       "\n",
       "    .dataframe thead th {\n",
       "        text-align: right;\n",
       "    }\n",
       "</style>\n",
       "<table border=\"1\" class=\"dataframe\">\n",
       "  <thead>\n",
       "    <tr style=\"text-align: right;\">\n",
       "      <th></th>\n",
       "      <th>Unnamed: 0</th>\n",
       "      <th>Unnamed: 1</th>\n",
       "      <th>Unnamed: 2</th>\n",
       "      <th>Unnamed: 3</th>\n",
       "      <th>Unnamed: 4</th>\n",
       "      <th>Unnamed: 5</th>\n",
       "      <th>Unnamed: 6</th>\n",
       "      <th>Unnamed: 7</th>\n",
       "      <th>Unnamed: 8</th>\n",
       "      <th>Unnamed: 9</th>\n",
       "      <th>...</th>\n",
       "      <th>Unnamed: 50</th>\n",
       "      <th>Unnamed: 51</th>\n",
       "      <th>Unnamed: 52</th>\n",
       "      <th>Unnamed: 53</th>\n",
       "      <th>Unnamed: 54</th>\n",
       "      <th>Unnamed: 55</th>\n",
       "      <th>Unnamed: 56</th>\n",
       "      <th>Unnamed: 57</th>\n",
       "      <th>Unnamed: 58</th>\n",
       "      <th>Unnamed: 59</th>\n",
       "    </tr>\n",
       "  </thead>\n",
       "  <tbody>\n",
       "    <tr>\n",
       "      <th>0</th>\n",
       "      <td>NaN</td>\n",
       "      <td>Source : https://ourworldindata.org/covid-vacc...</td>\n",
       "      <td>NaN</td>\n",
       "      <td>NaN</td>\n",
       "      <td>NaN</td>\n",
       "      <td>NaN</td>\n",
       "      <td>NaN</td>\n",
       "      <td>NaN</td>\n",
       "      <td>NaN</td>\n",
       "      <td>NaN</td>\n",
       "      <td>...</td>\n",
       "      <td>NaN</td>\n",
       "      <td>NaN</td>\n",
       "      <td>NaN</td>\n",
       "      <td>NaN</td>\n",
       "      <td>NaN</td>\n",
       "      <td>NaN</td>\n",
       "      <td>NaN</td>\n",
       "      <td>NaN</td>\n",
       "      <td>NaN</td>\n",
       "      <td>NaN</td>\n",
       "    </tr>\n",
       "    <tr>\n",
       "      <th>1</th>\n",
       "      <td>NaN</td>\n",
       "      <td>* Data as of 22nd May, 2021</td>\n",
       "      <td>NaN</td>\n",
       "      <td>NaN</td>\n",
       "      <td>NaN</td>\n",
       "      <td>NaN</td>\n",
       "      <td>NaN</td>\n",
       "      <td>NaN</td>\n",
       "      <td>NaN</td>\n",
       "      <td>NaN</td>\n",
       "      <td>...</td>\n",
       "      <td>NaN</td>\n",
       "      <td>NaN</td>\n",
       "      <td>NaN</td>\n",
       "      <td>NaN</td>\n",
       "      <td>NaN</td>\n",
       "      <td>NaN</td>\n",
       "      <td>NaN</td>\n",
       "      <td>NaN</td>\n",
       "      <td>NaN</td>\n",
       "      <td>NaN</td>\n",
       "    </tr>\n",
       "    <tr>\n",
       "      <th>2</th>\n",
       "      <td>NaN</td>\n",
       "      <td>iso_code</td>\n",
       "      <td>continent</td>\n",
       "      <td>location</td>\n",
       "      <td>Country Mapping</td>\n",
       "      <td>people_vaccinated</td>\n",
       "      <td>population</td>\n",
       "      <td>people_vaccinated_per_hundred</td>\n",
       "      <td>total_cases</td>\n",
       "      <td>new_cases</td>\n",
       "      <td>...</td>\n",
       "      <td>gdp_per_capita</td>\n",
       "      <td>extreme_poverty</td>\n",
       "      <td>cardiovasc_death_rate</td>\n",
       "      <td>diabetes_prevalence</td>\n",
       "      <td>female_smokers</td>\n",
       "      <td>male_smokers</td>\n",
       "      <td>handwashing_facilities</td>\n",
       "      <td>hospital_beds_per_thousand</td>\n",
       "      <td>life_expectancy</td>\n",
       "      <td>human_development_index</td>\n",
       "    </tr>\n",
       "    <tr>\n",
       "      <th>3</th>\n",
       "      <td>NaN</td>\n",
       "      <td>AFG</td>\n",
       "      <td>Asia</td>\n",
       "      <td>Afghanistan</td>\n",
       "      <td>APAC</td>\n",
       "      <td>NaN</td>\n",
       "      <td>38928341</td>\n",
       "      <td>NaN</td>\n",
       "      <td>65486</td>\n",
       "      <td>406</td>\n",
       "      <td>...</td>\n",
       "      <td>1803.99</td>\n",
       "      <td>NaN</td>\n",
       "      <td>597.029</td>\n",
       "      <td>9.59</td>\n",
       "      <td>NaN</td>\n",
       "      <td>NaN</td>\n",
       "      <td>37.746</td>\n",
       "      <td>0.5</td>\n",
       "      <td>64.83</td>\n",
       "      <td>0.511</td>\n",
       "    </tr>\n",
       "    <tr>\n",
       "      <th>4</th>\n",
       "      <td>NaN</td>\n",
       "      <td>ALB</td>\n",
       "      <td>Europe</td>\n",
       "      <td>Albania</td>\n",
       "      <td>EMEA</td>\n",
       "      <td>NaN</td>\n",
       "      <td>2877800</td>\n",
       "      <td>NaN</td>\n",
       "      <td>132176</td>\n",
       "      <td>23</td>\n",
       "      <td>...</td>\n",
       "      <td>11803.4</td>\n",
       "      <td>1.1</td>\n",
       "      <td>304.195</td>\n",
       "      <td>10.08</td>\n",
       "      <td>7.1</td>\n",
       "      <td>51.2</td>\n",
       "      <td>NaN</td>\n",
       "      <td>2.89</td>\n",
       "      <td>78.57</td>\n",
       "      <td>0.795</td>\n",
       "    </tr>\n",
       "    <tr>\n",
       "      <th>...</th>\n",
       "      <td>...</td>\n",
       "      <td>...</td>\n",
       "      <td>...</td>\n",
       "      <td>...</td>\n",
       "      <td>...</td>\n",
       "      <td>...</td>\n",
       "      <td>...</td>\n",
       "      <td>...</td>\n",
       "      <td>...</td>\n",
       "      <td>...</td>\n",
       "      <td>...</td>\n",
       "      <td>...</td>\n",
       "      <td>...</td>\n",
       "      <td>...</td>\n",
       "      <td>...</td>\n",
       "      <td>...</td>\n",
       "      <td>...</td>\n",
       "      <td>...</td>\n",
       "      <td>...</td>\n",
       "      <td>...</td>\n",
       "      <td>...</td>\n",
       "    </tr>\n",
       "    <tr>\n",
       "      <th>194</th>\n",
       "      <td>NaN</td>\n",
       "      <td>VEN</td>\n",
       "      <td>South America</td>\n",
       "      <td>Venezuela</td>\n",
       "      <td>LATAM</td>\n",
       "      <td>NaN</td>\n",
       "      <td>28435943</td>\n",
       "      <td>NaN</td>\n",
       "      <td>222052</td>\n",
       "      <td>1010</td>\n",
       "      <td>...</td>\n",
       "      <td>16745</td>\n",
       "      <td>NaN</td>\n",
       "      <td>204.85</td>\n",
       "      <td>6.47</td>\n",
       "      <td>NaN</td>\n",
       "      <td>NaN</td>\n",
       "      <td>NaN</td>\n",
       "      <td>0.8</td>\n",
       "      <td>72.06</td>\n",
       "      <td>0.711</td>\n",
       "    </tr>\n",
       "    <tr>\n",
       "      <th>195</th>\n",
       "      <td>NaN</td>\n",
       "      <td>VNM</td>\n",
       "      <td>Asia</td>\n",
       "      <td>Vietnam</td>\n",
       "      <td>APAC</td>\n",
       "      <td>NaN</td>\n",
       "      <td>97338583</td>\n",
       "      <td>NaN</td>\n",
       "      <td>5119</td>\n",
       "      <td>178</td>\n",
       "      <td>...</td>\n",
       "      <td>6171.88</td>\n",
       "      <td>2</td>\n",
       "      <td>245.465</td>\n",
       "      <td>6</td>\n",
       "      <td>1</td>\n",
       "      <td>45.9</td>\n",
       "      <td>85.847</td>\n",
       "      <td>2.6</td>\n",
       "      <td>75.4</td>\n",
       "      <td>0.704</td>\n",
       "    </tr>\n",
       "    <tr>\n",
       "      <th>196</th>\n",
       "      <td>NaN</td>\n",
       "      <td>YEM</td>\n",
       "      <td>Asia</td>\n",
       "      <td>Yemen</td>\n",
       "      <td>EMEA</td>\n",
       "      <td>NaN</td>\n",
       "      <td>29825968</td>\n",
       "      <td>NaN</td>\n",
       "      <td>6649</td>\n",
       "      <td>17</td>\n",
       "      <td>...</td>\n",
       "      <td>1479.15</td>\n",
       "      <td>18.8</td>\n",
       "      <td>495.003</td>\n",
       "      <td>5.35</td>\n",
       "      <td>7.6</td>\n",
       "      <td>29.2</td>\n",
       "      <td>49.542</td>\n",
       "      <td>0.7</td>\n",
       "      <td>66.12</td>\n",
       "      <td>0.47</td>\n",
       "    </tr>\n",
       "    <tr>\n",
       "      <th>197</th>\n",
       "      <td>NaN</td>\n",
       "      <td>ZMB</td>\n",
       "      <td>Africa</td>\n",
       "      <td>Zambia</td>\n",
       "      <td>EMEA</td>\n",
       "      <td>131633</td>\n",
       "      <td>18383956</td>\n",
       "      <td>0.72</td>\n",
       "      <td>93106</td>\n",
       "      <td>186</td>\n",
       "      <td>...</td>\n",
       "      <td>3689.25</td>\n",
       "      <td>57.5</td>\n",
       "      <td>234.499</td>\n",
       "      <td>3.94</td>\n",
       "      <td>3.1</td>\n",
       "      <td>24.7</td>\n",
       "      <td>13.938</td>\n",
       "      <td>2</td>\n",
       "      <td>63.89</td>\n",
       "      <td>0.584</td>\n",
       "    </tr>\n",
       "    <tr>\n",
       "      <th>198</th>\n",
       "      <td>NaN</td>\n",
       "      <td>ZWE</td>\n",
       "      <td>Africa</td>\n",
       "      <td>Zimbabwe</td>\n",
       "      <td>EMEA</td>\n",
       "      <td>NaN</td>\n",
       "      <td>14862927</td>\n",
       "      <td>NaN</td>\n",
       "      <td>38679</td>\n",
       "      <td>15</td>\n",
       "      <td>...</td>\n",
       "      <td>1899.78</td>\n",
       "      <td>21.4</td>\n",
       "      <td>307.846</td>\n",
       "      <td>1.82</td>\n",
       "      <td>1.6</td>\n",
       "      <td>30.7</td>\n",
       "      <td>36.791</td>\n",
       "      <td>1.7</td>\n",
       "      <td>61.49</td>\n",
       "      <td>0.571</td>\n",
       "    </tr>\n",
       "  </tbody>\n",
       "</table>\n",
       "<p>199 rows × 60 columns</p>\n",
       "</div>"
      ],
      "text/plain": [
       "     Unnamed: 0                                         Unnamed: 1  \\\n",
       "0           NaN  Source : https://ourworldindata.org/covid-vacc...   \n",
       "1           NaN                        * Data as of 22nd May, 2021   \n",
       "2           NaN                                           iso_code   \n",
       "3           NaN                                                AFG   \n",
       "4           NaN                                                ALB   \n",
       "..          ...                                                ...   \n",
       "194         NaN                                                VEN   \n",
       "195         NaN                                                VNM   \n",
       "196         NaN                                                YEM   \n",
       "197         NaN                                                ZMB   \n",
       "198         NaN                                                ZWE   \n",
       "\n",
       "        Unnamed: 2   Unnamed: 3       Unnamed: 4         Unnamed: 5  \\\n",
       "0              NaN          NaN              NaN                NaN   \n",
       "1              NaN          NaN              NaN                NaN   \n",
       "2        continent     location  Country Mapping  people_vaccinated   \n",
       "3             Asia  Afghanistan             APAC                NaN   \n",
       "4           Europe      Albania             EMEA                NaN   \n",
       "..             ...          ...              ...                ...   \n",
       "194  South America    Venezuela            LATAM                NaN   \n",
       "195           Asia      Vietnam             APAC                NaN   \n",
       "196           Asia        Yemen             EMEA                NaN   \n",
       "197         Africa       Zambia             EMEA             131633   \n",
       "198         Africa     Zimbabwe             EMEA                NaN   \n",
       "\n",
       "     Unnamed: 6                     Unnamed: 7   Unnamed: 8 Unnamed: 9  ...  \\\n",
       "0           NaN                            NaN          NaN        NaN  ...   \n",
       "1           NaN                            NaN          NaN        NaN  ...   \n",
       "2    population  people_vaccinated_per_hundred  total_cases  new_cases  ...   \n",
       "3      38928341                            NaN        65486        406  ...   \n",
       "4       2877800                            NaN       132176         23  ...   \n",
       "..          ...                            ...          ...        ...  ...   \n",
       "194    28435943                            NaN       222052       1010  ...   \n",
       "195    97338583                            NaN         5119        178  ...   \n",
       "196    29825968                            NaN         6649         17  ...   \n",
       "197    18383956                           0.72        93106        186  ...   \n",
       "198    14862927                            NaN        38679         15  ...   \n",
       "\n",
       "        Unnamed: 50      Unnamed: 51            Unnamed: 52  \\\n",
       "0               NaN              NaN                    NaN   \n",
       "1               NaN              NaN                    NaN   \n",
       "2    gdp_per_capita  extreme_poverty  cardiovasc_death_rate   \n",
       "3           1803.99              NaN                597.029   \n",
       "4           11803.4              1.1                304.195   \n",
       "..              ...              ...                    ...   \n",
       "194           16745              NaN                 204.85   \n",
       "195         6171.88                2                245.465   \n",
       "196         1479.15             18.8                495.003   \n",
       "197         3689.25             57.5                234.499   \n",
       "198         1899.78             21.4                307.846   \n",
       "\n",
       "             Unnamed: 53     Unnamed: 54   Unnamed: 55  \\\n",
       "0                    NaN             NaN           NaN   \n",
       "1                    NaN             NaN           NaN   \n",
       "2    diabetes_prevalence  female_smokers  male_smokers   \n",
       "3                   9.59             NaN           NaN   \n",
       "4                  10.08             7.1          51.2   \n",
       "..                   ...             ...           ...   \n",
       "194                 6.47             NaN           NaN   \n",
       "195                    6               1          45.9   \n",
       "196                 5.35             7.6          29.2   \n",
       "197                 3.94             3.1          24.7   \n",
       "198                 1.82             1.6          30.7   \n",
       "\n",
       "                Unnamed: 56                 Unnamed: 57      Unnamed: 58  \\\n",
       "0                       NaN                         NaN              NaN   \n",
       "1                       NaN                         NaN              NaN   \n",
       "2    handwashing_facilities  hospital_beds_per_thousand  life_expectancy   \n",
       "3                    37.746                         0.5            64.83   \n",
       "4                       NaN                        2.89            78.57   \n",
       "..                      ...                         ...              ...   \n",
       "194                     NaN                         0.8            72.06   \n",
       "195                  85.847                         2.6             75.4   \n",
       "196                  49.542                         0.7            66.12   \n",
       "197                  13.938                           2            63.89   \n",
       "198                  36.791                         1.7            61.49   \n",
       "\n",
       "                 Unnamed: 59  \n",
       "0                        NaN  \n",
       "1                        NaN  \n",
       "2    human_development_index  \n",
       "3                      0.511  \n",
       "4                      0.795  \n",
       "..                       ...  \n",
       "194                    0.711  \n",
       "195                    0.704  \n",
       "196                     0.47  \n",
       "197                    0.584  \n",
       "198                    0.571  \n",
       "\n",
       "[199 rows x 60 columns]"
      ]
     },
     "execution_count": 24,
     "metadata": {},
     "output_type": "execute_result"
    }
   ],
   "source": [
    "adityaData_secondtTab"
   ]
  },
  {
   "cell_type": "code",
   "execution_count": 25,
   "metadata": {},
   "outputs": [],
   "source": [
    "adityaData_thirdTab = pd.read_excel('Aditya.xlsx', sheet_name = 'Country Mapping')"
   ]
  },
  {
   "cell_type": "code",
   "execution_count": 26,
   "metadata": {},
   "outputs": [
    {
     "data": {
      "text/html": [
       "<div>\n",
       "<style scoped>\n",
       "    .dataframe tbody tr th:only-of-type {\n",
       "        vertical-align: middle;\n",
       "    }\n",
       "\n",
       "    .dataframe tbody tr th {\n",
       "        vertical-align: top;\n",
       "    }\n",
       "\n",
       "    .dataframe thead th {\n",
       "        text-align: right;\n",
       "    }\n",
       "</style>\n",
       "<table border=\"1\" class=\"dataframe\">\n",
       "  <thead>\n",
       "    <tr style=\"text-align: right;\">\n",
       "      <th></th>\n",
       "      <th>Unnamed: 0</th>\n",
       "      <th>Unnamed: 1</th>\n",
       "      <th>Unnamed: 2</th>\n",
       "    </tr>\n",
       "  </thead>\n",
       "  <tbody>\n",
       "    <tr>\n",
       "      <th>0</th>\n",
       "      <td>NaN</td>\n",
       "      <td>Find out what the inoculation rate is for the ...</td>\n",
       "      <td>NaN</td>\n",
       "    </tr>\n",
       "    <tr>\n",
       "      <th>1</th>\n",
       "      <td>NaN</td>\n",
       "      <td>Display in pie chart. This has been requested ...</td>\n",
       "      <td>NaN</td>\n",
       "    </tr>\n",
       "    <tr>\n",
       "      <th>2</th>\n",
       "      <td>NaN</td>\n",
       "      <td>NaN</td>\n",
       "      <td>NaN</td>\n",
       "    </tr>\n",
       "    <tr>\n",
       "      <th>3</th>\n",
       "      <td>NaN</td>\n",
       "      <td>Country</td>\n",
       "      <td>Group</td>\n",
       "    </tr>\n",
       "    <tr>\n",
       "      <th>4</th>\n",
       "      <td>NaN</td>\n",
       "      <td>Albania</td>\n",
       "      <td>EMEA</td>\n",
       "    </tr>\n",
       "    <tr>\n",
       "      <th>...</th>\n",
       "      <td>...</td>\n",
       "      <td>...</td>\n",
       "      <td>...</td>\n",
       "    </tr>\n",
       "    <tr>\n",
       "      <th>215</th>\n",
       "      <td>NaN</td>\n",
       "      <td>Sao Tome and Principe</td>\n",
       "      <td>EMEA</td>\n",
       "    </tr>\n",
       "    <tr>\n",
       "      <th>216</th>\n",
       "      <td>NaN</td>\n",
       "      <td>Seychelles</td>\n",
       "      <td>EMEA</td>\n",
       "    </tr>\n",
       "    <tr>\n",
       "      <th>217</th>\n",
       "      <td>NaN</td>\n",
       "      <td>Sierra Leone</td>\n",
       "      <td>EMEA</td>\n",
       "    </tr>\n",
       "    <tr>\n",
       "      <th>218</th>\n",
       "      <td>NaN</td>\n",
       "      <td>South Sudan</td>\n",
       "      <td>EMEA</td>\n",
       "    </tr>\n",
       "    <tr>\n",
       "      <th>219</th>\n",
       "      <td>NaN</td>\n",
       "      <td>Vatican</td>\n",
       "      <td>EMEA</td>\n",
       "    </tr>\n",
       "  </tbody>\n",
       "</table>\n",
       "<p>220 rows × 3 columns</p>\n",
       "</div>"
      ],
      "text/plain": [
       "     Unnamed: 0                                         Unnamed: 1 Unnamed: 2\n",
       "0           NaN  Find out what the inoculation rate is for the ...        NaN\n",
       "1           NaN  Display in pie chart. This has been requested ...        NaN\n",
       "2           NaN                                                NaN        NaN\n",
       "3           NaN                                            Country      Group\n",
       "4           NaN                                            Albania       EMEA\n",
       "..          ...                                                ...        ...\n",
       "215         NaN                              Sao Tome and Principe       EMEA\n",
       "216         NaN                                         Seychelles       EMEA\n",
       "217         NaN                                       Sierra Leone       EMEA\n",
       "218         NaN                                        South Sudan       EMEA\n",
       "219         NaN                                            Vatican       EMEA\n",
       "\n",
       "[220 rows x 3 columns]"
      ]
     },
     "execution_count": 26,
     "metadata": {},
     "output_type": "execute_result"
    }
   ],
   "source": [
    "adityaData_thirdTab "
   ]
  },
  {
   "cell_type": "code",
   "execution_count": 27,
   "metadata": {},
   "outputs": [],
   "source": [
    "#Small digression, I just noticed a file I don't need, I am going to remove it\n",
    "import os\n",
    "os.remove(\"vax_chart_pie.xlsx\")"
   ]
  },
  {
   "cell_type": "markdown",
   "metadata": {},
   "source": [
    "For plotting the charts on an excel sheet:\n",
    "    \n",
    "    1. Create chart object of specific chart type( i.e Pie chart etc.)\n",
    "    2. Insert data in it\n",
    "    3. Add that chart object in the sheet object."
   ]
  },
  {
   "cell_type": "code",
   "execution_count": 28,
   "metadata": {},
   "outputs": [],
   "source": [
    "#Check out this tutorial https://www.geeksforgeeks.org/python-plotting-pie-charts-in-excel-sheet-using-xlsxwriter-module/\n",
    "import xlsxwriter\n",
    "wb = xlsxwriter.Workbook('Vax_Chart_Pie.xlsx')"
   ]
  },
  {
   "cell_type": "code",
   "execution_count": 29,
   "metadata": {},
   "outputs": [
    {
     "data": {
      "text/plain": [
       "<xlsxwriter.workbook.Workbook at 0x242a8c2a460>"
      ]
     },
     "execution_count": 29,
     "metadata": {},
     "output_type": "execute_result"
    }
   ],
   "source": [
    "wb"
   ]
  },
  {
   "cell_type": "code",
   "execution_count": 30,
   "metadata": {},
   "outputs": [],
   "source": [
    "# The workbook object is then used to add new  \n",
    "# worksheet via the add_worksheet() method. \n",
    "worksheet = wb.add_worksheet()"
   ]
  },
  {
   "cell_type": "code",
   "execution_count": 31,
   "metadata": {},
   "outputs": [],
   "source": [
    "# Create a new Format object to formats cells\n",
    "# in worksheets using add_format() method \n",
    "# here we create bold format object \n",
    "bold = wb.add_format({'bold': 1})\n",
    "  "
   ]
  },
  {
   "cell_type": "code",
   "execution_count": 32,
   "metadata": {},
   "outputs": [
    {
     "data": {
      "text/plain": [
       "0"
      ]
     },
     "execution_count": 32,
     "metadata": {},
     "output_type": "execute_result"
    }
   ],
   "source": [
    "# create a data list .\n",
    "headings = ['Region', '% Vaccinated People']\n",
    "  \n",
    "data = [\n",
    "    ['APAC', 'EMEA', 'LATAM', 'NOAM'],\n",
    "    [4.16, 4.47, 11.71, 31.11],\n",
    "]\n",
    "  \n",
    "# Write a row of data starting from 'A1'\n",
    "# with bold format.\n",
    "worksheet.write_row('A1', headings, bold)\n",
    "  \n",
    "# Write a column of data starting from\n",
    "# A2, B2 respectively.\n",
    "worksheet.write_column('A2', data[0])\n",
    "worksheet.write_column('B2', data[1])\n",
    "#worksheet.write_column('C2', data[2])\n",
    "#worksheet.write_column('D2', data[3])\n",
    "  "
   ]
  },
  {
   "cell_type": "code",
   "execution_count": 33,
   "metadata": {},
   "outputs": [],
   "source": [
    "# Create a chart object that can be added\n",
    "# to a worksheet using add_chart() method.\n",
    "  \n",
    "# here we create a pie chart object .\n",
    "chart1 = wb.add_chart({'type': 'pie'})"
   ]
  },
  {
   "cell_type": "code",
   "execution_count": 34,
   "metadata": {},
   "outputs": [
    {
     "data": {
      "text/plain": [
       "<xlsxwriter.chart_pie.ChartPie at 0x242a91f71c0>"
      ]
     },
     "execution_count": 34,
     "metadata": {},
     "output_type": "execute_result"
    }
   ],
   "source": [
    "chart1"
   ]
  },
  {
   "cell_type": "code",
   "execution_count": 35,
   "metadata": {},
   "outputs": [],
   "source": [
    "# Add a data series to a chart\n",
    "# using add_series method.\n",
    "# Configure the first series.\n",
    "#[sheetname, first_row, first_col, last_row, last_col].\n",
    "chart1.add_series({\n",
    "   'name': 'Pie vax data',\n",
    "   'categories':['Sheet1', 1, 0, 4, 0],\n",
    "   'values':['Sheet1', 1, 1, 4, 1],\n",
    "})"
   ]
  },
  {
   "cell_type": "code",
   "execution_count": 36,
   "metadata": {},
   "outputs": [],
   "source": [
    "# Add a chart title \n",
    "chart1.set_title({'name': 'Vaccination by the 4 regions'})"
   ]
  },
  {
   "cell_type": "code",
   "execution_count": 37,
   "metadata": {},
   "outputs": [],
   "source": [
    "# Set an Excel chart style. Colors with white outline and shadow.\n",
    "chart1.set_style(10)"
   ]
  },
  {
   "cell_type": "code",
   "execution_count": 38,
   "metadata": {},
   "outputs": [],
   "source": [
    "# Insert the chart into the worksheet(with an offset).\n",
    "# the top-left corner of a chart is anchored to cell F2. \n",
    "worksheet.insert_chart('F2', chart1, {'x_offset': 25, 'y_offset': 10})"
   ]
  },
  {
   "cell_type": "code",
   "execution_count": 39,
   "metadata": {},
   "outputs": [],
   "source": [
    "# Finally, close the Excel file  \n",
    "# via the close() method.  \n",
    "wb.close() "
   ]
  },
  {
   "cell_type": "markdown",
   "metadata": {},
   "source": [
    "Check out this tutoril to import multiple excel reports into one report with Python: \n",
    "\n",
    "    https://www.youtube.com/watch?v=daeMTChs-r4"
   ]
  },
  {
   "cell_type": "markdown",
   "metadata": {},
   "source": [
    "Continuing the vaccination project with one more requirement from the executives. \n",
    "There are 9 countries that currently have vaccinated (first shot) > 50% of the population according to these\n",
    "2 reliable, validated and recommended sites:\n",
    "    \n",
    "https://graphics.reuters.com/world-coronavirus-tracker-and-maps/vaccination-rollout-and-access/\n",
    "    \n",
    "https://ourworldindata.org/covid-vaccinations\n",
    "    \n",
    "Our task is to combine the data at the 2 sites above with data from these other 2 sites below to come up with a list of \n",
    "international destinations that are safe to travel to with minimal travel restrictions\n",
    "(level 1 according to the travelstride site and no quarantine according to the need2know site). \n",
    "\n",
    "Let's start structuring the data in a dictionary to then build a dataframe from itand do the necessary manipulation/computation"
   ]
  },
  {
   "cell_type": "code",
   "execution_count": 44,
   "metadata": {},
   "outputs": [],
   "source": [
    "International_Destinations = {\n",
    "    \"Country\":\n",
    "                [\"Canada\", \"Barhain \", \"United Kingdom\", \"Israel\", \"Chile\", \"Qatar\", \"Mongolia\", \"Hungary\"],\n",
    "    \n",
    "    \"% Vaccination Rate\": \n",
    "               [64, 62, 62, 60, 61, 56, 51, 54],\n",
    "                                      \n",
    "    \"Level\": \n",
    "              [5, 2, 4, 5, 5, 5, 5, 1],\n",
    "                                    \n",
    "    \"Quarantine Required\":\n",
    "               [\"Yes, 14 days\", \"Yes for non vaccinated people, 10 days\", \"Yes, 10 days\", \"Yes, 14 days\",  \n",
    "                \"Yes, 10 days\", \"Yes, 7 days\", \"Yes, 10 days\", \"Yes, 10 days\"]\n",
    "\n",
    "}"
   ]
  },
  {
   "cell_type": "code",
   "execution_count": 45,
   "metadata": {},
   "outputs": [],
   "source": [
    "import pandas as pd"
   ]
  },
  {
   "cell_type": "code",
   "execution_count": 46,
   "metadata": {},
   "outputs": [],
   "source": [
    "International_Destinations_df = pd.DataFrame(International_Destinations)"
   ]
  },
  {
   "cell_type": "code",
   "execution_count": 47,
   "metadata": {},
   "outputs": [
    {
     "data": {
      "text/html": [
       "<div>\n",
       "<style scoped>\n",
       "    .dataframe tbody tr th:only-of-type {\n",
       "        vertical-align: middle;\n",
       "    }\n",
       "\n",
       "    .dataframe tbody tr th {\n",
       "        vertical-align: top;\n",
       "    }\n",
       "\n",
       "    .dataframe thead th {\n",
       "        text-align: right;\n",
       "    }\n",
       "</style>\n",
       "<table border=\"1\" class=\"dataframe\">\n",
       "  <thead>\n",
       "    <tr style=\"text-align: right;\">\n",
       "      <th></th>\n",
       "      <th>Country</th>\n",
       "      <th>% Vaccination Rate</th>\n",
       "      <th>Level</th>\n",
       "      <th>Quarantine Required</th>\n",
       "    </tr>\n",
       "  </thead>\n",
       "  <tbody>\n",
       "    <tr>\n",
       "      <th>0</th>\n",
       "      <td>Canada</td>\n",
       "      <td>64</td>\n",
       "      <td>5</td>\n",
       "      <td>Yes, 14 days</td>\n",
       "    </tr>\n",
       "    <tr>\n",
       "      <th>1</th>\n",
       "      <td>Barhain</td>\n",
       "      <td>62</td>\n",
       "      <td>2</td>\n",
       "      <td>Yes for non vaccinated people, 10 days</td>\n",
       "    </tr>\n",
       "    <tr>\n",
       "      <th>2</th>\n",
       "      <td>United Kingdom</td>\n",
       "      <td>62</td>\n",
       "      <td>4</td>\n",
       "      <td>Yes, 10 days</td>\n",
       "    </tr>\n",
       "    <tr>\n",
       "      <th>3</th>\n",
       "      <td>Israel</td>\n",
       "      <td>60</td>\n",
       "      <td>5</td>\n",
       "      <td>Yes, 14 days</td>\n",
       "    </tr>\n",
       "    <tr>\n",
       "      <th>4</th>\n",
       "      <td>Chile</td>\n",
       "      <td>61</td>\n",
       "      <td>5</td>\n",
       "      <td>Yes, 10 days</td>\n",
       "    </tr>\n",
       "    <tr>\n",
       "      <th>5</th>\n",
       "      <td>Qatar</td>\n",
       "      <td>56</td>\n",
       "      <td>5</td>\n",
       "      <td>Yes, 7 days</td>\n",
       "    </tr>\n",
       "    <tr>\n",
       "      <th>6</th>\n",
       "      <td>Mongolia</td>\n",
       "      <td>51</td>\n",
       "      <td>5</td>\n",
       "      <td>Yes, 10 days</td>\n",
       "    </tr>\n",
       "    <tr>\n",
       "      <th>7</th>\n",
       "      <td>Hungary</td>\n",
       "      <td>54</td>\n",
       "      <td>1</td>\n",
       "      <td>Yes, 10 days</td>\n",
       "    </tr>\n",
       "  </tbody>\n",
       "</table>\n",
       "</div>"
      ],
      "text/plain": [
       "          Country  % Vaccination Rate  Level  \\\n",
       "0          Canada                  64      5   \n",
       "1        Barhain                   62      2   \n",
       "2  United Kingdom                  62      4   \n",
       "3          Israel                  60      5   \n",
       "4           Chile                  61      5   \n",
       "5           Qatar                  56      5   \n",
       "6        Mongolia                  51      5   \n",
       "7         Hungary                  54      1   \n",
       "\n",
       "                      Quarantine Required  \n",
       "0                            Yes, 14 days  \n",
       "1  Yes for non vaccinated people, 10 days  \n",
       "2                            Yes, 10 days  \n",
       "3                            Yes, 14 days  \n",
       "4                            Yes, 10 days  \n",
       "5                             Yes, 7 days  \n",
       "6                            Yes, 10 days  \n",
       "7                            Yes, 10 days  "
      ]
     },
     "execution_count": 47,
     "metadata": {},
     "output_type": "execute_result"
    }
   ],
   "source": [
    "International_Destinations_df"
   ]
  },
  {
   "cell_type": "code",
   "execution_count": null,
   "metadata": {},
   "outputs": [],
   "source": []
  },
  {
   "cell_type": "code",
   "execution_count": null,
   "metadata": {},
   "outputs": [],
   "source": []
  }
 ],
 "metadata": {
  "kernelspec": {
   "display_name": "Python 3",
   "language": "python",
   "name": "python3"
  },
  "language_info": {
   "codemirror_mode": {
    "name": "ipython",
    "version": 3
   },
   "file_extension": ".py",
   "mimetype": "text/x-python",
   "name": "python",
   "nbconvert_exporter": "python",
   "pygments_lexer": "ipython3",
   "version": "3.8.5"
  }
 },
 "nbformat": 4,
 "nbformat_minor": 4
}
