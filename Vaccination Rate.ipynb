{
 "cells": [
  {
   "cell_type": "markdown",
   "metadata": {},
   "source": [
    "Project: Reading Data from a Spreadsheet\n",
    "    \n",
    "Say you have a spreadsheet of data displaying the vaccination rate for the 4 regions: EMEA, APAC, NOAM, LATAM.\n",
    "You are given the task of going through its rows to count both the total population and the vaccination rate.\n",
    "Each row represents a single region.\n",
    "\n",
    "In this project, we’ll write a script that can read from the vaccination spreadsheet file and calculate statistics \n",
    "for each region in a matter of seconds.\n",
    "\n",
    "This is what our program does:\n",
    "\n",
    "1. Reads the data from the Excel spreadsheet\n",
    "2. Counts the vaccination rate for every region\n",
    "3. Counts the total population of each region\n",
    "4. Prints the results\n",
    "\n",
    "This means your code will need to do the following:\n",
    "\n",
    "1. Open and read the cells of an Excel document with the openpyxl module.\n",
    "2. Calculate all the vaccination and population data and store it in a data structure.\n",
    "3. Write the data structure to a text file with the .py extension using the pprint module."
   ]
  },
  {
   "cell_type": "markdown",
   "metadata": {},
   "source": [
    "STEP 1: READ THE SPREADSHEET DATA"
   ]
  },
  {
   "cell_type": "markdown",
   "metadata": {},
   "source": [
    "There is just one sheet in the Vaccination_4_regions.xlsx spreadsheet, named 'Vaccination by region', \n",
    "and each row holds the data for a single region. \n",
    "The columns are the Region (A), People Vaccinated (B), Population (C), % Vaccination Rate (D), Legend (E). "
   ]
  },
  {
   "cell_type": "code",
   "execution_count": 1,
   "metadata": {},
   "outputs": [
    {
     "name": "stdout",
     "output_type": "stream",
     "text": [
      "Opening workbook...\n"
     ]
    },
    {
     "data": {
      "text/plain": [
       "['Vaccination by region']"
      ]
     },
     "execution_count": 1,
     "metadata": {},
     "output_type": "execute_result"
    }
   ],
   "source": [
    "import openpyxl, pprint\n",
    "print('Opening workbook...')\n",
    "wb = openpyxl.load_workbook('Vaccination_4_regions.xlsx')\n",
    "wb.sheetnames"
   ]
  },
  {
   "cell_type": "code",
   "execution_count": 2,
   "metadata": {},
   "outputs": [
    {
     "data": {
      "text/plain": [
       "['Vaccination by region']"
      ]
     },
     "execution_count": 2,
     "metadata": {},
     "output_type": "execute_result"
    }
   ],
   "source": [
    "wb.sheetnames"
   ]
  },
  {
   "cell_type": "code",
   "execution_count": 13,
   "metadata": {},
   "outputs": [],
   "source": [
    "sheet = wb['Vaccination by region']"
   ]
  },
  {
   "cell_type": "code",
   "execution_count": 4,
   "metadata": {},
   "outputs": [
    {
     "data": {
      "text/plain": [
       "<Worksheet \"Vaccination by region\">"
      ]
     },
     "execution_count": 4,
     "metadata": {},
     "output_type": "execute_result"
    }
   ],
   "source": [
    "sheet"
   ]
  },
  {
   "cell_type": "code",
   "execution_count": 5,
   "metadata": {},
   "outputs": [],
   "source": [
    "regionData = {}"
   ]
  },
  {
   "cell_type": "code",
   "execution_count": 6,
   "metadata": {},
   "outputs": [
    {
     "name": "stdout",
     "output_type": "stream",
     "text": [
      "Reading rows...\n"
     ]
    }
   ],
   "source": [
    "#TO DO: Fill in regionData with each region population and vaccination rate.\n",
    "print('Reading rows...')\n",
    "for row in range(2, sheet.max_row + 1):\n",
    "    people_vaccinated = sheet['B' + str(row)].value\n",
    "    population = sheet['C' + str(row)].value\n",
    "    vaccination_rate = sheet['D' + str(row)].value"
   ]
  },
  {
   "cell_type": "code",
   "execution_count": 7,
   "metadata": {},
   "outputs": [
    {
     "data": {
      "text/plain": [
       "520816194"
      ]
     },
     "execution_count": 7,
     "metadata": {},
     "output_type": "execute_result"
    }
   ],
   "source": [
    "#Double check that the values match:\n",
    "people_vaccinated"
   ]
  },
  {
   "cell_type": "code",
   "execution_count": 8,
   "metadata": {},
   "outputs": [
    {
     "data": {
      "text/plain": [
       "7757268357"
      ]
     },
     "execution_count": 8,
     "metadata": {},
     "output_type": "execute_result"
    }
   ],
   "source": [
    "population"
   ]
  },
  {
   "cell_type": "code",
   "execution_count": 9,
   "metadata": {},
   "outputs": [
    {
     "data": {
      "text/plain": [
       "0.06713912295299493"
      ]
     },
     "execution_count": 9,
     "metadata": {},
     "output_type": "execute_result"
    }
   ],
   "source": [
    "vaccination_rate"
   ]
  },
  {
   "cell_type": "code",
   "execution_count": 16,
   "metadata": {},
   "outputs": [
    {
     "name": "stdout",
     "output_type": "stream",
     "text": [
      "Opening workbook...\n",
      "Reading rows...\n",
      "0.022678599999977678\n"
     ]
    }
   ],
   "source": [
    "#A question came up: how long did it take your program to run? Check this out: you can actually find out how long it\n",
    "#will take your program  to run!\n",
    "import timeit\n",
    "code = \"\"\"import openpyxl, pprint\n",
    "print('Opening workbook...')\n",
    "wb = openpyxl.load_workbook('Vaccination_4_regions.xlsx')\n",
    "sheet = wb['Vaccination by region']\n",
    "wb.sheetnames\n",
    "print('Reading rows...')\n",
    "for row in range(2, sheet.max_row + 1):\n",
    "    people_vaccinated = sheet['B' + str(row)].value\n",
    "    population = sheet['C' + str(row)].value\n",
    "    vaccination_rate = sheet['D' + str(row)].value\"\"\"\n",
    "\n",
    "execution_time = timeit.timeit(code, number=1)\n",
    "\n",
    "print(execution_time)"
   ]
  },
  {
   "cell_type": "code",
   "execution_count": null,
   "metadata": {},
   "outputs": [],
   "source": [
    "#Let's apply that to our own code: \n",
    "code = \"\"\"[4, 2, 3, 1, 5].sort()\"\"\"\n",
    "\n",
    "execution_time = timeit.timeit(code, number=1)\n",
    "\n",
    "print(execution_time)"
   ]
  },
  {
   "cell_type": "markdown",
   "metadata": {},
   "source": [
    "The code above imports the openpyxl module, as well as the pprint module that we’ll use to print the final region data\n",
    "Then it opens the Vaccination_4_regions.xlsx file, it gets the sheet with the vaccination data and begins iterating \n",
    "over its rows\n",
    "\n",
    "We’ve also created a variable named regionData, which will contain the populations and vaccination rate for each region. \n",
    "Before we can store anything in it, though, we should determine exactly how we’ll structure the data inside it.\n",
    "\n",
    "TO DO: Open a new text file and write the contents of regionData to it.\n"
   ]
  },
  {
   "cell_type": "markdown",
   "metadata": {},
   "source": [
    "STEP 2: POPULATE THE DATA STRUCTURE"
   ]
  },
  {
   "cell_type": "markdown",
   "metadata": {},
   "source": [
    "The data structure stored in regionData will be a dictionary with the 4 acronyms as its keys. \n",
    "Each region name will in turn map to a dictionary with three keys, 'people vaccinated', 'population', and 'vaccination rate'. \n",
    "These keys map to the number of census \n",
    "tracts and population for the region. For example, the dictionary will look similar to this:"
   ]
  },
  {
   "cell_type": "code",
   "execution_count": null,
   "metadata": {},
   "outputs": [],
   "source": [
    "regionData = {\n",
    "    \"Region\":\n",
    "                [\"APAC\", \"EMEA \", \"LATAM\", \"NOAM\" ],\n",
    "    \n",
    "    \"People Vaccinated\": \n",
    "               [\"184,940,823\", \"102,597,276\", \"50,386,754\", \"182891341\"],\n",
    "                                      \n",
    "    \"Population\": \n",
    "              [4446069143, 2292807221, 430457607, 587934386],\n",
    "                                    \n",
    "    \"% Vaccination Rate\":\n",
    "               [4.15964792835432, 4.47474497900668, 11.7053928611372, 31.1074407884692],\n",
    "    \n",
    "    \"Legend\":\n",
    "               [1, 2, 3, 4]\n",
    "}\n",
    "       "
   ]
  },
  {
   "cell_type": "code",
   "execution_count": null,
   "metadata": {},
   "outputs": [],
   "source": [
    "regionData['Legend'][0]"
   ]
  },
  {
   "cell_type": "code",
   "execution_count": null,
   "metadata": {},
   "outputs": [],
   "source": [
    "import openpyxl, pprint\n",
    "print('Opening workbook...')\n",
    "wb = openpyxl.load_workbook('Vaccination_4_regions.xlsx')\n",
    "wb.sheetnames\n",
    "print('Reading rows...')\n",
    "for row in range(2, sheet.max_row + 1):\n",
    "    people_vaccinated = sheet['B' + str(row)].value\n",
    "    population = sheet['C' + str(row)].value\n",
    "    vaccination_rate = sheet['D' + str(row)].value"
   ]
  },
  {
   "cell_type": "code",
   "execution_count": null,
   "metadata": {},
   "outputs": [],
   "source": [
    "#Double check that the values match:\n",
    "people_vaccinated"
   ]
  },
  {
   "cell_type": "code",
   "execution_count": null,
   "metadata": {},
   "outputs": [],
   "source": [
    "population"
   ]
  },
  {
   "cell_type": "code",
   "execution_count": null,
   "metadata": {},
   "outputs": [],
   "source": [
    "vaccination_rate"
   ]
  },
  {
   "cell_type": "markdown",
   "metadata": {},
   "source": [
    "STEP 3: BUILD A DATAFRAME"
   ]
  },
  {
   "cell_type": "code",
   "execution_count": null,
   "metadata": {},
   "outputs": [],
   "source": [
    "#Now that we have structured the data into a dictionary, we can build a dataframe\n",
    "import pandas as pd\n",
    "df = pd.DataFrame(regionData)"
   ]
  },
  {
   "cell_type": "code",
   "execution_count": null,
   "metadata": {},
   "outputs": [],
   "source": [
    "df"
   ]
  },
  {
   "cell_type": "code",
   "execution_count": null,
   "metadata": {},
   "outputs": [],
   "source": [
    "#Since we have a dataframe we can count all rows and colum using the method shape:\n",
    "df.shape"
   ]
  },
  {
   "cell_type": "markdown",
   "metadata": {},
   "source": [
    "STEP 4: PLOT THE DATA INTO A PIE CHART"
   ]
  },
  {
   "cell_type": "code",
   "execution_count": null,
   "metadata": {},
   "outputs": [],
   "source": [
    "#Now let's see if we can plot the data into a pie chart! Check out the tutorial here: \n",
    "#https://www.youtube.com/watch?v=8GdvRNblTqg\n",
    "import matplotlib.pyplot as plt\n",
    "\n",
    "# Data to plot\n",
    "percentages = [4.15, 4.47, 11.7, 31.11]\n",
    "#percentages = [184940823/4446069143, 102597276/2292807221, 50386754/430457607, 182891341/587934386]\n",
    "regions = ['APAC', 'EMEA', 'LATAM', 'NOAM']\n",
    "exp = [0, 0, 0, 0.1] #explode the slice with the maximum data\n",
    "cl = ['greenyellow', 'pink', 'lemonchiffon', 'aquamarine']\n",
    "#plt.pie(percentages, labels = regions, explode = exp, colors = cl, autopct ='%2.2f%%', normalize = False)\n",
    "plt.pie(percentages, labels = regions, explode = exp, colors = cl)\n",
    "plt.show()\n"
   ]
  },
  {
   "cell_type": "markdown",
   "metadata": {},
   "source": [
    "STEP 5: WRITE THE RESULTS TO S FILE"
   ]
  },
  {
   "cell_type": "code",
   "execution_count": null,
   "metadata": {},
   "outputs": [],
   "source": [
    "for row in range(2, sheet.max_row + 1):\n",
    "    people_vaccinated = sheet['B' + str(row)].value\n",
    "    population = sheet['C' + str(row)].value\n",
    "    vaccination_rate = sheet['D' + str(row)].value"
   ]
  },
  {
   "cell_type": "code",
   "execution_count": null,
   "metadata": {},
   "outputs": [],
   "source": [
    "#Let's call the regionData dictionary to remember what it looks like:\n",
    "regionData = {\n",
    "    \"Region\":\n",
    "                [\"APAC\", \"EMEA \", \"LATAM\", \"NOAM\" ],\n",
    "    \n",
    "    \"People Vaccinated\": \n",
    "               [\"184,940,823\", \"102,597,276\", \"50,386,754\", \"182891341\"],\n",
    "                                      \n",
    "    \"Population\": \n",
    "              [4446069143, 2292807221, 430457607, 587934386],\n",
    "                                    \n",
    "    \"% Vaccination Rate\":\n",
    "               [4.15964792835432, 4.47474497900668, 11.7053928611372, 31.1074407884692],\n",
    "    \n",
    "    \"Legend\":\n",
    "               [1, 2, 3, 4]\n",
    "}"
   ]
  },
  {
   "cell_type": "markdown",
   "metadata": {},
   "source": [
    "At this point we could program more code to write this to a text file or another Excel spreadsheet. For now, \n",
    "let’s just use the pprint.pformat() function to write the regionData dictionary value as a massive string to \n",
    "a file named vaccinationRate.py. \n",
    "    "
   ]
  },
  {
   "cell_type": "code",
   "execution_count": null,
   "metadata": {},
   "outputs": [],
   "source": [
    "for row in range(2, sheet.max_row + 1):\n",
    "    # Open a new text file and write the contents of regionData to it.\n",
    "    print('Writing results...')\n",
    "    resultFile = open('vaccinationRate.py', 'w')\n",
    "    resultFile.write('allData = ' + pprint.pformat(regionData))\n",
    "    resultFile.close()\n",
    "    print('Done.')\n"
   ]
  },
  {
   "cell_type": "markdown",
   "metadata": {},
   "source": [
    "The pprint.pformat() function produces a string that itself is formatted as valid Python code.\n",
    "By outputting it to a text file named vaccinationRate.py, we’ve generated a Python program from our Python program! \n",
    "This may seem complicated, but the advantage is that we can now import vaccinationRate.py just like any other Python module.\n",
    "\n",
    "\n",
    "\n"
   ]
  },
  {
   "cell_type": "code",
   "execution_count": null,
   "metadata": {},
   "outputs": [],
   "source": [
    "#Need to work out the error below \n",
    "import os\n",
    "import vaccinationRate\n",
    "vaccinationRate.allData['Region']\n",
    "APACVax = regionData.allData['Region']['APAC']\n",
    "print('The vaccination percentage of the APAC region is ' + str(APACVax))"
   ]
  },
  {
   "cell_type": "code",
   "execution_count": null,
   "metadata": {},
   "outputs": [],
   "source": []
  }
 ],
 "metadata": {
  "kernelspec": {
   "display_name": "Python 3",
   "language": "python",
   "name": "python3"
  }
 },
 "nbformat": 4,
 "nbformat_minor": 4
}
