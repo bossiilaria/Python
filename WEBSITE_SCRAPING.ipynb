{
 "cells": [
  {
   "cell_type": "markdown",
   "metadata": {},
   "source": [
    "WEBSITE SCRAPING"
   ]
  },
  {
   "cell_type": "markdown",
   "metadata": {},
   "source": [
    "We'll cover how a browser displays info via HTML CSS and JavaScript. We can grab images and information \n",
    "#and convert them into python objects. We'll cover the basic rules of Web scraping.\n",
    "\n",
    "1. You must ask for permission to scrape website. Make sure you are in a country where Web scraping is legal.\n",
    "\n",
    "2. Limitations of Web scraping. Every website's code is  unique, so  you'll have to adjust your script to adapt to every website\n",
    "\n",
    "\n"
   ]
  },
  {
   "cell_type": "markdown",
   "metadata": {},
   "source": [
    "Let's install necessary libraries"
   ]
  },
  {
   "cell_type": "markdown",
   "metadata": {},
   "source": [
    "We did that in the command line"
   ]
  },
  {
   "cell_type": "code",
   "execution_count": 1,
   "metadata": {},
   "outputs": [],
   "source": [
    "import requests\n"
   ]
  },
  {
   "cell_type": "code",
   "execution_count": 2,
   "metadata": {},
   "outputs": [],
   "source": [
    "import bs4"
   ]
  },
  {
   "cell_type": "code",
   "execution_count": null,
   "metadata": {},
   "outputs": [],
   "source": [
    "#let's navigate to the Wikipedia page for Jonas Salk. We'll take a look at the source code. Right click view page source.\n",
    "#We see the HTML. Let's right click on the image and select Inspect to get the CSS for that specific part of the HTML."
   ]
  }
 ],
 "metadata": {
  "kernelspec": {
   "display_name": "Python 3",
   "language": "python",
   "name": "python3"
  },
  "language_info": {
   "codemirror_mode": {
    "name": "ipython",
    "version": 3
   },
   "file_extension": ".py",
   "mimetype": "text/x-python",
   "name": "python",
   "nbconvert_exporter": "python",
   "pygments_lexer": "ipython3",
   "version": "3.8.5"
  }
 },
 "nbformat": 4,
 "nbformat_minor": 4
}
