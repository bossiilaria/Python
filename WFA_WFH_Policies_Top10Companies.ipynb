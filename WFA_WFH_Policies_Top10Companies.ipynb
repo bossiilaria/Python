{
 "cells": [
  {
   "cell_type": "code",
   "execution_count": 3,
   "metadata": {},
   "outputs": [],
   "source": [
    "company = ['LinkedIn', 'Apple', 'Google', 'Twitter', 'Salesforce', 'Facebook', 'Amazon', 'Spotify', 'Netflix', 'Infosys', 'Wipro', 'TCS', 'Lyft',\n",
    "                 'Uber']"
   ]
  },
  {
   "cell_type": "code",
   "execution_count": 4,
   "metadata": {},
   "outputs": [
    {
     "data": {
      "text/plain": [
       "14"
      ]
     },
     "execution_count": 4,
     "metadata": {},
     "output_type": "execute_result"
    }
   ],
   "source": [
    "len(company)"
   ]
  },
  {
   "cell_type": "code",
   "execution_count": 9,
   "metadata": {},
   "outputs": [],
   "source": [
    "policy = ['Hybrid', 'Hybrid', 'Hybrid', 'Hybrid', 'Salesforce', 'Hybrid', 'Amazon', 'Spotify', 'Netflix', 'WFO', 'Hybrid', 'Hybrid',\n",
    "                'Lyft', 'Uber']"
   ]
  },
  {
   "cell_type": "code",
   "execution_count": 10,
   "metadata": {},
   "outputs": [
    {
     "data": {
      "text/plain": [
       "14"
      ]
     },
     "execution_count": 10,
     "metadata": {},
     "output_type": "execute_result"
    }
   ],
   "source": [
    "len(policy) "
   ]
  },
  {
   "cell_type": "code",
   "execution_count": 11,
   "metadata": {},
   "outputs": [],
   "source": [
    "vaxmandate = ['No', 'Voluntary', 'Yes', 'Yes', 'Salesforce', 'Yes', 'Amazon', 'Spotify', 'Yes', 'No', 'No', '', 'Yes',\n",
    "                 'Uber']"
   ]
  },
  {
   "cell_type": "code",
   "execution_count": 12,
   "metadata": {},
   "outputs": [
    {
     "data": {
      "text/plain": [
       "14"
      ]
     },
     "execution_count": 12,
     "metadata": {},
     "output_type": "execute_result"
    }
   ],
   "source": [
    "len(vaxmandate)"
   ]
  },
  {
   "cell_type": "code",
   "execution_count": 13,
   "metadata": {},
   "outputs": [],
   "source": [
    "remarks = ['', '3-5 days a week', '', 'Closing SF and NY office after reopening 2 weeks ago', 'Salesforce', 'Facebook', 'Amazon', 'Spotify', 'Netflix', '', '', 'Lyft',\n",
    "                 'Uber', '']"
   ]
  },
  {
   "cell_type": "code",
   "execution_count": 14,
   "metadata": {},
   "outputs": [
    {
     "data": {
      "text/plain": [
       "14"
      ]
     },
     "execution_count": 14,
     "metadata": {},
     "output_type": "execute_result"
    }
   ],
   "source": [
    "len(remarks)"
   ]
  },
  {
   "cell_type": "code",
   "execution_count": 15,
   "metadata": {},
   "outputs": [],
   "source": [
    "effective = ['', 'October2021', 'October2021', '', 'Salesforce', 'Facebook', 'Amazon', 'Spotify', 'Netflix', '', '', '', 'Lyft',\n",
    "                 'Uber']"
   ]
  },
  {
   "cell_type": "code",
   "execution_count": 16,
   "metadata": {},
   "outputs": [
    {
     "data": {
      "text/plain": [
       "14"
      ]
     },
     "execution_count": 16,
     "metadata": {},
     "output_type": "execute_result"
    }
   ],
   "source": [
    "len(effective)"
   ]
  },
  {
   "cell_type": "code",
   "execution_count": 22,
   "metadata": {},
   "outputs": [],
   "source": [
    "datasources = ['', ['https://gizmodo.com/apple-reportedly-pushing-back-return-to-office-plans-am-1847327310',\n",
    "                      'https://www.macrumors.com/2021/04/23/apple-covid-19-vaccine-employee-program/'], \n",
    "                      ['https://news.yahoo.com/google-mandates-vaccines-employees-returning-185500440.html?fr=yhssrp_catchall',\n",
    "                       'https://www.nytimes.com/2021/07/23/business/return-to-office-vaccine-mandates-delta-variant.html'], \n",
    "                      'https://www.businessinsider.com/remote-working-divide-amazon-twitter-goldman-spotify-hybrid-offices-2021-3', 'Salesforce', 'Facebook', 'Amazon', 'Spotify', 'Netflix', \n",
    "                      ' http://content.techgig.com/Is-it-the-end-of-Work-from-Home-for-Indian-IT-industry/articleshow/84700125.cms', \n",
    "                      'https://content.techgig.com/it-is-back-to-office-for-2-lakh-wipro-employees/articleshow/84550471.cms',\n",
    "                      'https://content.techgig.com/tcs-employees-to-return-to-the-office-post-pandemic/articleshow/83512213.cms', 'Lyft',\n",
    "                 'Uber']"
   ]
  },
  {
   "cell_type": "code",
   "execution_count": 23,
   "metadata": {},
   "outputs": [
    {
     "data": {
      "text/plain": [
       "14"
      ]
     },
     "execution_count": 23,
     "metadata": {},
     "output_type": "execute_result"
    }
   ],
   "source": [
    "len(datasources)"
   ]
  },
  {
   "cell_type": "code",
   "execution_count": null,
   "metadata": {},
   "outputs": [],
   "source": []
  },
  {
   "cell_type": "code",
   "execution_count": 24,
   "metadata": {},
   "outputs": [],
   "source": [
    "import pandas as pd\n"
   ]
  },
  {
   "cell_type": "code",
   "execution_count": 42,
   "metadata": {},
   "outputs": [],
   "source": [
    "top_10 = {\n",
    "    'Company' : ['LinkedIn', 'Apple', 'Google', 'Twitter', 'Salesforce', 'Facebook', 'Amazon', 'Spotify', 'Netflix', 'Infosys', 'Wipro', 'TCS', 'Lyft',\n",
    "                 'Uber'],\n",
    "    \"Employees' choice?\": ['Yes', 'No', 'Yes', 'Yes', 'Yes', 'Yes', 'Amazon', 'Spotify', 'Netflix', 'Infosys', 'Wipro', 'TCS', 'Lyft',\n",
    "                 'Uber'],\n",
    "    'Policy' : ['Hybrid', 'Hybrid', 'Hybrid', 'Hybrid', 'Hybrid', 'Hybrid', 'Amazon', 'Spotify', 'Netflix', 'WFO', 'Hybrid', 'Hybrid',\n",
    "                'Lyft', 'Uber'],\n",
    "     'VaxMandate' : ['No', 'Voluntary', 'Yes', 'Yes', 'Yes', 'Yes', 'Amazon', 'Spotify', 'Yes', 'No', 'No', '', 'Yes',\n",
    "                 'Uber'],\n",
    "    'Remarks' :  ['', '3-5 days a week', '', 'Closing SF and NY office after reopening 2 weeks ago', '3-5 days a week', 'Facebook', 'Amazon', 'Spotify', 'Netflix', '', '', 'Lyft',\n",
    "                 'Uber', ''],\n",
    "    'Effective' :  ['', 'October2021', 'October2021', '', '', 'Facebook', 'Amazon', 'Spotify', 'Netflix', '', '', '', 'Feb 2',\n",
    "                 'Uber'],\n",
    "    'Datasources' :  ['', ['https://gizmodo.com/apple-reportedly-pushing-back-return-to-office-plans-am-1847327310',\n",
    "                      'https://www.macrumors.com/2021/04/23/apple-covid-19-vaccine-employee-program/'], \n",
    "                      ['https://news.yahoo.com/google-mandates-vaccines-employees-returning-185500440.html?fr=yhssrp_catchall',\n",
    "                       'https://www.nytimes.com/2021/07/23/business/return-to-office-vaccine-mandates-delta-variant.html'], \n",
    "                      'https://www.businessinsider.com/remote-working-divide-amazon-twitter-goldman-spotify-hybrid-offices-2021-3', \n",
    "                      ['https://therealdeal.com/national/2021/02/10/salesforce-employees-can-work-from-home-forever/',\n",
    "                       'http://content.techgig.com/Is-it-the-end-of-Work-from-Home-for-Indian-IT-industry/articleshow/84700125.cms'],\n",
    "                      'Salesforce', 'Facebook', 'Amazon', 'Spotify', 'Netflix',\n",
    "                      'https://content.techgig.com/it-is-back-to-office-for-2-lakh-wipro-employees/articleshow/84550471.cms',\n",
    "                      'https://content.techgig.com/tcs-employees-to-return-to-the-office-post-pandemic/articleshow/83512213.cms', 'Lyft',\n",
    "                 'Uber']\n",
    "    \n",
    " #   'Datasource' : ['https://www.techtimes.com/articles/263105/20210720/apple-work-home-set-up-implemented-october-covid-19-cases.htm',\n",
    "    #           'https://insights.dice.com/2021/05/07/google-details-its-new-hybrid-remote-workplace-policies/',\n",
    "                #  ' http://content.techgig.com/Is-it-the-end-of-Work-from-Home-for-Indian-IT-industry/articleshow/84700125.cms', '', '', '']\n",
    "   \n",
    "}\n",
    "  \n"
   ]
  },
  {
   "cell_type": "code",
   "execution_count": 43,
   "metadata": {},
   "outputs": [],
   "source": [
    "# creating a Dataframe object \n",
    "top_10_DF = pd.DataFrame(top_10)"
   ]
  },
  {
   "cell_type": "code",
   "execution_count": 44,
   "metadata": {},
   "outputs": [
    {
     "data": {
      "text/html": [
       "<div>\n",
       "<style scoped>\n",
       "    .dataframe tbody tr th:only-of-type {\n",
       "        vertical-align: middle;\n",
       "    }\n",
       "\n",
       "    .dataframe tbody tr th {\n",
       "        vertical-align: top;\n",
       "    }\n",
       "\n",
       "    .dataframe thead th {\n",
       "        text-align: right;\n",
       "    }\n",
       "</style>\n",
       "<table border=\"1\" class=\"dataframe\">\n",
       "  <thead>\n",
       "    <tr style=\"text-align: right;\">\n",
       "      <th></th>\n",
       "      <th>Company</th>\n",
       "      <th>Employees' choice?</th>\n",
       "      <th>Policy</th>\n",
       "      <th>VaxMandate</th>\n",
       "      <th>Remarks</th>\n",
       "      <th>Effective</th>\n",
       "      <th>Datasources</th>\n",
       "    </tr>\n",
       "  </thead>\n",
       "  <tbody>\n",
       "    <tr>\n",
       "      <th>0</th>\n",
       "      <td>LinkedIn</td>\n",
       "      <td>Yes</td>\n",
       "      <td>Hybrid</td>\n",
       "      <td>No</td>\n",
       "      <td></td>\n",
       "      <td></td>\n",
       "      <td></td>\n",
       "    </tr>\n",
       "    <tr>\n",
       "      <th>1</th>\n",
       "      <td>Apple</td>\n",
       "      <td>No</td>\n",
       "      <td>Hybrid</td>\n",
       "      <td>Voluntary</td>\n",
       "      <td>3-5 days a week</td>\n",
       "      <td>October2021</td>\n",
       "      <td>[https://gizmodo.com/apple-reportedly-pushing-...</td>\n",
       "    </tr>\n",
       "    <tr>\n",
       "      <th>2</th>\n",
       "      <td>Google</td>\n",
       "      <td>Yes</td>\n",
       "      <td>Hybrid</td>\n",
       "      <td>Yes</td>\n",
       "      <td></td>\n",
       "      <td>October2021</td>\n",
       "      <td>[https://news.yahoo.com/google-mandates-vaccin...</td>\n",
       "    </tr>\n",
       "    <tr>\n",
       "      <th>3</th>\n",
       "      <td>Twitter</td>\n",
       "      <td>Yes</td>\n",
       "      <td>Hybrid</td>\n",
       "      <td>Yes</td>\n",
       "      <td>Closing SF and NY office after reopening 2 wee...</td>\n",
       "      <td></td>\n",
       "      <td>https://www.businessinsider.com/remote-working...</td>\n",
       "    </tr>\n",
       "    <tr>\n",
       "      <th>4</th>\n",
       "      <td>Salesforce</td>\n",
       "      <td>Yes</td>\n",
       "      <td>Hybrid</td>\n",
       "      <td>Yes</td>\n",
       "      <td>3-5 days a week</td>\n",
       "      <td></td>\n",
       "      <td>[https://therealdeal.com/national/2021/02/10/s...</td>\n",
       "    </tr>\n",
       "    <tr>\n",
       "      <th>5</th>\n",
       "      <td>Facebook</td>\n",
       "      <td>Yes</td>\n",
       "      <td>Hybrid</td>\n",
       "      <td>Yes</td>\n",
       "      <td>Facebook</td>\n",
       "      <td>Facebook</td>\n",
       "      <td>Salesforce</td>\n",
       "    </tr>\n",
       "    <tr>\n",
       "      <th>6</th>\n",
       "      <td>Amazon</td>\n",
       "      <td>Amazon</td>\n",
       "      <td>Amazon</td>\n",
       "      <td>Amazon</td>\n",
       "      <td>Amazon</td>\n",
       "      <td>Amazon</td>\n",
       "      <td>Facebook</td>\n",
       "    </tr>\n",
       "    <tr>\n",
       "      <th>7</th>\n",
       "      <td>Spotify</td>\n",
       "      <td>Spotify</td>\n",
       "      <td>Spotify</td>\n",
       "      <td>Spotify</td>\n",
       "      <td>Spotify</td>\n",
       "      <td>Spotify</td>\n",
       "      <td>Amazon</td>\n",
       "    </tr>\n",
       "    <tr>\n",
       "      <th>8</th>\n",
       "      <td>Netflix</td>\n",
       "      <td>Netflix</td>\n",
       "      <td>Netflix</td>\n",
       "      <td>Yes</td>\n",
       "      <td>Netflix</td>\n",
       "      <td>Netflix</td>\n",
       "      <td>Spotify</td>\n",
       "    </tr>\n",
       "    <tr>\n",
       "      <th>9</th>\n",
       "      <td>Infosys</td>\n",
       "      <td>Infosys</td>\n",
       "      <td>WFO</td>\n",
       "      <td>No</td>\n",
       "      <td></td>\n",
       "      <td></td>\n",
       "      <td>Netflix</td>\n",
       "    </tr>\n",
       "    <tr>\n",
       "      <th>10</th>\n",
       "      <td>Wipro</td>\n",
       "      <td>Wipro</td>\n",
       "      <td>Hybrid</td>\n",
       "      <td>No</td>\n",
       "      <td></td>\n",
       "      <td></td>\n",
       "      <td>https://content.techgig.com/it-is-back-to-offi...</td>\n",
       "    </tr>\n",
       "    <tr>\n",
       "      <th>11</th>\n",
       "      <td>TCS</td>\n",
       "      <td>TCS</td>\n",
       "      <td>Hybrid</td>\n",
       "      <td></td>\n",
       "      <td>Lyft</td>\n",
       "      <td></td>\n",
       "      <td>https://content.techgig.com/tcs-employees-to-r...</td>\n",
       "    </tr>\n",
       "    <tr>\n",
       "      <th>12</th>\n",
       "      <td>Lyft</td>\n",
       "      <td>Lyft</td>\n",
       "      <td>Lyft</td>\n",
       "      <td>Yes</td>\n",
       "      <td>Uber</td>\n",
       "      <td>Feb 2</td>\n",
       "      <td>Lyft</td>\n",
       "    </tr>\n",
       "    <tr>\n",
       "      <th>13</th>\n",
       "      <td>Uber</td>\n",
       "      <td>Uber</td>\n",
       "      <td>Uber</td>\n",
       "      <td>Uber</td>\n",
       "      <td></td>\n",
       "      <td>Uber</td>\n",
       "      <td>Uber</td>\n",
       "    </tr>\n",
       "  </tbody>\n",
       "</table>\n",
       "</div>"
      ],
      "text/plain": [
       "       Company Employees' choice?   Policy VaxMandate  \\\n",
       "0     LinkedIn                Yes   Hybrid         No   \n",
       "1        Apple                 No   Hybrid  Voluntary   \n",
       "2       Google                Yes   Hybrid        Yes   \n",
       "3      Twitter                Yes   Hybrid        Yes   \n",
       "4   Salesforce                Yes   Hybrid        Yes   \n",
       "5     Facebook                Yes   Hybrid        Yes   \n",
       "6       Amazon             Amazon   Amazon     Amazon   \n",
       "7      Spotify            Spotify  Spotify    Spotify   \n",
       "8      Netflix            Netflix  Netflix        Yes   \n",
       "9      Infosys            Infosys      WFO         No   \n",
       "10       Wipro              Wipro   Hybrid         No   \n",
       "11         TCS                TCS   Hybrid              \n",
       "12        Lyft               Lyft     Lyft        Yes   \n",
       "13        Uber               Uber     Uber       Uber   \n",
       "\n",
       "                                              Remarks    Effective  \\\n",
       "0                                                                    \n",
       "1                                     3-5 days a week  October2021   \n",
       "2                                                      October2021   \n",
       "3   Closing SF and NY office after reopening 2 wee...                \n",
       "4                                     3-5 days a week                \n",
       "5                                            Facebook     Facebook   \n",
       "6                                              Amazon       Amazon   \n",
       "7                                             Spotify      Spotify   \n",
       "8                                             Netflix      Netflix   \n",
       "9                                                                    \n",
       "10                                                                   \n",
       "11                                               Lyft                \n",
       "12                                               Uber        Feb 2   \n",
       "13                                                            Uber   \n",
       "\n",
       "                                          Datasources  \n",
       "0                                                      \n",
       "1   [https://gizmodo.com/apple-reportedly-pushing-...  \n",
       "2   [https://news.yahoo.com/google-mandates-vaccin...  \n",
       "3   https://www.businessinsider.com/remote-working...  \n",
       "4   [https://therealdeal.com/national/2021/02/10/s...  \n",
       "5                                          Salesforce  \n",
       "6                                            Facebook  \n",
       "7                                              Amazon  \n",
       "8                                             Spotify  \n",
       "9                                             Netflix  \n",
       "10  https://content.techgig.com/it-is-back-to-offi...  \n",
       "11  https://content.techgig.com/tcs-employees-to-r...  \n",
       "12                                               Lyft  \n",
       "13                                               Uber  "
      ]
     },
     "execution_count": 44,
     "metadata": {},
     "output_type": "execute_result"
    }
   ],
   "source": [
    "top_10_DF"
   ]
  },
  {
   "cell_type": "code",
   "execution_count": 48,
   "metadata": {},
   "outputs": [
    {
     "data": {
      "text/html": [
       "<div>\n",
       "<style scoped>\n",
       "    .dataframe tbody tr th:only-of-type {\n",
       "        vertical-align: middle;\n",
       "    }\n",
       "\n",
       "    .dataframe tbody tr th {\n",
       "        vertical-align: top;\n",
       "    }\n",
       "\n",
       "    .dataframe thead th {\n",
       "        text-align: right;\n",
       "    }\n",
       "</style>\n",
       "<table border=\"1\" class=\"dataframe\">\n",
       "  <thead>\n",
       "    <tr style=\"text-align: right;\">\n",
       "      <th></th>\n",
       "      <th>Company</th>\n",
       "      <th>Employees' choice?</th>\n",
       "      <th>Policy</th>\n",
       "      <th>VaxMandate</th>\n",
       "      <th>Remarks</th>\n",
       "      <th>Effective</th>\n",
       "      <th>Datasources</th>\n",
       "    </tr>\n",
       "  </thead>\n",
       "  <tbody>\n",
       "    <tr>\n",
       "      <th>0</th>\n",
       "      <td>Twitter</td>\n",
       "      <td>Yes</td>\n",
       "      <td>Hybrid</td>\n",
       "      <td>Yes</td>\n",
       "      <td>Closing SF and NY office after reopening 2 wee...</td>\n",
       "      <td></td>\n",
       "      <td>https://www.businessinsider.com/remote-working...</td>\n",
       "    </tr>\n",
       "    <tr>\n",
       "      <th>1</th>\n",
       "      <td>Salesforce</td>\n",
       "      <td>Yes</td>\n",
       "      <td>Hybrid</td>\n",
       "      <td>Yes</td>\n",
       "      <td>3-5 days a week</td>\n",
       "      <td></td>\n",
       "      <td>[https://therealdeal.com/national/2021/02/10/s...</td>\n",
       "    </tr>\n",
       "    <tr>\n",
       "      <th>2</th>\n",
       "      <td>Facebook</td>\n",
       "      <td>Yes</td>\n",
       "      <td>Hybrid</td>\n",
       "      <td>Yes</td>\n",
       "      <td>Facebook</td>\n",
       "      <td>Facebook</td>\n",
       "      <td>Salesforce</td>\n",
       "    </tr>\n",
       "    <tr>\n",
       "      <th>3</th>\n",
       "      <td>Amazon</td>\n",
       "      <td>Amazon</td>\n",
       "      <td>Amazon</td>\n",
       "      <td>Amazon</td>\n",
       "      <td>Amazon</td>\n",
       "      <td>Amazon</td>\n",
       "      <td>Facebook</td>\n",
       "    </tr>\n",
       "    <tr>\n",
       "      <th>4</th>\n",
       "      <td>Spotify</td>\n",
       "      <td>Spotify</td>\n",
       "      <td>Spotify</td>\n",
       "      <td>Spotify</td>\n",
       "      <td>Spotify</td>\n",
       "      <td>Spotify</td>\n",
       "      <td>Amazon</td>\n",
       "    </tr>\n",
       "    <tr>\n",
       "      <th>5</th>\n",
       "      <td>Netflix</td>\n",
       "      <td>Netflix</td>\n",
       "      <td>Netflix</td>\n",
       "      <td>Yes</td>\n",
       "      <td>Netflix</td>\n",
       "      <td>Netflix</td>\n",
       "      <td>Spotify</td>\n",
       "    </tr>\n",
       "    <tr>\n",
       "      <th>6</th>\n",
       "      <td>Infosys</td>\n",
       "      <td>Infosys</td>\n",
       "      <td>WFO</td>\n",
       "      <td>No</td>\n",
       "      <td></td>\n",
       "      <td></td>\n",
       "      <td>Netflix</td>\n",
       "    </tr>\n",
       "    <tr>\n",
       "      <th>7</th>\n",
       "      <td>Wipro</td>\n",
       "      <td>Wipro</td>\n",
       "      <td>Hybrid</td>\n",
       "      <td>No</td>\n",
       "      <td></td>\n",
       "      <td></td>\n",
       "      <td>https://content.techgig.com/it-is-back-to-offi...</td>\n",
       "    </tr>\n",
       "    <tr>\n",
       "      <th>8</th>\n",
       "      <td>TCS</td>\n",
       "      <td>TCS</td>\n",
       "      <td>Hybrid</td>\n",
       "      <td></td>\n",
       "      <td>Lyft</td>\n",
       "      <td></td>\n",
       "      <td>https://content.techgig.com/tcs-employees-to-r...</td>\n",
       "    </tr>\n",
       "    <tr>\n",
       "      <th>9</th>\n",
       "      <td>Lyft</td>\n",
       "      <td>Lyft</td>\n",
       "      <td>Lyft</td>\n",
       "      <td>Yes</td>\n",
       "      <td>Uber</td>\n",
       "      <td>Feb 2</td>\n",
       "      <td>Lyft</td>\n",
       "    </tr>\n",
       "    <tr>\n",
       "      <th>10</th>\n",
       "      <td>Uber</td>\n",
       "      <td>Uber</td>\n",
       "      <td>Uber</td>\n",
       "      <td>Uber</td>\n",
       "      <td></td>\n",
       "      <td>Uber</td>\n",
       "      <td>Uber</td>\n",
       "    </tr>\n",
       "    <tr>\n",
       "      <th>11</th>\n",
       "      <td>NaN</td>\n",
       "      <td>NaN</td>\n",
       "      <td>NaN</td>\n",
       "      <td>NaN</td>\n",
       "      <td>NaN</td>\n",
       "      <td>NaN</td>\n",
       "      <td>NaN</td>\n",
       "    </tr>\n",
       "    <tr>\n",
       "      <th>12</th>\n",
       "      <td>NaN</td>\n",
       "      <td>NaN</td>\n",
       "      <td>NaN</td>\n",
       "      <td>NaN</td>\n",
       "      <td>NaN</td>\n",
       "      <td>NaN</td>\n",
       "      <td>NaN</td>\n",
       "    </tr>\n",
       "    <tr>\n",
       "      <th>13</th>\n",
       "      <td>NaN</td>\n",
       "      <td>NaN</td>\n",
       "      <td>NaN</td>\n",
       "      <td>NaN</td>\n",
       "      <td>NaN</td>\n",
       "      <td>NaN</td>\n",
       "      <td>NaN</td>\n",
       "    </tr>\n",
       "  </tbody>\n",
       "</table>\n",
       "</div>"
      ],
      "text/plain": [
       "       Company Employees' choice?   Policy VaxMandate  \\\n",
       "0      Twitter                Yes   Hybrid        Yes   \n",
       "1   Salesforce                Yes   Hybrid        Yes   \n",
       "2     Facebook                Yes   Hybrid        Yes   \n",
       "3       Amazon             Amazon   Amazon     Amazon   \n",
       "4      Spotify            Spotify  Spotify    Spotify   \n",
       "5      Netflix            Netflix  Netflix        Yes   \n",
       "6      Infosys            Infosys      WFO         No   \n",
       "7        Wipro              Wipro   Hybrid         No   \n",
       "8          TCS                TCS   Hybrid              \n",
       "9         Lyft               Lyft     Lyft        Yes   \n",
       "10        Uber               Uber     Uber       Uber   \n",
       "11         NaN                NaN      NaN        NaN   \n",
       "12         NaN                NaN      NaN        NaN   \n",
       "13         NaN                NaN      NaN        NaN   \n",
       "\n",
       "                                              Remarks Effective  \\\n",
       "0   Closing SF and NY office after reopening 2 wee...             \n",
       "1                                     3-5 days a week             \n",
       "2                                            Facebook  Facebook   \n",
       "3                                              Amazon    Amazon   \n",
       "4                                             Spotify   Spotify   \n",
       "5                                             Netflix   Netflix   \n",
       "6                                                                 \n",
       "7                                                                 \n",
       "8                                                Lyft             \n",
       "9                                                Uber     Feb 2   \n",
       "10                                                         Uber   \n",
       "11                                                NaN       NaN   \n",
       "12                                                NaN       NaN   \n",
       "13                                                NaN       NaN   \n",
       "\n",
       "                                          Datasources  \n",
       "0   https://www.businessinsider.com/remote-working...  \n",
       "1   [https://therealdeal.com/national/2021/02/10/s...  \n",
       "2                                          Salesforce  \n",
       "3                                            Facebook  \n",
       "4                                              Amazon  \n",
       "5                                             Spotify  \n",
       "6                                             Netflix  \n",
       "7   https://content.techgig.com/it-is-back-to-offi...  \n",
       "8   https://content.techgig.com/tcs-employees-to-r...  \n",
       "9                                                Lyft  \n",
       "10                                               Uber  \n",
       "11                                                NaN  \n",
       "12                                                NaN  \n",
       "13                                                NaN  "
      ]
     },
     "execution_count": 48,
     "metadata": {},
     "output_type": "execute_result"
    }
   ],
   "source": [
    "top_10_DF.shift(periods = -3)"
   ]
  },
  {
   "cell_type": "code",
   "execution_count": 49,
   "metadata": {},
   "outputs": [
    {
     "data": {
      "text/plain": [
       "['https://gizmodo.com/apple-reportedly-pushing-back-return-to-office-plans-am-1847327310',\n",
       " 'https://www.macrumors.com/2021/04/23/apple-covid-19-vaccine-employee-program/']"
      ]
     },
     "execution_count": 49,
     "metadata": {},
     "output_type": "execute_result"
    }
   ],
   "source": [
    "top_10_DF['Datasources'][1]"
   ]
  },
  {
   "cell_type": "code",
   "execution_count": 48,
   "metadata": {},
   "outputs": [
    {
     "data": {
      "text/plain": [
       "'https://gizmodo.com/apple-reportedly-pushing-back-return-to-office-plans-am-1847327310'"
      ]
     },
     "execution_count": 48,
     "metadata": {},
     "output_type": "execute_result"
    }
   ],
   "source": [
    "top_10_DF['Datasources'][0]"
   ]
  },
  {
   "cell_type": "code",
   "execution_count": 64,
   "metadata": {},
   "outputs": [],
   "source": [
    "#Google FB Twitter same, policies keep changing. Productivity not as good as WFH. \n",
    "#Employees are looking forward to come back to office 68% IT professionals voted hybrid."
   ]
  },
  {
   "cell_type": "code",
   "execution_count": null,
   "metadata": {},
   "outputs": [],
   "source": [
    "#TCS in India already opened office 75% population back to work in office, 75% operational from office\n",
    "#WNS same 50% capacity in office October November\n",
    "#Himanshu's link https://content.techgig.com/is-it-the-end-of-work-from-home-for-indian-it-industry/articleshow/84700125.cms"
   ]
  }
 ],
 "metadata": {
  "kernelspec": {
   "display_name": "Python 3",
   "language": "python",
   "name": "python3"
  },
  "language_info": {
   "codemirror_mode": {
    "name": "ipython",
    "version": 3
   },
   "file_extension": ".py",
   "mimetype": "text/x-python",
   "name": "python",
   "nbconvert_exporter": "python",
   "pygments_lexer": "ipython3",
   "version": "3.8.5"
  }
 },
 "nbformat": 4,
 "nbformat_minor": 4
}
