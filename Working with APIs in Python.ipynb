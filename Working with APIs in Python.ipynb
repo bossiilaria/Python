{
 "cells": [
  {
   "cell_type": "markdown",
   "metadata": {},
   "source": [
    "This is the 3rd project I'm working on since I got my certificate on April 3rd.\n",
    "\n",
    "The task is: get vaccination data via APIs, get the data into the database via Python/scrapping and send out a report/dashboard\n",
    "\n",
    "Check out this tutorial: https://www.youtube.com/watch?v=hpc5jyVpUpw"
   ]
  },
  {
   "cell_type": "code",
   "execution_count": 1,
   "metadata": {},
   "outputs": [],
   "source": [
    "#The first thing I need to do is to import the requests module\n",
    "import requests"
   ]
  },
  {
   "cell_type": "code",
   "execution_count": 2,
   "metadata": {},
   "outputs": [],
   "source": [
    "#Let's use this simple API that has images of cute foxes: https://randomfox.ca/floof\n",
    "\n",
    "#Store the content into a variable called response\n",
    "\n",
    "response = requests.get('https://randomfox.ca/floof')"
   ]
  },
  {
   "cell_type": "code",
   "execution_count": 4,
   "metadata": {},
   "outputs": [
    {
     "data": {
      "text/plain": [
       "<Response [200]>"
      ]
     },
     "execution_count": 4,
     "metadata": {},
     "output_type": "execute_result"
    }
   ],
   "source": [
    "#Whenever you make a HTTP request its going to return a status code. The default code for information found is 200\n",
    "response\n"
   ]
  },
  {
   "cell_type": "code",
   "execution_count": 9,
   "metadata": {},
   "outputs": [
    {
     "data": {
      "text/plain": [
       "'{\"image\":\"https:\\\\/\\\\/randomfox.ca\\\\/images\\\\/123.jpg\",\"link\":\"https:\\\\/\\\\/randomfox.ca\\\\/?i=123\"}'"
      ]
     },
     "execution_count": 9,
     "metadata": {},
     "output_type": "execute_result"
    }
   ],
   "source": [
    "#Now I can check out what my response looks like by using response.text\n",
    "response.text"
   ]
  },
  {
   "cell_type": "code",
   "execution_count": 12,
   "metadata": {},
   "outputs": [],
   "source": [
    "#The content pulled looks like a string with a dictionary in it. The dictionary has key \"image\" and value equal \n",
    "#to the string \"https:\\\\/\\\\/randomfox.ca\\\\/images\\\\/123.jpg\",\"link\":\"https:\\\\/\\\\/randomfox.ca\\\\/?i=123\"\n",
    "#There's a function in python we can use to cast the string above into a dictionary\n",
    "fox = response.json()"
   ]
  },
  {
   "cell_type": "code",
   "execution_count": 13,
   "metadata": {},
   "outputs": [
    {
     "data": {
      "text/plain": [
       "{'image': 'https://randomfox.ca/images/123.jpg',\n",
       " 'link': 'https://randomfox.ca/?i=123'}"
      ]
     },
     "execution_count": 13,
     "metadata": {},
     "output_type": "execute_result"
    }
   ],
   "source": [
    "fox"
   ]
  },
  {
   "cell_type": "code",
   "execution_count": 14,
   "metadata": {},
   "outputs": [
    {
     "data": {
      "text/plain": [
       "'https://randomfox.ca/images/123.jpg'"
      ]
     },
     "execution_count": 14,
     "metadata": {},
     "output_type": "execute_result"
    }
   ],
   "source": [
    "#Now that we have our dictionary fox, we can inspect its elements. For example its key:\n",
    "fox['image']"
   ]
  },
  {
   "cell_type": "code",
   "execution_count": null,
   "metadata": {},
   "outputs": [],
   "source": [
    "#Next check this out: https://www.youtube.com/watch?v=tb8gHvYlCFs"
   ]
  }
 ],
 "metadata": {
  "kernelspec": {
   "display_name": "Python 3",
   "language": "python",
   "name": "python3"
  },
  "language_info": {
   "codemirror_mode": {
    "name": "ipython",
    "version": 3
   },
   "file_extension": ".py",
   "mimetype": "text/x-python",
   "name": "python",
   "nbconvert_exporter": "python",
   "pygments_lexer": "ipython3",
   "version": "3.8.5"
  }
 },
 "nbformat": 4,
 "nbformat_minor": 4
}
