{
 "cells": [
  {
   "cell_type": "markdown",
   "metadata": {},
   "source": [
    "Learn and aplly pandas.DataFrame.to_json to convert an object to a JSON string.\n",
    "\n",
    "https://pandas.pydata.org/pandas-docs/stable/reference/api/pandas.DataFrame.to_json.html#pandas-dataframe-to-json\n",
    "    \n",
    "This is the synthax: \n",
    "\n",
    "DataFrame.to_json(path_or_buf=None, orient=None, date_format=None, double_precision=10, force_ascii=True, date_unit='ms', \n",
    "                  default_handler=None, lines=False, compression='infer', index=True, indent=None, storage_options=None)"
   ]
  },
  {
   "cell_type": "code",
   "execution_count": 3,
   "metadata": {},
   "outputs": [],
   "source": [
    "#Let's first build a dataframe starting from this dictionary:\n",
    "\n",
    "regionData = {\n",
    "    \"Region\":\n",
    "                [\"APAC\", \"EMEA \", \"LATAM\", \"NOAM\" ],\n",
    "    \n",
    "    \"People Vaccinated\": \n",
    "               [334795720, 148969083, 80344017, 204497807],\n",
    "                                      \n",
    "    \"Population\": \n",
    "              [4446069143, 2292807221, 430457607, 587934386],\n",
    "                                    \n",
    "    \"% Vaccination Rate\":\n",
    "               [7.53, 6.50, 18.66, 34.78],\n",
    "    \n",
    "}"
   ]
  },
  {
   "cell_type": "code",
   "execution_count": 4,
   "metadata": {},
   "outputs": [],
   "source": [
    "import pandas as pd"
   ]
  },
  {
   "cell_type": "code",
   "execution_count": 6,
   "metadata": {},
   "outputs": [],
   "source": [
    "regionDF = pd.DataFrame(regionData)"
   ]
  },
  {
   "cell_type": "code",
   "execution_count": 20,
   "metadata": {},
   "outputs": [
    {
     "data": {
      "text/html": [
       "<div>\n",
       "<style scoped>\n",
       "    .dataframe tbody tr th:only-of-type {\n",
       "        vertical-align: middle;\n",
       "    }\n",
       "\n",
       "    .dataframe tbody tr th {\n",
       "        vertical-align: top;\n",
       "    }\n",
       "\n",
       "    .dataframe thead th {\n",
       "        text-align: right;\n",
       "    }\n",
       "</style>\n",
       "<table border=\"1\" class=\"dataframe\">\n",
       "  <thead>\n",
       "    <tr style=\"text-align: right;\">\n",
       "      <th></th>\n",
       "      <th>Region</th>\n",
       "      <th>People Vaccinated</th>\n",
       "      <th>Population</th>\n",
       "      <th>% Vaccination Rate</th>\n",
       "    </tr>\n",
       "  </thead>\n",
       "  <tbody>\n",
       "    <tr>\n",
       "      <th>0</th>\n",
       "      <td>APAC</td>\n",
       "      <td>334795720</td>\n",
       "      <td>4446069143</td>\n",
       "      <td>7.53</td>\n",
       "    </tr>\n",
       "    <tr>\n",
       "      <th>1</th>\n",
       "      <td>EMEA</td>\n",
       "      <td>148969083</td>\n",
       "      <td>2292807221</td>\n",
       "      <td>6.50</td>\n",
       "    </tr>\n",
       "    <tr>\n",
       "      <th>2</th>\n",
       "      <td>LATAM</td>\n",
       "      <td>80344017</td>\n",
       "      <td>430457607</td>\n",
       "      <td>18.66</td>\n",
       "    </tr>\n",
       "    <tr>\n",
       "      <th>3</th>\n",
       "      <td>NOAM</td>\n",
       "      <td>204497807</td>\n",
       "      <td>587934386</td>\n",
       "      <td>34.78</td>\n",
       "    </tr>\n",
       "  </tbody>\n",
       "</table>\n",
       "</div>"
      ],
      "text/plain": [
       "  Region  People Vaccinated  Population  % Vaccination Rate\n",
       "0   APAC          334795720  4446069143                7.53\n",
       "1  EMEA           148969083  2292807221                6.50\n",
       "2  LATAM           80344017   430457607               18.66\n",
       "3   NOAM          204497807   587934386               34.78"
      ]
     },
     "execution_count": 20,
     "metadata": {},
     "output_type": "execute_result"
    }
   ],
   "source": [
    "regionDF"
   ]
  },
  {
   "cell_type": "code",
   "execution_count": 21,
   "metadata": {},
   "outputs": [
    {
     "data": {
      "text/plain": [
       "'{\"Region\":{\"0\":\"APAC\",\"1\":\"EMEA \",\"2\":\"LATAM\",\"3\":\"NOAM\"},\"People Vaccinated\":{\"0\":334795720,\"1\":148969083,\"2\":80344017,\"3\":204497807},\"Population\":{\"0\":4446069143,\"1\":2292807221,\"2\":430457607,\"3\":587934386},\"% Vaccination Rate\":{\"0\":7.53,\"1\":6.5,\"2\":18.66,\"3\":34.78}}'"
      ]
     },
     "execution_count": 21,
     "metadata": {},
     "output_type": "execute_result"
    }
   ],
   "source": [
    "#Now we can convert our dataframe into a JSON string using \n",
    "#DataFrame.to_json(path_or_buf=None, orient=None, date_format=None, double_precision=10, force_ascii=True, \n",
    "#date_unit='ms', default_handler=None, lines=False, compression='infer', index=True, indent=None, storage_options=None)\n",
    "\n",
    "\n",
    "#path_or_buf: file path or object. If not specified it returns a string.\n",
    "regionDF.to_json(path_or_buf=None)"
   ]
  },
  {
   "cell_type": "code",
   "execution_count": 22,
   "metadata": {},
   "outputs": [
    {
     "data": {
      "text/plain": [
       "'{\"0\":{\"Region\":\"APAC\",\"People Vaccinated\":334795720,\"Population\":4446069143,\"% Vaccination Rate\":7.53},\"1\":{\"Region\":\"EMEA \",\"People Vaccinated\":148969083,\"Population\":2292807221,\"% Vaccination Rate\":6.5},\"2\":{\"Region\":\"LATAM\",\"People Vaccinated\":80344017,\"Population\":430457607,\"% Vaccination Rate\":18.66},\"3\":{\"Region\":\"NOAM\",\"People Vaccinated\":204497807,\"Population\":587934386,\"% Vaccination Rate\":34.78}}'"
      ]
     },
     "execution_count": 22,
     "metadata": {},
     "output_type": "execute_result"
    }
   ],
   "source": [
    "# default is ‘index’, which reads the data horizontally for each index:\n",
    "#allowed values are: {‘split’, ‘records’, ‘index’, ‘table’}.\n",
    "    \n",
    "regionDF.to_json(path_or_buf=None, orient= 'index')"
   ]
  },
  {
   "cell_type": "code",
   "execution_count": 23,
   "metadata": {},
   "outputs": [
    {
     "data": {
      "text/plain": [
       "'{\"columns\":[\"Region\",\"People Vaccinated\",\"Population\",\"% Vaccination Rate\"],\"index\":[0,1,2,3],\"data\":[[\"APAC\",334795720,4446069143,7.53],[\"EMEA \",148969083,2292807221,6.5],[\"LATAM\",80344017,430457607,18.66],[\"NOAM\",204497807,587934386,34.78]]}'"
      ]
     },
     "execution_count": 23,
     "metadata": {},
     "output_type": "execute_result"
    }
   ],
   "source": [
    "#Split reads horizontally (the names of the columns), vertically (the indeces), and provides the data for each region\n",
    "regionDF.to_json(path_or_buf = None, orient = 'split')"
   ]
  },
  {
   "cell_type": "code",
   "execution_count": 24,
   "metadata": {},
   "outputs": [
    {
     "data": {
      "text/plain": [
       "'[{\"Region\":\"APAC\",\"People Vaccinated\":334795720,\"Population\":4446069143,\"% Vaccination Rate\":7.53},{\"Region\":\"EMEA \",\"People Vaccinated\":148969083,\"Population\":2292807221,\"% Vaccination Rate\":6.5},{\"Region\":\"LATAM\",\"People Vaccinated\":80344017,\"Population\":430457607,\"% Vaccination Rate\":18.66},{\"Region\":\"NOAM\",\"People Vaccinated\":204497807,\"Population\":587934386,\"% Vaccination Rate\":34.78}]'"
      ]
     },
     "execution_count": 24,
     "metadata": {},
     "output_type": "execute_result"
    }
   ],
   "source": [
    "#records reads the data for every region right away\n",
    "regionDF.to_json(path_or_buf = None, orient = 'records')"
   ]
  },
  {
   "cell_type": "code",
   "execution_count": 26,
   "metadata": {},
   "outputs": [
    {
     "data": {
      "text/plain": [
       "'{\"schema\":{\"fields\":[{\"name\":\"index\",\"type\":\"integer\"},{\"name\":\"Region\",\"type\":\"string\"},{\"name\":\"People Vaccinated\",\"type\":\"integer\"},{\"name\":\"Population\",\"type\":\"integer\"},{\"name\":\"% Vaccination Rate\",\"type\":\"number\"}],\"primaryKey\":[\"index\"],\"pandas_version\":\"0.20.0\"},\"data\":[{\"index\":0,\"Region\":\"APAC\",\"People Vaccinated\":334795720,\"Population\":4446069143,\"% Vaccination Rate\":7.53},{\"index\":1,\"Region\":\"EMEA \",\"People Vaccinated\":148969083,\"Population\":2292807221,\"% Vaccination Rate\":6.5},{\"index\":2,\"Region\":\"LATAM\",\"People Vaccinated\":80344017,\"Population\":430457607,\"% Vaccination Rate\":18.66},{\"index\":3,\"Region\":\"NOAM\",\"People Vaccinated\":204497807,\"Population\":587934386,\"% Vaccination Rate\":34.78}]}'"
      ]
     },
     "execution_count": 26,
     "metadata": {},
     "output_type": "execute_result"
    }
   ],
   "source": [
    "#table gives tons of information on the data type as well\n",
    "regionDF.to_json(path_or_buf = None, orient = 'table')"
   ]
  },
  {
   "cell_type": "code",
   "execution_count": null,
   "metadata": {},
   "outputs": [],
   "source": []
  }
 ],
 "metadata": {
  "kernelspec": {
   "display_name": "Python 3",
   "language": "python",
   "name": "python3"
  },
  "language_info": {
   "codemirror_mode": {
    "name": "ipython",
    "version": 3
   },
   "file_extension": ".py",
   "mimetype": "text/x-python",
   "name": "python",
   "nbconvert_exporter": "python",
   "pygments_lexer": "ipython3",
   "version": "3.8.5"
  }
 },
 "nbformat": 4,
 "nbformat_minor": 4
}
