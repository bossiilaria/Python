{
 "cells": [
  {
   "cell_type": "code",
   "execution_count": 1,
   "metadata": {},
   "outputs": [],
   "source": [
    "import pandas as pd"
   ]
  },
  {
   "cell_type": "code",
   "execution_count": 2,
   "metadata": {},
   "outputs": [],
   "source": [
    "#Let's build a dataframe by importing the data we have in the excel that Aditya provided\n",
    "regionDF = pd.read_excel('Vaccination_4_regions.xlsx')"
   ]
  },
  {
   "cell_type": "code",
   "execution_count": 3,
   "metadata": {},
   "outputs": [
    {
     "data": {
      "text/html": [
       "<div>\n",
       "<style scoped>\n",
       "    .dataframe tbody tr th:only-of-type {\n",
       "        vertical-align: middle;\n",
       "    }\n",
       "\n",
       "    .dataframe tbody tr th {\n",
       "        vertical-align: top;\n",
       "    }\n",
       "\n",
       "    .dataframe thead th {\n",
       "        text-align: right;\n",
       "    }\n",
       "</style>\n",
       "<table border=\"1\" class=\"dataframe\">\n",
       "  <thead>\n",
       "    <tr style=\"text-align: right;\">\n",
       "      <th></th>\n",
       "      <th>Region</th>\n",
       "      <th>People Vaccinated</th>\n",
       "      <th>Population</th>\n",
       "      <th>% Vaccination Rate</th>\n",
       "    </tr>\n",
       "  </thead>\n",
       "  <tbody>\n",
       "    <tr>\n",
       "      <th>0</th>\n",
       "      <td>APAC</td>\n",
       "      <td>334795720</td>\n",
       "      <td>4446069143</td>\n",
       "      <td>0.075302</td>\n",
       "    </tr>\n",
       "    <tr>\n",
       "      <th>1</th>\n",
       "      <td>EMEA</td>\n",
       "      <td>148969083</td>\n",
       "      <td>2292807221</td>\n",
       "      <td>0.064972</td>\n",
       "    </tr>\n",
       "    <tr>\n",
       "      <th>2</th>\n",
       "      <td>LATAM</td>\n",
       "      <td>80344017</td>\n",
       "      <td>430457607</td>\n",
       "      <td>0.186648</td>\n",
       "    </tr>\n",
       "    <tr>\n",
       "      <th>3</th>\n",
       "      <td>NOAM</td>\n",
       "      <td>204497807</td>\n",
       "      <td>587934386</td>\n",
       "      <td>0.347824</td>\n",
       "    </tr>\n",
       "    <tr>\n",
       "      <th>4</th>\n",
       "      <td>Total</td>\n",
       "      <td>768606627</td>\n",
       "      <td>7757268357</td>\n",
       "      <td>0.099082</td>\n",
       "    </tr>\n",
       "  </tbody>\n",
       "</table>\n",
       "</div>"
      ],
      "text/plain": [
       "   Region  People Vaccinated  Population  % Vaccination Rate\n",
       "0    APAC          334795720  4446069143            0.075302\n",
       "1    EMEA          148969083  2292807221            0.064972\n",
       "2   LATAM           80344017   430457607            0.186648\n",
       "3    NOAM          204497807   587934386            0.347824\n",
       "4  Total           768606627  7757268357            0.099082"
      ]
     },
     "execution_count": 3,
     "metadata": {},
     "output_type": "execute_result"
    }
   ],
   "source": [
    "regionDF"
   ]
  },
  {
   "cell_type": "code",
   "execution_count": 4,
   "metadata": {},
   "outputs": [],
   "source": [
    "#It is a bit annoying to read those floats. Let's make the data in the % Vaccination Rate column\n",
    "#look prettier, for example by adding a colum where we display the vaccination rate * 100\n",
    "#vr = vx rate * 100\n",
    "\n",
    "vaccinationRate = regionDF['% Vaccination Rate'] * 100\n",
    "\n"
   ]
  },
  {
   "cell_type": "code",
   "execution_count": 5,
   "metadata": {},
   "outputs": [
    {
     "data": {
      "text/plain": [
       "0     7.530151\n",
       "1     6.497235\n",
       "2    18.664792\n",
       "3    34.782420\n",
       "4     9.908212\n",
       "Name: % Vaccination Rate, dtype: float64"
      ]
     },
     "execution_count": 5,
     "metadata": {},
     "output_type": "execute_result"
    }
   ],
   "source": [
    "vaccinationRate"
   ]
  },
  {
   "cell_type": "code",
   "execution_count": 6,
   "metadata": {},
   "outputs": [
    {
     "data": {
      "text/plain": [
       "str"
      ]
     },
     "execution_count": 6,
     "metadata": {},
     "output_type": "execute_result"
    }
   ],
   "source": [
    "#The vaccinationRate is a string:\n",
    "type('vaccinationRate')"
   ]
  },
  {
   "cell_type": "code",
   "execution_count": 7,
   "metadata": {},
   "outputs": [],
   "source": [
    "#Now the question is: how do we add a column with these vax rates displayed right next to the % Vaccination Rate column?\n",
    "# Use Vax Rate as the column name and equate it to the vaccinationRate string\n",
    "regionDF['Vax Rate'] = vaccinationRate"
   ]
  },
  {
   "cell_type": "code",
   "execution_count": 8,
   "metadata": {},
   "outputs": [
    {
     "data": {
      "text/html": [
       "<div>\n",
       "<style scoped>\n",
       "    .dataframe tbody tr th:only-of-type {\n",
       "        vertical-align: middle;\n",
       "    }\n",
       "\n",
       "    .dataframe tbody tr th {\n",
       "        vertical-align: top;\n",
       "    }\n",
       "\n",
       "    .dataframe thead th {\n",
       "        text-align: right;\n",
       "    }\n",
       "</style>\n",
       "<table border=\"1\" class=\"dataframe\">\n",
       "  <thead>\n",
       "    <tr style=\"text-align: right;\">\n",
       "      <th></th>\n",
       "      <th>Region</th>\n",
       "      <th>People Vaccinated</th>\n",
       "      <th>Population</th>\n",
       "      <th>% Vaccination Rate</th>\n",
       "      <th>Vax Rate</th>\n",
       "    </tr>\n",
       "  </thead>\n",
       "  <tbody>\n",
       "    <tr>\n",
       "      <th>0</th>\n",
       "      <td>APAC</td>\n",
       "      <td>334795720</td>\n",
       "      <td>4446069143</td>\n",
       "      <td>0.075302</td>\n",
       "      <td>7.530151</td>\n",
       "    </tr>\n",
       "    <tr>\n",
       "      <th>1</th>\n",
       "      <td>EMEA</td>\n",
       "      <td>148969083</td>\n",
       "      <td>2292807221</td>\n",
       "      <td>0.064972</td>\n",
       "      <td>6.497235</td>\n",
       "    </tr>\n",
       "    <tr>\n",
       "      <th>2</th>\n",
       "      <td>LATAM</td>\n",
       "      <td>80344017</td>\n",
       "      <td>430457607</td>\n",
       "      <td>0.186648</td>\n",
       "      <td>18.664792</td>\n",
       "    </tr>\n",
       "    <tr>\n",
       "      <th>3</th>\n",
       "      <td>NOAM</td>\n",
       "      <td>204497807</td>\n",
       "      <td>587934386</td>\n",
       "      <td>0.347824</td>\n",
       "      <td>34.782420</td>\n",
       "    </tr>\n",
       "    <tr>\n",
       "      <th>4</th>\n",
       "      <td>Total</td>\n",
       "      <td>768606627</td>\n",
       "      <td>7757268357</td>\n",
       "      <td>0.099082</td>\n",
       "      <td>9.908212</td>\n",
       "    </tr>\n",
       "  </tbody>\n",
       "</table>\n",
       "</div>"
      ],
      "text/plain": [
       "   Region  People Vaccinated  Population  % Vaccination Rate   Vax Rate\n",
       "0    APAC          334795720  4446069143            0.075302   7.530151\n",
       "1    EMEA          148969083  2292807221            0.064972   6.497235\n",
       "2   LATAM           80344017   430457607            0.186648  18.664792\n",
       "3    NOAM          204497807   587934386            0.347824  34.782420\n",
       "4  Total           768606627  7757268357            0.099082   9.908212"
      ]
     },
     "execution_count": 8,
     "metadata": {},
     "output_type": "execute_result"
    }
   ],
   "source": [
    "regionDF"
   ]
  },
  {
   "cell_type": "code",
   "execution_count": 64,
   "metadata": {},
   "outputs": [
    {
     "data": {
      "text/plain": [
       "pandas.core.series.Series"
      ]
     },
     "execution_count": 64,
     "metadata": {},
     "output_type": "execute_result"
    }
   ],
   "source": [
    "#The type of my regionDF['Vax Rate'] is series\n",
    "type(regionDF['Vax Rate'])"
   ]
  },
  {
   "cell_type": "markdown",
   "metadata": {},
   "source": [
    "Now we are ready to learn how to filter data. Data Filtering is one of the most frequent data manipulation operation. \n",
    "In terms of speed, filtering dataframes with Pandas is one of the smartest and most efficient ways available to date\n",
    "to handle big sized datasets.\n",
    "\n",
    "Data filtering or subsetting data is the prep step for building predictive models or reportsfor the executives.\n",
    "Learn more here: https://www.listendata.com/2019/07/how-to-filter-pandas-dataframe.html"
   ]
  },
  {
   "cell_type": "code",
   "execution_count": 11,
   "metadata": {},
   "outputs": [],
   "source": [
    "#Here are a few examples of data filtering. \n",
    "\n",
    "#N.1: FILTER PANDAS DATAFRAME BY COLUMN VALUE \n",
    "\n",
    "#for ex. filter by columns Region and People Vaccinated - the below will output what region with a population of\n",
    "#4446069143 has 334795720 vaccinated people\n",
    "\n",
    "newDF = regionDF[(regionDF['People Vaccinated'] == 334795720) & (regionDF['Population'] == 4446069143)]"
   ]
  },
  {
   "cell_type": "code",
   "execution_count": 12,
   "metadata": {},
   "outputs": [
    {
     "data": {
      "text/html": [
       "<div>\n",
       "<style scoped>\n",
       "    .dataframe tbody tr th:only-of-type {\n",
       "        vertical-align: middle;\n",
       "    }\n",
       "\n",
       "    .dataframe tbody tr th {\n",
       "        vertical-align: top;\n",
       "    }\n",
       "\n",
       "    .dataframe thead th {\n",
       "        text-align: right;\n",
       "    }\n",
       "</style>\n",
       "<table border=\"1\" class=\"dataframe\">\n",
       "  <thead>\n",
       "    <tr style=\"text-align: right;\">\n",
       "      <th></th>\n",
       "      <th>Region</th>\n",
       "      <th>People Vaccinated</th>\n",
       "      <th>Population</th>\n",
       "      <th>% Vaccination Rate</th>\n",
       "      <th>Vax Rate</th>\n",
       "    </tr>\n",
       "  </thead>\n",
       "  <tbody>\n",
       "    <tr>\n",
       "      <th>0</th>\n",
       "      <td>APAC</td>\n",
       "      <td>334795720</td>\n",
       "      <td>4446069143</td>\n",
       "      <td>0.075302</td>\n",
       "      <td>7.530151</td>\n",
       "    </tr>\n",
       "  </tbody>\n",
       "</table>\n",
       "</div>"
      ],
      "text/plain": [
       "  Region  People Vaccinated  Population  % Vaccination Rate  Vax Rate\n",
       "0   APAC          334795720  4446069143            0.075302  7.530151"
      ]
     },
     "execution_count": 12,
     "metadata": {},
     "output_type": "execute_result"
    }
   ],
   "source": [
    "newDF"
   ]
  },
  {
   "cell_type": "code",
   "execution_count": 13,
   "metadata": {},
   "outputs": [],
   "source": [
    "# N 2: FILTER PANDAS DATAFRAME BY LOC FUNCTION- Returns the same outpout as above\n",
    "newDF = regionDF.loc[(regionDF['People Vaccinated']== 334795720) & (regionDF['Population'] == 4446069143)]\n",
    "#newdf = df.loc[(df.origin == \"JFK\") & (df.carrier == \"B6\")]\n"
   ]
  },
  {
   "cell_type": "code",
   "execution_count": 14,
   "metadata": {},
   "outputs": [
    {
     "data": {
      "text/html": [
       "<div>\n",
       "<style scoped>\n",
       "    .dataframe tbody tr th:only-of-type {\n",
       "        vertical-align: middle;\n",
       "    }\n",
       "\n",
       "    .dataframe tbody tr th {\n",
       "        vertical-align: top;\n",
       "    }\n",
       "\n",
       "    .dataframe thead th {\n",
       "        text-align: right;\n",
       "    }\n",
       "</style>\n",
       "<table border=\"1\" class=\"dataframe\">\n",
       "  <thead>\n",
       "    <tr style=\"text-align: right;\">\n",
       "      <th></th>\n",
       "      <th>Region</th>\n",
       "      <th>People Vaccinated</th>\n",
       "      <th>Population</th>\n",
       "      <th>% Vaccination Rate</th>\n",
       "      <th>Vax Rate</th>\n",
       "    </tr>\n",
       "  </thead>\n",
       "  <tbody>\n",
       "    <tr>\n",
       "      <th>0</th>\n",
       "      <td>APAC</td>\n",
       "      <td>334795720</td>\n",
       "      <td>4446069143</td>\n",
       "      <td>0.075302</td>\n",
       "      <td>7.530151</td>\n",
       "    </tr>\n",
       "  </tbody>\n",
       "</table>\n",
       "</div>"
      ],
      "text/plain": [
       "  Region  People Vaccinated  Population  % Vaccination Rate  Vax Rate\n",
       "0   APAC          334795720  4446069143            0.075302  7.530151"
      ]
     },
     "execution_count": 14,
     "metadata": {},
     "output_type": "execute_result"
    }
   ],
   "source": [
    "newDF\n"
   ]
  },
  {
   "cell_type": "code",
   "execution_count": 18,
   "metadata": {},
   "outputs": [],
   "source": [
    "#N 3 FILTER PANDAS DATAFRAME BY QUERY: only works if there is no spacein the column titles - It returns the same output as above\n",
    "\n",
    "newDF = regionDF.query('Population == 4446069143') #Works fine\n",
    "\n",
    "#newDF = regionDF.query('People Vaccinated == 334795720 & Population == 4446069143') # ASK SARA"
   ]
  },
  {
   "cell_type": "code",
   "execution_count": 19,
   "metadata": {},
   "outputs": [
    {
     "data": {
      "text/html": [
       "<div>\n",
       "<style scoped>\n",
       "    .dataframe tbody tr th:only-of-type {\n",
       "        vertical-align: middle;\n",
       "    }\n",
       "\n",
       "    .dataframe tbody tr th {\n",
       "        vertical-align: top;\n",
       "    }\n",
       "\n",
       "    .dataframe thead th {\n",
       "        text-align: right;\n",
       "    }\n",
       "</style>\n",
       "<table border=\"1\" class=\"dataframe\">\n",
       "  <thead>\n",
       "    <tr style=\"text-align: right;\">\n",
       "      <th></th>\n",
       "      <th>Region</th>\n",
       "      <th>People Vaccinated</th>\n",
       "      <th>Population</th>\n",
       "      <th>% Vaccination Rate</th>\n",
       "      <th>Vax Rate</th>\n",
       "    </tr>\n",
       "  </thead>\n",
       "  <tbody>\n",
       "    <tr>\n",
       "      <th>0</th>\n",
       "      <td>APAC</td>\n",
       "      <td>334795720</td>\n",
       "      <td>4446069143</td>\n",
       "      <td>0.075302</td>\n",
       "      <td>7.530151</td>\n",
       "    </tr>\n",
       "  </tbody>\n",
       "</table>\n",
       "</div>"
      ],
      "text/plain": [
       "  Region  People Vaccinated  Population  % Vaccination Rate  Vax Rate\n",
       "0   APAC          334795720  4446069143            0.075302  7.530151"
      ]
     },
     "execution_count": 19,
     "metadata": {},
     "output_type": "execute_result"
    }
   ],
   "source": [
    "newDF"
   ]
  },
  {
   "cell_type": "code",
   "execution_count": 20,
   "metadata": {},
   "outputs": [
    {
     "ename": "TypeError",
     "evalue": "'method' object is not subscriptable",
     "output_type": "error",
     "traceback": [
      "\u001b[1;31m---------------------------------------------------------------------------\u001b[0m",
      "\u001b[1;31mTypeError\u001b[0m                                 Traceback (most recent call last)",
      "\u001b[1;32m<ipython-input-20-ff230458fa18>\u001b[0m in \u001b[0;36m<module>\u001b[1;34m\u001b[0m\n\u001b[0;32m      1\u001b[0m \u001b[1;31m#Note that QUERY doesn't work if there is a space in the column title:\u001b[0m\u001b[1;33m\u001b[0m\u001b[1;33m\u001b[0m\u001b[1;33m\u001b[0m\u001b[0m\n\u001b[0;32m      2\u001b[0m \u001b[1;31m#We get TypeError: 'method' object is not subscriptable\u001b[0m\u001b[1;33m\u001b[0m\u001b[1;33m\u001b[0m\u001b[1;33m\u001b[0m\u001b[0m\n\u001b[1;32m----> 3\u001b[1;33m \u001b[0mnewDF\u001b[0m \u001b[1;33m=\u001b[0m \u001b[0mregionDF\u001b[0m\u001b[1;33m.\u001b[0m\u001b[0mquery\u001b[0m\u001b[1;33m[\u001b[0m\u001b[1;34m'People Vaccinated == 334795720'\u001b[0m\u001b[1;33m]\u001b[0m\u001b[1;33m\u001b[0m\u001b[1;33m\u001b[0m\u001b[0m\n\u001b[0m",
      "\u001b[1;31mTypeError\u001b[0m: 'method' object is not subscriptable"
     ]
    }
   ],
   "source": [
    "#Note that QUERY doesn't work if there is a space in the column title:\n",
    "#We get TypeError: 'method' object is not subscriptable\n",
    "newDF = regionDF.query['People Vaccinated == 334795720']"
   ]
  },
  {
   "cell_type": "code",
   "execution_count": 21,
   "metadata": {},
   "outputs": [
    {
     "name": "stdout",
     "output_type": "stream",
     "text": [
      "0.01968510000006063\n"
     ]
    }
   ],
   "source": [
    "#Filtering by column values and loc gives the same output: which one is faster? Filtering by location function is faster\n",
    "import timeit\n",
    "code = \"\"\"import pandas as pd\n",
    "regionDF = pd.read_excel('Vaccination_4_regions.xlsx')\n",
    "newDF = regionDF[(regionDF['People Vaccinated'] == 334795720) & (regionDF['Population'] == 4446069143)]\"\"\"\n",
    "\n",
    "execution_time = timeit.timeit(code, number=1)\n",
    "\n",
    "print(execution_time)"
   ]
  },
  {
   "cell_type": "code",
   "execution_count": 25,
   "metadata": {},
   "outputs": [
    {
     "name": "stdout",
     "output_type": "stream",
     "text": [
      "0.010136699999975463\n"
     ]
    }
   ],
   "source": [
    "\n",
    "code = \"\"\"import pandas as pd\n",
    "regionDF = pd.read_excel('Vaccination_4_regions.xlsx')\n",
    "newDF = regionDF.loc[(regionDF['People Vaccinated']== 334795720) & (regionDF['Population'] == 4446069143)]\"\"\"\n",
    "\n",
    "execution_time = timeit.timeit(code, number = 1)\n",
    "\n",
    "print(execution_time)"
   ]
  },
  {
   "cell_type": "code",
   "execution_count": 23,
   "metadata": {},
   "outputs": [
    {
     "data": {
      "text/html": [
       "<div>\n",
       "<style scoped>\n",
       "    .dataframe tbody tr th:only-of-type {\n",
       "        vertical-align: middle;\n",
       "    }\n",
       "\n",
       "    .dataframe tbody tr th {\n",
       "        vertical-align: top;\n",
       "    }\n",
       "\n",
       "    .dataframe thead th {\n",
       "        text-align: right;\n",
       "    }\n",
       "</style>\n",
       "<table border=\"1\" class=\"dataframe\">\n",
       "  <thead>\n",
       "    <tr style=\"text-align: right;\">\n",
       "      <th></th>\n",
       "      <th>Region</th>\n",
       "      <th>People Vaccinated</th>\n",
       "      <th>Population</th>\n",
       "      <th>% Vaccination Rate</th>\n",
       "      <th>Vax Rate</th>\n",
       "    </tr>\n",
       "  </thead>\n",
       "  <tbody>\n",
       "    <tr>\n",
       "      <th>0</th>\n",
       "      <td>APAC</td>\n",
       "      <td>334795720</td>\n",
       "      <td>4446069143</td>\n",
       "      <td>0.075302</td>\n",
       "      <td>7.530151</td>\n",
       "    </tr>\n",
       "    <tr>\n",
       "      <th>1</th>\n",
       "      <td>EMEA</td>\n",
       "      <td>148969083</td>\n",
       "      <td>2292807221</td>\n",
       "      <td>0.064972</td>\n",
       "      <td>6.497235</td>\n",
       "    </tr>\n",
       "    <tr>\n",
       "      <th>2</th>\n",
       "      <td>LATAM</td>\n",
       "      <td>80344017</td>\n",
       "      <td>430457607</td>\n",
       "      <td>0.186648</td>\n",
       "      <td>18.664792</td>\n",
       "    </tr>\n",
       "  </tbody>\n",
       "</table>\n",
       "</div>"
      ],
      "text/plain": [
       "  Region  People Vaccinated  Population  % Vaccination Rate   Vax Rate\n",
       "0   APAC          334795720  4446069143            0.075302   7.530151\n",
       "1   EMEA          148969083  2292807221            0.064972   6.497235\n",
       "2  LATAM           80344017   430457607            0.186648  18.664792"
      ]
     },
     "execution_count": 23,
     "metadata": {},
     "output_type": "execute_result"
    }
   ],
   "source": [
    "#N 4 FILTER PANDAS DATAFRAME BY ROW AND COLUMN POSITION WITH iloc\n",
    "regionDF.iloc[:3] #First 3 rows"
   ]
  },
  {
   "cell_type": "code",
   "execution_count": 24,
   "metadata": {},
   "outputs": [
    {
     "data": {
      "text/html": [
       "<div>\n",
       "<style scoped>\n",
       "    .dataframe tbody tr th:only-of-type {\n",
       "        vertical-align: middle;\n",
       "    }\n",
       "\n",
       "    .dataframe tbody tr th {\n",
       "        vertical-align: top;\n",
       "    }\n",
       "\n",
       "    .dataframe thead th {\n",
       "        text-align: right;\n",
       "    }\n",
       "</style>\n",
       "<table border=\"1\" class=\"dataframe\">\n",
       "  <thead>\n",
       "    <tr style=\"text-align: right;\">\n",
       "      <th></th>\n",
       "      <th>Region</th>\n",
       "      <th>People Vaccinated</th>\n",
       "      <th>Population</th>\n",
       "      <th>% Vaccination Rate</th>\n",
       "      <th>Vax Rate</th>\n",
       "    </tr>\n",
       "  </thead>\n",
       "  <tbody>\n",
       "    <tr>\n",
       "      <th>0</th>\n",
       "      <td>APAC</td>\n",
       "      <td>334795720</td>\n",
       "      <td>4446069143</td>\n",
       "      <td>0.075302</td>\n",
       "      <td>7.530151</td>\n",
       "    </tr>\n",
       "  </tbody>\n",
       "</table>\n",
       "</div>"
      ],
      "text/plain": [
       "  Region  People Vaccinated  Population  % Vaccination Rate  Vax Rate\n",
       "0   APAC          334795720  4446069143            0.075302  7.530151"
      ]
     },
     "execution_count": 24,
     "metadata": {},
     "output_type": "execute_result"
    }
   ],
   "source": [
    "#Which one is faster between filtering by column, loc function or iloc? Turns out iloc is the fastest\n",
    "regionDF.iloc[:1]"
   ]
  },
  {
   "cell_type": "code",
   "execution_count": 27,
   "metadata": {},
   "outputs": [
    {
     "name": "stdout",
     "output_type": "stream",
     "text": [
      "0.007384200000046803\n"
     ]
    }
   ],
   "source": [
    "code = \"\"\"import pandas as pd\n",
    "regionDF = pd.read_excel('Vaccination_4_regions.xlsx')\n",
    "regionDF.iloc[:1]\"\"\"\n",
    "\n",
    "execution_time = timeit.timeit(code, number = 1)\n",
    "\n",
    "print(execution_time)"
   ]
  },
  {
   "cell_type": "code",
   "execution_count": 29,
   "metadata": {},
   "outputs": [
    {
     "data": {
      "text/html": [
       "<div>\n",
       "<style scoped>\n",
       "    .dataframe tbody tr th:only-of-type {\n",
       "        vertical-align: middle;\n",
       "    }\n",
       "\n",
       "    .dataframe tbody tr th {\n",
       "        vertical-align: top;\n",
       "    }\n",
       "\n",
       "    .dataframe thead th {\n",
       "        text-align: right;\n",
       "    }\n",
       "</style>\n",
       "<table border=\"1\" class=\"dataframe\">\n",
       "  <thead>\n",
       "    <tr style=\"text-align: right;\">\n",
       "      <th></th>\n",
       "      <th>Region</th>\n",
       "      <th>People Vaccinated</th>\n",
       "      <th>Population</th>\n",
       "      <th>% Vaccination Rate</th>\n",
       "      <th>Vax Rate</th>\n",
       "    </tr>\n",
       "  </thead>\n",
       "  <tbody>\n",
       "    <tr>\n",
       "      <th>1</th>\n",
       "      <td>EMEA</td>\n",
       "      <td>148969083</td>\n",
       "      <td>2292807221</td>\n",
       "      <td>0.064972</td>\n",
       "      <td>6.497235</td>\n",
       "    </tr>\n",
       "    <tr>\n",
       "      <th>2</th>\n",
       "      <td>LATAM</td>\n",
       "      <td>80344017</td>\n",
       "      <td>430457607</td>\n",
       "      <td>0.186648</td>\n",
       "      <td>18.664792</td>\n",
       "    </tr>\n",
       "    <tr>\n",
       "      <th>3</th>\n",
       "      <td>NOAM</td>\n",
       "      <td>204497807</td>\n",
       "      <td>587934386</td>\n",
       "      <td>0.347824</td>\n",
       "      <td>34.782420</td>\n",
       "    </tr>\n",
       "  </tbody>\n",
       "</table>\n",
       "</div>"
      ],
      "text/plain": [
       "  Region  People Vaccinated  Population  % Vaccination Rate   Vax Rate\n",
       "1   EMEA          148969083  2292807221            0.064972   6.497235\n",
       "2  LATAM           80344017   430457607            0.186648  18.664792\n",
       "3   NOAM          204497807   587934386            0.347824  34.782420"
      ]
     },
     "execution_count": 29,
     "metadata": {},
     "output_type": "execute_result"
    }
   ],
   "source": [
    "regionDF.iloc[1:4] #From second to fourth row"
   ]
  },
  {
   "cell_type": "code",
   "execution_count": 30,
   "metadata": {},
   "outputs": [
    {
     "data": {
      "text/plain": [
       "'NOAM'"
      ]
     },
     "execution_count": 30,
     "metadata": {},
     "output_type": "execute_result"
    }
   ],
   "source": [
    "regionDF.iloc[3,0]  #Third row first column"
   ]
  },
  {
   "cell_type": "code",
   "execution_count": 31,
   "metadata": {},
   "outputs": [
    {
     "data": {
      "text/plain": [
       "1     EMEA\n",
       "2    LATAM\n",
       "3     NOAM\n",
       "Name: Region, dtype: object"
      ]
     },
     "execution_count": 31,
     "metadata": {},
     "output_type": "execute_result"
    }
   ],
   "source": [
    "regionDF.iloc[1:4,0] #Second to fourth row and first column"
   ]
  },
  {
   "cell_type": "code",
   "execution_count": 33,
   "metadata": {},
   "outputs": [
    {
     "data": {
      "text/html": [
       "<div>\n",
       "<style scoped>\n",
       "    .dataframe tbody tr th:only-of-type {\n",
       "        vertical-align: middle;\n",
       "    }\n",
       "\n",
       "    .dataframe tbody tr th {\n",
       "        vertical-align: top;\n",
       "    }\n",
       "\n",
       "    .dataframe thead th {\n",
       "        text-align: right;\n",
       "    }\n",
       "</style>\n",
       "<table border=\"1\" class=\"dataframe\">\n",
       "  <thead>\n",
       "    <tr style=\"text-align: right;\">\n",
       "      <th></th>\n",
       "      <th>Region</th>\n",
       "      <th>People Vaccinated</th>\n",
       "      <th>Population</th>\n",
       "    </tr>\n",
       "  </thead>\n",
       "  <tbody>\n",
       "    <tr>\n",
       "      <th>1</th>\n",
       "      <td>EMEA</td>\n",
       "      <td>148969083</td>\n",
       "      <td>2292807221</td>\n",
       "    </tr>\n",
       "    <tr>\n",
       "      <th>2</th>\n",
       "      <td>LATAM</td>\n",
       "      <td>80344017</td>\n",
       "      <td>430457607</td>\n",
       "    </tr>\n",
       "    <tr>\n",
       "      <th>3</th>\n",
       "      <td>NOAM</td>\n",
       "      <td>204497807</td>\n",
       "      <td>587934386</td>\n",
       "    </tr>\n",
       "  </tbody>\n",
       "</table>\n",
       "</div>"
      ],
      "text/plain": [
       "  Region  People Vaccinated  Population\n",
       "1   EMEA          148969083  2292807221\n",
       "2  LATAM           80344017   430457607\n",
       "3   NOAM          204497807   587934386"
      ]
     },
     "execution_count": 33,
     "metadata": {},
     "output_type": "execute_result"
    }
   ],
   "source": [
    "regionDF.iloc[1:4,:3] #Second to fourth row, first 3 columns\n"
   ]
  },
  {
   "cell_type": "code",
   "execution_count": 35,
   "metadata": {},
   "outputs": [
    {
     "data": {
      "text/html": [
       "<div>\n",
       "<style scoped>\n",
       "    .dataframe tbody tr th:only-of-type {\n",
       "        vertical-align: middle;\n",
       "    }\n",
       "\n",
       "    .dataframe tbody tr th {\n",
       "        vertical-align: top;\n",
       "    }\n",
       "\n",
       "    .dataframe thead th {\n",
       "        text-align: right;\n",
       "    }\n",
       "</style>\n",
       "<table border=\"1\" class=\"dataframe\">\n",
       "  <thead>\n",
       "    <tr style=\"text-align: right;\">\n",
       "      <th></th>\n",
       "      <th>Population</th>\n",
       "      <th>% Vaccination Rate</th>\n",
       "    </tr>\n",
       "  </thead>\n",
       "  <tbody>\n",
       "    <tr>\n",
       "      <th>2</th>\n",
       "      <td>430457607</td>\n",
       "      <td>0.186648</td>\n",
       "    </tr>\n",
       "    <tr>\n",
       "      <th>3</th>\n",
       "      <td>587934386</td>\n",
       "      <td>0.347824</td>\n",
       "    </tr>\n",
       "  </tbody>\n",
       "</table>\n",
       "</div>"
      ],
      "text/plain": [
       "   Population  % Vaccination Rate\n",
       "2   430457607            0.186648\n",
       "3   587934386            0.347824"
      ]
     },
     "execution_count": 35,
     "metadata": {},
     "output_type": "execute_result"
    }
   ],
   "source": [
    "regionDF.iloc[2:4, 2:4] # third to fourth row, third to fourth column\n"
   ]
  },
  {
   "cell_type": "code",
   "execution_count": 43,
   "metadata": {},
   "outputs": [
    {
     "data": {
      "text/plain": [
       "1    148969083\n",
       "2     80344017\n",
       "3    204497807\n",
       "4    768606627\n",
       "Name: People Vaccinated, dtype: int64"
      ]
     },
     "execution_count": 43,
     "metadata": {},
     "output_type": "execute_result"
    }
   ],
   "source": [
    "#What is the difference between loc and iloc?\n",
    "regionDF.loc[1:4, 'People Vaccinated'] #loc selects by label (rows based on the indeces 1, 2, 3, 4 and column by \n",
    "#column name). Loc is inclusive (includes index 4)"
   ]
  },
  {
   "cell_type": "code",
   "execution_count": 44,
   "metadata": {},
   "outputs": [
    {
     "ename": "ValueError",
     "evalue": "Location based indexing can only have [integer, integer slice (START point is INCLUDED, END point is EXCLUDED), listlike of integers, boolean array] types",
     "output_type": "error",
     "traceback": [
      "\u001b[1;31m---------------------------------------------------------------------------\u001b[0m",
      "\u001b[1;31mValueError\u001b[0m                                Traceback (most recent call last)",
      "\u001b[1;32m~\\Anaconda3\\lib\\site-packages\\pandas\\core\\indexing.py\u001b[0m in \u001b[0;36m_has_valid_tuple\u001b[1;34m(self, key)\u001b[0m\n\u001b[0;32m    701\u001b[0m             \u001b[1;32mtry\u001b[0m\u001b[1;33m:\u001b[0m\u001b[1;33m\u001b[0m\u001b[1;33m\u001b[0m\u001b[0m\n\u001b[1;32m--> 702\u001b[1;33m                 \u001b[0mself\u001b[0m\u001b[1;33m.\u001b[0m\u001b[0m_validate_key\u001b[0m\u001b[1;33m(\u001b[0m\u001b[0mk\u001b[0m\u001b[1;33m,\u001b[0m \u001b[0mi\u001b[0m\u001b[1;33m)\u001b[0m\u001b[1;33m\u001b[0m\u001b[1;33m\u001b[0m\u001b[0m\n\u001b[0m\u001b[0;32m    703\u001b[0m             \u001b[1;32mexcept\u001b[0m \u001b[0mValueError\u001b[0m \u001b[1;32mas\u001b[0m \u001b[0merr\u001b[0m\u001b[1;33m:\u001b[0m\u001b[1;33m\u001b[0m\u001b[1;33m\u001b[0m\u001b[0m\n",
      "\u001b[1;32m~\\Anaconda3\\lib\\site-packages\\pandas\\core\\indexing.py\u001b[0m in \u001b[0;36m_validate_key\u001b[1;34m(self, key, axis)\u001b[0m\n\u001b[0;32m   1368\u001b[0m         \u001b[1;32melse\u001b[0m\u001b[1;33m:\u001b[0m\u001b[1;33m\u001b[0m\u001b[1;33m\u001b[0m\u001b[0m\n\u001b[1;32m-> 1369\u001b[1;33m             \u001b[1;32mraise\u001b[0m \u001b[0mValueError\u001b[0m\u001b[1;33m(\u001b[0m\u001b[1;34mf\"Can only index by location with a [{self._valid_types}]\"\u001b[0m\u001b[1;33m)\u001b[0m\u001b[1;33m\u001b[0m\u001b[1;33m\u001b[0m\u001b[0m\n\u001b[0m\u001b[0;32m   1370\u001b[0m \u001b[1;33m\u001b[0m\u001b[0m\n",
      "\u001b[1;31mValueError\u001b[0m: Can only index by location with a [integer, integer slice (START point is INCLUDED, END point is EXCLUDED), listlike of integers, boolean array]",
      "\nThe above exception was the direct cause of the following exception:\n",
      "\u001b[1;31mValueError\u001b[0m                                Traceback (most recent call last)",
      "\u001b[1;32m<ipython-input-44-78e6e0ca56b3>\u001b[0m in \u001b[0;36m<module>\u001b[1;34m\u001b[0m\n\u001b[1;32m----> 1\u001b[1;33m \u001b[0mregionDF\u001b[0m\u001b[1;33m.\u001b[0m\u001b[0miloc\u001b[0m\u001b[1;33m[\u001b[0m\u001b[1;36m1\u001b[0m\u001b[1;33m:\u001b[0m\u001b[1;36m4\u001b[0m\u001b[1;33m,\u001b[0m \u001b[1;34m'People Vaccinated'\u001b[0m\u001b[1;33m]\u001b[0m \u001b[1;31m#iloc selects the rown based on their position. i in iloc stays for integer.\u001b[0m\u001b[1;33m\u001b[0m\u001b[1;33m\u001b[0m\u001b[0m\n\u001b[0m\u001b[0;32m      2\u001b[0m \u001b[1;31m#First integer is included and second excluded\u001b[0m\u001b[1;33m\u001b[0m\u001b[1;33m\u001b[0m\u001b[1;33m\u001b[0m\u001b[0m\n",
      "\u001b[1;32m~\\Anaconda3\\lib\\site-packages\\pandas\\core\\indexing.py\u001b[0m in \u001b[0;36m__getitem__\u001b[1;34m(self, key)\u001b[0m\n\u001b[0;32m    871\u001b[0m                     \u001b[1;31m# AttributeError for IntervalTree get_value\u001b[0m\u001b[1;33m\u001b[0m\u001b[1;33m\u001b[0m\u001b[1;33m\u001b[0m\u001b[0m\n\u001b[0;32m    872\u001b[0m                     \u001b[1;32mpass\u001b[0m\u001b[1;33m\u001b[0m\u001b[1;33m\u001b[0m\u001b[0m\n\u001b[1;32m--> 873\u001b[1;33m             \u001b[1;32mreturn\u001b[0m \u001b[0mself\u001b[0m\u001b[1;33m.\u001b[0m\u001b[0m_getitem_tuple\u001b[0m\u001b[1;33m(\u001b[0m\u001b[0mkey\u001b[0m\u001b[1;33m)\u001b[0m\u001b[1;33m\u001b[0m\u001b[1;33m\u001b[0m\u001b[0m\n\u001b[0m\u001b[0;32m    874\u001b[0m         \u001b[1;32melse\u001b[0m\u001b[1;33m:\u001b[0m\u001b[1;33m\u001b[0m\u001b[1;33m\u001b[0m\u001b[0m\n\u001b[0;32m    875\u001b[0m             \u001b[1;31m# we by definition only have the 0th axis\u001b[0m\u001b[1;33m\u001b[0m\u001b[1;33m\u001b[0m\u001b[1;33m\u001b[0m\u001b[0m\n",
      "\u001b[1;32m~\\Anaconda3\\lib\\site-packages\\pandas\\core\\indexing.py\u001b[0m in \u001b[0;36m_getitem_tuple\u001b[1;34m(self, tup)\u001b[0m\n\u001b[0;32m   1441\u001b[0m     \u001b[1;32mdef\u001b[0m \u001b[0m_getitem_tuple\u001b[0m\u001b[1;33m(\u001b[0m\u001b[0mself\u001b[0m\u001b[1;33m,\u001b[0m \u001b[0mtup\u001b[0m\u001b[1;33m:\u001b[0m \u001b[0mTuple\u001b[0m\u001b[1;33m)\u001b[0m\u001b[1;33m:\u001b[0m\u001b[1;33m\u001b[0m\u001b[1;33m\u001b[0m\u001b[0m\n\u001b[0;32m   1442\u001b[0m \u001b[1;33m\u001b[0m\u001b[0m\n\u001b[1;32m-> 1443\u001b[1;33m         \u001b[0mself\u001b[0m\u001b[1;33m.\u001b[0m\u001b[0m_has_valid_tuple\u001b[0m\u001b[1;33m(\u001b[0m\u001b[0mtup\u001b[0m\u001b[1;33m)\u001b[0m\u001b[1;33m\u001b[0m\u001b[1;33m\u001b[0m\u001b[0m\n\u001b[0m\u001b[0;32m   1444\u001b[0m         \u001b[1;32mtry\u001b[0m\u001b[1;33m:\u001b[0m\u001b[1;33m\u001b[0m\u001b[1;33m\u001b[0m\u001b[0m\n\u001b[0;32m   1445\u001b[0m             \u001b[1;32mreturn\u001b[0m \u001b[0mself\u001b[0m\u001b[1;33m.\u001b[0m\u001b[0m_getitem_lowerdim\u001b[0m\u001b[1;33m(\u001b[0m\u001b[0mtup\u001b[0m\u001b[1;33m)\u001b[0m\u001b[1;33m\u001b[0m\u001b[1;33m\u001b[0m\u001b[0m\n",
      "\u001b[1;32m~\\Anaconda3\\lib\\site-packages\\pandas\\core\\indexing.py\u001b[0m in \u001b[0;36m_has_valid_tuple\u001b[1;34m(self, key)\u001b[0m\n\u001b[0;32m    702\u001b[0m                 \u001b[0mself\u001b[0m\u001b[1;33m.\u001b[0m\u001b[0m_validate_key\u001b[0m\u001b[1;33m(\u001b[0m\u001b[0mk\u001b[0m\u001b[1;33m,\u001b[0m \u001b[0mi\u001b[0m\u001b[1;33m)\u001b[0m\u001b[1;33m\u001b[0m\u001b[1;33m\u001b[0m\u001b[0m\n\u001b[0;32m    703\u001b[0m             \u001b[1;32mexcept\u001b[0m \u001b[0mValueError\u001b[0m \u001b[1;32mas\u001b[0m \u001b[0merr\u001b[0m\u001b[1;33m:\u001b[0m\u001b[1;33m\u001b[0m\u001b[1;33m\u001b[0m\u001b[0m\n\u001b[1;32m--> 704\u001b[1;33m                 raise ValueError(\n\u001b[0m\u001b[0;32m    705\u001b[0m                     \u001b[1;34m\"Location based indexing can only have \"\u001b[0m\u001b[1;33m\u001b[0m\u001b[1;33m\u001b[0m\u001b[0m\n\u001b[0;32m    706\u001b[0m                     \u001b[1;34mf\"[{self._valid_types}] types\"\u001b[0m\u001b[1;33m\u001b[0m\u001b[1;33m\u001b[0m\u001b[0m\n",
      "\u001b[1;31mValueError\u001b[0m: Location based indexing can only have [integer, integer slice (START point is INCLUDED, END point is EXCLUDED), listlike of integers, boolean array] types"
     ]
    }
   ],
   "source": [
    "regionDF.iloc[1:4, 'People Vaccinated'] #iloc selects the rown based on their position. i in iloc stays for integer. \n",
    "#First integer is included and second excluded. It can only work with integers. For ex. if I  try to select by column\n",
    "#name, I get an error: https://www.youtube.com/watch?v=xvpNA7bC8cs "
   ]
  },
  {
   "cell_type": "code",
   "execution_count": 46,
   "metadata": {},
   "outputs": [
    {
     "data": {
      "text/html": [
       "<div>\n",
       "<style scoped>\n",
       "    .dataframe tbody tr th:only-of-type {\n",
       "        vertical-align: middle;\n",
       "    }\n",
       "\n",
       "    .dataframe tbody tr th {\n",
       "        vertical-align: top;\n",
       "    }\n",
       "\n",
       "    .dataframe thead th {\n",
       "        text-align: right;\n",
       "    }\n",
       "</style>\n",
       "<table border=\"1\" class=\"dataframe\">\n",
       "  <thead>\n",
       "    <tr style=\"text-align: right;\">\n",
       "      <th></th>\n",
       "      <th>Region</th>\n",
       "      <th>People Vaccinated</th>\n",
       "      <th>Population</th>\n",
       "      <th>% Vaccination Rate</th>\n",
       "      <th>Vax Rate</th>\n",
       "    </tr>\n",
       "  </thead>\n",
       "  <tbody>\n",
       "    <tr>\n",
       "      <th>1</th>\n",
       "      <td>EMEA</td>\n",
       "      <td>148969083</td>\n",
       "      <td>2292807221</td>\n",
       "      <td>0.064972</td>\n",
       "      <td>6.497235</td>\n",
       "    </tr>\n",
       "    <tr>\n",
       "      <th>2</th>\n",
       "      <td>LATAM</td>\n",
       "      <td>80344017</td>\n",
       "      <td>430457607</td>\n",
       "      <td>0.186648</td>\n",
       "      <td>18.664792</td>\n",
       "    </tr>\n",
       "    <tr>\n",
       "      <th>3</th>\n",
       "      <td>NOAM</td>\n",
       "      <td>204497807</td>\n",
       "      <td>587934386</td>\n",
       "      <td>0.347824</td>\n",
       "      <td>34.782420</td>\n",
       "    </tr>\n",
       "  </tbody>\n",
       "</table>\n",
       "</div>"
      ],
      "text/plain": [
       "  Region  People Vaccinated  Population  % Vaccination Rate   Vax Rate\n",
       "1   EMEA          148969083  2292807221            0.064972   6.497235\n",
       "2  LATAM           80344017   430457607            0.186648  18.664792\n",
       "3   NOAM          204497807   587934386            0.347824  34.782420"
      ]
     },
     "execution_count": 46,
     "metadata": {},
     "output_type": "execute_result"
    }
   ],
   "source": [
    "regionDF.iloc[1:4]"
   ]
  },
  {
   "cell_type": "code",
   "execution_count": 47,
   "metadata": {},
   "outputs": [
    {
     "data": {
      "text/html": [
       "<div>\n",
       "<style scoped>\n",
       "    .dataframe tbody tr th:only-of-type {\n",
       "        vertical-align: middle;\n",
       "    }\n",
       "\n",
       "    .dataframe tbody tr th {\n",
       "        vertical-align: top;\n",
       "    }\n",
       "\n",
       "    .dataframe thead th {\n",
       "        text-align: right;\n",
       "    }\n",
       "</style>\n",
       "<table border=\"1\" class=\"dataframe\">\n",
       "  <thead>\n",
       "    <tr style=\"text-align: right;\">\n",
       "      <th></th>\n",
       "      <th>Region</th>\n",
       "      <th>People Vaccinated</th>\n",
       "      <th>Population</th>\n",
       "      <th>% Vaccination Rate</th>\n",
       "      <th>Vax Rate</th>\n",
       "    </tr>\n",
       "  </thead>\n",
       "  <tbody>\n",
       "    <tr>\n",
       "      <th>1</th>\n",
       "      <td>EMEA</td>\n",
       "      <td>148969083</td>\n",
       "      <td>2292807221</td>\n",
       "      <td>0.064972</td>\n",
       "      <td>6.497235</td>\n",
       "    </tr>\n",
       "    <tr>\n",
       "      <th>2</th>\n",
       "      <td>LATAM</td>\n",
       "      <td>80344017</td>\n",
       "      <td>430457607</td>\n",
       "      <td>0.186648</td>\n",
       "      <td>18.664792</td>\n",
       "    </tr>\n",
       "    <tr>\n",
       "      <th>3</th>\n",
       "      <td>NOAM</td>\n",
       "      <td>204497807</td>\n",
       "      <td>587934386</td>\n",
       "      <td>0.347824</td>\n",
       "      <td>34.782420</td>\n",
       "    </tr>\n",
       "    <tr>\n",
       "      <th>4</th>\n",
       "      <td>Total</td>\n",
       "      <td>768606627</td>\n",
       "      <td>7757268357</td>\n",
       "      <td>0.099082</td>\n",
       "      <td>9.908212</td>\n",
       "    </tr>\n",
       "  </tbody>\n",
       "</table>\n",
       "</div>"
      ],
      "text/plain": [
       "   Region  People Vaccinated  Population  % Vaccination Rate   Vax Rate\n",
       "1    EMEA          148969083  2292807221            0.064972   6.497235\n",
       "2   LATAM           80344017   430457607            0.186648  18.664792\n",
       "3    NOAM          204497807   587934386            0.347824  34.782420\n",
       "4  Total           768606627  7757268357            0.099082   9.908212"
      ]
     },
     "execution_count": 47,
     "metadata": {},
     "output_type": "execute_result"
    }
   ],
   "source": [
    "regionDF.loc[1:4]"
   ]
  },
  {
   "cell_type": "code",
   "execution_count": 48,
   "metadata": {},
   "outputs": [],
   "source": [
    "#For more ways to filter dataframe see https://www.listendata.com/2019/07/how-to-filter-pandas-dataframe.html"
   ]
  },
  {
   "cell_type": "code",
   "execution_count": 49,
   "metadata": {},
   "outputs": [],
   "source": [
    "#Let's now focus on a method that can be really helpful: pandas.DataFrame.to_json"
   ]
  },
  {
   "cell_type": "markdown",
   "metadata": {},
   "source": [
    "Learn and apply pandas.DataFrame.to_json to convert an object to a JSON string.\n",
    "\n",
    "https://pandas.pydata.org/pandas-docs/stable/reference/api/pandas.DataFrame.to_json.html#pandas-dataframe-to-json\n",
    "\n",
    "This is the synthax:\n",
    "\n",
    "DataFrame.to_json(path_or_buf=None, orient=None, date_format=None, double_precision=10, force_ascii=True, date_unit='ms', default_handler=None, lines=False, compression='infer', index=True, indent=None, storage_options=None)"
   ]
  },
  {
   "cell_type": "code",
   "execution_count": 52,
   "metadata": {},
   "outputs": [],
   "source": [
    "import json"
   ]
  },
  {
   "cell_type": "code",
   "execution_count": 53,
   "metadata": {},
   "outputs": [
    {
     "data": {
      "text/plain": [
       "'{\"Region\":{\"0\":\"APAC\",\"1\":\"EMEA\",\"2\":\"LATAM\",\"3\":\"NOAM\",\"4\":\"Total \"},\"People Vaccinated\":{\"0\":334795720,\"1\":148969083,\"2\":80344017,\"3\":204497807,\"4\":768606627},\"Population\":{\"0\":4446069143,\"1\":2292807221,\"2\":430457607,\"3\":587934386,\"4\":7757268357},\"% Vaccination Rate\":{\"0\":0.07530151,\"1\":0.0649723543,\"2\":0.18664792,\"3\":0.3478241992,\"4\":0.0990821242},\"Vax Rate\":{\"0\":7.5301509993,\"1\":6.4972354254,\"2\":18.6647920012,\"3\":34.7824199213,\"4\":9.9082124226}}'"
      ]
     },
     "execution_count": 53,
     "metadata": {},
     "output_type": "execute_result"
    }
   ],
   "source": [
    "#path_or_buf: file path or object. If not specified it returns a string.\n",
    "regionDF.to_json(path_or_buf=None)"
   ]
  },
  {
   "cell_type": "code",
   "execution_count": 54,
   "metadata": {},
   "outputs": [
    {
     "data": {
      "text/plain": [
       "'{\"0\":{\"Region\":\"APAC\",\"People Vaccinated\":334795720,\"Population\":4446069143,\"% Vaccination Rate\":0.07530151,\"Vax Rate\":7.5301509993},\"1\":{\"Region\":\"EMEA\",\"People Vaccinated\":148969083,\"Population\":2292807221,\"% Vaccination Rate\":0.0649723543,\"Vax Rate\":6.4972354254},\"2\":{\"Region\":\"LATAM\",\"People Vaccinated\":80344017,\"Population\":430457607,\"% Vaccination Rate\":0.18664792,\"Vax Rate\":18.6647920012},\"3\":{\"Region\":\"NOAM\",\"People Vaccinated\":204497807,\"Population\":587934386,\"% Vaccination Rate\":0.3478241992,\"Vax Rate\":34.7824199213},\"4\":{\"Region\":\"Total \",\"People Vaccinated\":768606627,\"Population\":7757268357,\"% Vaccination Rate\":0.0990821242,\"Vax Rate\":9.9082124226}}'"
      ]
     },
     "execution_count": 54,
     "metadata": {},
     "output_type": "execute_result"
    }
   ],
   "source": [
    "# default is ‘index’, which reads the data horizontally for each index:\n",
    "#allowed values are: {‘split’, ‘records’, ‘index’, ‘table’}.\n",
    "    \n",
    "regionDF.to_json(path_or_buf=None, orient= 'index')"
   ]
  },
  {
   "cell_type": "code",
   "execution_count": 55,
   "metadata": {},
   "outputs": [
    {
     "data": {
      "text/plain": [
       "'{\"columns\":[\"Region\",\"People Vaccinated\",\"Population\",\"% Vaccination Rate\",\"Vax Rate\"],\"index\":[0,1,2,3,4],\"data\":[[\"APAC\",334795720,4446069143,0.07530151,7.5301509993],[\"EMEA\",148969083,2292807221,0.0649723543,6.4972354254],[\"LATAM\",80344017,430457607,0.18664792,18.6647920012],[\"NOAM\",204497807,587934386,0.3478241992,34.7824199213],[\"Total \",768606627,7757268357,0.0990821242,9.9082124226]]}'"
      ]
     },
     "execution_count": 55,
     "metadata": {},
     "output_type": "execute_result"
    }
   ],
   "source": [
    "#Split reads horizontally (the names of the columns), vertically (the indeces), and provides the data for each region\n",
    "regionDF.to_json(path_or_buf = None, orient = 'split')"
   ]
  },
  {
   "cell_type": "code",
   "execution_count": 56,
   "metadata": {},
   "outputs": [
    {
     "data": {
      "text/plain": [
       "'[{\"Region\":\"APAC\",\"People Vaccinated\":334795720,\"Population\":4446069143,\"% Vaccination Rate\":0.07530151,\"Vax Rate\":7.5301509993},{\"Region\":\"EMEA\",\"People Vaccinated\":148969083,\"Population\":2292807221,\"% Vaccination Rate\":0.0649723543,\"Vax Rate\":6.4972354254},{\"Region\":\"LATAM\",\"People Vaccinated\":80344017,\"Population\":430457607,\"% Vaccination Rate\":0.18664792,\"Vax Rate\":18.6647920012},{\"Region\":\"NOAM\",\"People Vaccinated\":204497807,\"Population\":587934386,\"% Vaccination Rate\":0.3478241992,\"Vax Rate\":34.7824199213},{\"Region\":\"Total \",\"People Vaccinated\":768606627,\"Population\":7757268357,\"% Vaccination Rate\":0.0990821242,\"Vax Rate\":9.9082124226}]'"
      ]
     },
     "execution_count": 56,
     "metadata": {},
     "output_type": "execute_result"
    }
   ],
   "source": [
    "#records reads the data for every region right away\n",
    "regionDF.to_json(path_or_buf = None, orient = 'records')"
   ]
  },
  {
   "cell_type": "code",
   "execution_count": 57,
   "metadata": {},
   "outputs": [
    {
     "data": {
      "text/plain": [
       "'{\"schema\":{\"fields\":[{\"name\":\"index\",\"type\":\"integer\"},{\"name\":\"Region\",\"type\":\"string\"},{\"name\":\"People Vaccinated\",\"type\":\"integer\"},{\"name\":\"Population\",\"type\":\"integer\"},{\"name\":\"% Vaccination Rate\",\"type\":\"number\"},{\"name\":\"Vax Rate\",\"type\":\"number\"}],\"primaryKey\":[\"index\"],\"pandas_version\":\"0.20.0\"},\"data\":[{\"index\":0,\"Region\":\"APAC\",\"People Vaccinated\":334795720,\"Population\":4446069143,\"% Vaccination Rate\":0.07530151,\"Vax Rate\":7.5301509993},{\"index\":1,\"Region\":\"EMEA\",\"People Vaccinated\":148969083,\"Population\":2292807221,\"% Vaccination Rate\":0.0649723543,\"Vax Rate\":6.4972354254},{\"index\":2,\"Region\":\"LATAM\",\"People Vaccinated\":80344017,\"Population\":430457607,\"% Vaccination Rate\":0.18664792,\"Vax Rate\":18.6647920012},{\"index\":3,\"Region\":\"NOAM\",\"People Vaccinated\":204497807,\"Population\":587934386,\"% Vaccination Rate\":0.3478241992,\"Vax Rate\":34.7824199213},{\"index\":4,\"Region\":\"Total \",\"People Vaccinated\":768606627,\"Population\":7757268357,\"% Vaccination Rate\":0.0990821242,\"Vax Rate\":9.9082124226}]}'"
      ]
     },
     "execution_count": 57,
     "metadata": {},
     "output_type": "execute_result"
    }
   ],
   "source": [
    "#table gives tons of information on the data type as well\n",
    "regionDF.to_json(path_or_buf = None, orient = 'table')"
   ]
  },
  {
   "cell_type": "code",
   "execution_count": 58,
   "metadata": {},
   "outputs": [
    {
     "data": {
      "text/plain": [
       "'{\"Region\":{\"0\":\"APAC\",\"1\":\"EMEA\",\"2\":\"LATAM\",\"3\":\"NOAM\",\"4\":\"Total \"},\"People Vaccinated\":{\"0\":334795720,\"1\":148969083,\"2\":80344017,\"3\":204497807,\"4\":768606627},\"Population\":{\"0\":4446069143,\"1\":2292807221,\"2\":430457607,\"3\":587934386,\"4\":7757268357},\"% Vaccination Rate\":{\"0\":0.07530151,\"1\":0.0649723543,\"2\":0.18664792,\"3\":0.3478241992,\"4\":0.0990821242},\"Vax Rate\":{\"0\":7.5301509993,\"1\":6.4972354254,\"2\":18.6647920012,\"3\":34.7824199213,\"4\":9.9082124226}}'"
      ]
     },
     "execution_count": 58,
     "metadata": {},
     "output_type": "execute_result"
    }
   ],
   "source": [
    "#columns reads vertically for every column, ignoring the index column\n",
    "regionDF.to_json(orient = 'columns')"
   ]
  },
  {
   "cell_type": "code",
   "execution_count": 59,
   "metadata": {},
   "outputs": [
    {
     "data": {
      "text/plain": [
       "'[[\"APAC\",334795720,4446069143,0.07530151,7.5301509993],[\"EMEA\",148969083,2292807221,0.0649723543,6.4972354254],[\"LATAM\",80344017,430457607,0.18664792,18.6647920012],[\"NOAM\",204497807,587934386,0.3478241992,34.7824199213],[\"Total \",768606627,7757268357,0.0990821242,9.9082124226]]'"
      ]
     },
     "execution_count": 59,
     "metadata": {},
     "output_type": "execute_result"
    }
   ],
   "source": [
    "#values reads horizontally: all the horizontal data for the first region, then all the horizontal data for the second region\n",
    "#etc.\n",
    "regionDF.to_json(orient = 'values')"
   ]
  },
  {
   "cell_type": "code",
   "execution_count": 60,
   "metadata": {},
   "outputs": [],
   "source": [
    "#Let's focus on this for a moment regionDF.to_json(orient = 'records'). Let's assign it to a variable my_string\n",
    "my_string = regionDF.to_json(orient = 'records')"
   ]
  },
  {
   "cell_type": "code",
   "execution_count": 61,
   "metadata": {},
   "outputs": [
    {
     "data": {
      "text/plain": [
       "'[{\"Region\":\"APAC\",\"People Vaccinated\":334795720,\"Population\":4446069143,\"% Vaccination Rate\":0.07530151,\"Vax Rate\":7.5301509993},{\"Region\":\"EMEA\",\"People Vaccinated\":148969083,\"Population\":2292807221,\"% Vaccination Rate\":0.0649723543,\"Vax Rate\":6.4972354254},{\"Region\":\"LATAM\",\"People Vaccinated\":80344017,\"Population\":430457607,\"% Vaccination Rate\":0.18664792,\"Vax Rate\":18.6647920012},{\"Region\":\"NOAM\",\"People Vaccinated\":204497807,\"Population\":587934386,\"% Vaccination Rate\":0.3478241992,\"Vax Rate\":34.7824199213},{\"Region\":\"Total \",\"People Vaccinated\":768606627,\"Population\":7757268357,\"% Vaccination Rate\":0.0990821242,\"Vax Rate\":9.9082124226}]'"
      ]
     },
     "execution_count": 61,
     "metadata": {},
     "output_type": "execute_result"
    }
   ],
   "source": [
    "my_string"
   ]
  },
  {
   "cell_type": "markdown",
   "metadata": {},
   "source": [
    "LOADS & DUMPS\n",
    "\n",
    "DUMPS is used when the objects are required to be in string format \n",
    "LOADS is used when the objects are required to be in list format "
   ]
  },
  {
   "cell_type": "code",
   "execution_count": 68,
   "metadata": {},
   "outputs": [],
   "source": [
    "#Since I'm delaing with a string, I can: \n",
    "my_json_loads = json.loads(my_string) #send my string to a list\n",
    "#my_json = json.dumps(my_string)"
   ]
  },
  {
   "cell_type": "code",
   "execution_count": 69,
   "metadata": {},
   "outputs": [
    {
     "data": {
      "text/plain": [
       "[{'Region': 'APAC',\n",
       "  'People Vaccinated': 334795720,\n",
       "  'Population': 4446069143,\n",
       "  '% Vaccination Rate': 0.07530151,\n",
       "  'Vax Rate': 7.5301509993},\n",
       " {'Region': 'EMEA',\n",
       "  'People Vaccinated': 148969083,\n",
       "  'Population': 2292807221,\n",
       "  '% Vaccination Rate': 0.0649723543,\n",
       "  'Vax Rate': 6.4972354254},\n",
       " {'Region': 'LATAM',\n",
       "  'People Vaccinated': 80344017,\n",
       "  'Population': 430457607,\n",
       "  '% Vaccination Rate': 0.18664792,\n",
       "  'Vax Rate': 18.6647920012},\n",
       " {'Region': 'NOAM',\n",
       "  'People Vaccinated': 204497807,\n",
       "  'Population': 587934386,\n",
       "  '% Vaccination Rate': 0.3478241992,\n",
       "  'Vax Rate': 34.7824199213},\n",
       " {'Region': 'Total ',\n",
       "  'People Vaccinated': 768606627,\n",
       "  'Population': 7757268357,\n",
       "  '% Vaccination Rate': 0.0990821242,\n",
       "  'Vax Rate': 9.9082124226}]"
      ]
     },
     "execution_count": 69,
     "metadata": {},
     "output_type": "execute_result"
    }
   ],
   "source": [
    "my_json_loads"
   ]
  },
  {
   "cell_type": "code",
   "execution_count": 72,
   "metadata": {},
   "outputs": [],
   "source": [
    "my_json_dumps = json.dumps(my_string) #send my string to a string"
   ]
  },
  {
   "cell_type": "code",
   "execution_count": 73,
   "metadata": {},
   "outputs": [
    {
     "data": {
      "text/plain": [
       "'\"[{\\\\\"Region\\\\\":\\\\\"APAC\\\\\",\\\\\"People Vaccinated\\\\\":334795720,\\\\\"Population\\\\\":4446069143,\\\\\"% Vaccination Rate\\\\\":0.07530151,\\\\\"Vax Rate\\\\\":7.5301509993},{\\\\\"Region\\\\\":\\\\\"EMEA\\\\\",\\\\\"People Vaccinated\\\\\":148969083,\\\\\"Population\\\\\":2292807221,\\\\\"% Vaccination Rate\\\\\":0.0649723543,\\\\\"Vax Rate\\\\\":6.4972354254},{\\\\\"Region\\\\\":\\\\\"LATAM\\\\\",\\\\\"People Vaccinated\\\\\":80344017,\\\\\"Population\\\\\":430457607,\\\\\"% Vaccination Rate\\\\\":0.18664792,\\\\\"Vax Rate\\\\\":18.6647920012},{\\\\\"Region\\\\\":\\\\\"NOAM\\\\\",\\\\\"People Vaccinated\\\\\":204497807,\\\\\"Population\\\\\":587934386,\\\\\"% Vaccination Rate\\\\\":0.3478241992,\\\\\"Vax Rate\\\\\":34.7824199213},{\\\\\"Region\\\\\":\\\\\"Total \\\\\",\\\\\"People Vaccinated\\\\\":768606627,\\\\\"Population\\\\\":7757268357,\\\\\"% Vaccination Rate\\\\\":0.0990821242,\\\\\"Vax Rate\\\\\":9.9082124226}]\"'"
      ]
     },
     "execution_count": 73,
     "metadata": {},
     "output_type": "execute_result"
    }
   ],
   "source": [
    "my_json_dumps"
   ]
  },
  {
   "cell_type": "markdown",
   "metadata": {},
   "source": [
    "LOAD & DUMP\n",
    "https://www.youtube.com/watch?v=9N6a-VLBa2I\n",
    "https://www.geeksforgeeks.org/json-dump-in-python/\n",
    "\n",
    "DUMP: convert a python object into a json object. It's used when the Python objects have to be stored in a file."
   ]
  },
  {
   "cell_type": "code",
   "execution_count": 74,
   "metadata": {},
   "outputs": [],
   "source": [
    "# DUMP, DUMPS and LOAD: https://www.geeksforgeeks.org/json-dump-in-python/\n",
    "#The dump() needs the json file name in which the output has to be stored as an argument.\n",
    "#Syntax: json.dump(d, skipkeys=False, ensure_ascii=True, check_circular=True, allow_nan=True, cls=None, indent=None, separators=None)\n",
    "## the json file where the output must be stored\n",
    "with open(\"my_vax.json\", \"w\") as p:\n",
    "    json.dump(my_json_loads, p, indent = 4, sort_keys = True)"
   ]
  },
  {
   "cell_type": "code",
   "execution_count": 75,
   "metadata": {},
   "outputs": [],
   "source": [
    "with open('my_vax.json', 'r') as p:\n",
    "    json.load(p)"
   ]
  },
  {
   "cell_type": "markdown",
   "metadata": {},
   "source": [
    "json.dump()\n",
    "\n",
    "json module in Python module provides a method called dump() which converts the Python objects into appropriate\n",
    "json objects. It is a slight variant of dumps() method, which is 2 times slower.\n",
    "\n",
    "The dump() method is used when the Python objects have to be stored in a file.\n",
    "\n",
    "The dumps() is used when the objects are required to be in string format and is used for parsing, printing, etc.\n",
    "\n",
    "The dump() needs the json file name in which the output has to be stored as an argument.\n",
    "\n",
    "The dumps() does not require any such file name to be passed.\n",
    "\n",
    "This method writes in the memory and then command for writing to disk is executed separately\n",
    "\n",
    "This method directly writes to the json file"
   ]
  },
  {
   "cell_type": "code",
   "execution_count": 80,
   "metadata": {},
   "outputs": [
    {
     "ename": "SyntaxError",
     "evalue": "invalid syntax (<ipython-input-80-edd446cd2eaf>, line 3)",
     "output_type": "error",
     "traceback": [
      "\u001b[1;36m  File \u001b[1;32m\"<ipython-input-80-edd446cd2eaf>\"\u001b[1;36m, line \u001b[1;32m3\u001b[0m\n\u001b[1;33m    [float(x) for x in Vax Rate]\u001b[0m\n\u001b[1;37m                           ^\u001b[0m\n\u001b[1;31mSyntaxError\u001b[0m\u001b[1;31m:\u001b[0m invalid syntax\n"
     ]
    }
   ],
   "source": [
    "#Next need to look into list comprehension\n",
    "#[float(x) for x in vr]\n",
    "[float(x) for x in Vax Rate]"
   ]
  },
  {
   "cell_type": "code",
   "execution_count": null,
   "metadata": {},
   "outputs": [],
   "source": []
  },
  {
   "cell_type": "code",
   "execution_count": null,
   "metadata": {},
   "outputs": [],
   "source": []
  },
  {
   "cell_type": "code",
   "execution_count": null,
   "metadata": {},
   "outputs": [],
   "source": [
    "#2. QUERY FUNCTION\n",
    "newDF = regionDF.query('People Vaccinated == 334795720 & Population == 4446069143')\n",
    "\n",
    "#newdf = df.query('origin == \"JFK\" & carrier == \"B6\"')"
   ]
  },
  {
   "cell_type": "code",
   "execution_count": null,
   "metadata": {},
   "outputs": [],
   "source": [
    "#NOTE: let's get away from the habit of building dictionaries manually like I used to do below.\n",
    "#Best practice is to use read_excel if I already have the data into an excel doc\n",
    "\n",
    "regionData = {\n",
    "    \"Region\":\n",
    "                [\"APAC\", \"EMEA \", \"LATAM\", \"NOAM\" ],\n",
    "    \n",
    "    \"People Vaccinated\": \n",
    "               [334795720, 148969083, 80344017, 204497807],\n",
    "                                      \n",
    "    \"Population\": \n",
    "              [4446069143, 2292807221, 430457607, 587934386],\n",
    "                                    \n",
    "    \"% Vaccination Rate\":\n",
    "               [7.53, 6.50, 18.66, 34.78],\n",
    "    \n",
    "}"
   ]
  },
  {
   "cell_type": "code",
   "execution_count": null,
   "metadata": {},
   "outputs": [],
   "source": []
  },
  {
   "cell_type": "code",
   "execution_count": null,
   "metadata": {},
   "outputs": [],
   "source": []
  },
  {
   "cell_type": "code",
   "execution_count": null,
   "metadata": {},
   "outputs": [],
   "source": []
  },
  {
   "cell_type": "code",
   "execution_count": null,
   "metadata": {},
   "outputs": [],
   "source": []
  },
  {
   "cell_type": "code",
   "execution_count": null,
   "metadata": {},
   "outputs": [],
   "source": []
  },
  {
   "cell_type": "code",
   "execution_count": null,
   "metadata": {},
   "outputs": [],
   "source": []
  }
 ],
 "metadata": {
  "kernelspec": {
   "display_name": "Python 3",
   "language": "python",
   "name": "python3"
  },
  "language_info": {
   "codemirror_mode": {
    "name": "ipython",
    "version": 3
   },
   "file_extension": ".py",
   "mimetype": "text/x-python",
   "name": "python",
   "nbconvert_exporter": "python",
   "pygments_lexer": "ipython3",
   "version": "3.8.5"
  }
 },
 "nbformat": 4,
 "nbformat_minor": 4
}
