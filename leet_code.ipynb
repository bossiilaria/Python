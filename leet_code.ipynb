{
 "cells": [
  {
   "cell_type": "markdown",
   "metadata": {},
   "source": [
    "EASY LEETCODE PROBLEMS\n",
    "\n",
    "GOAL PARSER INTERPRETATION\n",
    "\n",
    "You own a Goal Parser that can interpret a string command. The command consists of an alphabet of \"G\", \"()\" and/or \"(al)\" in some order. The Goal Parser will interpret \"G\" as the string \"G\", \"()\" as the string \"o\", and \"(al)\" as the string \"al\". The interpreted strings are then concatenated in the original order.\n",
    "\n",
    "Given the string command, return the Goal Parser's interpretation of command.\n",
    "\n",
    " \n",
    "\n",
    "Example 1:\n",
    "\n",
    "Input: command = \"G()(al)\"\n",
    "Output: \"Goal\"\n",
    "Explanation: The Goal Parser interprets the command as follows:\n",
    "G -> G\n",
    "() -> o\n",
    "(al) -> al\n",
    "The final concatenated result is \"Goal\".\n",
    "Example 2:\n",
    "\n",
    "Input: command = \"G()()()()(al)\"\n",
    "Output: \"Gooooal\"\n",
    "Example 3:\n",
    "\n",
    "Input: command = \"(al)G(al)()()G\"\n",
    "Output: \"alGalooG\"\n",
    " \n",
    "\n",
    "Constraints:\n",
    "\n",
    "1 <= command.length <= 100\n",
    "command consists of \"G\", \"()\", and/or \"(al)\" in some order."
   ]
  },
  {
   "cell_type": "code",
   "execution_count": 1,
   "metadata": {},
   "outputs": [],
   "source": [
    "#One way to solve this is by using the string replace() method. See tutorial: https://www.youtube.com/watch?v=qnSF8YaPx78\n",
    "text = 'I like wine'\n",
    "new_text = text.replace('wine', 'beer')"
   ]
  },
  {
   "cell_type": "code",
   "execution_count": 2,
   "metadata": {},
   "outputs": [
    {
     "data": {
      "text/plain": [
       "'I like beer'"
      ]
     },
     "execution_count": 2,
     "metadata": {},
     "output_type": "execute_result"
    }
   ],
   "source": [
    "new_text"
   ]
  },
  {
   "cell_type": "code",
   "execution_count": 3,
   "metadata": {},
   "outputs": [],
   "source": [
    "text = '()'\n",
    "new_text =  text.replace('()', 'o')"
   ]
  },
  {
   "cell_type": "code",
   "execution_count": 4,
   "metadata": {},
   "outputs": [
    {
     "data": {
      "text/plain": [
       "'o'"
      ]
     },
     "execution_count": 4,
     "metadata": {},
     "output_type": "execute_result"
    }
   ],
   "source": [
    "new_text"
   ]
  },
  {
   "cell_type": "markdown",
   "metadata": {},
   "source": [
    "The leetcode website provides this code to begin with:\n",
    "\n",
    "class Solution:\n",
    "    \n",
    "    def interpret(self, command: str) -> str:\n",
    "        \n",
    "I had no idea what -> means. My stackoverflow friends explained that -> specifies the return type of the function. \n",
    "In our case the above means that the interpret function will return a string"
   ]
  },
  {
   "cell_type": "code",
   "execution_count": 9,
   "metadata": {},
   "outputs": [],
   "source": [
    "class Solution:\n",
    "\n",
    "    def interpret(self, command: str) -> str:\n",
    "        #every time I see parenthesis let's replace them with an 'o'\n",
    "        return command.replace('()', 'o').replace('(al)', 'al')\n",
    "        #note that command.replace('()', 'o') is itself a string so we can apply the replace method to it."
   ]
  },
  {
   "cell_type": "code",
   "execution_count": 13,
   "metadata": {},
   "outputs": [
    {
     "ename": "NameError",
     "evalue": "name 'interpret' is not defined",
     "output_type": "error",
     "traceback": [
      "\u001b[1;31m---------------------------------------------------------------------------\u001b[0m",
      "\u001b[1;31mNameError\u001b[0m                                 Traceback (most recent call last)",
      "\u001b[1;32m<ipython-input-13-2cb160927935>\u001b[0m in \u001b[0;36m<module>\u001b[1;34m\u001b[0m\n\u001b[1;32m----> 1\u001b[1;33m \u001b[0minterpret\u001b[0m\u001b[1;33m(\u001b[0m\u001b[1;34m\"G()(al)\"\u001b[0m\u001b[1;33m)\u001b[0m\u001b[1;33m\u001b[0m\u001b[1;33m\u001b[0m\u001b[0m\n\u001b[0m",
      "\u001b[1;31mNameError\u001b[0m: name 'interpret' is not defined"
     ]
    }
   ],
   "source": [
    "#Now we need to look at are there other cases we are not considering?"
   ]
  },
  {
   "cell_type": "code",
   "execution_count": null,
   "metadata": {},
   "outputs": [],
   "source": []
  },
  {
   "cell_type": "code",
   "execution_count": null,
   "metadata": {},
   "outputs": [],
   "source": []
  }
 ],
 "metadata": {
  "kernelspec": {
   "display_name": "Python 3",
   "language": "python",
   "name": "python3"
  },
  "language_info": {
   "codemirror_mode": {
    "name": "ipython",
    "version": 3
   },
   "file_extension": ".py",
   "mimetype": "text/x-python",
   "name": "python",
   "nbconvert_exporter": "python",
   "pygments_lexer": "ipython3",
   "version": "3.8.5"
  }
 },
 "nbformat": 4,
 "nbformat_minor": 4
}
